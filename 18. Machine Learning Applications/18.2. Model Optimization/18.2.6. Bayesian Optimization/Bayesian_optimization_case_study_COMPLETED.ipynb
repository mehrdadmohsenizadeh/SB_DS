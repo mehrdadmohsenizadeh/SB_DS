{
  "cells": [
    {
      "cell_type": "markdown",
      "metadata": {
        "id": "WNK7vbHo-KYU"
      },
      "source": [
        "# <font size=\"7\"><b>Bayesian Methods of Hyperparameter Optimization</b></font>"
      ]
    },
    {
      "cell_type": "markdown",
      "metadata": {
        "id": "BlFdvPwF-KYW"
      },
      "source": [
        "In addition to the $\\small\\textbf{random search}$ and the $\\small\\textbf{grid search}$ methods for selecting optimal hyperparameters, we can use $\\small\\textbf{Bayesian methods}$ of probabilities to select the optimal hyperparameters for an algorithm.\n",
        "\n",
        "In this case study, we will be using the BayesianOptimization library to perform hyperparmater tuning. This library has very good documentation which you can find here: https://github.com/fmfn/BayesianOptimization"
      ]
    },
    {
      "cell_type": "markdown",
      "metadata": {
        "id": "AkBt3yds-KYu"
      },
      "source": [
        "# How Bayesian optimization works?"
      ]
    },
    {
      "cell_type": "markdown",
      "metadata": {
        "id": "E1kyBCUs-KYv"
      },
      "source": [
        "Bayesian optimization works by constructing a posterior distribution of functions (Gaussian process) that best describes the function you want to optimize. As the number of observations grows, the posterior distribution improves, and the algorithm becomes more certain of which regions in parameter space are worth exploring and which are not, as seen in the picture below."
      ]
    },
    {
      "cell_type": "markdown",
      "metadata": {
        "id": "gAdHF72R-KYw"
      },
      "source": [
        "<img src=\"https://github.com/fmfn/BayesianOptimization/blob/master/examples/bo_example.png?raw=true\" />\n",
        "As you iterate over and over, the algorithm balances its needs of exploration and exploitation while taking into account what it knows about the target function. At each step, a Gaussian Process is fitted to the known samples (points previously explored), and the posterior distribution, combined with an exploration strategy (such as UCB — aka Upper Confidence Bound), or EI (Expected Improvement). This process is used to determine the next point that should be explored (see the gif below).\n",
        "<img src=\"https://github.com/fmfn/BayesianOptimization/raw/master/examples/bayesian_optimization.gif\" />"
      ]
    },
    {
      "cell_type": "markdown",
      "source": [
        "---"
      ],
      "metadata": {
        "id": "kSjKWwnYV2of"
      }
    },
    {
      "cell_type": "markdown",
      "metadata": {
        "id": "o5HEOH56Qei8"
      },
      "source": [
        "# 1. Setup"
      ]
    },
    {
      "cell_type": "markdown",
      "source": [
        "## 1.1. Modules"
      ],
      "metadata": {
        "id": "6WXInHkzOds2"
      }
    },
    {
      "cell_type": "markdown",
      "source": [
        "> <b>NOTE:</b> You will need to install the <b><code>bayesian-optimization</code></b> , <b><code>catboost</code></b> , and <b><code>lightgbm</code></b> modules. Running a cell with an exclamation point in the beginning of the command will run it as a shell command."
      ],
      "metadata": {
        "id": "IqPgIRItNuXj"
      }
    },
    {
      "cell_type": "code",
      "execution_count": 134,
      "metadata": {
        "colab": {
          "base_uri": "https://localhost:8080/"
        },
        "id": "Pssx080d-Ulf",
        "outputId": "39ca0a5f-ad63-48e2-db25-1f0b88aa9a19"
      },
      "outputs": [
        {
          "output_type": "stream",
          "name": "stdout",
          "text": [
            "Requirement already satisfied: bayesian-optimization in /usr/local/lib/python3.10/dist-packages (1.4.3)\n",
            "Requirement already satisfied: numpy>=1.9.0 in /usr/local/lib/python3.10/dist-packages (from bayesian-optimization) (1.23.5)\n",
            "Requirement already satisfied: scipy>=1.0.0 in /usr/local/lib/python3.10/dist-packages (from bayesian-optimization) (1.11.4)\n",
            "Requirement already satisfied: scikit-learn>=0.18.0 in /usr/local/lib/python3.10/dist-packages (from bayesian-optimization) (1.2.2)\n",
            "Requirement already satisfied: colorama>=0.4.6 in /usr/local/lib/python3.10/dist-packages (from bayesian-optimization) (0.4.6)\n",
            "Requirement already satisfied: joblib>=1.1.1 in /usr/local/lib/python3.10/dist-packages (from scikit-learn>=0.18.0->bayesian-optimization) (1.3.2)\n",
            "Requirement already satisfied: threadpoolctl>=2.0.0 in /usr/local/lib/python3.10/dist-packages (from scikit-learn>=0.18.0->bayesian-optimization) (3.2.0)\n",
            "Requirement already satisfied: catboost in /usr/local/lib/python3.10/dist-packages (1.2.2)\n",
            "Requirement already satisfied: graphviz in /usr/local/lib/python3.10/dist-packages (from catboost) (0.20.1)\n",
            "Requirement already satisfied: matplotlib in /usr/local/lib/python3.10/dist-packages (from catboost) (3.7.1)\n",
            "Requirement already satisfied: numpy>=1.16.0 in /usr/local/lib/python3.10/dist-packages (from catboost) (1.23.5)\n",
            "Requirement already satisfied: pandas>=0.24 in /usr/local/lib/python3.10/dist-packages (from catboost) (1.5.3)\n",
            "Requirement already satisfied: scipy in /usr/local/lib/python3.10/dist-packages (from catboost) (1.11.4)\n",
            "Requirement already satisfied: plotly in /usr/local/lib/python3.10/dist-packages (from catboost) (5.15.0)\n",
            "Requirement already satisfied: six in /usr/local/lib/python3.10/dist-packages (from catboost) (1.16.0)\n",
            "Requirement already satisfied: python-dateutil>=2.8.1 in /usr/local/lib/python3.10/dist-packages (from pandas>=0.24->catboost) (2.8.2)\n",
            "Requirement already satisfied: pytz>=2020.1 in /usr/local/lib/python3.10/dist-packages (from pandas>=0.24->catboost) (2023.3.post1)\n",
            "Requirement already satisfied: contourpy>=1.0.1 in /usr/local/lib/python3.10/dist-packages (from matplotlib->catboost) (1.2.0)\n",
            "Requirement already satisfied: cycler>=0.10 in /usr/local/lib/python3.10/dist-packages (from matplotlib->catboost) (0.12.1)\n",
            "Requirement already satisfied: fonttools>=4.22.0 in /usr/local/lib/python3.10/dist-packages (from matplotlib->catboost) (4.47.0)\n",
            "Requirement already satisfied: kiwisolver>=1.0.1 in /usr/local/lib/python3.10/dist-packages (from matplotlib->catboost) (1.4.5)\n",
            "Requirement already satisfied: packaging>=20.0 in /usr/local/lib/python3.10/dist-packages (from matplotlib->catboost) (23.2)\n",
            "Requirement already satisfied: pillow>=6.2.0 in /usr/local/lib/python3.10/dist-packages (from matplotlib->catboost) (9.4.0)\n",
            "Requirement already satisfied: pyparsing>=2.3.1 in /usr/local/lib/python3.10/dist-packages (from matplotlib->catboost) (3.1.1)\n",
            "Requirement already satisfied: tenacity>=6.2.0 in /usr/local/lib/python3.10/dist-packages (from plotly->catboost) (8.2.3)\n"
          ]
        }
      ],
      "source": [
        "! pip install bayesian-optimization\n",
        "! pip install catboost\n",
        "# ! pip install lightgbm"
      ]
    },
    {
      "cell_type": "markdown",
      "metadata": {
        "id": "PMoJSkyKSQYV"
      },
      "source": [
        "## 1.2. Dependencies"
      ]
    },
    {
      "cell_type": "code",
      "execution_count": 179,
      "metadata": {
        "id": "l9nfFTyj-KYY"
      },
      "outputs": [],
      "source": [
        "import os\n",
        "from os.path import join\n",
        "\n",
        "import warnings\n",
        "import lightgbm\n",
        "import numpy as np\n",
        "import pandas as pd\n",
        "from functools import partial\n",
        "from bayes_opt import BayesianOptimization\n",
        "from sklearn.preprocessing import LabelEncoder\n",
        "from catboost import CatBoostClassifier, cv, Pool"
      ]
    },
    {
      "cell_type": "code",
      "execution_count": 136,
      "metadata": {
        "id": "yTlJn_fHRdTw"
      },
      "outputs": [],
      "source": [
        "warnings.filterwarnings('ignore')"
      ]
    },
    {
      "cell_type": "code",
      "execution_count": 137,
      "metadata": {
        "colab": {
          "base_uri": "https://localhost:8080/"
        },
        "id": "D16Dquw1AAK0",
        "outputId": "0ef8b0d3-c06a-4360-8e01-213ffaa902d1"
      },
      "outputs": [
        {
          "output_type": "execute_result",
          "data": {
            "text/plain": [
              "['.config', 'drive', 'sample_data']"
            ]
          },
          "metadata": {},
          "execution_count": 137
        }
      ],
      "source": [
        "os.listdir()"
      ]
    },
    {
      "cell_type": "code",
      "execution_count": 138,
      "metadata": {
        "colab": {
          "base_uri": "https://localhost:8080/"
        },
        "id": "QVCl0iY_FLPr",
        "outputId": "166dec82-3ab9-429e-e5d2-296e99810342"
      },
      "outputs": [
        {
          "output_type": "stream",
          "name": "stdout",
          "text": [
            "Drive already mounted at /content/drive; to attempt to forcibly remount, call drive.mount(\"/content/drive\", force_remount=True).\n"
          ]
        }
      ],
      "source": [
        "from google.colab import drive\n",
        "drive.mount('/content/drive')"
      ]
    },
    {
      "cell_type": "markdown",
      "metadata": {
        "id": "axzYfCmfhOQL"
      },
      "source": [
        "## 1.3. Functions"
      ]
    },
    {
      "cell_type": "markdown",
      "metadata": {
        "id": "QtjAGeMKi_TW"
      },
      "source": [
        "### <font size=\"6\"><b><code>label_encode_categorical_columns()</code></b></font>"
      ]
    },
    {
      "cell_type": "code",
      "source": [
        "def label_encode_categorical_columns(df):\n",
        "\n",
        "    \"\"\"\n",
        "    Encode labels of categorical columns in a DataFrame.\n",
        "\n",
        "    Parameters:\n",
        "    - df (pd.DataFrame): Input DataFrame containing categorical columns.\n",
        "\n",
        "    Returns:\n",
        "    - pd.DataFrame: DataFrame with categorical columns label-encoded.\n",
        "    \"\"\"\n",
        "\n",
        "    # Identify columns with dtype 'object' as potential categorical columns\n",
        "    categorical_cols = df\\\n",
        "                      .select_dtypes(include=['object'])\\\n",
        "                      .columns\\\n",
        "                      .tolist()\n",
        "\n",
        "    # Encode labels for each categorical column\n",
        "    for col in categorical_cols:\n",
        "        if col in df.columns:\n",
        "            df[col] = LabelEncoder().fit_transform(df[col])\n",
        "\n",
        "    return df, categorical_cols"
      ],
      "metadata": {
        "id": "HUlmeUG5L7VC"
      },
      "execution_count": 139,
      "outputs": []
    },
    {
      "cell_type": "markdown",
      "metadata": {
        "id": "xmd2szsle6ds"
      },
      "source": [
        "### <font size=\"6\"><b><code>make_harmonic_features()</code></b></font>"
      ]
    },
    {
      "cell_type": "code",
      "execution_count": 140,
      "metadata": {
        "id": "5YV9Sjjfeblc"
      },
      "outputs": [],
      "source": [
        "def make_harmonic_features(\n",
        "      x\n",
        "    , type\n",
        "    , period = 2400\n",
        "):\n",
        "\n",
        "    \"\"\"\n",
        "    Calculate the sine or cosine of the angle of x on a circle with a given period.\n",
        "\n",
        "    Parameters:\n",
        "    - x (float): Value to calculate the sine or cosine for.\n",
        "    - type (str): Type of trigonometric function to calculate ('sin' or 'cos').\n",
        "    - period (int): Period of the circle.\n",
        "\n",
        "    Returns:\n",
        "    - float: The sine or cosine of the angle depending on the \"type\" argument.\n",
        "    \"\"\"\n",
        "    angle = 2.0 * np.pi * x / period\n",
        "\n",
        "    if type == \"sin\":\n",
        "        return np.sin(angle)\n",
        "    elif type == \"cos\":\n",
        "        return np.cos(angle)\n",
        "    else:\n",
        "        raise ValueError(\"Invalid 'type' argument. Use 'sin' or 'cos'.\")"
      ]
    },
    {
      "cell_type": "markdown",
      "metadata": {
        "id": "t7u1WOtHelhc"
      },
      "source": [
        "### <font size=\"6\"><b><code>feature_eng()</code></b></font>"
      ]
    },
    {
      "cell_type": "code",
      "execution_count": 141,
      "metadata": {
        "id": "t-Kll20Yb3tf"
      },
      "outputs": [],
      "source": [
        "def feature_eng(df):\n",
        "\n",
        "    \"\"\"\n",
        "    Perform feature engineering on a given DataFrame.\n",
        "\n",
        "    Parameters:\n",
        "    - df (pd.DataFrame): Input DataFrame with flight-related data.\n",
        "\n",
        "    Returns:\n",
        "    - pd.DataFrame: DataFrame with engineered features.\n",
        "    \"\"\"\n",
        "\n",
        "    # Create a new feature 'flight' by combining 'Origin' and 'Dest'\n",
        "    df['flight'] = df['Origin'] + df['Dest']\n",
        "\n",
        "    # Extract month from 'Month' and convert to int\n",
        "    df['Month'] = df['Month']\\\n",
        "                  .map(lambda x: int(x.split('-')[-1]))\\\n",
        "                  .astype('int32')\n",
        "\n",
        "    # Extract day of the month from 'DayofMonth' and categorize it\n",
        "    df['DayofMonth']       =   df['DayofMonth'].map(lambda x: int(x.split('-')[-1])).astype('uint8')\n",
        "    df['begin_of_month']   = ( df['DayofMonth'] < 10).astype('uint8')\n",
        "    df['midddle_of_month'] = ((df['DayofMonth'] >= 10) & (df['DayofMonth'] < 20)).astype('uint8')\n",
        "    df['end_of_month']     = ( df['DayofMonth'] >= 20).astype('uint8')\n",
        "\n",
        "    # Extract day of the week from 'DayOfWeek' and categorize it\n",
        "    df['DayOfWeek'] = df['DayOfWeek']\\\n",
        "                      .map(lambda x: int(x.split('-')[-1]))\\\n",
        "                      .astype('uint8')\n",
        "\n",
        "    # Extract hour from 'DepTime' and categorize it\n",
        "    df['hour']    = (df['DepTime'] / 100).astype('int32')\n",
        "    df['morning'] = df['hour'].map(lambda x: 1 if (x <= 11) & (x >= 7)  else 0).astype('uint8')\n",
        "    df['day']     = df['hour'].map(lambda x: 1 if (x >= 12) & (x <= 18) else 0).astype('uint8')\n",
        "    df['evening'] = df['hour'].map(lambda x: 1 if (x >= 19) & (x <= 23) else 0).astype('uint8')\n",
        "    df['night']   = df['hour'].map(lambda x: 1 if (x >= 0)  & (x <= 6)  else 0).astype('int32')\n",
        "\n",
        "    # Categorize seasons based on 'Month'\n",
        "    df['winter'] = df['Month'].map(lambda x: int(x in [12, 1, 2] )).astype('int32')\n",
        "    df['spring'] = df['Month'].map(lambda x: int(x in [3, 4, 5]  )).astype('int32')\n",
        "    df['summer'] = df['Month'].map(lambda x: int(x in [6, 7, 8]  )).astype('int32')\n",
        "    df['autumn'] = df['Month'].map(lambda x: int(x in [9, 10, 11])).astype('int32')\n",
        "\n",
        "    # Create binary features for 'holiday' and 'weekday'\n",
        "    df['holiday'] = (df['DayOfWeek'] >= 5).astype(int)\n",
        "    df['weekday'] = (df['DayOfWeek'] < 5 ).astype(int)\n",
        "\n",
        "    # Create features based on counts of airports and carriers\n",
        "    df['airport_dest_per_month']   = df.groupby(['Dest', 'Month'])['Dest'].transform('count')\n",
        "    df['airport_origin_per_month'] = df.groupby(['Origin', 'Month'])['Origin'].transform('count')\n",
        "    df['airport_dest_count']       = df.groupby(['Dest'])['Dest'].transform('count')\n",
        "    df['airport_origin_count']     = df.groupby(['Origin'])['Origin'].transform('count')\n",
        "    df['carrier_count']            = df.groupby(['UniqueCarrier'])['Dest'].transform('count')\n",
        "    df['carrier_count_per_month']  = df.groupby(['UniqueCarrier', 'Month'])['Dest'].transform('count')\n",
        "\n",
        "    # Create harmonic features for 'DepTime'\n",
        "    df['deptime_cos'] = df['DepTime'].map(lambda x: make_harmonic_features(x, type=\"cos\"))\n",
        "    df['deptime_sin'] = df['DepTime'].map(lambda x: make_harmonic_features(x, type=\"sin\"))\n",
        "\n",
        "    # Create features by combining 'flight' and 'UniqueCarrier'\n",
        "    df['flightUC'] = df['flight'] + df['UniqueCarrier']\n",
        "    df['DestUC']   = df['Dest']   + df['UniqueCarrier']\n",
        "    df['OriginUC'] = df['Origin'] + df['UniqueCarrier']\n",
        "\n",
        "    # Drop 'DepTime' column as it is no longer needed\n",
        "    return df.drop('DepTime', axis=1)"
      ]
    },
    {
      "cell_type": "markdown",
      "metadata": {
        "id": "SUJ0TAhQi7_x"
      },
      "source": [
        "### <font size=\"6\"><b><code>lgb_eval()</code></b></font>"
      ]
    },
    {
      "cell_type": "code",
      "execution_count": 142,
      "metadata": {
        "id": "LyUJBhGX-KZM"
      },
      "outputs": [],
      "source": [
        "def lgb_eval(\n",
        "      num_leaves\n",
        "    , max_depth\n",
        "    , lambda_l2\n",
        "    , lambda_l1\n",
        "    , min_child_samples\n",
        "    , min_data_in_leaf\n",
        "    , train_data\n",
        "    , train_label\n",
        "    , categorical_features\n",
        "):\n",
        "\n",
        "    \"\"\"\n",
        "    Perform LightGBM model evaluation with various hyperparameters.\n",
        "\n",
        "    Parameters:\n",
        "    - num_leaves (int): The maximum number of leaves in each tree.\n",
        "    - max_depth (int): The maximum depth of the trees in the LightGBM model.\n",
        "    - lambda_l2 (float): L2 regularization term to prevent overfitting.\n",
        "    - lambda_l1 (float): L1 regularization term to prevent overfitting.\n",
        "    - min_child_samples (int): Minimum number of data points required to form a leaf in a tree.\n",
        "    - min_data_in_leaf (int): Alias for min_child_samples. Minimum number of data points required to form a leaf in a tree.\n",
        "    - X_train (array-like): Training data features.\n",
        "    - y_train (array-like): Training data labels.\n",
        "    - categorical_features (list): List of categorical feature indices.\n",
        "\n",
        "    Returns:\n",
        "    - AUC Score (float): The final AUC (Area Under the ROC Curve) score obtained after cross-validation.\n",
        "    \"\"\"\n",
        "\n",
        "    params = {\n",
        "          \"objective\"         : \"binary\"\n",
        "        , \"metric\"            : \"auc\"\n",
        "        , \"is_unbalance\"      : True\n",
        "        , \"num_leaves\"        : int(num_leaves)\n",
        "        , \"max_depth\"         : int(max_depth)\n",
        "        , \"lambda_l2\"         : lambda_l2\n",
        "        , \"lambda_l1\"         : lambda_l1\n",
        "        , \"num_threads\"       : 20\n",
        "        , \"min_child_samples\" : int(min_child_samples)\n",
        "        , \"min_data_in_leaf\"  : int(min_data_in_leaf)\n",
        "        , \"learning_rate\"     : 0.03\n",
        "        , \"subsample_freq\"    : 5\n",
        "        , \"bagging_seed\"      : 42\n",
        "        , \"verbosity\"         : -1\n",
        "    }\n",
        "\n",
        "    lgtrain = lightgbm.Dataset(\n",
        "          train_data\n",
        "        , train_label\n",
        "        , categorical_feature = cat_cols\n",
        "    )\n",
        "\n",
        "    cv_result = lightgbm.cv(\n",
        "          params\n",
        "        , lgtrain\n",
        "        , num_boost_round = 1000\n",
        "        , stratified      = True\n",
        "        , nfold           = 3\n",
        "    )\n",
        "\n",
        "    return cv_result['valid auc-mean'][-1]"
      ]
    },
    {
      "cell_type": "markdown",
      "source": [
        "---"
      ],
      "metadata": {
        "id": "xIbouvGVVzIu"
      }
    },
    {
      "cell_type": "markdown",
      "source": [
        "# 2. Preprocessing"
      ],
      "metadata": {
        "id": "XAbotoptVjw-"
      }
    },
    {
      "cell_type": "markdown",
      "metadata": {
        "id": "jO2MmSiFGZia"
      },
      "source": [
        "### Load"
      ]
    },
    {
      "cell_type": "markdown",
      "metadata": {
        "id": "abYSagjQANDZ"
      },
      "source": [
        "You can load the <b>zipped csv</b> or <b><code>.csv.zip</code></b> files just as you would regular <b><code>.csv</code></b> files using Pandas <b><code>read_csv</code></b> . In the next cell load the train and test data into two seperate dataframes.\n"
      ]
    },
    {
      "cell_type": "code",
      "execution_count": 143,
      "metadata": {
        "id": "EWKBApVuAeJe"
      },
      "outputs": [],
      "source": [
        "dir_path = '/content/drive/MyDrive/Colab Notebooks/data/'\n",
        "\n",
        "train_df = pd.read_csv(join(dir_path, '18.2.6.flight_delays_train.csv.zip'))\n",
        "test_df  = pd.read_csv(join(dir_path, '18.2.6.flight_delays_test.csv.zip'))"
      ]
    },
    {
      "cell_type": "markdown",
      "metadata": {
        "id": "OapNcT9Eikis"
      },
      "source": [
        "Print the top five rows (head) of the train dataframe <b><code>train_df</code></b> and review the columns in the data."
      ]
    },
    {
      "cell_type": "code",
      "execution_count": 144,
      "metadata": {
        "colab": {
          "base_uri": "https://localhost:8080/",
          "height": 206
        },
        "id": "__4cXZ8iiYaC",
        "outputId": "94e6d12a-a3dd-4fa7-dc75-c5a44d179b39"
      },
      "outputs": [
        {
          "output_type": "execute_result",
          "data": {
            "text/plain": [
              "  Month DayofMonth DayOfWeek  DepTime UniqueCarrier Origin Dest  Distance  \\\n",
              "0   c-8       c-21       c-7     1934            AA    ATL  DFW       732   \n",
              "1   c-4       c-20       c-3     1548            US    PIT  MCO       834   \n",
              "2   c-9        c-2       c-5     1422            XE    RDU  CLE       416   \n",
              "3  c-11       c-25       c-6     1015            OO    DEN  MEM       872   \n",
              "4  c-10        c-7       c-6     1828            WN    MDW  OMA       423   \n",
              "\n",
              "  dep_delayed_15min  \n",
              "0                 N  \n",
              "1                 N  \n",
              "2                 N  \n",
              "3                 N  \n",
              "4                 Y  "
            ],
            "text/html": [
              "\n",
              "  <div id=\"df-a065e3df-1ffa-4c25-a14b-50724021ca50\" class=\"colab-df-container\">\n",
              "    <div>\n",
              "<style scoped>\n",
              "    .dataframe tbody tr th:only-of-type {\n",
              "        vertical-align: middle;\n",
              "    }\n",
              "\n",
              "    .dataframe tbody tr th {\n",
              "        vertical-align: top;\n",
              "    }\n",
              "\n",
              "    .dataframe thead th {\n",
              "        text-align: right;\n",
              "    }\n",
              "</style>\n",
              "<table border=\"1\" class=\"dataframe\">\n",
              "  <thead>\n",
              "    <tr style=\"text-align: right;\">\n",
              "      <th></th>\n",
              "      <th>Month</th>\n",
              "      <th>DayofMonth</th>\n",
              "      <th>DayOfWeek</th>\n",
              "      <th>DepTime</th>\n",
              "      <th>UniqueCarrier</th>\n",
              "      <th>Origin</th>\n",
              "      <th>Dest</th>\n",
              "      <th>Distance</th>\n",
              "      <th>dep_delayed_15min</th>\n",
              "    </tr>\n",
              "  </thead>\n",
              "  <tbody>\n",
              "    <tr>\n",
              "      <th>0</th>\n",
              "      <td>c-8</td>\n",
              "      <td>c-21</td>\n",
              "      <td>c-7</td>\n",
              "      <td>1934</td>\n",
              "      <td>AA</td>\n",
              "      <td>ATL</td>\n",
              "      <td>DFW</td>\n",
              "      <td>732</td>\n",
              "      <td>N</td>\n",
              "    </tr>\n",
              "    <tr>\n",
              "      <th>1</th>\n",
              "      <td>c-4</td>\n",
              "      <td>c-20</td>\n",
              "      <td>c-3</td>\n",
              "      <td>1548</td>\n",
              "      <td>US</td>\n",
              "      <td>PIT</td>\n",
              "      <td>MCO</td>\n",
              "      <td>834</td>\n",
              "      <td>N</td>\n",
              "    </tr>\n",
              "    <tr>\n",
              "      <th>2</th>\n",
              "      <td>c-9</td>\n",
              "      <td>c-2</td>\n",
              "      <td>c-5</td>\n",
              "      <td>1422</td>\n",
              "      <td>XE</td>\n",
              "      <td>RDU</td>\n",
              "      <td>CLE</td>\n",
              "      <td>416</td>\n",
              "      <td>N</td>\n",
              "    </tr>\n",
              "    <tr>\n",
              "      <th>3</th>\n",
              "      <td>c-11</td>\n",
              "      <td>c-25</td>\n",
              "      <td>c-6</td>\n",
              "      <td>1015</td>\n",
              "      <td>OO</td>\n",
              "      <td>DEN</td>\n",
              "      <td>MEM</td>\n",
              "      <td>872</td>\n",
              "      <td>N</td>\n",
              "    </tr>\n",
              "    <tr>\n",
              "      <th>4</th>\n",
              "      <td>c-10</td>\n",
              "      <td>c-7</td>\n",
              "      <td>c-6</td>\n",
              "      <td>1828</td>\n",
              "      <td>WN</td>\n",
              "      <td>MDW</td>\n",
              "      <td>OMA</td>\n",
              "      <td>423</td>\n",
              "      <td>Y</td>\n",
              "    </tr>\n",
              "  </tbody>\n",
              "</table>\n",
              "</div>\n",
              "    <div class=\"colab-df-buttons\">\n",
              "\n",
              "  <div class=\"colab-df-container\">\n",
              "    <button class=\"colab-df-convert\" onclick=\"convertToInteractive('df-a065e3df-1ffa-4c25-a14b-50724021ca50')\"\n",
              "            title=\"Convert this dataframe to an interactive table.\"\n",
              "            style=\"display:none;\">\n",
              "\n",
              "  <svg xmlns=\"http://www.w3.org/2000/svg\" height=\"24px\" viewBox=\"0 -960 960 960\">\n",
              "    <path d=\"M120-120v-720h720v720H120Zm60-500h600v-160H180v160Zm220 220h160v-160H400v160Zm0 220h160v-160H400v160ZM180-400h160v-160H180v160Zm440 0h160v-160H620v160ZM180-180h160v-160H180v160Zm440 0h160v-160H620v160Z\"/>\n",
              "  </svg>\n",
              "    </button>\n",
              "\n",
              "  <style>\n",
              "    .colab-df-container {\n",
              "      display:flex;\n",
              "      gap: 12px;\n",
              "    }\n",
              "\n",
              "    .colab-df-convert {\n",
              "      background-color: #E8F0FE;\n",
              "      border: none;\n",
              "      border-radius: 50%;\n",
              "      cursor: pointer;\n",
              "      display: none;\n",
              "      fill: #1967D2;\n",
              "      height: 32px;\n",
              "      padding: 0 0 0 0;\n",
              "      width: 32px;\n",
              "    }\n",
              "\n",
              "    .colab-df-convert:hover {\n",
              "      background-color: #E2EBFA;\n",
              "      box-shadow: 0px 1px 2px rgba(60, 64, 67, 0.3), 0px 1px 3px 1px rgba(60, 64, 67, 0.15);\n",
              "      fill: #174EA6;\n",
              "    }\n",
              "\n",
              "    .colab-df-buttons div {\n",
              "      margin-bottom: 4px;\n",
              "    }\n",
              "\n",
              "    [theme=dark] .colab-df-convert {\n",
              "      background-color: #3B4455;\n",
              "      fill: #D2E3FC;\n",
              "    }\n",
              "\n",
              "    [theme=dark] .colab-df-convert:hover {\n",
              "      background-color: #434B5C;\n",
              "      box-shadow: 0px 1px 3px 1px rgba(0, 0, 0, 0.15);\n",
              "      filter: drop-shadow(0px 1px 2px rgba(0, 0, 0, 0.3));\n",
              "      fill: #FFFFFF;\n",
              "    }\n",
              "  </style>\n",
              "\n",
              "    <script>\n",
              "      const buttonEl =\n",
              "        document.querySelector('#df-a065e3df-1ffa-4c25-a14b-50724021ca50 button.colab-df-convert');\n",
              "      buttonEl.style.display =\n",
              "        google.colab.kernel.accessAllowed ? 'block' : 'none';\n",
              "\n",
              "      async function convertToInteractive(key) {\n",
              "        const element = document.querySelector('#df-a065e3df-1ffa-4c25-a14b-50724021ca50');\n",
              "        const dataTable =\n",
              "          await google.colab.kernel.invokeFunction('convertToInteractive',\n",
              "                                                    [key], {});\n",
              "        if (!dataTable) return;\n",
              "\n",
              "        const docLinkHtml = 'Like what you see? Visit the ' +\n",
              "          '<a target=\"_blank\" href=https://colab.research.google.com/notebooks/data_table.ipynb>data table notebook</a>'\n",
              "          + ' to learn more about interactive tables.';\n",
              "        element.innerHTML = '';\n",
              "        dataTable['output_type'] = 'display_data';\n",
              "        await google.colab.output.renderOutput(dataTable, element);\n",
              "        const docLink = document.createElement('div');\n",
              "        docLink.innerHTML = docLinkHtml;\n",
              "        element.appendChild(docLink);\n",
              "      }\n",
              "    </script>\n",
              "  </div>\n",
              "\n",
              "\n",
              "<div id=\"df-a24cea9a-9c53-4d6b-a586-774ac4ad89c3\">\n",
              "  <button class=\"colab-df-quickchart\" onclick=\"quickchart('df-a24cea9a-9c53-4d6b-a586-774ac4ad89c3')\"\n",
              "            title=\"Suggest charts\"\n",
              "            style=\"display:none;\">\n",
              "\n",
              "<svg xmlns=\"http://www.w3.org/2000/svg\" height=\"24px\"viewBox=\"0 0 24 24\"\n",
              "     width=\"24px\">\n",
              "    <g>\n",
              "        <path d=\"M19 3H5c-1.1 0-2 .9-2 2v14c0 1.1.9 2 2 2h14c1.1 0 2-.9 2-2V5c0-1.1-.9-2-2-2zM9 17H7v-7h2v7zm4 0h-2V7h2v10zm4 0h-2v-4h2v4z\"/>\n",
              "    </g>\n",
              "</svg>\n",
              "  </button>\n",
              "\n",
              "<style>\n",
              "  .colab-df-quickchart {\n",
              "      --bg-color: #E8F0FE;\n",
              "      --fill-color: #1967D2;\n",
              "      --hover-bg-color: #E2EBFA;\n",
              "      --hover-fill-color: #174EA6;\n",
              "      --disabled-fill-color: #AAA;\n",
              "      --disabled-bg-color: #DDD;\n",
              "  }\n",
              "\n",
              "  [theme=dark] .colab-df-quickchart {\n",
              "      --bg-color: #3B4455;\n",
              "      --fill-color: #D2E3FC;\n",
              "      --hover-bg-color: #434B5C;\n",
              "      --hover-fill-color: #FFFFFF;\n",
              "      --disabled-bg-color: #3B4455;\n",
              "      --disabled-fill-color: #666;\n",
              "  }\n",
              "\n",
              "  .colab-df-quickchart {\n",
              "    background-color: var(--bg-color);\n",
              "    border: none;\n",
              "    border-radius: 50%;\n",
              "    cursor: pointer;\n",
              "    display: none;\n",
              "    fill: var(--fill-color);\n",
              "    height: 32px;\n",
              "    padding: 0;\n",
              "    width: 32px;\n",
              "  }\n",
              "\n",
              "  .colab-df-quickchart:hover {\n",
              "    background-color: var(--hover-bg-color);\n",
              "    box-shadow: 0 1px 2px rgba(60, 64, 67, 0.3), 0 1px 3px 1px rgba(60, 64, 67, 0.15);\n",
              "    fill: var(--button-hover-fill-color);\n",
              "  }\n",
              "\n",
              "  .colab-df-quickchart-complete:disabled,\n",
              "  .colab-df-quickchart-complete:disabled:hover {\n",
              "    background-color: var(--disabled-bg-color);\n",
              "    fill: var(--disabled-fill-color);\n",
              "    box-shadow: none;\n",
              "  }\n",
              "\n",
              "  .colab-df-spinner {\n",
              "    border: 2px solid var(--fill-color);\n",
              "    border-color: transparent;\n",
              "    border-bottom-color: var(--fill-color);\n",
              "    animation:\n",
              "      spin 1s steps(1) infinite;\n",
              "  }\n",
              "\n",
              "  @keyframes spin {\n",
              "    0% {\n",
              "      border-color: transparent;\n",
              "      border-bottom-color: var(--fill-color);\n",
              "      border-left-color: var(--fill-color);\n",
              "    }\n",
              "    20% {\n",
              "      border-color: transparent;\n",
              "      border-left-color: var(--fill-color);\n",
              "      border-top-color: var(--fill-color);\n",
              "    }\n",
              "    30% {\n",
              "      border-color: transparent;\n",
              "      border-left-color: var(--fill-color);\n",
              "      border-top-color: var(--fill-color);\n",
              "      border-right-color: var(--fill-color);\n",
              "    }\n",
              "    40% {\n",
              "      border-color: transparent;\n",
              "      border-right-color: var(--fill-color);\n",
              "      border-top-color: var(--fill-color);\n",
              "    }\n",
              "    60% {\n",
              "      border-color: transparent;\n",
              "      border-right-color: var(--fill-color);\n",
              "    }\n",
              "    80% {\n",
              "      border-color: transparent;\n",
              "      border-right-color: var(--fill-color);\n",
              "      border-bottom-color: var(--fill-color);\n",
              "    }\n",
              "    90% {\n",
              "      border-color: transparent;\n",
              "      border-bottom-color: var(--fill-color);\n",
              "    }\n",
              "  }\n",
              "</style>\n",
              "\n",
              "  <script>\n",
              "    async function quickchart(key) {\n",
              "      const quickchartButtonEl =\n",
              "        document.querySelector('#' + key + ' button');\n",
              "      quickchartButtonEl.disabled = true;  // To prevent multiple clicks.\n",
              "      quickchartButtonEl.classList.add('colab-df-spinner');\n",
              "      try {\n",
              "        const charts = await google.colab.kernel.invokeFunction(\n",
              "            'suggestCharts', [key], {});\n",
              "      } catch (error) {\n",
              "        console.error('Error during call to suggestCharts:', error);\n",
              "      }\n",
              "      quickchartButtonEl.classList.remove('colab-df-spinner');\n",
              "      quickchartButtonEl.classList.add('colab-df-quickchart-complete');\n",
              "    }\n",
              "    (() => {\n",
              "      let quickchartButtonEl =\n",
              "        document.querySelector('#df-a24cea9a-9c53-4d6b-a586-774ac4ad89c3 button');\n",
              "      quickchartButtonEl.style.display =\n",
              "        google.colab.kernel.accessAllowed ? 'block' : 'none';\n",
              "    })();\n",
              "  </script>\n",
              "</div>\n",
              "\n",
              "    </div>\n",
              "  </div>\n"
            ]
          },
          "metadata": {},
          "execution_count": 144
        }
      ],
      "source": [
        "train_df.head()"
      ]
    },
    {
      "cell_type": "markdown",
      "metadata": {
        "id": "kIrd06zRGLqo"
      },
      "source": [
        "### Overview"
      ]
    },
    {
      "cell_type": "code",
      "execution_count": 145,
      "metadata": {
        "colab": {
          "base_uri": "https://localhost:8080/"
        },
        "id": "KQZXr9qvGOMp",
        "outputId": "9cf22d46-af87-4469-f596-23a2504fce2e"
      },
      "outputs": [
        {
          "output_type": "stream",
          "name": "stdout",
          "text": [
            "<class 'pandas.core.frame.DataFrame'>\n",
            "RangeIndex: 100000 entries, 0 to 99999\n",
            "Data columns (total 9 columns):\n",
            " #   Column             Non-Null Count   Dtype \n",
            "---  ------             --------------   ----- \n",
            " 0   Month              100000 non-null  object\n",
            " 1   DayofMonth         100000 non-null  object\n",
            " 2   DayOfWeek          100000 non-null  object\n",
            " 3   DepTime            100000 non-null  int64 \n",
            " 4   UniqueCarrier      100000 non-null  object\n",
            " 5   Origin             100000 non-null  object\n",
            " 6   Dest               100000 non-null  object\n",
            " 7   Distance           100000 non-null  int64 \n",
            " 8   dep_delayed_15min  100000 non-null  object\n",
            "dtypes: int64(2), object(7)\n",
            "memory usage: 6.9+ MB\n"
          ]
        }
      ],
      "source": [
        "train_df.info()"
      ]
    },
    {
      "cell_type": "markdown",
      "metadata": {
        "id": "UxGBsPQhffgd"
      },
      "source": [
        "### Summary Statitsics"
      ]
    },
    {
      "cell_type": "code",
      "execution_count": 146,
      "metadata": {
        "colab": {
          "base_uri": "https://localhost:8080/",
          "height": 300
        },
        "id": "_bRRKG3DAtae",
        "outputId": "3e467c4a-7528-42c9-c197-e4b49694cc82"
      },
      "outputs": [
        {
          "output_type": "execute_result",
          "data": {
            "text/plain": [
              "             DepTime      Distance\n",
              "count  100000.000000  100000.00000\n",
              "mean     1341.523880     729.39716\n",
              "std       476.378445     574.61686\n",
              "min         1.000000      30.00000\n",
              "25%       931.000000     317.00000\n",
              "50%      1330.000000     575.00000\n",
              "75%      1733.000000     957.00000\n",
              "max      2534.000000    4962.00000"
            ],
            "text/html": [
              "\n",
              "  <div id=\"df-551b8424-cf64-4b4d-bc1e-2b0cb92103ae\" class=\"colab-df-container\">\n",
              "    <div>\n",
              "<style scoped>\n",
              "    .dataframe tbody tr th:only-of-type {\n",
              "        vertical-align: middle;\n",
              "    }\n",
              "\n",
              "    .dataframe tbody tr th {\n",
              "        vertical-align: top;\n",
              "    }\n",
              "\n",
              "    .dataframe thead th {\n",
              "        text-align: right;\n",
              "    }\n",
              "</style>\n",
              "<table border=\"1\" class=\"dataframe\">\n",
              "  <thead>\n",
              "    <tr style=\"text-align: right;\">\n",
              "      <th></th>\n",
              "      <th>DepTime</th>\n",
              "      <th>Distance</th>\n",
              "    </tr>\n",
              "  </thead>\n",
              "  <tbody>\n",
              "    <tr>\n",
              "      <th>count</th>\n",
              "      <td>100000.000000</td>\n",
              "      <td>100000.00000</td>\n",
              "    </tr>\n",
              "    <tr>\n",
              "      <th>mean</th>\n",
              "      <td>1341.523880</td>\n",
              "      <td>729.39716</td>\n",
              "    </tr>\n",
              "    <tr>\n",
              "      <th>std</th>\n",
              "      <td>476.378445</td>\n",
              "      <td>574.61686</td>\n",
              "    </tr>\n",
              "    <tr>\n",
              "      <th>min</th>\n",
              "      <td>1.000000</td>\n",
              "      <td>30.00000</td>\n",
              "    </tr>\n",
              "    <tr>\n",
              "      <th>25%</th>\n",
              "      <td>931.000000</td>\n",
              "      <td>317.00000</td>\n",
              "    </tr>\n",
              "    <tr>\n",
              "      <th>50%</th>\n",
              "      <td>1330.000000</td>\n",
              "      <td>575.00000</td>\n",
              "    </tr>\n",
              "    <tr>\n",
              "      <th>75%</th>\n",
              "      <td>1733.000000</td>\n",
              "      <td>957.00000</td>\n",
              "    </tr>\n",
              "    <tr>\n",
              "      <th>max</th>\n",
              "      <td>2534.000000</td>\n",
              "      <td>4962.00000</td>\n",
              "    </tr>\n",
              "  </tbody>\n",
              "</table>\n",
              "</div>\n",
              "    <div class=\"colab-df-buttons\">\n",
              "\n",
              "  <div class=\"colab-df-container\">\n",
              "    <button class=\"colab-df-convert\" onclick=\"convertToInteractive('df-551b8424-cf64-4b4d-bc1e-2b0cb92103ae')\"\n",
              "            title=\"Convert this dataframe to an interactive table.\"\n",
              "            style=\"display:none;\">\n",
              "\n",
              "  <svg xmlns=\"http://www.w3.org/2000/svg\" height=\"24px\" viewBox=\"0 -960 960 960\">\n",
              "    <path d=\"M120-120v-720h720v720H120Zm60-500h600v-160H180v160Zm220 220h160v-160H400v160Zm0 220h160v-160H400v160ZM180-400h160v-160H180v160Zm440 0h160v-160H620v160ZM180-180h160v-160H180v160Zm440 0h160v-160H620v160Z\"/>\n",
              "  </svg>\n",
              "    </button>\n",
              "\n",
              "  <style>\n",
              "    .colab-df-container {\n",
              "      display:flex;\n",
              "      gap: 12px;\n",
              "    }\n",
              "\n",
              "    .colab-df-convert {\n",
              "      background-color: #E8F0FE;\n",
              "      border: none;\n",
              "      border-radius: 50%;\n",
              "      cursor: pointer;\n",
              "      display: none;\n",
              "      fill: #1967D2;\n",
              "      height: 32px;\n",
              "      padding: 0 0 0 0;\n",
              "      width: 32px;\n",
              "    }\n",
              "\n",
              "    .colab-df-convert:hover {\n",
              "      background-color: #E2EBFA;\n",
              "      box-shadow: 0px 1px 2px rgba(60, 64, 67, 0.3), 0px 1px 3px 1px rgba(60, 64, 67, 0.15);\n",
              "      fill: #174EA6;\n",
              "    }\n",
              "\n",
              "    .colab-df-buttons div {\n",
              "      margin-bottom: 4px;\n",
              "    }\n",
              "\n",
              "    [theme=dark] .colab-df-convert {\n",
              "      background-color: #3B4455;\n",
              "      fill: #D2E3FC;\n",
              "    }\n",
              "\n",
              "    [theme=dark] .colab-df-convert:hover {\n",
              "      background-color: #434B5C;\n",
              "      box-shadow: 0px 1px 3px 1px rgba(0, 0, 0, 0.15);\n",
              "      filter: drop-shadow(0px 1px 2px rgba(0, 0, 0, 0.3));\n",
              "      fill: #FFFFFF;\n",
              "    }\n",
              "  </style>\n",
              "\n",
              "    <script>\n",
              "      const buttonEl =\n",
              "        document.querySelector('#df-551b8424-cf64-4b4d-bc1e-2b0cb92103ae button.colab-df-convert');\n",
              "      buttonEl.style.display =\n",
              "        google.colab.kernel.accessAllowed ? 'block' : 'none';\n",
              "\n",
              "      async function convertToInteractive(key) {\n",
              "        const element = document.querySelector('#df-551b8424-cf64-4b4d-bc1e-2b0cb92103ae');\n",
              "        const dataTable =\n",
              "          await google.colab.kernel.invokeFunction('convertToInteractive',\n",
              "                                                    [key], {});\n",
              "        if (!dataTable) return;\n",
              "\n",
              "        const docLinkHtml = 'Like what you see? Visit the ' +\n",
              "          '<a target=\"_blank\" href=https://colab.research.google.com/notebooks/data_table.ipynb>data table notebook</a>'\n",
              "          + ' to learn more about interactive tables.';\n",
              "        element.innerHTML = '';\n",
              "        dataTable['output_type'] = 'display_data';\n",
              "        await google.colab.output.renderOutput(dataTable, element);\n",
              "        const docLink = document.createElement('div');\n",
              "        docLink.innerHTML = docLinkHtml;\n",
              "        element.appendChild(docLink);\n",
              "      }\n",
              "    </script>\n",
              "  </div>\n",
              "\n",
              "\n",
              "<div id=\"df-b1ed85d3-e1c0-4841-859d-656b9235aca2\">\n",
              "  <button class=\"colab-df-quickchart\" onclick=\"quickchart('df-b1ed85d3-e1c0-4841-859d-656b9235aca2')\"\n",
              "            title=\"Suggest charts\"\n",
              "            style=\"display:none;\">\n",
              "\n",
              "<svg xmlns=\"http://www.w3.org/2000/svg\" height=\"24px\"viewBox=\"0 0 24 24\"\n",
              "     width=\"24px\">\n",
              "    <g>\n",
              "        <path d=\"M19 3H5c-1.1 0-2 .9-2 2v14c0 1.1.9 2 2 2h14c1.1 0 2-.9 2-2V5c0-1.1-.9-2-2-2zM9 17H7v-7h2v7zm4 0h-2V7h2v10zm4 0h-2v-4h2v4z\"/>\n",
              "    </g>\n",
              "</svg>\n",
              "  </button>\n",
              "\n",
              "<style>\n",
              "  .colab-df-quickchart {\n",
              "      --bg-color: #E8F0FE;\n",
              "      --fill-color: #1967D2;\n",
              "      --hover-bg-color: #E2EBFA;\n",
              "      --hover-fill-color: #174EA6;\n",
              "      --disabled-fill-color: #AAA;\n",
              "      --disabled-bg-color: #DDD;\n",
              "  }\n",
              "\n",
              "  [theme=dark] .colab-df-quickchart {\n",
              "      --bg-color: #3B4455;\n",
              "      --fill-color: #D2E3FC;\n",
              "      --hover-bg-color: #434B5C;\n",
              "      --hover-fill-color: #FFFFFF;\n",
              "      --disabled-bg-color: #3B4455;\n",
              "      --disabled-fill-color: #666;\n",
              "  }\n",
              "\n",
              "  .colab-df-quickchart {\n",
              "    background-color: var(--bg-color);\n",
              "    border: none;\n",
              "    border-radius: 50%;\n",
              "    cursor: pointer;\n",
              "    display: none;\n",
              "    fill: var(--fill-color);\n",
              "    height: 32px;\n",
              "    padding: 0;\n",
              "    width: 32px;\n",
              "  }\n",
              "\n",
              "  .colab-df-quickchart:hover {\n",
              "    background-color: var(--hover-bg-color);\n",
              "    box-shadow: 0 1px 2px rgba(60, 64, 67, 0.3), 0 1px 3px 1px rgba(60, 64, 67, 0.15);\n",
              "    fill: var(--button-hover-fill-color);\n",
              "  }\n",
              "\n",
              "  .colab-df-quickchart-complete:disabled,\n",
              "  .colab-df-quickchart-complete:disabled:hover {\n",
              "    background-color: var(--disabled-bg-color);\n",
              "    fill: var(--disabled-fill-color);\n",
              "    box-shadow: none;\n",
              "  }\n",
              "\n",
              "  .colab-df-spinner {\n",
              "    border: 2px solid var(--fill-color);\n",
              "    border-color: transparent;\n",
              "    border-bottom-color: var(--fill-color);\n",
              "    animation:\n",
              "      spin 1s steps(1) infinite;\n",
              "  }\n",
              "\n",
              "  @keyframes spin {\n",
              "    0% {\n",
              "      border-color: transparent;\n",
              "      border-bottom-color: var(--fill-color);\n",
              "      border-left-color: var(--fill-color);\n",
              "    }\n",
              "    20% {\n",
              "      border-color: transparent;\n",
              "      border-left-color: var(--fill-color);\n",
              "      border-top-color: var(--fill-color);\n",
              "    }\n",
              "    30% {\n",
              "      border-color: transparent;\n",
              "      border-left-color: var(--fill-color);\n",
              "      border-top-color: var(--fill-color);\n",
              "      border-right-color: var(--fill-color);\n",
              "    }\n",
              "    40% {\n",
              "      border-color: transparent;\n",
              "      border-right-color: var(--fill-color);\n",
              "      border-top-color: var(--fill-color);\n",
              "    }\n",
              "    60% {\n",
              "      border-color: transparent;\n",
              "      border-right-color: var(--fill-color);\n",
              "    }\n",
              "    80% {\n",
              "      border-color: transparent;\n",
              "      border-right-color: var(--fill-color);\n",
              "      border-bottom-color: var(--fill-color);\n",
              "    }\n",
              "    90% {\n",
              "      border-color: transparent;\n",
              "      border-bottom-color: var(--fill-color);\n",
              "    }\n",
              "  }\n",
              "</style>\n",
              "\n",
              "  <script>\n",
              "    async function quickchart(key) {\n",
              "      const quickchartButtonEl =\n",
              "        document.querySelector('#' + key + ' button');\n",
              "      quickchartButtonEl.disabled = true;  // To prevent multiple clicks.\n",
              "      quickchartButtonEl.classList.add('colab-df-spinner');\n",
              "      try {\n",
              "        const charts = await google.colab.kernel.invokeFunction(\n",
              "            'suggestCharts', [key], {});\n",
              "      } catch (error) {\n",
              "        console.error('Error during call to suggestCharts:', error);\n",
              "      }\n",
              "      quickchartButtonEl.classList.remove('colab-df-spinner');\n",
              "      quickchartButtonEl.classList.add('colab-df-quickchart-complete');\n",
              "    }\n",
              "    (() => {\n",
              "      let quickchartButtonEl =\n",
              "        document.querySelector('#df-b1ed85d3-e1c0-4841-859d-656b9235aca2 button');\n",
              "      quickchartButtonEl.style.display =\n",
              "        google.colab.kernel.accessAllowed ? 'block' : 'none';\n",
              "    })();\n",
              "  </script>\n",
              "</div>\n",
              "\n",
              "    </div>\n",
              "  </div>\n"
            ]
          },
          "metadata": {},
          "execution_count": 146
        }
      ],
      "source": [
        "train_df.describe()"
      ]
    },
    {
      "cell_type": "markdown",
      "metadata": {
        "id": "i6k-_fI5Aiyh"
      },
      "source": [
        "> <b>NOTE:</b> The `DepTime` feature is the departure time in a numeric representation in <b><code>2400</code></b> hours."
      ]
    },
    {
      "cell_type": "markdown",
      "metadata": {
        "id": "sk5gExj_r-We"
      },
      "source": [
        "### Target"
      ]
    },
    {
      "cell_type": "markdown",
      "metadata": {
        "id": "gtZS4-hrlQah"
      },
      "source": [
        "The response variable is 'dep_delayed_15min' which is a categorical column, so we need to map the Y for yes and N for no values to 1 and 0. Run the code in the next cell to do this."
      ]
    },
    {
      "cell_type": "code",
      "execution_count": 147,
      "metadata": {
        "id": "yRlOTbnW-KYc"
      },
      "outputs": [],
      "source": [
        "# train_df = train_df[train_df.DepTime <= 2400].copy()\n",
        "y_train = train_df['dep_delayed_15min']\\\n",
        "          .map({'Y': 1, 'N': 0})\\\n",
        "          .values"
      ]
    },
    {
      "cell_type": "markdown",
      "metadata": {
        "id": "z3WPkFQO9uo9"
      },
      "source": [
        "### Feature Engineering"
      ]
    },
    {
      "cell_type": "markdown",
      "metadata": {
        "id": "-BYbxXpU-FGE"
      },
      "source": [
        "Concatenate the training and testing dataframes.\n"
      ]
    },
    {
      "cell_type": "code",
      "source": [
        "full_df = pd.concat(\n",
        "    [\n",
        "          train_df.drop('dep_delayed_15min', axis=1)\n",
        "        , test_df\n",
        "    ]\n",
        ")"
      ],
      "metadata": {
        "id": "DaPcHCfN0LYx"
      },
      "execution_count": 148,
      "outputs": []
    },
    {
      "cell_type": "markdown",
      "metadata": {
        "id": "GSO8JbfM_W-F"
      },
      "source": [
        "Use the function <b><code>feature_eng()</code></b> to create additional features for the model. To do this, apply the function to the full dataframe."
      ]
    },
    {
      "cell_type": "code",
      "execution_count": 149,
      "metadata": {
        "id": "Cj6bfSNw_RAf"
      },
      "outputs": [],
      "source": [
        "full_df = feature_eng(\n",
        "    full_df\n",
        ")"
      ]
    },
    {
      "cell_type": "code",
      "source": [
        "full_df.head()"
      ],
      "metadata": {
        "colab": {
          "base_uri": "https://localhost:8080/",
          "height": 256
        },
        "id": "279aNPwccAKS",
        "outputId": "1da56251-795e-463c-8fad-652cf213c790"
      },
      "execution_count": 150,
      "outputs": [
        {
          "output_type": "execute_result",
          "data": {
            "text/plain": [
              "   Month  DayofMonth  DayOfWeek UniqueCarrier Origin Dest  Distance  flight  \\\n",
              "0      8          21          7            AA    ATL  DFW       732  ATLDFW   \n",
              "1      4          20          3            US    PIT  MCO       834  PITMCO   \n",
              "2      9           2          5            XE    RDU  CLE       416  RDUCLE   \n",
              "3     11          25          6            OO    DEN  MEM       872  DENMEM   \n",
              "4     10           7          6            WN    MDW  OMA       423  MDWOMA   \n",
              "\n",
              "   begin_of_month  midddle_of_month  ...  airport_origin_per_month  \\\n",
              "0               0                 0  ...                      1019   \n",
              "1               0                 0  ...                       105   \n",
              "2               1                 0  ...                       136   \n",
              "3               0                 0  ...                       514   \n",
              "4               1                 0  ...                       226   \n",
              "\n",
              "   airport_dest_count  airport_origin_count  carrier_count  \\\n",
              "0                8290                 11387          18024   \n",
              "1                3523                  1390          13069   \n",
              "2                2247                  1747          11737   \n",
              "3                1785                  6222          15343   \n",
              "4                 687                  2571          30958   \n",
              "\n",
              "   carrier_count_per_month  deptime_cos  deptime_sin  flightUC  DestUC  \\\n",
              "0                     1569     0.343660    -0.939094  ATLDFWAA   DFWAA   \n",
              "1                     1094    -0.612907    -0.790155  PITMCOUS   MCOUS   \n",
              "2                      977    -0.835807    -0.549023  RDUCLEXE   CLEXE   \n",
              "3                     1242    -0.884988     0.465615  DENMEMOO   MEMOO   \n",
              "4                     2674     0.073238    -0.997314  MDWOMAWN   OMAWN   \n",
              "\n",
              "   OriginUC  \n",
              "0     ATLAA  \n",
              "1     PITUS  \n",
              "2     RDUXE  \n",
              "3     DENOO  \n",
              "4     MDWWN  \n",
              "\n",
              "[5 rows x 33 columns]"
            ],
            "text/html": [
              "\n",
              "  <div id=\"df-526263f2-aac0-42ba-949b-ce97418f8e44\" class=\"colab-df-container\">\n",
              "    <div>\n",
              "<style scoped>\n",
              "    .dataframe tbody tr th:only-of-type {\n",
              "        vertical-align: middle;\n",
              "    }\n",
              "\n",
              "    .dataframe tbody tr th {\n",
              "        vertical-align: top;\n",
              "    }\n",
              "\n",
              "    .dataframe thead th {\n",
              "        text-align: right;\n",
              "    }\n",
              "</style>\n",
              "<table border=\"1\" class=\"dataframe\">\n",
              "  <thead>\n",
              "    <tr style=\"text-align: right;\">\n",
              "      <th></th>\n",
              "      <th>Month</th>\n",
              "      <th>DayofMonth</th>\n",
              "      <th>DayOfWeek</th>\n",
              "      <th>UniqueCarrier</th>\n",
              "      <th>Origin</th>\n",
              "      <th>Dest</th>\n",
              "      <th>Distance</th>\n",
              "      <th>flight</th>\n",
              "      <th>begin_of_month</th>\n",
              "      <th>midddle_of_month</th>\n",
              "      <th>...</th>\n",
              "      <th>airport_origin_per_month</th>\n",
              "      <th>airport_dest_count</th>\n",
              "      <th>airport_origin_count</th>\n",
              "      <th>carrier_count</th>\n",
              "      <th>carrier_count_per_month</th>\n",
              "      <th>deptime_cos</th>\n",
              "      <th>deptime_sin</th>\n",
              "      <th>flightUC</th>\n",
              "      <th>DestUC</th>\n",
              "      <th>OriginUC</th>\n",
              "    </tr>\n",
              "  </thead>\n",
              "  <tbody>\n",
              "    <tr>\n",
              "      <th>0</th>\n",
              "      <td>8</td>\n",
              "      <td>21</td>\n",
              "      <td>7</td>\n",
              "      <td>AA</td>\n",
              "      <td>ATL</td>\n",
              "      <td>DFW</td>\n",
              "      <td>732</td>\n",
              "      <td>ATLDFW</td>\n",
              "      <td>0</td>\n",
              "      <td>0</td>\n",
              "      <td>...</td>\n",
              "      <td>1019</td>\n",
              "      <td>8290</td>\n",
              "      <td>11387</td>\n",
              "      <td>18024</td>\n",
              "      <td>1569</td>\n",
              "      <td>0.343660</td>\n",
              "      <td>-0.939094</td>\n",
              "      <td>ATLDFWAA</td>\n",
              "      <td>DFWAA</td>\n",
              "      <td>ATLAA</td>\n",
              "    </tr>\n",
              "    <tr>\n",
              "      <th>1</th>\n",
              "      <td>4</td>\n",
              "      <td>20</td>\n",
              "      <td>3</td>\n",
              "      <td>US</td>\n",
              "      <td>PIT</td>\n",
              "      <td>MCO</td>\n",
              "      <td>834</td>\n",
              "      <td>PITMCO</td>\n",
              "      <td>0</td>\n",
              "      <td>0</td>\n",
              "      <td>...</td>\n",
              "      <td>105</td>\n",
              "      <td>3523</td>\n",
              "      <td>1390</td>\n",
              "      <td>13069</td>\n",
              "      <td>1094</td>\n",
              "      <td>-0.612907</td>\n",
              "      <td>-0.790155</td>\n",
              "      <td>PITMCOUS</td>\n",
              "      <td>MCOUS</td>\n",
              "      <td>PITUS</td>\n",
              "    </tr>\n",
              "    <tr>\n",
              "      <th>2</th>\n",
              "      <td>9</td>\n",
              "      <td>2</td>\n",
              "      <td>5</td>\n",
              "      <td>XE</td>\n",
              "      <td>RDU</td>\n",
              "      <td>CLE</td>\n",
              "      <td>416</td>\n",
              "      <td>RDUCLE</td>\n",
              "      <td>1</td>\n",
              "      <td>0</td>\n",
              "      <td>...</td>\n",
              "      <td>136</td>\n",
              "      <td>2247</td>\n",
              "      <td>1747</td>\n",
              "      <td>11737</td>\n",
              "      <td>977</td>\n",
              "      <td>-0.835807</td>\n",
              "      <td>-0.549023</td>\n",
              "      <td>RDUCLEXE</td>\n",
              "      <td>CLEXE</td>\n",
              "      <td>RDUXE</td>\n",
              "    </tr>\n",
              "    <tr>\n",
              "      <th>3</th>\n",
              "      <td>11</td>\n",
              "      <td>25</td>\n",
              "      <td>6</td>\n",
              "      <td>OO</td>\n",
              "      <td>DEN</td>\n",
              "      <td>MEM</td>\n",
              "      <td>872</td>\n",
              "      <td>DENMEM</td>\n",
              "      <td>0</td>\n",
              "      <td>0</td>\n",
              "      <td>...</td>\n",
              "      <td>514</td>\n",
              "      <td>1785</td>\n",
              "      <td>6222</td>\n",
              "      <td>15343</td>\n",
              "      <td>1242</td>\n",
              "      <td>-0.884988</td>\n",
              "      <td>0.465615</td>\n",
              "      <td>DENMEMOO</td>\n",
              "      <td>MEMOO</td>\n",
              "      <td>DENOO</td>\n",
              "    </tr>\n",
              "    <tr>\n",
              "      <th>4</th>\n",
              "      <td>10</td>\n",
              "      <td>7</td>\n",
              "      <td>6</td>\n",
              "      <td>WN</td>\n",
              "      <td>MDW</td>\n",
              "      <td>OMA</td>\n",
              "      <td>423</td>\n",
              "      <td>MDWOMA</td>\n",
              "      <td>1</td>\n",
              "      <td>0</td>\n",
              "      <td>...</td>\n",
              "      <td>226</td>\n",
              "      <td>687</td>\n",
              "      <td>2571</td>\n",
              "      <td>30958</td>\n",
              "      <td>2674</td>\n",
              "      <td>0.073238</td>\n",
              "      <td>-0.997314</td>\n",
              "      <td>MDWOMAWN</td>\n",
              "      <td>OMAWN</td>\n",
              "      <td>MDWWN</td>\n",
              "    </tr>\n",
              "  </tbody>\n",
              "</table>\n",
              "<p>5 rows × 33 columns</p>\n",
              "</div>\n",
              "    <div class=\"colab-df-buttons\">\n",
              "\n",
              "  <div class=\"colab-df-container\">\n",
              "    <button class=\"colab-df-convert\" onclick=\"convertToInteractive('df-526263f2-aac0-42ba-949b-ce97418f8e44')\"\n",
              "            title=\"Convert this dataframe to an interactive table.\"\n",
              "            style=\"display:none;\">\n",
              "\n",
              "  <svg xmlns=\"http://www.w3.org/2000/svg\" height=\"24px\" viewBox=\"0 -960 960 960\">\n",
              "    <path d=\"M120-120v-720h720v720H120Zm60-500h600v-160H180v160Zm220 220h160v-160H400v160Zm0 220h160v-160H400v160ZM180-400h160v-160H180v160Zm440 0h160v-160H620v160ZM180-180h160v-160H180v160Zm440 0h160v-160H620v160Z\"/>\n",
              "  </svg>\n",
              "    </button>\n",
              "\n",
              "  <style>\n",
              "    .colab-df-container {\n",
              "      display:flex;\n",
              "      gap: 12px;\n",
              "    }\n",
              "\n",
              "    .colab-df-convert {\n",
              "      background-color: #E8F0FE;\n",
              "      border: none;\n",
              "      border-radius: 50%;\n",
              "      cursor: pointer;\n",
              "      display: none;\n",
              "      fill: #1967D2;\n",
              "      height: 32px;\n",
              "      padding: 0 0 0 0;\n",
              "      width: 32px;\n",
              "    }\n",
              "\n",
              "    .colab-df-convert:hover {\n",
              "      background-color: #E2EBFA;\n",
              "      box-shadow: 0px 1px 2px rgba(60, 64, 67, 0.3), 0px 1px 3px 1px rgba(60, 64, 67, 0.15);\n",
              "      fill: #174EA6;\n",
              "    }\n",
              "\n",
              "    .colab-df-buttons div {\n",
              "      margin-bottom: 4px;\n",
              "    }\n",
              "\n",
              "    [theme=dark] .colab-df-convert {\n",
              "      background-color: #3B4455;\n",
              "      fill: #D2E3FC;\n",
              "    }\n",
              "\n",
              "    [theme=dark] .colab-df-convert:hover {\n",
              "      background-color: #434B5C;\n",
              "      box-shadow: 0px 1px 3px 1px rgba(0, 0, 0, 0.15);\n",
              "      filter: drop-shadow(0px 1px 2px rgba(0, 0, 0, 0.3));\n",
              "      fill: #FFFFFF;\n",
              "    }\n",
              "  </style>\n",
              "\n",
              "    <script>\n",
              "      const buttonEl =\n",
              "        document.querySelector('#df-526263f2-aac0-42ba-949b-ce97418f8e44 button.colab-df-convert');\n",
              "      buttonEl.style.display =\n",
              "        google.colab.kernel.accessAllowed ? 'block' : 'none';\n",
              "\n",
              "      async function convertToInteractive(key) {\n",
              "        const element = document.querySelector('#df-526263f2-aac0-42ba-949b-ce97418f8e44');\n",
              "        const dataTable =\n",
              "          await google.colab.kernel.invokeFunction('convertToInteractive',\n",
              "                                                    [key], {});\n",
              "        if (!dataTable) return;\n",
              "\n",
              "        const docLinkHtml = 'Like what you see? Visit the ' +\n",
              "          '<a target=\"_blank\" href=https://colab.research.google.com/notebooks/data_table.ipynb>data table notebook</a>'\n",
              "          + ' to learn more about interactive tables.';\n",
              "        element.innerHTML = '';\n",
              "        dataTable['output_type'] = 'display_data';\n",
              "        await google.colab.output.renderOutput(dataTable, element);\n",
              "        const docLink = document.createElement('div');\n",
              "        docLink.innerHTML = docLinkHtml;\n",
              "        element.appendChild(docLink);\n",
              "      }\n",
              "    </script>\n",
              "  </div>\n",
              "\n",
              "\n",
              "<div id=\"df-b1cf8a93-3fbd-4ccb-9f0f-f33661c19a2d\">\n",
              "  <button class=\"colab-df-quickchart\" onclick=\"quickchart('df-b1cf8a93-3fbd-4ccb-9f0f-f33661c19a2d')\"\n",
              "            title=\"Suggest charts\"\n",
              "            style=\"display:none;\">\n",
              "\n",
              "<svg xmlns=\"http://www.w3.org/2000/svg\" height=\"24px\"viewBox=\"0 0 24 24\"\n",
              "     width=\"24px\">\n",
              "    <g>\n",
              "        <path d=\"M19 3H5c-1.1 0-2 .9-2 2v14c0 1.1.9 2 2 2h14c1.1 0 2-.9 2-2V5c0-1.1-.9-2-2-2zM9 17H7v-7h2v7zm4 0h-2V7h2v10zm4 0h-2v-4h2v4z\"/>\n",
              "    </g>\n",
              "</svg>\n",
              "  </button>\n",
              "\n",
              "<style>\n",
              "  .colab-df-quickchart {\n",
              "      --bg-color: #E8F0FE;\n",
              "      --fill-color: #1967D2;\n",
              "      --hover-bg-color: #E2EBFA;\n",
              "      --hover-fill-color: #174EA6;\n",
              "      --disabled-fill-color: #AAA;\n",
              "      --disabled-bg-color: #DDD;\n",
              "  }\n",
              "\n",
              "  [theme=dark] .colab-df-quickchart {\n",
              "      --bg-color: #3B4455;\n",
              "      --fill-color: #D2E3FC;\n",
              "      --hover-bg-color: #434B5C;\n",
              "      --hover-fill-color: #FFFFFF;\n",
              "      --disabled-bg-color: #3B4455;\n",
              "      --disabled-fill-color: #666;\n",
              "  }\n",
              "\n",
              "  .colab-df-quickchart {\n",
              "    background-color: var(--bg-color);\n",
              "    border: none;\n",
              "    border-radius: 50%;\n",
              "    cursor: pointer;\n",
              "    display: none;\n",
              "    fill: var(--fill-color);\n",
              "    height: 32px;\n",
              "    padding: 0;\n",
              "    width: 32px;\n",
              "  }\n",
              "\n",
              "  .colab-df-quickchart:hover {\n",
              "    background-color: var(--hover-bg-color);\n",
              "    box-shadow: 0 1px 2px rgba(60, 64, 67, 0.3), 0 1px 3px 1px rgba(60, 64, 67, 0.15);\n",
              "    fill: var(--button-hover-fill-color);\n",
              "  }\n",
              "\n",
              "  .colab-df-quickchart-complete:disabled,\n",
              "  .colab-df-quickchart-complete:disabled:hover {\n",
              "    background-color: var(--disabled-bg-color);\n",
              "    fill: var(--disabled-fill-color);\n",
              "    box-shadow: none;\n",
              "  }\n",
              "\n",
              "  .colab-df-spinner {\n",
              "    border: 2px solid var(--fill-color);\n",
              "    border-color: transparent;\n",
              "    border-bottom-color: var(--fill-color);\n",
              "    animation:\n",
              "      spin 1s steps(1) infinite;\n",
              "  }\n",
              "\n",
              "  @keyframes spin {\n",
              "    0% {\n",
              "      border-color: transparent;\n",
              "      border-bottom-color: var(--fill-color);\n",
              "      border-left-color: var(--fill-color);\n",
              "    }\n",
              "    20% {\n",
              "      border-color: transparent;\n",
              "      border-left-color: var(--fill-color);\n",
              "      border-top-color: var(--fill-color);\n",
              "    }\n",
              "    30% {\n",
              "      border-color: transparent;\n",
              "      border-left-color: var(--fill-color);\n",
              "      border-top-color: var(--fill-color);\n",
              "      border-right-color: var(--fill-color);\n",
              "    }\n",
              "    40% {\n",
              "      border-color: transparent;\n",
              "      border-right-color: var(--fill-color);\n",
              "      border-top-color: var(--fill-color);\n",
              "    }\n",
              "    60% {\n",
              "      border-color: transparent;\n",
              "      border-right-color: var(--fill-color);\n",
              "    }\n",
              "    80% {\n",
              "      border-color: transparent;\n",
              "      border-right-color: var(--fill-color);\n",
              "      border-bottom-color: var(--fill-color);\n",
              "    }\n",
              "    90% {\n",
              "      border-color: transparent;\n",
              "      border-bottom-color: var(--fill-color);\n",
              "    }\n",
              "  }\n",
              "</style>\n",
              "\n",
              "  <script>\n",
              "    async function quickchart(key) {\n",
              "      const quickchartButtonEl =\n",
              "        document.querySelector('#' + key + ' button');\n",
              "      quickchartButtonEl.disabled = true;  // To prevent multiple clicks.\n",
              "      quickchartButtonEl.classList.add('colab-df-spinner');\n",
              "      try {\n",
              "        const charts = await google.colab.kernel.invokeFunction(\n",
              "            'suggestCharts', [key], {});\n",
              "      } catch (error) {\n",
              "        console.error('Error during call to suggestCharts:', error);\n",
              "      }\n",
              "      quickchartButtonEl.classList.remove('colab-df-spinner');\n",
              "      quickchartButtonEl.classList.add('colab-df-quickchart-complete');\n",
              "    }\n",
              "    (() => {\n",
              "      let quickchartButtonEl =\n",
              "        document.querySelector('#df-b1cf8a93-3fbd-4ccb-9f0f-f33661c19a2d button');\n",
              "      quickchartButtonEl.style.display =\n",
              "        google.colab.kernel.accessAllowed ? 'block' : 'none';\n",
              "    })();\n",
              "  </script>\n",
              "</div>\n",
              "\n",
              "    </div>\n",
              "  </div>\n"
            ]
          },
          "metadata": {},
          "execution_count": 150
        }
      ]
    },
    {
      "cell_type": "markdown",
      "source": [
        "### Label Encoding"
      ],
      "metadata": {
        "id": "OCA2BSLG0VDW"
      }
    },
    {
      "cell_type": "markdown",
      "source": [
        "Use the functions <b><code>label_encode_categorical_columns()</code></b> to encode the labels within each column. The function returns the full encoded dataframe as well as the list of names of all categorical columns."
      ],
      "metadata": {
        "id": "4e_EUf-107Gw"
      }
    },
    {
      "cell_type": "code",
      "execution_count": 151,
      "metadata": {
        "id": "x6RfAINftjwi"
      },
      "outputs": [],
      "source": [
        "full_df_encoded, cat_cols = label_encode_categorical_columns(full_df)"
      ]
    },
    {
      "cell_type": "markdown",
      "source": [
        "Check how the dataset looks like after encoding of labels within each column. First, extract the list of names of all the categorical features. We will need this list when performing the cross-validation on the LightGBM model using <b><code>lightgbm.cv()</code></b> inside the ustom function <b><code>lgb_eval()</code></b> we defined earlier."
      ],
      "metadata": {
        "id": "tjsj5b-CdfAg"
      }
    },
    {
      "cell_type": "code",
      "source": [
        "print(f\"List of names of categorical columns: {cat_cols}\")"
      ],
      "metadata": {
        "colab": {
          "base_uri": "https://localhost:8080/"
        },
        "id": "kgGHahHLc8Dz",
        "outputId": "bdb5013a-8f38-4922-d75b-ea6d6a5af83a"
      },
      "execution_count": 152,
      "outputs": [
        {
          "output_type": "stream",
          "name": "stdout",
          "text": [
            "List of names of categorical columns: ['UniqueCarrier', 'Origin', 'Dest', 'flight', 'flightUC', 'DestUC', 'OriginUC']\n"
          ]
        }
      ]
    },
    {
      "cell_type": "code",
      "source": [
        "full_df_encoded.head()"
      ],
      "metadata": {
        "colab": {
          "base_uri": "https://localhost:8080/",
          "height": 256
        },
        "id": "OQyQ7Ceec5BW",
        "outputId": "89ccb46e-bb42-46f8-8728-94ad30ab38d3"
      },
      "execution_count": 153,
      "outputs": [
        {
          "output_type": "execute_result",
          "data": {
            "text/plain": [
              "   Month  DayofMonth  DayOfWeek  UniqueCarrier  Origin  Dest  Distance  \\\n",
              "0      8          21          7              1      19    82       732   \n",
              "1      4          20          3             19     226   180       834   \n",
              "2      9           2          5             21     239    62       416   \n",
              "3     11          25          6             16      81   184       872   \n",
              "4     10           7          6             20     182   210       423   \n",
              "\n",
              "   flight  begin_of_month  midddle_of_month  ...  airport_origin_per_month  \\\n",
              "0     171               0                 0  ...                      1019   \n",
              "1    3986               0                 0  ...                       105   \n",
              "2    4091               1                 0  ...                       136   \n",
              "3    1304               0                 0  ...                       514   \n",
              "4    2979               1                 0  ...                       226   \n",
              "\n",
              "   airport_dest_count  airport_origin_count  carrier_count  \\\n",
              "0                8290                 11387          18024   \n",
              "1                3523                  1390          13069   \n",
              "2                2247                  1747          11737   \n",
              "3                1785                  6222          15343   \n",
              "4                 687                  2571          30958   \n",
              "\n",
              "   carrier_count_per_month  deptime_cos  deptime_sin  flightUC  DestUC  \\\n",
              "0                     1569     0.343660    -0.939094       265     494   \n",
              "1                     1094    -0.612907    -0.790155      6907    1085   \n",
              "2                      977    -0.835807    -0.549023      7064     359   \n",
              "3                     1242    -0.884988     0.465615      2258    1122   \n",
              "4                     2674     0.073238    -0.997314      5144    1313   \n",
              "\n",
              "   OriginUC  \n",
              "0        67  \n",
              "1      1441  \n",
              "2      1518  \n",
              "3       484  \n",
              "4      1103  \n",
              "\n",
              "[5 rows x 33 columns]"
            ],
            "text/html": [
              "\n",
              "  <div id=\"df-a6cdfab2-aad7-4aee-88f0-e8f610bf9dad\" class=\"colab-df-container\">\n",
              "    <div>\n",
              "<style scoped>\n",
              "    .dataframe tbody tr th:only-of-type {\n",
              "        vertical-align: middle;\n",
              "    }\n",
              "\n",
              "    .dataframe tbody tr th {\n",
              "        vertical-align: top;\n",
              "    }\n",
              "\n",
              "    .dataframe thead th {\n",
              "        text-align: right;\n",
              "    }\n",
              "</style>\n",
              "<table border=\"1\" class=\"dataframe\">\n",
              "  <thead>\n",
              "    <tr style=\"text-align: right;\">\n",
              "      <th></th>\n",
              "      <th>Month</th>\n",
              "      <th>DayofMonth</th>\n",
              "      <th>DayOfWeek</th>\n",
              "      <th>UniqueCarrier</th>\n",
              "      <th>Origin</th>\n",
              "      <th>Dest</th>\n",
              "      <th>Distance</th>\n",
              "      <th>flight</th>\n",
              "      <th>begin_of_month</th>\n",
              "      <th>midddle_of_month</th>\n",
              "      <th>...</th>\n",
              "      <th>airport_origin_per_month</th>\n",
              "      <th>airport_dest_count</th>\n",
              "      <th>airport_origin_count</th>\n",
              "      <th>carrier_count</th>\n",
              "      <th>carrier_count_per_month</th>\n",
              "      <th>deptime_cos</th>\n",
              "      <th>deptime_sin</th>\n",
              "      <th>flightUC</th>\n",
              "      <th>DestUC</th>\n",
              "      <th>OriginUC</th>\n",
              "    </tr>\n",
              "  </thead>\n",
              "  <tbody>\n",
              "    <tr>\n",
              "      <th>0</th>\n",
              "      <td>8</td>\n",
              "      <td>21</td>\n",
              "      <td>7</td>\n",
              "      <td>1</td>\n",
              "      <td>19</td>\n",
              "      <td>82</td>\n",
              "      <td>732</td>\n",
              "      <td>171</td>\n",
              "      <td>0</td>\n",
              "      <td>0</td>\n",
              "      <td>...</td>\n",
              "      <td>1019</td>\n",
              "      <td>8290</td>\n",
              "      <td>11387</td>\n",
              "      <td>18024</td>\n",
              "      <td>1569</td>\n",
              "      <td>0.343660</td>\n",
              "      <td>-0.939094</td>\n",
              "      <td>265</td>\n",
              "      <td>494</td>\n",
              "      <td>67</td>\n",
              "    </tr>\n",
              "    <tr>\n",
              "      <th>1</th>\n",
              "      <td>4</td>\n",
              "      <td>20</td>\n",
              "      <td>3</td>\n",
              "      <td>19</td>\n",
              "      <td>226</td>\n",
              "      <td>180</td>\n",
              "      <td>834</td>\n",
              "      <td>3986</td>\n",
              "      <td>0</td>\n",
              "      <td>0</td>\n",
              "      <td>...</td>\n",
              "      <td>105</td>\n",
              "      <td>3523</td>\n",
              "      <td>1390</td>\n",
              "      <td>13069</td>\n",
              "      <td>1094</td>\n",
              "      <td>-0.612907</td>\n",
              "      <td>-0.790155</td>\n",
              "      <td>6907</td>\n",
              "      <td>1085</td>\n",
              "      <td>1441</td>\n",
              "    </tr>\n",
              "    <tr>\n",
              "      <th>2</th>\n",
              "      <td>9</td>\n",
              "      <td>2</td>\n",
              "      <td>5</td>\n",
              "      <td>21</td>\n",
              "      <td>239</td>\n",
              "      <td>62</td>\n",
              "      <td>416</td>\n",
              "      <td>4091</td>\n",
              "      <td>1</td>\n",
              "      <td>0</td>\n",
              "      <td>...</td>\n",
              "      <td>136</td>\n",
              "      <td>2247</td>\n",
              "      <td>1747</td>\n",
              "      <td>11737</td>\n",
              "      <td>977</td>\n",
              "      <td>-0.835807</td>\n",
              "      <td>-0.549023</td>\n",
              "      <td>7064</td>\n",
              "      <td>359</td>\n",
              "      <td>1518</td>\n",
              "    </tr>\n",
              "    <tr>\n",
              "      <th>3</th>\n",
              "      <td>11</td>\n",
              "      <td>25</td>\n",
              "      <td>6</td>\n",
              "      <td>16</td>\n",
              "      <td>81</td>\n",
              "      <td>184</td>\n",
              "      <td>872</td>\n",
              "      <td>1304</td>\n",
              "      <td>0</td>\n",
              "      <td>0</td>\n",
              "      <td>...</td>\n",
              "      <td>514</td>\n",
              "      <td>1785</td>\n",
              "      <td>6222</td>\n",
              "      <td>15343</td>\n",
              "      <td>1242</td>\n",
              "      <td>-0.884988</td>\n",
              "      <td>0.465615</td>\n",
              "      <td>2258</td>\n",
              "      <td>1122</td>\n",
              "      <td>484</td>\n",
              "    </tr>\n",
              "    <tr>\n",
              "      <th>4</th>\n",
              "      <td>10</td>\n",
              "      <td>7</td>\n",
              "      <td>6</td>\n",
              "      <td>20</td>\n",
              "      <td>182</td>\n",
              "      <td>210</td>\n",
              "      <td>423</td>\n",
              "      <td>2979</td>\n",
              "      <td>1</td>\n",
              "      <td>0</td>\n",
              "      <td>...</td>\n",
              "      <td>226</td>\n",
              "      <td>687</td>\n",
              "      <td>2571</td>\n",
              "      <td>30958</td>\n",
              "      <td>2674</td>\n",
              "      <td>0.073238</td>\n",
              "      <td>-0.997314</td>\n",
              "      <td>5144</td>\n",
              "      <td>1313</td>\n",
              "      <td>1103</td>\n",
              "    </tr>\n",
              "  </tbody>\n",
              "</table>\n",
              "<p>5 rows × 33 columns</p>\n",
              "</div>\n",
              "    <div class=\"colab-df-buttons\">\n",
              "\n",
              "  <div class=\"colab-df-container\">\n",
              "    <button class=\"colab-df-convert\" onclick=\"convertToInteractive('df-a6cdfab2-aad7-4aee-88f0-e8f610bf9dad')\"\n",
              "            title=\"Convert this dataframe to an interactive table.\"\n",
              "            style=\"display:none;\">\n",
              "\n",
              "  <svg xmlns=\"http://www.w3.org/2000/svg\" height=\"24px\" viewBox=\"0 -960 960 960\">\n",
              "    <path d=\"M120-120v-720h720v720H120Zm60-500h600v-160H180v160Zm220 220h160v-160H400v160Zm0 220h160v-160H400v160ZM180-400h160v-160H180v160Zm440 0h160v-160H620v160ZM180-180h160v-160H180v160Zm440 0h160v-160H620v160Z\"/>\n",
              "  </svg>\n",
              "    </button>\n",
              "\n",
              "  <style>\n",
              "    .colab-df-container {\n",
              "      display:flex;\n",
              "      gap: 12px;\n",
              "    }\n",
              "\n",
              "    .colab-df-convert {\n",
              "      background-color: #E8F0FE;\n",
              "      border: none;\n",
              "      border-radius: 50%;\n",
              "      cursor: pointer;\n",
              "      display: none;\n",
              "      fill: #1967D2;\n",
              "      height: 32px;\n",
              "      padding: 0 0 0 0;\n",
              "      width: 32px;\n",
              "    }\n",
              "\n",
              "    .colab-df-convert:hover {\n",
              "      background-color: #E2EBFA;\n",
              "      box-shadow: 0px 1px 2px rgba(60, 64, 67, 0.3), 0px 1px 3px 1px rgba(60, 64, 67, 0.15);\n",
              "      fill: #174EA6;\n",
              "    }\n",
              "\n",
              "    .colab-df-buttons div {\n",
              "      margin-bottom: 4px;\n",
              "    }\n",
              "\n",
              "    [theme=dark] .colab-df-convert {\n",
              "      background-color: #3B4455;\n",
              "      fill: #D2E3FC;\n",
              "    }\n",
              "\n",
              "    [theme=dark] .colab-df-convert:hover {\n",
              "      background-color: #434B5C;\n",
              "      box-shadow: 0px 1px 3px 1px rgba(0, 0, 0, 0.15);\n",
              "      filter: drop-shadow(0px 1px 2px rgba(0, 0, 0, 0.3));\n",
              "      fill: #FFFFFF;\n",
              "    }\n",
              "  </style>\n",
              "\n",
              "    <script>\n",
              "      const buttonEl =\n",
              "        document.querySelector('#df-a6cdfab2-aad7-4aee-88f0-e8f610bf9dad button.colab-df-convert');\n",
              "      buttonEl.style.display =\n",
              "        google.colab.kernel.accessAllowed ? 'block' : 'none';\n",
              "\n",
              "      async function convertToInteractive(key) {\n",
              "        const element = document.querySelector('#df-a6cdfab2-aad7-4aee-88f0-e8f610bf9dad');\n",
              "        const dataTable =\n",
              "          await google.colab.kernel.invokeFunction('convertToInteractive',\n",
              "                                                    [key], {});\n",
              "        if (!dataTable) return;\n",
              "\n",
              "        const docLinkHtml = 'Like what you see? Visit the ' +\n",
              "          '<a target=\"_blank\" href=https://colab.research.google.com/notebooks/data_table.ipynb>data table notebook</a>'\n",
              "          + ' to learn more about interactive tables.';\n",
              "        element.innerHTML = '';\n",
              "        dataTable['output_type'] = 'display_data';\n",
              "        await google.colab.output.renderOutput(dataTable, element);\n",
              "        const docLink = document.createElement('div');\n",
              "        docLink.innerHTML = docLinkHtml;\n",
              "        element.appendChild(docLink);\n",
              "      }\n",
              "    </script>\n",
              "  </div>\n",
              "\n",
              "\n",
              "<div id=\"df-a7a6d21a-fecd-4b0f-a0d8-2a36aef4ae4d\">\n",
              "  <button class=\"colab-df-quickchart\" onclick=\"quickchart('df-a7a6d21a-fecd-4b0f-a0d8-2a36aef4ae4d')\"\n",
              "            title=\"Suggest charts\"\n",
              "            style=\"display:none;\">\n",
              "\n",
              "<svg xmlns=\"http://www.w3.org/2000/svg\" height=\"24px\"viewBox=\"0 0 24 24\"\n",
              "     width=\"24px\">\n",
              "    <g>\n",
              "        <path d=\"M19 3H5c-1.1 0-2 .9-2 2v14c0 1.1.9 2 2 2h14c1.1 0 2-.9 2-2V5c0-1.1-.9-2-2-2zM9 17H7v-7h2v7zm4 0h-2V7h2v10zm4 0h-2v-4h2v4z\"/>\n",
              "    </g>\n",
              "</svg>\n",
              "  </button>\n",
              "\n",
              "<style>\n",
              "  .colab-df-quickchart {\n",
              "      --bg-color: #E8F0FE;\n",
              "      --fill-color: #1967D2;\n",
              "      --hover-bg-color: #E2EBFA;\n",
              "      --hover-fill-color: #174EA6;\n",
              "      --disabled-fill-color: #AAA;\n",
              "      --disabled-bg-color: #DDD;\n",
              "  }\n",
              "\n",
              "  [theme=dark] .colab-df-quickchart {\n",
              "      --bg-color: #3B4455;\n",
              "      --fill-color: #D2E3FC;\n",
              "      --hover-bg-color: #434B5C;\n",
              "      --hover-fill-color: #FFFFFF;\n",
              "      --disabled-bg-color: #3B4455;\n",
              "      --disabled-fill-color: #666;\n",
              "  }\n",
              "\n",
              "  .colab-df-quickchart {\n",
              "    background-color: var(--bg-color);\n",
              "    border: none;\n",
              "    border-radius: 50%;\n",
              "    cursor: pointer;\n",
              "    display: none;\n",
              "    fill: var(--fill-color);\n",
              "    height: 32px;\n",
              "    padding: 0;\n",
              "    width: 32px;\n",
              "  }\n",
              "\n",
              "  .colab-df-quickchart:hover {\n",
              "    background-color: var(--hover-bg-color);\n",
              "    box-shadow: 0 1px 2px rgba(60, 64, 67, 0.3), 0 1px 3px 1px rgba(60, 64, 67, 0.15);\n",
              "    fill: var(--button-hover-fill-color);\n",
              "  }\n",
              "\n",
              "  .colab-df-quickchart-complete:disabled,\n",
              "  .colab-df-quickchart-complete:disabled:hover {\n",
              "    background-color: var(--disabled-bg-color);\n",
              "    fill: var(--disabled-fill-color);\n",
              "    box-shadow: none;\n",
              "  }\n",
              "\n",
              "  .colab-df-spinner {\n",
              "    border: 2px solid var(--fill-color);\n",
              "    border-color: transparent;\n",
              "    border-bottom-color: var(--fill-color);\n",
              "    animation:\n",
              "      spin 1s steps(1) infinite;\n",
              "  }\n",
              "\n",
              "  @keyframes spin {\n",
              "    0% {\n",
              "      border-color: transparent;\n",
              "      border-bottom-color: var(--fill-color);\n",
              "      border-left-color: var(--fill-color);\n",
              "    }\n",
              "    20% {\n",
              "      border-color: transparent;\n",
              "      border-left-color: var(--fill-color);\n",
              "      border-top-color: var(--fill-color);\n",
              "    }\n",
              "    30% {\n",
              "      border-color: transparent;\n",
              "      border-left-color: var(--fill-color);\n",
              "      border-top-color: var(--fill-color);\n",
              "      border-right-color: var(--fill-color);\n",
              "    }\n",
              "    40% {\n",
              "      border-color: transparent;\n",
              "      border-right-color: var(--fill-color);\n",
              "      border-top-color: var(--fill-color);\n",
              "    }\n",
              "    60% {\n",
              "      border-color: transparent;\n",
              "      border-right-color: var(--fill-color);\n",
              "    }\n",
              "    80% {\n",
              "      border-color: transparent;\n",
              "      border-right-color: var(--fill-color);\n",
              "      border-bottom-color: var(--fill-color);\n",
              "    }\n",
              "    90% {\n",
              "      border-color: transparent;\n",
              "      border-bottom-color: var(--fill-color);\n",
              "    }\n",
              "  }\n",
              "</style>\n",
              "\n",
              "  <script>\n",
              "    async function quickchart(key) {\n",
              "      const quickchartButtonEl =\n",
              "        document.querySelector('#' + key + ' button');\n",
              "      quickchartButtonEl.disabled = true;  // To prevent multiple clicks.\n",
              "      quickchartButtonEl.classList.add('colab-df-spinner');\n",
              "      try {\n",
              "        const charts = await google.colab.kernel.invokeFunction(\n",
              "            'suggestCharts', [key], {});\n",
              "      } catch (error) {\n",
              "        console.error('Error during call to suggestCharts:', error);\n",
              "      }\n",
              "      quickchartButtonEl.classList.remove('colab-df-spinner');\n",
              "      quickchartButtonEl.classList.add('colab-df-quickchart-complete');\n",
              "    }\n",
              "    (() => {\n",
              "      let quickchartButtonEl =\n",
              "        document.querySelector('#df-a7a6d21a-fecd-4b0f-a0d8-2a36aef4ae4d button');\n",
              "      quickchartButtonEl.style.display =\n",
              "        google.colab.kernel.accessAllowed ? 'block' : 'none';\n",
              "    })();\n",
              "  </script>\n",
              "</div>\n",
              "\n",
              "    </div>\n",
              "  </div>\n"
            ]
          },
          "metadata": {},
          "execution_count": 153
        }
      ]
    },
    {
      "cell_type": "markdown",
      "metadata": {
        "id": "IJAw1RGB_ZuM"
      },
      "source": [
        "\n",
        "Split the new full encoded dataframe <b><code>full_df_encoded</code></b> into <b><code>X_train</code></b> and <b><code>X_test</code></b> datasets."
      ]
    },
    {
      "cell_type": "code",
      "execution_count": 154,
      "metadata": {
        "id": "15cPtQU5tjfz"
      },
      "outputs": [],
      "source": [
        "X_train = full_df_encoded[:train_df.shape[0]]\n",
        "X_test  = full_df_encoded[train_df.shape[0]:]"
      ]
    },
    {
      "cell_type": "markdown",
      "source": [
        "---"
      ],
      "metadata": {
        "id": "PBc5EtqfVwsn"
      }
    },
    {
      "cell_type": "markdown",
      "metadata": {
        "id": "RTP8KUlLoYzu"
      },
      "source": [
        "# 3. Models (+ BayesOpt)"
      ]
    },
    {
      "cell_type": "markdown",
      "metadata": {
        "id": "S-3kqxVIqRgF"
      },
      "source": [
        "## 3.1. Simple Model"
      ]
    },
    {
      "cell_type": "markdown",
      "metadata": {
        "id": "crpPqKdC-KYx"
      },
      "source": [
        "The first step is to create an instance from the <b><code>BayesianOptimization</code></b> optimizer. It uses two items:\n",
        "* <b>Target Function</b> to optimize\n",
        "* <b>Hyperparameters Search Space</b> (<i>AKA</i> <b>Parameter Bounds</b>) given as a dictionary\n",
        "\n",
        "The function is the procedure that counts metrics of our model quality. The important thing is that our optimization will maximize the value on function. Smaller metrics are best. Hint: don't forget to use negative metric values."
      ]
    },
    {
      "cell_type": "markdown",
      "source": [
        "### Target Function"
      ],
      "metadata": {
        "id": "PP8GGqs-SihI"
      }
    },
    {
      "cell_type": "markdown",
      "metadata": {
        "id": "e09ciF8gpTfr"
      },
      "source": [
        "Here, we define a simple target function called <b><code>simple_func</code></b>\n",
        " . The function calculates the sum of inputs <b><code>a</code></b> and <b><code>b</code></b> and returns the result. In this model, <b><code>a</code></b> and <b><code>b</code></b> are the hyperparameters we want to optimize."
      ]
    },
    {
      "cell_type": "code",
      "execution_count": 155,
      "metadata": {
        "id": "ofwvnfEwo5mG"
      },
      "outputs": [],
      "source": [
        "def simple_func(a, b):\n",
        "    return a + b"
      ]
    },
    {
      "cell_type": "markdown",
      "source": [
        "### Parameter Bounds"
      ],
      "metadata": {
        "id": "hyj66jefSga3"
      }
    },
    {
      "cell_type": "markdown",
      "metadata": {
        "id": "XCGsdciCpeI3"
      },
      "source": [
        "The hyperparameter search space is defined as a Python dictionary. Here, we assume that $a \\in (1,3)$ and $b \\in (4,7)$ . The Bayesian Optimization will explore these range of values."
      ]
    },
    {
      "cell_type": "code",
      "source": [
        "pbounds = {\n",
        "      'a': (1, 3)\n",
        "    , 'b': (4, 7)\n",
        "}"
      ],
      "metadata": {
        "id": "QB51Rxf_31VX"
      },
      "execution_count": 156,
      "outputs": []
    },
    {
      "cell_type": "markdown",
      "source": [
        "### Optimizer Function"
      ],
      "metadata": {
        "id": "FPRGJnur3w3X"
      }
    },
    {
      "cell_type": "code",
      "execution_count": 157,
      "metadata": {
        "id": "4jLYW2qnpOFr"
      },
      "outputs": [],
      "source": [
        "optimizer = BayesianOptimization(\n",
        "      simple_func\n",
        "    , pbounds\n",
        "    , random_state = 42\n",
        ")"
      ]
    },
    {
      "cell_type": "markdown",
      "source": [
        "### Maximization"
      ],
      "metadata": {
        "id": "IEKaCOC2Sv1z"
      }
    },
    {
      "cell_type": "markdown",
      "metadata": {
        "id": "i-GKMJ1uqMYv"
      },
      "source": [
        "Let's run an example where we use the <b><code>optimizer</code></b> to find the best values to maximize the target value. The <b><code>.maximize</code></b> method runs the optimization process, repeatedly calling <b><code>simple_func()</code></b> with different values of <b><code>a</code></b> and <b><code>b</code></b> from the search space."
      ]
    },
    {
      "cell_type": "code",
      "execution_count": 158,
      "metadata": {
        "colab": {
          "base_uri": "https://localhost:8080/"
        },
        "id": "Oy44Ro7wqNat",
        "outputId": "d750d19d-e36c-4a7d-d407-0fef71fdd9aa"
      },
      "outputs": [
        {
          "output_type": "stream",
          "name": "stdout",
          "text": [
            "|   iter    |  target   |     a     |     b     |\n",
            "-------------------------------------------------\n",
            "| \u001b[0m1        \u001b[0m | \u001b[0m8.195    \u001b[0m | \u001b[0m1.718    \u001b[0m | \u001b[0m6.477    \u001b[0m |\n",
            "| \u001b[0m2        \u001b[0m | \u001b[0m7.36     \u001b[0m | \u001b[0m2.586    \u001b[0m | \u001b[0m4.774    \u001b[0m |\n",
            "| \u001b[0m3        \u001b[0m | \u001b[0m6.827    \u001b[0m | \u001b[0m1.438    \u001b[0m | \u001b[0m5.388    \u001b[0m |\n",
            "| \u001b[0m4        \u001b[0m | \u001b[0m6.852    \u001b[0m | \u001b[0m1.457    \u001b[0m | \u001b[0m5.395    \u001b[0m |\n",
            "| \u001b[95m5        \u001b[0m | \u001b[95m8.864    \u001b[0m | \u001b[95m2.191    \u001b[0m | \u001b[95m6.673    \u001b[0m |\n",
            "=================================================\n"
          ]
        }
      ],
      "source": [
        "optimizer.maximize(\n",
        "      n_iter      = 3\n",
        "    , init_points = 2\n",
        ")"
      ]
    },
    {
      "cell_type": "markdown",
      "source": [
        "### Results"
      ],
      "metadata": {
        "id": "UrfF2mH7SzLM"
      }
    },
    {
      "cell_type": "markdown",
      "metadata": {
        "id": "tyKFMF2Hq2Sx"
      },
      "source": [
        "Great, now let's print the best parameters and the associated maximized target."
      ]
    },
    {
      "cell_type": "code",
      "execution_count": 159,
      "metadata": {
        "colab": {
          "base_uri": "https://localhost:8080/"
        },
        "id": "_H6DixyfscV_",
        "outputId": "aea1195f-4013-43b3-e24f-9bab211c598c"
      },
      "outputs": [
        {
          "output_type": "stream",
          "name": "stdout",
          "text": [
            "{'a': 2.191138571602373, 'b': 6.673262190236072}\n",
            "8.864400761838445\n"
          ]
        }
      ],
      "source": [
        "print(optimizer.max['params'])\n",
        "print(optimizer.max['target'])"
      ]
    },
    {
      "cell_type": "markdown",
      "metadata": {
        "id": "tQ1T1V6Mspi4"
      },
      "source": [
        "## 3.2. LightGBM"
      ]
    },
    {
      "cell_type": "markdown",
      "metadata": {
        "id": "y_oGwREZkm4h"
      },
      "source": [
        "The dataset we will be working with is the famous flight departures dataset. Our modeling goal will be to predict if a flight departure is going to be delayed by 15 minutes based on the other attributes in our dataset. As part of this modeling exercise, we will use Bayesian hyperparameter optimization to identify the best parameters for our model."
      ]
    },
    {
      "cell_type": "markdown",
      "source": [
        "### Target Function"
      ],
      "metadata": {
        "id": "3vuohXaM3FSo"
      }
    },
    {
      "cell_type": "markdown",
      "metadata": {
        "id": "NzMIsMPIETVk"
      },
      "source": [
        "Let's build a LightGBM model to test the bayesian optimizer on real data. We will be using the training and test datasets as defined in section 2."
      ]
    },
    {
      "cell_type": "markdown",
      "metadata": {
        "id": "2hfm1i5G-KZH"
      },
      "source": [
        "[LightGBM](https://lightgbm.readthedocs.io/en/latest/) is a gradient boosting framework that uses tree-based learning algorithms. It is designed to be distributed and efficient with the following advantages:\n",
        "\n",
        "* Faster training speed and higher efficiency.\n",
        "* Lower memory usage.\n",
        "* Better accuracy.\n",
        "* Support of parallel and GPU learning.\n",
        "* Capable of handling large-scale data."
      ]
    },
    {
      "cell_type": "markdown",
      "metadata": {
        "id": "jf-3F2Wg-KZL"
      },
      "source": [
        "First, we define the function <b><code>lgb_eval()</code></b> we want to maximize and that will count cross-validation metrics of lightGBM for our parameters.\n",
        "\n",
        "Some params such as <b><code>num_leaves</code></b> , <b><code>max_depth</code></b> , <b><code>min_child_samples</code></b> , <b><code>min_data_in_leaf</code></b> should be integers."
      ]
    },
    {
      "cell_type": "markdown",
      "metadata": {
        "id": "FJwqBhdeF11Q"
      },
      "source": [
        "Apply the Bayesian optimizer to the <b><code>lgb_evl()</code></b> function to identify the best hyperparameters. We will run 10 iterations and set <b><code>init_points=2</code></b> .\n"
      ]
    },
    {
      "cell_type": "code",
      "source": [
        "cat_cols_idx = [full_df_encoded.columns.get_loc(col_name) for col_name in cat_cols]\n",
        "cat_cols_idx"
      ],
      "metadata": {
        "colab": {
          "base_uri": "https://localhost:8080/"
        },
        "id": "TF5Uh0lsb0LM",
        "outputId": "a9439356-c953-44e7-cf84-91e40bb83b0a"
      },
      "execution_count": 160,
      "outputs": [
        {
          "output_type": "execute_result",
          "data": {
            "text/plain": [
              "[3, 4, 5, 7, 30, 31, 32]"
            ]
          },
          "metadata": {},
          "execution_count": 160
        }
      ]
    },
    {
      "cell_type": "code",
      "source": [
        "# Define a partial function with fixed arguments (training data and categorical features)\n",
        "lgb_eval_partial = partial(\n",
        "      lgb_eval\n",
        "    , train_data           = X_train\n",
        "    , train_label          = y_train\n",
        "    , categorical_features = cat_cols_idx\n",
        ")"
      ],
      "metadata": {
        "id": "dnU8XPuzbTHU"
      },
      "execution_count": 161,
      "outputs": []
    },
    {
      "cell_type": "markdown",
      "metadata": {
        "id": "oPDd_AvhLrth"
      },
      "source": [
        "### Parameter Bounds"
      ]
    },
    {
      "cell_type": "markdown",
      "source": [
        "> <b>NOTE:</b> <b><code>train_data</code></b> , <b><code>train_label</code></b> , and <b><code>cat_cols_idx</code></b> should not be included in the <b><code>pbounds</code></b> dictionary. You will pass them as arguments when calling the <b><code>lgb_eval()</code></b> ."
      ],
      "metadata": {
        "id": "InC-t32kYemm"
      }
    },
    {
      "cell_type": "code",
      "source": [
        "pbounds = {\n",
        "      'num_leaves'        : (25, 4000)\n",
        "    , 'max_depth'         : (5, 63)\n",
        "    , 'lambda_l2'         : (0.0, 0.05)\n",
        "    , 'lambda_l1'         : (0.0, 0.05)\n",
        "    , 'min_child_samples' : (50, 10000)\n",
        "    , 'min_data_in_leaf'  : (100, 2000)\n",
        "}"
      ],
      "metadata": {
        "id": "Ehkr6dBJ4rIU"
      },
      "execution_count": 162,
      "outputs": []
    },
    {
      "cell_type": "markdown",
      "source": [
        "### Optimizer Function"
      ],
      "metadata": {
        "id": "q5VppV5z4z6w"
      }
    },
    {
      "cell_type": "markdown",
      "metadata": {
        "id": "n2bpS-c5MUs_"
      },
      "source": [
        "To view all available parameters, please refer to the official documentation for <a href=\"https://lightgbm.readthedocs.io/en/latest/pythonapi/lightgbm.cv.html\"><b><code>lightgbm.cv()</code></b></a> ."
      ]
    },
    {
      "cell_type": "code",
      "execution_count": 163,
      "metadata": {
        "id": "JheCOkUE-KZP"
      },
      "outputs": [],
      "source": [
        "lgbBO = BayesianOptimization(\n",
        "      lgb_eval_partial\n",
        "    , pbounds\n",
        "    , random_state = 42\n",
        ")"
      ]
    },
    {
      "cell_type": "markdown",
      "metadata": {
        "id": "a3UsKpKqL4Kp"
      },
      "source": [
        "### Maximization"
      ]
    },
    {
      "cell_type": "markdown",
      "metadata": {
        "id": "dg6LdYx8pq2T"
      },
      "source": [
        "These are the main parameters of this function:\n",
        "\n",
        "* <b><code>n_iter</code></b> : This is how many steps of Bayesian optimization you want to perform. The more steps, the more likely you are to find a good maximum.\n",
        "\n",
        "* <b><code>init_points</code></b> : This is how many steps of random exploration you want to perform. Random exploration can help by diversifying the exploration space."
      ]
    },
    {
      "cell_type": "code",
      "execution_count": 164,
      "metadata": {
        "colab": {
          "base_uri": "https://localhost:8080/"
        },
        "id": "qnOWLM8sp-B5",
        "outputId": "3803dd58-fbbc-4a67-84fa-62e01589e54b"
      },
      "outputs": [
        {
          "output_type": "stream",
          "name": "stdout",
          "text": [
            "|   iter    |  target   | lambda_l1 | lambda_l2 | max_depth | min_ch... | min_da... | num_le... |\n",
            "-------------------------------------------------------------------------------------------------\n",
            "| \u001b[0m1        \u001b[0m | \u001b[0m0.7154   \u001b[0m | \u001b[0m0.009355 \u001b[0m | \u001b[0m0.02227  \u001b[0m | \u001b[0m10.26    \u001b[0m | \u001b[0m2.867e+03\u001b[0m | \u001b[0m647.6    \u001b[0m | \u001b[0m3.556e+03\u001b[0m |\n",
            "| \u001b[0m2        \u001b[0m | \u001b[0m0.715    \u001b[0m | \u001b[0m0.04064  \u001b[0m | \u001b[0m0.002071 \u001b[0m | \u001b[0m18.42    \u001b[0m | \u001b[0m9.96e+03 \u001b[0m | \u001b[0m624.9    \u001b[0m | \u001b[0m386.9    \u001b[0m |\n",
            "| \u001b[95m3        \u001b[0m | \u001b[95m0.7428   \u001b[0m | \u001b[95m0.001761 \u001b[0m | \u001b[95m0.03269  \u001b[0m | \u001b[95m53.04    \u001b[0m | \u001b[95m1.081e+03\u001b[0m | \u001b[95m1.423e+03\u001b[0m | \u001b[95m2.511e+03\u001b[0m |\n",
            "| \u001b[0m4        \u001b[0m | \u001b[0m0.7166   \u001b[0m | \u001b[0m0.001326 \u001b[0m | \u001b[0m0.007943 \u001b[0m | \u001b[0m58.89    \u001b[0m | \u001b[0m4.971e+03\u001b[0m | \u001b[0m876.4    \u001b[0m | \u001b[0m3.448e+03\u001b[0m |\n",
            "| \u001b[0m5        \u001b[0m | \u001b[0m0.7415   \u001b[0m | \u001b[0m0.03343  \u001b[0m | \u001b[0m0.01608  \u001b[0m | \u001b[0m48.51    \u001b[0m | \u001b[0m974.4    \u001b[0m | \u001b[0m1.893e+03\u001b[0m | \u001b[0m2.764e+03\u001b[0m |\n",
            "| \u001b[0m6        \u001b[0m | \u001b[0m0.7417   \u001b[0m | \u001b[0m0.007527 \u001b[0m | \u001b[0m0.02527  \u001b[0m | \u001b[0m47.17    \u001b[0m | \u001b[0m143.1    \u001b[0m | \u001b[0m1.816e+03\u001b[0m | \u001b[0m1.073e+03\u001b[0m |\n",
            "| \u001b[0m7        \u001b[0m | \u001b[0m0.742    \u001b[0m | \u001b[0m0.04681  \u001b[0m | \u001b[0m0.04302  \u001b[0m | \u001b[0m32.34    \u001b[0m | \u001b[0m2.311e+03\u001b[0m | \u001b[0m1.787e+03\u001b[0m | \u001b[0m28.84    \u001b[0m |\n",
            "| \u001b[0m8        \u001b[0m | \u001b[0m0.7005   \u001b[0m | \u001b[0m0.03659  \u001b[0m | \u001b[0m0.03754  \u001b[0m | \u001b[0m47.41    \u001b[0m | \u001b[0m837.3    \u001b[0m | \u001b[0m101.7    \u001b[0m | \u001b[0m143.2    \u001b[0m |\n",
            "| \u001b[0m9        \u001b[0m | \u001b[0m0.7417   \u001b[0m | \u001b[0m0.01327  \u001b[0m | \u001b[0m0.03793  \u001b[0m | \u001b[0m17.2     \u001b[0m | \u001b[0m1.799e+03\u001b[0m | \u001b[0m1.938e+03\u001b[0m | \u001b[0m1.31e+03 \u001b[0m |\n",
            "| \u001b[0m10       \u001b[0m | \u001b[0m0.7424   \u001b[0m | \u001b[0m0.001936 \u001b[0m | \u001b[0m0.03132  \u001b[0m | \u001b[0m41.26    \u001b[0m | \u001b[0m4.295e+03\u001b[0m | \u001b[0m1.681e+03\u001b[0m | \u001b[0m1.584e+03\u001b[0m |\n",
            "| \u001b[0m11       \u001b[0m | \u001b[0m0.7148   \u001b[0m | \u001b[0m0.03663  \u001b[0m | \u001b[0m0.03502  \u001b[0m | \u001b[0m61.15    \u001b[0m | \u001b[0m8.227e+03\u001b[0m | \u001b[0m810.5    \u001b[0m | \u001b[0m3.203e+03\u001b[0m |\n",
            "| \u001b[0m12       \u001b[0m | \u001b[0m0.742    \u001b[0m | \u001b[0m0.02704  \u001b[0m | \u001b[0m0.003719 \u001b[0m | \u001b[0m23.19    \u001b[0m | \u001b[0m4.204e+03\u001b[0m | \u001b[0m1.888e+03\u001b[0m | \u001b[0m79.39    \u001b[0m |\n",
            "=================================================================================================\n"
          ]
        }
      ],
      "source": [
        "lgbBO.maximize(\n",
        "      n_iter      = 10\n",
        "    , init_points = 2\n",
        ")"
      ]
    },
    {
      "cell_type": "markdown",
      "metadata": {
        "id": "rdkxhhST-KZS"
      },
      "source": [
        "The best combination of (hyper)parameters and target value found can be viewed using the <b><code>.max</code></b> method."
      ]
    },
    {
      "cell_type": "code",
      "execution_count": 178,
      "metadata": {
        "id": "oc8z6mfy-KZS",
        "colab": {
          "base_uri": "https://localhost:8080/"
        },
        "outputId": "3c991abe-4a7a-42c9-8268-38b3d543c15c"
      },
      "outputs": [
        {
          "output_type": "stream",
          "name": "stdout",
          "text": [
            "Best result: {'target': 0.7427502968533645, 'params': {'lambda_l1': 0.0017613450752210437, 'lambda_l2': 0.03269029318987155, 'max_depth': 53.041575355823426, 'min_child_samples': 1081.4318097587757, 'min_data_in_leaf': 1423.4418892341832, 'num_leaves': 2511.233702551642}}\n"
          ]
        }
      ],
      "source": [
        "print(f\"Best result: {lgbBO.max}\")"
      ]
    },
    {
      "cell_type": "markdown",
      "metadata": {
        "id": "Ne5hKIr7L9Rg"
      },
      "source": [
        "### Results"
      ]
    },
    {
      "cell_type": "markdown",
      "metadata": {
        "id": "J5LAydKC-KZW"
      },
      "source": [
        "Review the process at each step by using the <b><code>.res</code></b> function."
      ]
    },
    {
      "cell_type": "code",
      "source": [
        "lgbBO.res"
      ],
      "metadata": {
        "colab": {
          "base_uri": "https://localhost:8080/"
        },
        "id": "X9x7Zvwm_I6d",
        "outputId": "0640084a-e475-4dbc-80d7-fdfe62838492"
      },
      "execution_count": 173,
      "outputs": [
        {
          "output_type": "execute_result",
          "data": {
            "text/plain": [
              "[{'target': 0.7154300040680992,\n",
              "  'params': {'lambda_l1': 0.009354501638056973,\n",
              "   'lambda_l2': 0.022274375148079614,\n",
              "   'max_depth': 10.25580678059873,\n",
              "   'min_child_samples': 2867.298062509216,\n",
              "   'min_data_in_leaf': 647.6319100950644,\n",
              "   'num_leaves': 3556.2483435694476}},\n",
              " {'target': 0.714960603472424,\n",
              "  'params': {'lambda_l1': 0.04064325674958924,\n",
              "   'lambda_l2': 0.002070789929854655,\n",
              "   'max_depth': 18.417551423995082,\n",
              "   'min_child_samples': 9959.903672884064,\n",
              "   'min_data_in_leaf': 624.9425575946591,\n",
              "   'num_leaves': 386.9196004708692}},\n",
              " {'target': 0.7427502968533645,\n",
              "  'params': {'lambda_l1': 0.0017613450752210437,\n",
              "   'lambda_l2': 0.03269029318987155,\n",
              "   'max_depth': 53.041575355823426,\n",
              "   'min_child_samples': 1081.4318097587757,\n",
              "   'min_data_in_leaf': 1423.4418892341832,\n",
              "   'num_leaves': 2511.233702551642}},\n",
              " {'target': 0.7166030504571438,\n",
              "  'params': {'lambda_l1': 0.0013260420421196684,\n",
              "   'lambda_l2': 0.007943012203789512,\n",
              "   'max_depth': 58.88657255799456,\n",
              "   'min_child_samples': 4970.534136274496,\n",
              "   'min_data_in_leaf': 876.376011803986,\n",
              "   'num_leaves': 3447.5389935843396}},\n",
              " {'target': 0.7414641236030723,\n",
              "  'params': {'lambda_l1': 0.03343134526073241,\n",
              "   'lambda_l2': 0.01608446120157105,\n",
              "   'max_depth': 48.513077786386916,\n",
              "   'min_child_samples': 974.3840510282547,\n",
              "   'min_data_in_leaf': 1892.8227247676778,\n",
              "   'num_leaves': 2763.956769693319}},\n",
              " {'target': 0.741731219223477,\n",
              "  'params': {'lambda_l1': 0.0075267708268801975,\n",
              "   'lambda_l2': 0.025265026108602696,\n",
              "   'max_depth': 47.17074619605455,\n",
              "   'min_child_samples': 143.05635879149608,\n",
              "   'min_data_in_leaf': 1816.1212463363906,\n",
              "   'num_leaves': 1072.8684533602004}},\n",
              " {'target': 0.7420205419320475,\n",
              "  'params': {'lambda_l1': 0.046810879884411356,\n",
              "   'lambda_l2': 0.04301988364209651,\n",
              "   'max_depth': 32.34327197978293,\n",
              "   'min_child_samples': 2311.1911210505787,\n",
              "   'min_data_in_leaf': 1786.7551680503436,\n",
              "   'num_leaves': 28.84155391350542}},\n",
              " {'target': 0.7005120615166892,\n",
              "  'params': {'lambda_l1': 0.0365948910511412,\n",
              "   'lambda_l2': 0.037537779560427705,\n",
              "   'max_depth': 47.40999158478967,\n",
              "   'min_child_samples': 837.3437419909378,\n",
              "   'min_data_in_leaf': 101.71484639310785,\n",
              "   'num_leaves': 143.24937939831216}},\n",
              " {'target': 0.7417189306834712,\n",
              "  'params': {'lambda_l1': 0.013272566609526483,\n",
              "   'lambda_l2': 0.03793057875268384,\n",
              "   'max_depth': 17.198671995561476,\n",
              "   'min_child_samples': 1799.0162846591995,\n",
              "   'min_data_in_leaf': 1938.431163690629,\n",
              "   'num_leaves': 1310.479619076802}},\n",
              " {'target': 0.7424494488648365,\n",
              "  'params': {'lambda_l1': 0.0019364744448194804,\n",
              "   'lambda_l2': 0.03132439609479766,\n",
              "   'max_depth': 41.258065271851564,\n",
              "   'min_child_samples': 4294.9308229990265,\n",
              "   'min_data_in_leaf': 1680.5860720161784,\n",
              "   'num_leaves': 1584.0046185559036}},\n",
              " {'target': 0.7147989507726918,\n",
              "  'params': {'lambda_l1': 0.03663280387184655,\n",
              "   'lambda_l2': 0.03502484328896221,\n",
              "   'max_depth': 61.152290524974006,\n",
              "   'min_child_samples': 8226.773543225838,\n",
              "   'min_data_in_leaf': 810.4549213588343,\n",
              "   'num_leaves': 3202.6268647653897}},\n",
              " {'target': 0.7420318625566464,\n",
              "  'params': {'lambda_l1': 0.02704014003959177,\n",
              "   'lambda_l2': 0.0037186167900236434,\n",
              "   'max_depth': 23.191390920232035,\n",
              "   'min_child_samples': 4203.9734252199805,\n",
              "   'min_data_in_leaf': 1888.162296503089,\n",
              "   'num_leaves': 79.39305163047187}}]"
            ]
          },
          "metadata": {},
          "execution_count": 173
        }
      ]
    }
  ],
  "metadata": {
    "colab": {
      "toc_visible": true,
      "provenance": [],
      "machine_shape": "hm"
    },
    "deepnote_execution_queue": [],
    "kernelspec": {
      "display_name": "Python 3",
      "name": "python3"
    },
    "language_info": {
      "codemirror_mode": {
        "name": "ipython",
        "version": 3
      },
      "file_extension": ".py",
      "mimetype": "text/x-python",
      "name": "python",
      "nbconvert_exporter": "python",
      "pygments_lexer": "ipython3",
      "version": "3.7.3"
    },
    "varInspector": {
      "cols": {
        "lenName": 16,
        "lenType": 16,
        "lenVar": 40
      },
      "kernels_config": {
        "python": {
          "delete_cmd_postfix": "",
          "delete_cmd_prefix": "del ",
          "library": "var_list.py",
          "varRefreshCmd": "print(var_dic_list())"
        },
        "r": {
          "delete_cmd_postfix": ") ",
          "delete_cmd_prefix": "rm(",
          "library": "var_list.r",
          "varRefreshCmd": "cat(var_dic_list()) "
        }
      },
      "types_to_exclude": [
        "module",
        "function",
        "builtin_function_or_method",
        "instance",
        "_Feature"
      ],
      "window_display": false
    }
  },
  "nbformat": 4,
  "nbformat_minor": 0
}