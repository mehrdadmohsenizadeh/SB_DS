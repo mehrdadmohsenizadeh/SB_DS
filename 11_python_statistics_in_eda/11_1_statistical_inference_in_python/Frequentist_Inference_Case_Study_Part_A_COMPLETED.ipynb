{
  "cells": [
    {
      "cell_type": "markdown",
      "metadata": {
        "id": "jS9Q0BnHIIlH"
      },
      "source": [
        "<font size=\"5\">Frequentist Inference Case Study - <b>Part A</b></font>"
      ]
    },
    {
      "cell_type": "markdown",
      "metadata": {
        "id": "Bch5IwJxIIlJ"
      },
      "source": [
        "# 1. Learning objectives"
      ]
    },
    {
      "cell_type": "markdown",
      "metadata": {
        "id": "n0PMc0YiIIlK"
      },
      "source": [
        "Welcome to part A of the Frequentist Inference Case Study! The purpose of this case study is to help you apply the concepts associated with Frequentist inference in Python. Frequentist inference is the process of deriving conclusions about an underlying distribution via the observation of data. In particular, you'll practice writing Python code to apply the following statistical concepts:\n",
        "* $\\small\\textbf{z-statistic}$\n",
        "* $\\small\\textbf{t-statistic}$\n",
        "* Difference and relationship between the two\n",
        "* $\\small\\textbf{Central Limit Theorem (CLT)}$, including its assumptions and consequences\n",
        "* How to estimate the population mean and standard deviation from a sample\n",
        "* Sampling distribution of a test statistic, particularly for the mean\n",
        "* Combining these concepts to calculate a $\\small\\textbf{Confidence Interval (CI)}$"
      ]
    },
    {
      "cell_type": "markdown",
      "metadata": {
        "id": "HUJ59zryIIlL"
      },
      "source": [
        "# 2. Prerequisites"
      ]
    },
    {
      "cell_type": "markdown",
      "metadata": {
        "id": "qjCnQ88CIIlL"
      },
      "source": [
        "To be able to complete this notebook, you are expected to have a basic understanding of:\n",
        "* what a random variable is (p.400 of Professor Spiegelhalter's *The Art of Statistics, hereinafter AoS*)\n",
        "* what a population, and a population distribution, are (p. 397 of *AoS*)\n",
        "* a high-level sense of what the normal distribution is (p. 394 of *AoS*)\n",
        "* what the t-statistic is (p. 275 of *AoS*)\n",
        "\n",
        "Happily, these should all be concepts with which you are reasonably familiar after having read ten chapters of Professor Spiegelhalter's book, *The Art of Statistics*.\n",
        "\n",
        "We'll try to relate the concepts in this case study back to page numbers in *The Art of Statistics* so that you can focus on the Python aspects of this case study. The second part (part B) of this case study will involve another, more real-world application of these tools."
      ]
    },
    {
      "cell_type": "markdown",
      "metadata": {
        "id": "IbXE6F79IIlL"
      },
      "source": [
        "For this notebook, we will use data sampled from a known normal distribution. This allows us to compare our results with theoretical expectations."
      ]
    },
    {
      "cell_type": "markdown",
      "metadata": {
        "id": "94rK4nHVIIlM"
      },
      "source": [
        "# 2. An introduction to sampling from the normal distribution"
      ]
    },
    {
      "cell_type": "markdown",
      "metadata": {
        "id": "JWVL6gAxIIlM"
      },
      "source": [
        "First, let's explore the ways we can generate the normal distribution. While there's a fair amount of interest in [sklearn](https://scikit-learn.org/stable/) within the machine learning community, you're likely to have heard of [scipy](https://docs.scipy.org/doc/scipy-0.15.1/reference/index.html) if you're coming from the sciences. For this assignment, you'll use [scipy.stats](https://docs.scipy.org/doc/scipy-0.15.1/reference/tutorial/stats.html) to complete your work.\n",
        "\n",
        "This assignment will require some digging around and getting your hands dirty (your learning is maximized that way)! You should have the research skills and the tenacity to do these tasks independently, but if you struggle, reach out to your immediate community and your mentor for help."
      ]
    },
    {
      "cell_type": "markdown",
      "source": [
        "## Dependencies"
      ],
      "metadata": {
        "id": "c79gAj9lLysj"
      }
    },
    {
      "cell_type": "code",
      "execution_count": 57,
      "metadata": {
        "id": "IFdAC86BIIlN"
      },
      "outputs": [],
      "source": [
        "import numpy as np\n",
        "from numpy.random import seed\n",
        "\n",
        "import pandas as pd\n",
        "\n",
        "from scipy.stats import t\n",
        "from scipy.stats import norm\n",
        "\n",
        "import matplotlib.pyplot as plt\n",
        "from matplotlib.ticker import MaxNLocator"
      ]
    },
    {
      "cell_type": "markdown",
      "source": [
        "---"
      ],
      "metadata": {
        "id": "d1P-zDq-LtA4"
      }
    },
    {
      "cell_type": "markdown",
      "metadata": {
        "id": "MCKM0cPNIIlO"
      },
      "source": [
        "## $\\small\\textbf{Q1.}$ <code><b>scipy.stats.norm</b></code>"
      ]
    },
    {
      "cell_type": "markdown",
      "source": [
        "Call up the documentation for the `norm` function imported above. (Hint: that documentation is [here](https://docs.scipy.org/doc/scipy/reference/generated/scipy.stats.norm.html)). What is the second listed method?"
      ],
      "metadata": {
        "id": "i6UiDF5GZhi7"
      }
    },
    {
      "cell_type": "code",
      "execution_count": 58,
      "metadata": {
        "colab": {
          "base_uri": "https://localhost:8080/"
        },
        "id": "ijOFzcC1IIlO",
        "outputId": "be5ddc68-4a5f-4809-d200-8399354c0b3d"
      },
      "outputs": [
        {
          "output_type": "stream",
          "name": "stdout",
          "text": [
            "Help on norm_gen in module scipy.stats._continuous_distns:\n",
            "\n",
            "<scipy.stats._continuous_distns.norm_gen object>\n",
            "    A normal continuous random variable.\n",
            "    \n",
            "    The location (``loc``) keyword specifies the mean.\n",
            "    The scale (``scale``) keyword specifies the standard deviation.\n",
            "    \n",
            "    As an instance of the `rv_continuous` class, `norm` object inherits from it\n",
            "    a collection of generic methods (see below for the full list),\n",
            "    and completes them with details specific for this particular distribution.\n",
            "    \n",
            "    Methods\n",
            "    -------\n",
            "    rvs(loc=0, scale=1, size=1, random_state=None)\n",
            "        Random variates.\n",
            "    pdf(x, loc=0, scale=1)\n",
            "        Probability density function.\n",
            "    logpdf(x, loc=0, scale=1)\n",
            "        Log of the probability density function.\n",
            "    cdf(x, loc=0, scale=1)\n",
            "        Cumulative distribution function.\n",
            "    logcdf(x, loc=0, scale=1)\n",
            "        Log of the cumulative distribution function.\n",
            "    sf(x, loc=0, scale=1)\n",
            "        Survival function  (also defined as ``1 - cdf``, but `sf` is sometimes more accurate).\n",
            "    logsf(x, loc=0, scale=1)\n",
            "        Log of the survival function.\n",
            "    ppf(q, loc=0, scale=1)\n",
            "        Percent point function (inverse of ``cdf`` --- percentiles).\n",
            "    isf(q, loc=0, scale=1)\n",
            "        Inverse survival function (inverse of ``sf``).\n",
            "    moment(order, loc=0, scale=1)\n",
            "        Non-central moment of the specified order.\n",
            "    stats(loc=0, scale=1, moments='mv')\n",
            "        Mean('m'), variance('v'), skew('s'), and/or kurtosis('k').\n",
            "    entropy(loc=0, scale=1)\n",
            "        (Differential) entropy of the RV.\n",
            "    fit(data)\n",
            "        Parameter estimates for generic data.\n",
            "        See `scipy.stats.rv_continuous.fit <https://docs.scipy.org/doc/scipy/reference/generated/scipy.stats.rv_continuous.fit.html#scipy.stats.rv_continuous.fit>`__ for detailed documentation of the\n",
            "        keyword arguments.\n",
            "    expect(func, args=(), loc=0, scale=1, lb=None, ub=None, conditional=False, **kwds)\n",
            "        Expected value of a function (of one argument) with respect to the distribution.\n",
            "    median(loc=0, scale=1)\n",
            "        Median of the distribution.\n",
            "    mean(loc=0, scale=1)\n",
            "        Mean of the distribution.\n",
            "    var(loc=0, scale=1)\n",
            "        Variance of the distribution.\n",
            "    std(loc=0, scale=1)\n",
            "        Standard deviation of the distribution.\n",
            "    interval(confidence, loc=0, scale=1)\n",
            "        Confidence interval with equal areas around the median.\n",
            "    \n",
            "    Notes\n",
            "    -----\n",
            "    The probability density function for `norm` is:\n",
            "    \n",
            "    .. math::\n",
            "    \n",
            "        f(x) = \\frac{\\exp(-x^2/2)}{\\sqrt{2\\pi}}\n",
            "    \n",
            "    for a real number :math:`x`.\n",
            "    \n",
            "    The probability density above is defined in the \"standardized\" form. To shift\n",
            "    and/or scale the distribution use the ``loc`` and ``scale`` parameters.\n",
            "    Specifically, ``norm.pdf(x, loc, scale)`` is identically\n",
            "    equivalent to ``norm.pdf(y) / scale`` with\n",
            "    ``y = (x - loc) / scale``. Note that shifting the location of a distribution\n",
            "    does not make it a \"noncentral\" distribution; noncentral generalizations of\n",
            "    some distributions are available in separate classes.\n",
            "    \n",
            "    Examples\n",
            "    --------\n",
            "    >>> import numpy as np\n",
            "    >>> from scipy.stats import norm\n",
            "    >>> import matplotlib.pyplot as plt\n",
            "    >>> fig, ax = plt.subplots(1, 1)\n",
            "    \n",
            "    Calculate the first four moments:\n",
            "    \n",
            "    \n",
            "    >>> mean, var, skew, kurt = norm.stats(moments='mvsk')\n",
            "    \n",
            "    Display the probability density function (``pdf``):\n",
            "    \n",
            "    >>> x = np.linspace(norm.ppf(0.01),\n",
            "    ...                 norm.ppf(0.99), 100)\n",
            "    >>> ax.plot(x, norm.pdf(x),\n",
            "    ...        'r-', lw=5, alpha=0.6, label='norm pdf')\n",
            "    \n",
            "    Alternatively, the distribution object can be called (as a function)\n",
            "    to fix the shape, location and scale parameters. This returns a \"frozen\"\n",
            "    RV object holding the given parameters fixed.\n",
            "    \n",
            "    Freeze the distribution and display the frozen ``pdf``:\n",
            "    \n",
            "    >>> rv = norm()\n",
            "    >>> ax.plot(x, rv.pdf(x), 'k-', lw=2, label='frozen pdf')\n",
            "    \n",
            "    Check accuracy of ``cdf`` and ``ppf``:\n",
            "    \n",
            "    >>> vals = norm.ppf([0.001, 0.5, 0.999])\n",
            "    >>> np.allclose([0.001, 0.5, 0.999], norm.cdf(vals))\n",
            "    True\n",
            "    \n",
            "    Generate random numbers:\n",
            "    \n",
            "    >>> r = norm.rvs(size=1000)\n",
            "    \n",
            "    And compare the histogram:\n",
            "    \n",
            "    >>> ax.hist(r, density=True, bins='auto', histtype='stepfilled', alpha=0.2)\n",
            "    >>> ax.set_xlim([x[0], x[-1]])\n",
            "    >>> ax.legend(loc='best', frameon=False)\n",
            "    >>> plt.show()\n",
            "\n"
          ]
        }
      ],
      "source": [
        "help(norm)"
      ]
    },
    {
      "cell_type": "markdown",
      "source": [
        "---"
      ],
      "metadata": {
        "id": "CfM_68bdLqhJ"
      }
    },
    {
      "cell_type": "markdown",
      "metadata": {
        "id": "o7nyK0T7IIlO"
      },
      "source": [
        "## $\\small\\textbf{Q2.}$ Random samples ($\\small n=5$)"
      ]
    },
    {
      "cell_type": "markdown",
      "source": [
        " Use the method that generates random variates (<code><b>np.random</b></code>) to draw five samples from the standard normal distribution (<code><b>.normal</b></code>)."
      ],
      "metadata": {
        "id": "cg5If2TCZ3qd"
      }
    },
    {
      "cell_type": "code",
      "execution_count": 59,
      "metadata": {
        "colab": {
          "base_uri": "https://localhost:8080/"
        },
        "id": "MMuYMJz6IIlP",
        "outputId": "31c0b7ce-c8a5-427c-a123-3b670169ffad"
      },
      "outputs": [
        {
          "output_type": "stream",
          "name": "stdout",
          "text": [
            "[-0.84800948  1.30590636  0.92420797  0.6404118  -1.05473698]\n"
          ]
        }
      ],
      "source": [
        "seed(47)\n",
        "random_samples = np.random.normal(size=5)\n",
        "print(random_samples)"
      ]
    },
    {
      "cell_type": "markdown",
      "source": [
        "---"
      ],
      "metadata": {
        "id": "b3FaDBFKLpYg"
      }
    },
    {
      "cell_type": "markdown",
      "source": [
        "### $\\small\\textbf{Q3.}$ $\\mu$"
      ],
      "metadata": {
        "id": "-6QjXVlhZ6hL"
      }
    },
    {
      "cell_type": "markdown",
      "metadata": {
        "id": "TXwH2DBKIIlP"
      },
      "source": [
        "What is the mean of this sample? Is it exactly equal to the value you expected? Hint: the sample was drawn from the standard normal distribution. If you want a reminder of the properties of this distribution, check out p. 85 of *AoS*."
      ]
    },
    {
      "cell_type": "code",
      "execution_count": 60,
      "metadata": {
        "colab": {
          "base_uri": "https://localhost:8080/"
        },
        "id": "qsne7T-mIIlQ",
        "outputId": "eb34be75-44c9-4550-dcf8-9b0fb702110f"
      },
      "outputs": [
        {
          "output_type": "stream",
          "name": "stdout",
          "text": [
            "0.19355593334131074\n"
          ]
        }
      ],
      "source": [
        "random_samples_mean = np.mean(random_samples)\n",
        "print(random_samples_mean)"
      ]
    },
    {
      "cell_type": "markdown",
      "source": [
        "---"
      ],
      "metadata": {
        "id": "_Vh25294Lk33"
      }
    },
    {
      "cell_type": "markdown",
      "source": [
        "### From scratch"
      ],
      "metadata": {
        "id": "HrfNnjS8cjFw"
      }
    },
    {
      "cell_type": "markdown",
      "source": [
        "#### $\\small\\textbf{Q4.}$ $\\sigma$"
      ],
      "metadata": {
        "id": "JDB4jHb9aEYJ"
      }
    },
    {
      "cell_type": "markdown",
      "metadata": {
        "id": "OP8dnx23IIlQ"
      },
      "source": [
        "What is the standard deviation of these numbers? Calculate this manually here as $\\Large\\sqrt{\\frac{\\sum_i(x_i - \\bar{x})^2}{n}}$ (This is just the definition of **standard deviation** given by Professor Spiegelhalter on p.403 of *AoS*). Hint: np.sqrt() and np.sum() will be useful here and remember that numPy supports [broadcasting](https://docs.scipy.org/doc/numpy/user/basics.broadcasting.html)."
      ]
    },
    {
      "cell_type": "code",
      "source": [
        "n = len(random_samples)"
      ],
      "metadata": {
        "id": "yvAWowPljo6L"
      },
      "execution_count": 61,
      "outputs": []
    },
    {
      "cell_type": "code",
      "source": [
        "# print(\n",
        "#     n\n",
        "# )"
      ],
      "metadata": {
        "id": "4SkSZR5C8dTN"
      },
      "execution_count": 62,
      "outputs": []
    },
    {
      "cell_type": "code",
      "source": [
        "random_samples_sum = 0\n",
        "for random_sample in random_samples:\n",
        "    random_samples_sum += (random_sample - random_samples_mean)**2"
      ],
      "metadata": {
        "id": "JBFMcFckjj7t"
      },
      "execution_count": 63,
      "outputs": []
    },
    {
      "cell_type": "code",
      "source": [
        "# print(\n",
        "#     random_samples_sum\n",
        "# )"
      ],
      "metadata": {
        "id": "8gF8i4NT8N_s"
      },
      "execution_count": 64,
      "outputs": []
    },
    {
      "cell_type": "code",
      "execution_count": 65,
      "metadata": {
        "id": "8zkOoZSlIIlQ"
      },
      "outputs": [],
      "source": [
        "random_samples_std = np.sqrt(\n",
        "    random_samples_sum/n\n",
        ")"
      ]
    },
    {
      "cell_type": "code",
      "source": [
        "print(\n",
        "    random_samples_std\n",
        ")"
      ],
      "metadata": {
        "colab": {
          "base_uri": "https://localhost:8080/"
        },
        "id": "Qc6SoSX38XX_",
        "outputId": "a8b8492b-2cb4-49c8-c917-0bec777fd57c"
      },
      "execution_count": 66,
      "outputs": [
        {
          "output_type": "stream",
          "name": "stdout",
          "text": [
            "0.9606195639478641\n"
          ]
        }
      ]
    },
    {
      "cell_type": "markdown",
      "metadata": {
        "id": "yrOBfmShIIlR"
      },
      "source": [
        "Here we have calculated the actual standard deviation of a small data set (of size 5). But in this case, this small data set is actually a sample from our larger (infinite) population. In this case, the population is infinite because we could keep drawing our normal random variates until our computers die!\n",
        "\n",
        "In general, the sample mean we calculate will not be equal to the population mean (as we saw above). A consequence of this is that the sum of squares of the deviations from the _population_ mean will be bigger than the sum of squares of the deviations from the _sample_ mean. In other words, the sum of squares of the deviations from the _sample_ mean is too small to give an unbiased estimate of the _population_ variance. An example of this effect is given [here](https://en.wikipedia.org/wiki/Bessel%27s_correction#Source_of_bias). Scaling our estimate of the variance by the factor $n/(n-1)$ gives an unbiased estimator of the population variance. This factor is known as [Bessel's correction](https://en.wikipedia.org/wiki/Bessel%27s_correction). The consequence of this is that the $n$ in the denominator is replaced by $n-1$.\n",
        "\n",
        "You can see Bessel's correction reflected in Professor Spiegelhalter's definition of **variance** on p. 405 of *AoS*."
      ]
    },
    {
      "cell_type": "markdown",
      "source": [
        "---"
      ],
      "metadata": {
        "id": "a9Ec6_JaLiiP"
      }
    },
    {
      "cell_type": "markdown",
      "source": [
        "#### $\\small\\textbf{Q5.}$ $s$"
      ],
      "metadata": {
        "id": "7sxIBwv7aJCX"
      }
    },
    {
      "cell_type": "markdown",
      "source": [
        "If all we had to go on was our five samples, what would be our best estimate of the population standard deviation? Use Bessel's correction ($n-1$ in the denominator), thus $\\sqrt{\\Large\\frac{\\sum_i(x_i - \\bar{x})^2}{n-1}}$."
      ],
      "metadata": {
        "id": "lHZbhUCQLgxf"
      }
    },
    {
      "cell_type": "code",
      "source": [
        "ddof_sample = n - 1"
      ],
      "metadata": {
        "id": "p_lqHk8AkbvK"
      },
      "execution_count": 67,
      "outputs": []
    },
    {
      "cell_type": "code",
      "source": [
        "# print(\n",
        "#     random_samples_count_sample\n",
        "# )"
      ],
      "metadata": {
        "id": "R71t89AX8lqd"
      },
      "execution_count": 68,
      "outputs": []
    },
    {
      "cell_type": "code",
      "execution_count": 69,
      "metadata": {
        "id": "fRfxnq4rIIlR"
      },
      "outputs": [],
      "source": [
        "random_samples_std_sample = np.sqrt(\n",
        "    random_samples_sum/ddof_sample\n",
        ")"
      ]
    },
    {
      "cell_type": "code",
      "source": [
        "print(\n",
        "    random_samples_std_sample\n",
        ")"
      ],
      "metadata": {
        "colab": {
          "base_uri": "https://localhost:8080/"
        },
        "id": "WM54fEe1vvg5",
        "outputId": "43c05622-1774-4d8f-d3b0-713ec4721858"
      },
      "execution_count": 70,
      "outputs": [
        {
          "output_type": "stream",
          "name": "stdout",
          "text": [
            "1.0740053227518152\n"
          ]
        }
      ]
    },
    {
      "cell_type": "markdown",
      "source": [
        "---"
      ],
      "metadata": {
        "id": "qwl2YenZL1x6"
      }
    },
    {
      "cell_type": "markdown",
      "source": [
        "### Using NumPy"
      ],
      "metadata": {
        "id": "R-iWTVOsc0fH"
      }
    },
    {
      "cell_type": "markdown",
      "source": [
        "#### $\\small\\textbf{Q6.}$ $\\sigma$"
      ],
      "metadata": {
        "id": "oBMXyobNaOMv"
      }
    },
    {
      "cell_type": "markdown",
      "metadata": {
        "id": "QLZp8a3iIIlR"
      },
      "source": [
        "Now use numpy's std function to calculate the standard deviation of our random samples. Which of the above standard deviations did it return?"
      ]
    },
    {
      "cell_type": "code",
      "execution_count": 71,
      "metadata": {
        "colab": {
          "base_uri": "https://localhost:8080/"
        },
        "id": "OTlgV8xyIIlS",
        "outputId": "46ca3433-227b-4505-cf0d-b8dbdb41279e"
      },
      "outputs": [
        {
          "output_type": "execute_result",
          "data": {
            "text/plain": [
              "0.9606195639478641"
            ]
          },
          "metadata": {},
          "execution_count": 71
        }
      ],
      "source": [
        "np.std(\n",
        "    random_samples\n",
        ")"
      ]
    },
    {
      "cell_type": "markdown",
      "source": [
        "---"
      ],
      "metadata": {
        "id": "LYkEZ_FAL2rK"
      }
    },
    {
      "cell_type": "markdown",
      "source": [
        "#### $\\small\\textbf{Q7.}$ $s$"
      ],
      "metadata": {
        "id": "UNuufnmTaP0P"
      }
    },
    {
      "cell_type": "markdown",
      "metadata": {
        "id": "fGJVbmUyIIlS"
      },
      "source": [
        "Consult the documentation for <code><b>np.std()</b></code> to see how to apply the correction for estimating the population parameter and verify this produces the expected result."
      ]
    },
    {
      "cell_type": "code",
      "execution_count": 72,
      "metadata": {
        "id": "5irrMsb7IIlS"
      },
      "outputs": [],
      "source": [
        "# help(np.std)"
      ]
    },
    {
      "cell_type": "code",
      "execution_count": 73,
      "metadata": {
        "colab": {
          "base_uri": "https://localhost:8080/"
        },
        "id": "XdHEMmEJIIlS",
        "outputId": "3a7f7eab-7133-47f9-c033-61f57f694654"
      },
      "outputs": [
        {
          "output_type": "execute_result",
          "data": {
            "text/plain": [
              "1.0740053227518152"
            ]
          },
          "metadata": {},
          "execution_count": 73
        }
      ],
      "source": [
        "np.std(\n",
        "      random_samples\n",
        "    , ddof = 1\n",
        ")"
      ]
    },
    {
      "cell_type": "markdown",
      "source": [
        "---"
      ],
      "metadata": {
        "id": "eVZQoY-JMAWz"
      }
    },
    {
      "cell_type": "markdown",
      "metadata": {
        "id": "GmtqxShrIIlT"
      },
      "source": [
        "## Summary"
      ]
    },
    {
      "cell_type": "markdown",
      "metadata": {
        "id": "pZnnjV5BIIlT"
      },
      "source": [
        "In this section, you've :\n",
        "\n",
        "* Been introduced to the <code><b>scipy.stats</b></code> package and used it to draw a small sample from the standard normal distribution.\n",
        "\n",
        "* Calculated the average (the mean) of this sample and seen that this is not exactly equal to the expected population parameter (which we know because we're generating the random variates from a specific, known distribution).\n",
        "\n",
        "* Been introduced to two ways of calculating the standard deviation; one uses $n$ in the denominator and the other uses $n-1$ ($\\small\\textbf{Bessel's correction)}$. You've also seen which of these calculations <code><b>np.std()</b></code> performs by default and how to get it to generate the other.\n",
        "\n",
        "  * You use $n$ as the denominator if you want to calculate the standard deviation of a sequence of numbers. You use $n-1$ if you are using this sequence of numbers to estimate the population parameter. This brings us to some terminology that can be a little confusing.\n",
        "\n",
        "  * The population parameter is traditionally written as $\\sigma$ and the sample statistic as $s$. Rather unhelpfully, $s$ is also called the sample standard deviation (using $n-1$) whereas the standard deviation of the sample uses $n$. That's right, we have the sample standard deviation and the standard deviation of the sample and they're not the same thing!\n",
        "\n",
        "    * The sample standard deviation\n",
        "\\begin{equation}\n",
        "s = \\sqrt{\\frac{\\sum_i(x_i - \\bar{x})^2}{n-1}} \\approx \\sigma,\n",
        "\\end{equation}\n",
        "is our best (unbiased) estimate of the population parameter ($\\sigma$).\n",
        "\n",
        "    * If your dataset _is_ your entire population, you simply want to calculate the population parameter, $\\sigma$, via\n",
        "\\begin{equation}\n",
        "\\sigma = \\sqrt{\\frac{\\sum_i(x_i - \\bar{x})^2}{n}}\n",
        "\\end{equation}"
      ]
    },
    {
      "cell_type": "markdown",
      "metadata": {
        "id": "JfnJ3OkmIIlT"
      },
      "source": [
        "as you have complete, full knowledge of your population. In other words, your sample _is_ your population. It's worth noting that we're dealing with what Professor Spiegehalter describes on p. 92 of *AoS* as a **metaphorical population**: we have all the data, and we act as if the data-point is taken from a population at random. We can think of this population as an imaginary space of possibilities.\n",
        "\n",
        "If, however, you have sampled _from_ your population, you only have partial knowledge of the state of your population. In this case, the standard deviation of your sample is not an unbiased estimate of the standard deviation of the population, in which case you seek to estimate that population parameter via the sample standard deviation, which uses the $n-1$ denominator."
      ]
    },
    {
      "cell_type": "markdown",
      "metadata": {
        "id": "g8dOpoA7IIlT"
      },
      "source": [
        "Great work so far! Now let's dive deeper."
      ]
    },
    {
      "cell_type": "markdown",
      "source": [
        "---"
      ],
      "metadata": {
        "id": "xRXgBOGu_zVv"
      }
    },
    {
      "cell_type": "markdown",
      "source": [
        "---"
      ],
      "metadata": {
        "id": "ElgD91yF_7vb"
      }
    },
    {
      "cell_type": "markdown",
      "source": [
        "---"
      ],
      "metadata": {
        "id": "DcWHDf1s_8CS"
      }
    },
    {
      "cell_type": "markdown",
      "metadata": {
        "id": "ojD2UOvjIIlU"
      },
      "source": [
        "# 3. Sampling distributions"
      ]
    },
    {
      "cell_type": "markdown",
      "metadata": {
        "id": "08VoE4JOIIlU"
      },
      "source": [
        "So far we've been dealing with the concept of taking a sample from a population to infer the population parameters. One statistic we calculated for a sample was the mean. As our samples will be expected to vary from one draw to another, so will our sample statistics. If we were to perform repeat draws of size $n$ and calculate the mean of each, we would expect to obtain a distribution of values. This is the sampling distribution of the mean. **The Central Limit Theorem (CLT)** tells us that such a distribution will approach a normal distribution as $n$ increases (the intuitions behind the CLT are covered in full on p. 236 of *AoS*). For the sampling distribution of the mean, the standard deviation of this distribution is given by\n",
        "\n",
        "\\begin{equation}\n",
        "\\sigma_{mean} = \\frac{\\sigma}{\\sqrt n}\n",
        "\\end{equation}\n",
        "\n",
        "where $\\sigma_{mean}$ is the standard deviation of the sampling distribution of the mean and $\\sigma$ is the standard deviation of the population (the population parameter)."
      ]
    },
    {
      "cell_type": "markdown",
      "metadata": {
        "id": "5iQwWI87IIlU"
      },
      "source": [
        "This is important because typically we are dealing with samples from populations and all we know about the population is what we see in the sample. From this sample, we want to make inferences about the population. We may do this, for example, by looking at the histogram of the values and by calculating the mean and standard deviation (as estimates of the population parameters), and so we are intrinsically interested in how these quantities vary across samples.\n",
        "\n",
        "In other words, now that we've taken one sample of size $n$ and made some claims about the general population, what if we were to take another sample of size $n$? Would we get the same result? Would we make the same claims about the general population? This brings us to a fundamental question: _when we make some inference about a population based on our sample, how confident can we be that we've got it 'right'?_\n",
        "\n",
        "We need to think about **estimates and confidence intervals**: those concepts covered in Chapter 7, p. 189, of *AoS*."
      ]
    },
    {
      "cell_type": "markdown",
      "source": [
        "## Population ($\\small n=50,000$)"
      ],
      "metadata": {
        "id": "KuEfpj2dDPQq"
      }
    },
    {
      "cell_type": "markdown",
      "metadata": {
        "id": "AMW8jxmuIIlU"
      },
      "source": [
        "Now, the standard normal distribution (with its variance equal to its standard deviation of one) would not be a great illustration of a key point. Instead, let's imagine we live in a town of 50,000 people and we know the height of everyone in this town. We will have 50,000 numbers that tell us everything about our population. We'll simulate these numbers now and put ourselves in one particular town, called 'town 47', where the population mean height is 172 cm and population standard deviation is 5 cm."
      ]
    },
    {
      "cell_type": "code",
      "source": [
        "pop_size     = 50000\n",
        "heights_std  = 5\n",
        "heights_mean = 172"
      ],
      "metadata": {
        "id": "c_Idxhylk-qL"
      },
      "execution_count": 74,
      "outputs": []
    },
    {
      "cell_type": "markdown",
      "source": [
        "> <b><font size=\"5\"><a href=\"http://scipy.github.io/devdocs/reference/generated/scipy.stats.norm.html\"><code><b>scipy.stats.norm.rvs</b></code></a> vs. <a href=\"https://numpy.org/doc/stable/reference/random/generated/numpy.random.normal.html\"><code><b>np.random.rand</b></code></a></font> ??</b>\n",
        ">\n",
        "> * The <a href=\"https://numpy.org/doc/stable/reference/random/generated/numpy.random.normal.html\"><code><b>np.random.rand</b></code></a> method does not allow to specify a mean or standard deviation. and it produces random numbers that are uniformly distributed over the interval $[0, 1)$.\n",
        ">\n",
        "> * On the other hand, <a href=\"http://scipy.github.io/devdocs/reference/generated/scipy.stats.norm.html\"><code><b>scipy.stats.norm.rvs</b></code></a> allows to generate random numbers from a normal (Gaussian) distribution that follow a specific normal distribution. Using this method, we can specify the mean (<code><b>loc</b></code>) and standard deviation (<code><b>scale</b></code>) of the distribution"
      ],
      "metadata": {
        "id": "vTQ6yAIHqYfs"
      }
    },
    {
      "cell_type": "code",
      "execution_count": 75,
      "metadata": {
        "id": "jHQw5smsIIlV"
      },
      "outputs": [],
      "source": [
        "seed(47)\n",
        "\n",
        "pop_heights = norm.rvs(\n",
        "      loc   = heights_mean\n",
        "    , scale = heights_std\n",
        "    , size  = pop_size\n",
        ")"
      ]
    },
    {
      "cell_type": "code",
      "execution_count": 76,
      "metadata": {
        "colab": {
          "base_uri": "https://localhost:8080/",
          "height": 530
        },
        "id": "3nH6lr20IIlW",
        "outputId": "560e9fb3-98e4-48d2-dfdf-33c42cdf771b"
      },
      "outputs": [
        {
          "output_type": "display_data",
          "data": {
            "text/plain": [
              "<Figure size 1200x600 with 1 Axes>"
            ],
            "image/png": "[encoded data removed]"
          },
          "metadata": {}
        }
      ],
      "source": [
        "plt.figure(figsize=(12, 6))\n",
        "\n",
        "# Create the histogram\n",
        "plt.hist(pop_heights, bins=30, color='lightblue', edgecolor='black', density=True, alpha=0.7, label='Histogram')\n",
        "plt.xlabel('Height (cm)', fontsize=12)\n",
        "plt.ylabel('Probability Density', fontsize=12)\n",
        "plt.title('Distribution of Heights in the Entire Town Population', fontsize=14)\n",
        "\n",
        "# Plot vertical lines for mean and standard deviations\n",
        "plt.axvline(heights_mean, color='red', linewidth=3, linestyle='solid', label='$\\mu$')\n",
        "plt.axvline(heights_mean + 1 * heights_std, color='red', linewidth=3, linestyle='--', label='$\\mu \\pm \\sigma$')\n",
        "plt.axvline(heights_mean - 1 * heights_std, color='red', linewidth=3, linestyle='--')\n",
        "plt.axvline(heights_mean + 2 * heights_std, color='red', linewidth=3, linestyle='dotted', label='$\\mu \\pm 2\\sigma$')\n",
        "plt.axvline(heights_mean - 2 * heights_std, color='red', linewidth=3, linestyle='dotted')\n",
        "\n",
        "# Add a legend\n",
        "plt.legend()\n",
        "\n",
        "# Create a range of x values for the normal distribution curve\n",
        "x = np.linspace(min(pop_heights), max(pop_heights), 1000)\n",
        "\n",
        "# Calculate the PDF of the normal distribution using the mean and standard deviation\n",
        "pdf = norm.pdf(x, heights_mean, heights_std)\n",
        "\n",
        "# Plot the normal distribution curve\n",
        "plt.plot(x, pdf, 'k-', linewidth=3, label='Normal Distribution')\n",
        "\n",
        "# Add a legend\n",
        "plt.legend()\n",
        "\n",
        "# Show the plot\n",
        "plt.show()"
      ]
    },
    {
      "cell_type": "markdown",
      "metadata": {
        "id": "cGIq-CymIIlX"
      },
      "source": [
        "Now, $50,000$ people is rather a lot to chase after with a tape measure. If all you want to know is the average height of the townsfolk, then can you just go out and measure a sample to get a pretty good estimate of the average height?"
      ]
    },
    {
      "cell_type": "code",
      "execution_count": 77,
      "metadata": {
        "id": "yEuyAnFmIIlX"
      },
      "outputs": [],
      "source": [
        "def townsfolk_sampler(sample_size):\n",
        "    return np.random.choice(pop_heights, sample_size)"
      ]
    },
    {
      "cell_type": "markdown",
      "metadata": {
        "id": "psrzWbJ6IIlX"
      },
      "source": [
        "Let's say you go out one day and randomly sample 10 people to measure."
      ]
    },
    {
      "cell_type": "code",
      "execution_count": 78,
      "metadata": {
        "id": "IuZC4gnxIIlX"
      },
      "outputs": [],
      "source": [
        "seed(47)\n",
        "daily_sample1 = townsfolk_sampler(10)"
      ]
    },
    {
      "cell_type": "code",
      "execution_count": 114,
      "metadata": {
        "colab": {
          "base_uri": "https://localhost:8080/",
          "height": 477
        },
        "id": "Xz4WewJsIIlY",
        "outputId": "3cd53b63-a218-47db-b770-1a80a63bdb2b"
      },
      "outputs": [
        {
          "output_type": "display_data",
          "data": {
            "text/plain": [
              "<Figure size 640x480 with 1 Axes>"
            ],
            "image/png": "[encoded data removed]"
          },
          "metadata": {}
        }
      ],
      "source": [
        "# Create the histogram with better formatting\n",
        "plt.hist(daily_sample1, bins=10, color='lightblue', edgecolor='black', alpha=0.7)\n",
        "plt.xlabel('Height (cm)', fontsize=12)\n",
        "plt.ylabel('Number of People', fontsize=12)\n",
        "plt.title('Distribution of Heights in Sample Size 10', fontsize=14)\n",
        "\n",
        "# Set the y-axis locator to display only integer values\n",
        "ax = plt.gca()\n",
        "ax.yaxis.set_major_locator(MaxNLocator(integer=True))\n",
        "\n",
        "# Add a grid for better readability\n",
        "plt.grid(axis='y', linestyle='--', alpha=0.6)\n",
        "\n",
        "# Customize the tick labels for x-axis (optional)\n",
        "plt.xticks(fontsize=10)\n",
        "\n",
        "# Customize the tick labels for y-axis (optional)\n",
        "plt.yticks(fontsize=10)\n",
        "\n",
        "# Show the plot\n",
        "plt.show()"
      ]
    },
    {
      "cell_type": "markdown",
      "metadata": {
        "id": "llsGku2VIIlY"
      },
      "source": [
        "The sample distribution doesn't resemble what we take the population distribution to be. What do we get for the mean?"
      ]
    },
    {
      "cell_type": "code",
      "execution_count": 80,
      "metadata": {
        "colab": {
          "base_uri": "https://localhost:8080/"
        },
        "id": "3SlP8ilWIIlY",
        "outputId": "77f9a403-2d87-498b-ce1f-4ee64c15bf06"
      },
      "outputs": [
        {
          "output_type": "execute_result",
          "data": {
            "text/plain": [
              "173.47911444163503"
            ]
          },
          "metadata": {},
          "execution_count": 80
        }
      ],
      "source": [
        "np.mean(daily_sample1)"
      ]
    },
    {
      "cell_type": "markdown",
      "metadata": {
        "id": "m7ukTgwsIIlZ"
      },
      "source": [
        "And if we went out and repeated this experiment?"
      ]
    },
    {
      "cell_type": "code",
      "execution_count": 81,
      "metadata": {
        "id": "3quzuUWvIIlZ"
      },
      "outputs": [],
      "source": [
        "daily_sample2 = townsfolk_sampler(10)"
      ]
    },
    {
      "cell_type": "code",
      "execution_count": 82,
      "metadata": {
        "colab": {
          "base_uri": "https://localhost:8080/"
        },
        "id": "Nihw8725IIlZ",
        "outputId": "e490bfb0-a34a-4897-f191-a92cdfff11a5"
      },
      "outputs": [
        {
          "output_type": "execute_result",
          "data": {
            "text/plain": [
              "173.7317666636263"
            ]
          },
          "metadata": {},
          "execution_count": 82
        }
      ],
      "source": [
        "np.mean(daily_sample2)"
      ]
    },
    {
      "cell_type": "markdown",
      "source": [
        "---"
      ],
      "metadata": {
        "id": "129ywab4AR-t"
      }
    },
    {
      "cell_type": "markdown",
      "source": [
        "## $\\small\\textbf{Q8.}$ Sample ($\\small n=365$)"
      ],
      "metadata": {
        "id": "UelAccozae0N"
      }
    },
    {
      "cell_type": "markdown",
      "metadata": {
        "id": "QYCdAVafIIla"
      },
      "source": [
        "Simulate performing this random trial every day for a year, calculating the mean of each daily sample of 10, and plot the resultant sampling distribution of the mean."
      ]
    },
    {
      "cell_type": "code",
      "execution_count": 83,
      "metadata": {
        "colab": {
          "base_uri": "https://localhost:8080/"
        },
        "id": "3Ln7Pqn-IIla",
        "outputId": "615865fa-acac-4d22-c272-9316e7477b98"
      },
      "outputs": [
        {
          "output_type": "stream",
          "name": "stdout",
          "text": [
            "[173.47911444163503, 173.7317666636263, 172.54893867276104, 171.43257319553967, 172.7151613148319]\n"
          ]
        }
      ],
      "source": [
        "seed(47)\n",
        "\n",
        "means = []\n",
        "for i in range(365):\n",
        "    daily_sampler = townsfolk_sampler(10)\n",
        "    daily_mean = np.mean(daily_sampler)\n",
        "    means.append(daily_mean)\n",
        "\n",
        "print(means[0:5]) #to check it worked, basically performing .head() on a list"
      ]
    },
    {
      "cell_type": "code",
      "execution_count": 84,
      "metadata": {
        "colab": {
          "base_uri": "https://localhost:8080/",
          "height": 477
        },
        "id": "a0HlMWSqIIla",
        "outputId": "3e5706f1-48c0-49f2-9686-e35fb5c1bd97"
      },
      "outputs": [
        {
          "output_type": "display_data",
          "data": {
            "text/plain": [
              "<Figure size 640x480 with 1 Axes>"
            ],
            "image/png": "[encoded data removed]"
          },
          "metadata": {}
        }
      ],
      "source": [
        "# Create the histogram with better formatting\n",
        "plt.hist(means, bins=30, color='lightblue', edgecolor='black', alpha=0.7)\n",
        "plt.xlabel('Height (cm)', fontsize=12)\n",
        "plt.ylabel('Number of People', fontsize=12)\n",
        "plt.title('Distribution of Means of Heights in Sample Size 10', fontsize=14)\n",
        "\n",
        "# Add a grid for better readability\n",
        "plt.grid(axis='y', linestyle='--', alpha=0.6)\n",
        "\n",
        "# Customize the tick labels for x-axis (optional)\n",
        "plt.xticks(fontsize=10)\n",
        "\n",
        "# Customize the tick labels for y-axis (optional)\n",
        "plt.yticks(fontsize=10)\n",
        "\n",
        "# Show the plot\n",
        "plt.show()\n"
      ]
    },
    {
      "cell_type": "markdown",
      "metadata": {
        "id": "38RFQC3nIIlb"
      },
      "source": [
        "The above is the distribution of the means of samples of size $10$ taken from our population. The Central Limit Theorem tells us the expected mean of this distribution will be equal to the population mean, and standard deviation will be $\\sigma / \\sqrt n$, which, in this case, should be approximately $1.58\\text{cm}$."
      ]
    },
    {
      "cell_type": "markdown",
      "source": [
        "---"
      ],
      "metadata": {
        "id": "8mQU3J8POLR-"
      }
    },
    {
      "cell_type": "markdown",
      "source": [
        "### $\\small\\textbf{Q9.}$ Verification"
      ],
      "metadata": {
        "id": "6kMrVtBAai-c"
      }
    },
    {
      "cell_type": "markdown",
      "metadata": {
        "id": "wCS0k0uoIIlb"
      },
      "source": [
        "Verify the above results from the CLT."
      ]
    },
    {
      "cell_type": "markdown",
      "source": [
        "Verify that the mean and standard deviation of this distribution are approximately equal to the population mean of 172cm and population standard deviation of 5cm, respectively."
      ],
      "metadata": {
        "id": "ZB5MoMpwNst6"
      }
    },
    {
      "cell_type": "code",
      "execution_count": 85,
      "metadata": {
        "colab": {
          "base_uri": "https://localhost:8080/"
        },
        "id": "4xOQqU4XIIlb",
        "outputId": "562defbd-26cc-4a72-f61a-988d45ef51c0"
      },
      "outputs": [
        {
          "output_type": "execute_result",
          "data": {
            "text/plain": [
              "171.8660049358649"
            ]
          },
          "metadata": {},
          "execution_count": 85
        }
      ],
      "source": [
        "np.mean(means)"
      ]
    },
    {
      "cell_type": "code",
      "execution_count": 86,
      "metadata": {
        "colab": {
          "base_uri": "https://localhost:8080/"
        },
        "id": "6o4vACfhIIlb",
        "outputId": "e8a2a496-32b4-400d-a7f5-7491a19fd841"
      },
      "outputs": [
        {
          "output_type": "execute_result",
          "data": {
            "text/plain": [
              "1.5756704135286475"
            ]
          },
          "metadata": {},
          "execution_count": 86
        }
      ],
      "source": [
        "np.std(means)"
      ]
    },
    {
      "cell_type": "markdown",
      "metadata": {
        "id": "ygEA_PKZIIlc"
      },
      "source": [
        "Remember, in this instance, we knew our population parameters, that the average height really is 172 cm and the standard deviation is 5 cm, and we see some of our daily estimates of the population mean were as low as around 168 and some as high as 176."
      ]
    },
    {
      "cell_type": "markdown",
      "source": [
        "---"
      ],
      "metadata": {
        "id": "bnn4wrBnOJ-Z"
      }
    },
    {
      "cell_type": "markdown",
      "source": [
        "## $\\small\\textbf{Q10.}$ Sample ($\\small n=50$)"
      ],
      "metadata": {
        "id": "he7Z-R0namRk"
      }
    },
    {
      "cell_type": "markdown",
      "metadata": {
        "id": "M-D8w7yvIIlc"
      },
      "source": [
        "Repeat the above year's worth of samples but for a sample size of 50 (perhaps you had a bigger budget for conducting surveys that year)! Would you expect your distribution of sample means to be wider (more variable) or narrower (more consistent)? Compare your resultant summary statistics to those predicted by the CLT."
      ]
    },
    {
      "cell_type": "code",
      "execution_count": 87,
      "metadata": {
        "colab": {
          "base_uri": "https://localhost:8080/"
        },
        "id": "x7y0ul_bIIlc",
        "outputId": "1133daef-de02-4c1c-91c5-c9f1b35cdb38"
      },
      "outputs": [
        {
          "output_type": "stream",
          "name": "stdout",
          "text": [
            "[172.7815108576788, 172.79757492503552, 172.9396310954854, 173.3542075784445, 171.1485580390421]\n"
          ]
        }
      ],
      "source": [
        "seed(47)\n",
        "\n",
        "# calculate daily means from the larger sample size here\n",
        "means50 = []\n",
        "for i in range(365):\n",
        "    daily_sampler50 = townsfolk_sampler(50)\n",
        "    daily_mean50 = np.mean(daily_sampler50)\n",
        "    means50.append(daily_mean50)\n",
        "\n",
        "print(means50[:5]) #to check it worked, basically performing .head() on a list"
      ]
    },
    {
      "cell_type": "code",
      "execution_count": 88,
      "metadata": {
        "colab": {
          "base_uri": "https://localhost:8080/",
          "height": 566
        },
        "id": "MZiP7pwNIIlc",
        "outputId": "5ff3aacc-8724-41be-a7e8-f964018ec8ac"
      },
      "outputs": [
        {
          "output_type": "display_data",
          "data": {
            "text/plain": [
              "<Figure size 640x480 with 1 Axes>"
            ],
            "image/png": "[encoded data removed]"
          },
          "metadata": {}
        },
        {
          "output_type": "stream",
          "name": "stdout",
          "text": [
            "Mean of means50: 171.94 cm\n",
            "Standard deviation of means50: 0.67 cm\n",
            "The resultant mean from samples of 50 is slightly closer to the expected population mean of 172.\n",
            "The resultant standard deviation is significantly smaller than the exercise of samples of 10 - the distribution is much narrower.\n"
          ]
        }
      ],
      "source": [
        "# Create the histogram with better formatting\n",
        "plt.hist(means50, bins=30, color='lightblue', edgecolor='black', alpha=0.7)\n",
        "plt.xlabel('Height (cm)', fontsize=12)\n",
        "plt.ylabel('Number of People', fontsize=12)\n",
        "plt.title('Distribution of Means of Heights in Sample Size 50', fontsize=14)\n",
        "\n",
        "# Add a grid for better readability\n",
        "plt.grid(axis='y', linestyle='--', alpha=0.6)\n",
        "\n",
        "# Customize the tick labels for x-axis (optional)\n",
        "plt.xticks(fontsize=10)\n",
        "\n",
        "# Customize the tick labels for y-axis (optional)\n",
        "plt.yticks(fontsize=10)\n",
        "\n",
        "# Show the plot\n",
        "plt.show()\n",
        "\n",
        "# Print additional information\n",
        "print(f\"Mean of means50: {np.mean(means50):.2f} cm\")\n",
        "print(f\"Standard deviation of means50: {np.std(means50):.2f} cm\")\n",
        "print(\"The resultant mean from samples of 50 is slightly closer to the expected population mean of 172.\")\n",
        "print(\"The resultant standard deviation is significantly smaller than the exercise of samples of 10 - the distribution is much narrower.\")\n"
      ]
    },
    {
      "cell_type": "markdown",
      "metadata": {
        "id": "F_7CelndIIld"
      },
      "source": [
        "What we've seen so far, then, is that we can estimate population parameters from a sample from the population, and that samples have their own distributions. Furthermore, the larger the sample size, the narrower are those sampling distributions."
      ]
    },
    {
      "cell_type": "markdown",
      "source": [
        "---"
      ],
      "metadata": {
        "id": "O1mFCWuCAXPT"
      }
    },
    {
      "cell_type": "markdown",
      "metadata": {
        "id": "EVNmTX1kIIld"
      },
      "source": [
        "## Normally testing time!"
      ]
    },
    {
      "cell_type": "markdown",
      "metadata": {
        "id": "uhvYUD4_IIld"
      },
      "source": [
        "All of the above is well and good.\n",
        "\n",
        "* We've been sampling from a population we know is normally distributed.\n",
        "\n",
        "* We've come to understand when to use $n$ and when to use $n-1$ in the denominator to calculate the spread of a distribution.\n",
        "\n",
        "* We've  seen the Central Limit Theorem (CLT) in action for a sampling distribution.\n",
        "\n",
        "All seems very well behaved in Frequentist land. But, well, why should we really care?"
      ]
    },
    {
      "cell_type": "markdown",
      "metadata": {
        "id": "d2S-kNI-IIld"
      },
      "source": [
        "Remember, we rarely (if ever) actually know our population parameters but we still have to estimate them somehow. If we want to make inferences to conclusions like \"this observation is unusual\" or \"my population mean has changed\" then we need to have some idea of what the underlying distribution is so we can calculate relevant probabilities. In frequentist inference, we use the formulae above to deduce these population parameters. Take a moment in the next part of this assignment to refresh your understanding of how these probabilities work."
      ]
    },
    {
      "cell_type": "markdown",
      "metadata": {
        "id": "dvp-b-lEIIle"
      },
      "source": [
        "Recall some basic properties of the standard normal distribution, such as that $\\approx 68\\%$ of observations are within $\\mu \\pm \\sigma$. Check out the precise definition of a normal distribution on p. 394 of *AoS*."
      ]
    },
    {
      "cell_type": "markdown",
      "source": [
        "## $\\small\\textbf{Q11.}$ $\\Phi(z \\leq 1)$"
      ],
      "metadata": {
        "id": "FqWIHGq4a2Py"
      }
    },
    {
      "cell_type": "markdown",
      "metadata": {
        "id": "LPWwTRLLeMy3"
      },
      "source": [
        "Using this fact, calculate the probability of observing the value $1$ or less in a single observation from the standard normal distribution.\n",
        "\n",
        "> <b>Hint:</b> you may find it helpful to sketch the standard normal distribution (the familiar bell shape) and mark the number of standard deviations from the mean on the x-axis and shade the regions of the curve that contain certain percentages of the population.\n",
        "\n",
        "To determine the probability of observing a value of $1$ or less in a single observation from the standard normal distribution, we employ the concept of the $z$-score. Since the standard deviation $\\sigma$ of the standard normal distribution is $1$, we infer that the $z$-score associated with our target value, $1$, is also $1$. This signifies that $1$ lies precisely one standard deviation above the mean $\\mu$ of the standard normal distribution.\n",
        "\n",
        "Utilizing a tabulated reference for $z$-scores, we discern that the cumulative probability to the left of the $z$-score $1$, representing the likelihood of a single observation being $\\leq 1$ under this normal distribution, is $0.8413$ or $84.13\\%$."
      ]
    },
    {
      "cell_type": "code",
      "source": [
        "# Population's Mean\n",
        "mu = np.mean(pop_heights)\n",
        "print(f\"Mean: {mu}\")\n",
        "\n",
        "# Population's Standard Deviation\n",
        "sigma = np.std(pop_heights)\n",
        "print(f\"Standard Deviation: {sigma}\")"
      ],
      "metadata": {
        "id": "-mh6q4bJNvK2",
        "colab": {
          "base_uri": "https://localhost:8080/"
        },
        "outputId": "ed56d0a0-9992-482c-8184-240bd1701c5d"
      },
      "execution_count": 89,
      "outputs": [
        {
          "output_type": "stream",
          "name": "stdout",
          "text": [
            "Mean: 172.0192602425845\n",
            "Standard Deviation: 4.990839139566387\n"
          ]
        }
      ]
    },
    {
      "cell_type": "markdown",
      "source": [
        "---"
      ],
      "metadata": {
        "id": "Pefr6jXfAY6S"
      }
    },
    {
      "cell_type": "markdown",
      "source": [
        "### $\\small\\textbf{Q12.}$ Using SciPy"
      ],
      "metadata": {
        "id": "EoSbnunGbDEw"
      }
    },
    {
      "cell_type": "markdown",
      "metadata": {
        "id": "fy3jLMYYIIle"
      },
      "source": [
        "1. Calculating this probability involves calculating the area under the curve for $z \\leq 1$.\n",
        "\n",
        "2. To put it in mathematical terms, we need to *integrate* the Probability Density Function (PDF).\n",
        "\n",
        "* In the example above, we could just add together the known areas of chunks $(-\\infty, 0]$ and $[0, \\sigma]$.\n",
        "\n",
        "* One way to do this is to look up tables (literally). Fortunately, scipy has this functionality built in with the cdf() function.\n",
        "\n",
        "* Use the <code><b>scipy.stats.norm.cdf()</b></code> function to answer the question above again and verify you get the same answer."
      ]
    },
    {
      "cell_type": "code",
      "source": [
        "# help(norm.cdf)"
      ],
      "metadata": {
        "id": "cJCtG7p4BOTz"
      },
      "execution_count": 90,
      "outputs": []
    },
    {
      "cell_type": "code",
      "source": [
        "z = 1"
      ],
      "metadata": {
        "id": "tEOcljiPRlfG"
      },
      "execution_count": 91,
      "outputs": []
    },
    {
      "cell_type": "code",
      "execution_count": 92,
      "metadata": {
        "colab": {
          "base_uri": "https://localhost:8080/"
        },
        "id": "VkSztCBuIIlf",
        "outputId": "f8b1619d-9cd8-4ef5-d598-cafc7f13fb66"
      },
      "outputs": [
        {
          "output_type": "execute_result",
          "data": {
            "text/plain": [
              "0.8413447460685429"
            ]
          },
          "metadata": {},
          "execution_count": 92
        }
      ],
      "source": [
        "norm.cdf(z)"
      ]
    },
    {
      "cell_type": "code",
      "source": [
        "# Find the x-value where the red dashed line intersects the CDF curve\n",
        "intersection_x = norm.ppf(norm.cdf(z, loc=0, scale=1))\n",
        "\n",
        "# Create a range of x values for the normal distribution curve\n",
        "x = np.linspace(-3, 3, 1000)\n",
        "\n",
        "# Calculate the PDF of the standard normal distribution\n",
        "pdf = norm.pdf(x, loc=0, scale=1)\n",
        "\n",
        "# Create the figure and axis\n",
        "fig, ax = plt.subplots()\n",
        "\n",
        "# Plot the normal distribution curve\n",
        "ax.plot(x, pdf, 'k-', linewidth=2, label='Normal Distribution')\n",
        "\n",
        "# Fill the area under the curve up to z\n",
        "ax.fill_between(x, 0, pdf, where=(x <= intersection_x), interpolate=True, color='lightblue', alpha=0.7, label=f'Area up to z={z:.2f}')\n",
        "\n",
        "# Plot the red dashed line starting from zero up to the intersection point\n",
        "ax.plot([intersection_x, intersection_x], [0, norm.pdf(z, loc=0, scale=1)], 'r--', linewidth=2, label=f'z = {z:.2f}')\n",
        "\n",
        "# Customize the plot\n",
        "ax.set_xlabel('Standard Deviations (z-scores)')\n",
        "ax.set_ylabel('Probability Density')\n",
        "ax.set_title(f'Normal Distribution and Area up to z={z:.2f}')\n",
        "ax.legend()\n",
        "\n",
        "# Show the plot\n",
        "plt.show()"
      ],
      "metadata": {
        "colab": {
          "base_uri": "https://localhost:8080/",
          "height": 472
        },
        "id": "6dWBknUIcmbj",
        "outputId": "7dd913bf-817e-4d62-ab4a-d4e3481eb4a1"
      },
      "execution_count": 93,
      "outputs": [
        {
          "output_type": "display_data",
          "data": {
            "text/plain": [
              "<Figure size 640x480 with 1 Axes>"
            ],
            "image/png": "[encoded data removed]"
          },
          "metadata": {}
        }
      ]
    },
    {
      "cell_type": "markdown",
      "source": [
        "As can be seen, the resultant answer is the same."
      ],
      "metadata": {
        "id": "qGvfNXvNBppD"
      }
    },
    {
      "cell_type": "markdown",
      "source": [
        "---"
      ],
      "metadata": {
        "id": "wyXy7w_wAaOD"
      }
    },
    {
      "cell_type": "markdown",
      "source": [
        "## $\\small\\textbf{Q13.}$ $\\Phi(z \\vert x=177\\text{cm})$"
      ],
      "metadata": {
        "id": "zuJxZjTcbK2Q"
      }
    },
    {
      "cell_type": "markdown",
      "metadata": {
        "id": "VyWuXneAIIlf"
      },
      "source": [
        "Using our knowledge of the population parameters for our townsfolks' heights, what is the probability of selecting one person at random and their height being $\\leq 177 \\text{cm}$? Calculate this using both of the approaches given above."
      ]
    },
    {
      "cell_type": "code",
      "source": [
        "x177 = 177"
      ],
      "metadata": {
        "id": "bIESXjzbCCKU"
      },
      "execution_count": 94,
      "outputs": []
    },
    {
      "cell_type": "code",
      "source": [
        "# Calculate the z-score of x=177\n",
        "z177 = (x177 - mu) / sigma\n",
        "print(z177)"
      ],
      "metadata": {
        "colab": {
          "base_uri": "https://localhost:8080/"
        },
        "id": "MqNWILVHN0mN",
        "outputId": "9189a5fa-b4b1-4b8b-c6c3-33e37459dd9d"
      },
      "execution_count": 95,
      "outputs": [
        {
          "output_type": "stream",
          "name": "stdout",
          "text": [
            "0.9979764160157327\n"
          ]
        }
      ]
    },
    {
      "cell_type": "markdown",
      "source": [
        "### Using $z$-table"
      ],
      "metadata": {
        "id": "gT1nMypyN9ap"
      }
    },
    {
      "cell_type": "markdown",
      "source": [
        "Using $z$-table (<i>AKA</i> lookup table), this corresponds to approximately $p = .8389$ or $83.89\\%$."
      ],
      "metadata": {
        "id": "emcaI0CyOaXv"
      }
    },
    {
      "cell_type": "markdown",
      "source": [
        "### Using SciPy"
      ],
      "metadata": {
        "id": "uhDUIIZ8OmLU"
      }
    },
    {
      "cell_type": "code",
      "execution_count": 96,
      "metadata": {
        "colab": {
          "base_uri": "https://localhost:8080/"
        },
        "id": "jmmOk4kAIIlf",
        "outputId": "d2282ed9-9e98-4484-e537-96a558782278"
      },
      "outputs": [
        {
          "output_type": "stream",
          "name": "stdout",
          "text": [
            "0.8408546025640735\n"
          ]
        }
      ],
      "source": [
        "p177 = norm.cdf(z177)\n",
        "print(p177)"
      ]
    },
    {
      "cell_type": "markdown",
      "source": [
        "Using the <code><b>norm.cdf</b></code>, this corresponds to approximately $p = .84$ or $84\\%$. - very close to the value from the lookup table."
      ],
      "metadata": {
        "id": "WBRLLLjMPR5Q"
      }
    },
    {
      "cell_type": "code",
      "source": [
        "# Find the x-value where the red dashed line intersects the CDF curve\n",
        "intersection_x = norm.ppf(norm.cdf(z177, loc=0, scale=1))\n",
        "\n",
        "# Create the figure and axis\n",
        "fig, ax = plt.subplots()\n",
        "\n",
        "# Plot the normal distribution curve\n",
        "ax.plot(x, pdf, 'k-', linewidth=2, label='Normal Distribution')\n",
        "\n",
        "# Fill the area under the curve up to the intersection point\n",
        "ax.fill_between(x, 0, pdf, where=(x <= intersection_x), interpolate=True, color='lightblue', alpha=0.7, label=f'Area up to z={z177:.6f}')\n",
        "\n",
        "# Plot the red dashed line starting from zero up to the intersection point\n",
        "ax.plot([intersection_x, intersection_x], [0, norm.pdf(z177, loc=0, scale=1)], 'r--', linewidth=2, label=f'z = {z177:.6f}')\n",
        "\n",
        "# Customize the plot\n",
        "ax.set_xlabel('Standard Deviations (z-scores)')\n",
        "ax.set_ylabel('Probability Density')\n",
        "ax.set_title(f'Normal Distribution and Area up to z={z177:.6f}')\n",
        "ax.legend(loc='upper left')\n",
        "\n",
        "# Show the plot\n",
        "plt.show()"
      ],
      "metadata": {
        "colab": {
          "base_uri": "https://localhost:8080/",
          "height": 472
        },
        "id": "JuoRPIkYdRXh",
        "outputId": "8731589b-a0df-4478-c5ab-7417d0c2ac88"
      },
      "execution_count": 97,
      "outputs": [
        {
          "output_type": "display_data",
          "data": {
            "text/plain": [
              "<Figure size 640x480 with 1 Axes>"
            ],
            "image/png": "[encoded data removed]"
          },
          "metadata": {}
        }
      ]
    },
    {
      "cell_type": "markdown",
      "source": [
        "---"
      ],
      "metadata": {
        "id": "bzW-xcpNAbTX"
      }
    },
    {
      "cell_type": "markdown",
      "source": [
        "## $\\small\\textbf{Q14.}$ $\\Phi(z \\vert x=200\\text{cm})$"
      ],
      "metadata": {
        "id": "LxC4SywRbYZQ"
      }
    },
    {
      "cell_type": "markdown",
      "metadata": {
        "id": "61bOyi2cIIlf"
      },
      "source": [
        "Turning this question around — suppose we randomly pick one person and measure their height and find they are 2.00 m tall. How surprised should we be at this result, given what we know about the population distribution? In other words, how likely would it be to obtain a value at least as extreme as this? Express this as a probability."
      ]
    },
    {
      "cell_type": "code",
      "source": [
        "x200 = 200"
      ],
      "metadata": {
        "id": "wkKbtoLLPs85"
      },
      "execution_count": 98,
      "outputs": []
    },
    {
      "cell_type": "code",
      "source": [
        "# Calculate z-score for x=200\n",
        "z200 = (x200 - mu) / sigma\n",
        "print(z200)"
      ],
      "metadata": {
        "colab": {
          "base_uri": "https://localhost:8080/"
        },
        "id": "-lFuHvL5RAnq",
        "outputId": "56e66ad6-954e-4651-d1dc-fc3748e64b5e"
      },
      "execution_count": 99,
      "outputs": [
        {
          "output_type": "stream",
          "name": "stdout",
          "text": [
            "5.606419877489083\n"
          ]
        }
      ]
    },
    {
      "cell_type": "markdown",
      "source": [
        "### Using SciPy"
      ],
      "metadata": {
        "id": "XkvNRhMOQ9Kk"
      }
    },
    {
      "cell_type": "code",
      "source": [
        "p200 = norm.cdf(z200)\n",
        "print(p200)"
      ],
      "metadata": {
        "colab": {
          "base_uri": "https://localhost:8080/"
        },
        "id": "YGDDeDRhlqQz",
        "outputId": "13bc24a6-fb3b-44f8-93fe-ff4a74eee7e0"
      },
      "execution_count": 100,
      "outputs": [
        {
          "output_type": "stream",
          "name": "stdout",
          "text": [
            "0.9999999896722737\n"
          ]
        }
      ]
    },
    {
      "cell_type": "code",
      "execution_count": 101,
      "metadata": {
        "colab": {
          "base_uri": "https://localhost:8080/"
        },
        "id": "Ycrea7CoIIlg",
        "outputId": "0b715585-007a-461c-e5f4-9ff82bf62991"
      },
      "outputs": [
        {
          "output_type": "stream",
          "name": "stdout",
          "text": [
            "1.0327726340797483e-08\n"
          ]
        }
      ],
      "source": [
        "#p200 is equal to the probability that a person chosen would be 200cm tall OR LESS, so to get the likelihood that they would be TALLER than 200cm, we need to subtract p200 from 1.\n",
        "p_over200 = 1 - p200\n",
        "print(p_over200)"
      ]
    },
    {
      "cell_type": "markdown",
      "source": [
        "> <b>NOTE:</b> There is a very small probability of picking someone from this population who is over 2m tall."
      ],
      "metadata": {
        "id": "vAz0DtgYRIRw"
      }
    },
    {
      "cell_type": "code",
      "source": [
        "# Create a range of x values for the normal distribution curve\n",
        "x = np.linspace(-6, +6, 1000)\n",
        "\n",
        "# Calculate the PDF of the standard normal distribution\n",
        "pdf = norm.pdf(x, loc=0, scale=1)\n",
        "\n",
        "# Create the figure and axis\n",
        "fig, ax = plt.subplots()\n",
        "\n",
        "# Plot the normal distribution curve with a black color and thicker dashed line\n",
        "ax.plot(x, pdf, 'k-', linewidth=2, label='Normal Distribution')  # 'k--' specifies a black dashed line\n",
        "\n",
        "# Fill the area under the curve up to z200\n",
        "ax.fill_between(x, 0, pdf, where=(x <= z200), interpolate=True, color='lightblue', alpha=0.7, label=f'Area up to z={z200:.5f}')\n",
        "\n",
        "# Customize the plot\n",
        "ax.set_xlabel('Standard Deviations (z-scores)')\n",
        "ax.set_ylabel('Probability Density')\n",
        "ax.set_title(f'Normal Distribution and Area up to z={z200:.5f}')\n",
        "ax.axvline(z200, color='red', linestyle='--', linewidth=2, label=f'z = {z200:.5f}')\n",
        "\n",
        "# Place the legend in the top-right corner\n",
        "ax.legend(loc='best')\n",
        "\n",
        "# Show the plot\n",
        "plt.show()\n"
      ],
      "metadata": {
        "colab": {
          "base_uri": "https://localhost:8080/",
          "height": 472
        },
        "id": "42ZXP2rUg5KB",
        "outputId": "f7fa3031-9b75-4e74-9c8a-7ff6a478621e"
      },
      "execution_count": 102,
      "outputs": [
        {
          "output_type": "display_data",
          "data": {
            "text/plain": [
              "<Figure size 640x480 with 1 Axes>"
            ],
            "image/png": "[encoded data removed]"
          },
          "metadata": {}
        }
      ]
    },
    {
      "cell_type": "markdown",
      "metadata": {
        "id": "4c5uxIEQIIlg"
      },
      "source": [
        "What we've just done is calculate the ***p-value*** of the observation of someone 2.00m tall (review *p*-values if you need to on p. 399 of *AoS*). We could calculate this probability by virtue of knowing the population parameters. We were then able to use the known properties of the relevant normal distribution to calculate the probability of observing a value at least as extreme as our test value."
      ]
    },
    {
      "cell_type": "markdown",
      "metadata": {
        "id": "4XU1NoCOIIlg"
      },
      "source": [
        "We're about to come to a pinch, though. We've said a couple of times that we rarely, if ever, know the true population parameters; we have to estimate them from our sample and we cannot even begin to estimate the standard deviation from a single observation.\n",
        "\n",
        "This is very true and usually we have sample sizes larger than one. This means we can calculate the mean of the sample as our best estimate of the population mean and the standard deviation as our best estimate of the population standard deviation.\n",
        "\n",
        "In other words, we are now coming to deal with the sampling distributions we mentioned above as we are generally concerned with the properties of the sample means we obtain.\n",
        "\n",
        "Above, we highlighted one result from the CLT, whereby the sampling distribution (of the mean) becomes narrower and narrower with the square root of the sample size. We remind ourselves that another result from the CLT is that _even if the underlying population distribution is not normal, the sampling distribution will tend to become normal with sufficiently large sample size_. (**Check out p. 199 of AoS if you need to revise this**). This is the key driver for us 'requiring' a certain sample size, for example you may frequently see a minimum sample size of 30 stated in many places. In reality this is simply a rule of thumb; if the underlying distribution is approximately normal then your sampling distribution will already be pretty normal, but if the underlying distribution is heavily skewed then you'd want to increase your sample size."
      ]
    },
    {
      "cell_type": "markdown",
      "source": [
        "---"
      ],
      "metadata": {
        "id": "SJu1iAw3AdZa"
      }
    },
    {
      "cell_type": "markdown",
      "source": [
        "## $\\small\\textbf{Q15.}$ Sample ($\\small n=50$)"
      ],
      "metadata": {
        "id": "yZPGfHahbmen"
      }
    },
    {
      "cell_type": "markdown",
      "metadata": {
        "id": "7-GhC0-lIIlh"
      },
      "source": [
        "Let's now start from the position of knowing nothing about the heights of people in our town.\n",
        "* Use the random seed of <code><b>47</b></code>, to randomly sample the heights of <code><b>50</b></code> townsfolk.\n",
        "* Estimate the population mean using <code><b>np.mean</b></code> .\n",
        "* Estimate the population standard deviation using <code><b>np.std</b></code> (remember which denominator to use!).\n",
        "* Calculate the ($95\\%$) [margin of error](https://www.statisticshowto.datasciencecentral.com/probability-and-statistics/hypothesis-testing/margin-of-error/#WhatMofE) (use the exact critial z value to 2 decimal places - [look this up](https://www.statisticshowto.datasciencecentral.com/probability-and-statistics/find-critical-values/) or use <code><b>norm.ppf</b></code>) Recall that the ***margin of error*** is mentioned on p. 189 of the *AoS* and discussed in depth in that chapter).\n",
        "* Calculate the 95% Confidence Interval of the mean (***confidence intervals*** are defined on p. 385 of *AoS*)\n",
        "* Does this interval include the true population mean?"
      ]
    },
    {
      "cell_type": "code",
      "source": [
        "seed(47)\n",
        "n = 50"
      ],
      "metadata": {
        "id": "Tjthzh8tdMNl"
      },
      "execution_count": 103,
      "outputs": []
    },
    {
      "cell_type": "code",
      "execution_count": 104,
      "metadata": {
        "id": "5IR1Ot2qIIlh"
      },
      "outputs": [],
      "source": [
        "heights_sample = np.random.choice(\n",
        "      pop_heights\n",
        "    , size = n\n",
        ")"
      ]
    },
    {
      "cell_type": "code",
      "source": [
        "print(heights_sample)"
      ],
      "metadata": {
        "colab": {
          "base_uri": "https://localhost:8080/"
        },
        "id": "2VeFchfpdfvl",
        "outputId": "36bdff28-481d-44db-d710-3359a046be06"
      },
      "execution_count": 105,
      "outputs": [
        {
          "output_type": "stream",
          "name": "stdout",
          "text": [
            "[179.04949004 168.54189384 181.71974048 176.56433733 165.91968052\n",
            " 170.65629646 179.37664509 166.40103988 177.15105034 169.41097044\n",
            " 169.96353026 175.15960886 177.08203296 175.57499516 174.54290109\n",
            " 172.47967099 168.61822612 174.73274884 170.88926244 178.27468993\n",
            " 171.52874629 173.48970606 172.0752456  172.29707499 171.58202648\n",
            " 169.84480352 178.67104246 174.28346436 174.29645483 167.42082214\n",
            " 168.57939161 169.54392578 167.58621293 176.8657094  164.25755366\n",
            " 177.38929575 171.97964488 164.94136054 177.90675289 175.2758845\n",
            " 176.64336688 169.68013675 175.41851966 171.9408919  179.69843965\n",
            " 169.93651872 169.3320981  172.17010876 171.18783138 171.14370134]\n"
          ]
        }
      ]
    },
    {
      "cell_type": "code",
      "execution_count": 106,
      "metadata": {
        "id": "Dx79NErkIIlh"
      },
      "outputs": [],
      "source": [
        "heights_sample_mean = np.mean(\n",
        "    heights_sample\n",
        ")"
      ]
    },
    {
      "cell_type": "code",
      "source": [
        "print(\n",
        "    heights_sample_mean\n",
        ")"
      ],
      "metadata": {
        "colab": {
          "base_uri": "https://localhost:8080/"
        },
        "id": "VBPlc9RdwW9F",
        "outputId": "7294c1ef-46ff-4992-ef23-ba6a76750d24"
      },
      "execution_count": 107,
      "outputs": [
        {
          "output_type": "stream",
          "name": "stdout",
          "text": [
            "172.7815108576788\n"
          ]
        }
      ]
    },
    {
      "cell_type": "code",
      "source": [
        "heights_sample_std = np.std(heights_sample) * (len(heights_sample)/((len(heights_sample)-1)))"
      ],
      "metadata": {
        "id": "zK8J-J-tPESs"
      },
      "execution_count": 108,
      "outputs": []
    },
    {
      "cell_type": "code",
      "source": [
        "print(\n",
        "    heights_sample_std\n",
        ")"
      ],
      "metadata": {
        "colab": {
          "base_uri": "https://localhost:8080/"
        },
        "id": "NQm3hfC_wbzs",
        "outputId": "bee9ad9e-6084-4c1a-eab7-d6b26fac7bb4"
      },
      "execution_count": 109,
      "outputs": [
        {
          "output_type": "stream",
          "name": "stdout",
          "text": [
            "4.23801859720889\n"
          ]
        }
      ]
    },
    {
      "cell_type": "code",
      "source": [
        "# Returns the value at the 97.5% percentile, which is approximately where the 95% window is (giving us the value to input to get our z score)\n",
        "ppf = norm.ppf(\n",
        "      0.975\n",
        "    , loc   = heights_sample_mean\n",
        "    , scale = heights_sample_std\n",
        ")"
      ],
      "metadata": {
        "id": "9e3Pg9xrxmhn"
      },
      "execution_count": 110,
      "outputs": []
    },
    {
      "cell_type": "code",
      "source": [
        "marg_error = ppf - heights_sample_mean\n",
        "print(marg_error)\n",
        "\n",
        "# Result is as expected - ppf worked as expected\n",
        "z = marg_error / heights_sample_std\n",
        "print(z)"
      ],
      "metadata": {
        "colab": {
          "base_uri": "https://localhost:8080/"
        },
        "id": "wI_Jzoglxod2",
        "outputId": "e6920416-6488-45a9-e2e7-9fad1a09e717"
      },
      "execution_count": 111,
      "outputs": [
        {
          "output_type": "stream",
          "name": "stdout",
          "text": [
            "8.306363816340394\n",
            "1.9599639845400558\n"
          ]
        }
      ]
    },
    {
      "cell_type": "code",
      "execution_count": 112,
      "metadata": {
        "colab": {
          "base_uri": "https://localhost:8080/"
        },
        "id": "JcwdURHcIIli",
        "outputId": "29ee5541-825b-463b-f686-212fe661b196"
      },
      "outputs": [
        {
          "output_type": "stream",
          "name": "stdout",
          "text": [
            "164.4751470413384 181.0878746740192\n"
          ]
        }
      ],
      "source": [
        "lower95 = heights_sample_mean - (z * heights_sample_std)\n",
        "upper95 = heights_sample_mean + (z * heights_sample_std)\n",
        "\n",
        "print(lower95, upper95)\n",
        "\n",
        "#The 95% margin of error is +/- 8.3cm.\n",
        "#We expect 95% of the values for height to be between 164.48cm and 181.09cm."
      ]
    },
    {
      "cell_type": "code",
      "execution_count": 113,
      "metadata": {
        "colab": {
          "base_uri": "https://localhost:8080/"
        },
        "id": "9QJMdUUxIIli",
        "outputId": "907cc9d7-6524-45ed-811f-a194c982e275"
      },
      "outputs": [
        {
          "output_type": "execute_result",
          "data": {
            "text/plain": [
              "array([171.60681362, 173.95620809])"
            ]
          },
          "metadata": {},
          "execution_count": 113
        }
      ],
      "source": [
        "#confidence interval for the mean using the norm.ppf function\n",
        "norm.ppf(\n",
        "      [0.025, 0.975]\n",
        "    , heights_sample_mean\n",
        "    , heights_sample_std/np.sqrt(n)\n",
        ")\n",
        "\n",
        "#the confidence interval includes the mean"
      ]
    },
    {
      "cell_type": "markdown",
      "source": [
        "---"
      ],
      "metadata": {
        "id": "N8hpIgTqAhrr"
      }
    },
    {
      "cell_type": "markdown",
      "source": [
        "### $\\small\\textbf{Q16.}$ $\\small\\textbf{critical z-value}$"
      ],
      "metadata": {
        "id": "qQDErABNfIcv"
      }
    },
    {
      "cell_type": "markdown",
      "metadata": {
        "id": "lcWXLpwhIIli"
      },
      "source": [
        "We calculated the confidence interval using the $\\small\\textbf{critical z-value}$. What is the problem with this? What requirement(s) are we (strictly) failing?"
      ]
    },
    {
      "cell_type": "markdown",
      "metadata": {
        "id": "_sI-wgXsIIli"
      },
      "source": [
        "> * Using the critical z-value to calculate a Confidence Interval (CI) assumes that the population standard deviation $\\large\\sigma$ is known. However, in many real-world scenarios, we may not have access to the $\\large\\sigma$ and must estimate it using the sample standard deviation $\\large s$.\n",
        ">\n",
        "> * The critical z-value method strictly <b>fails to provide an accurate CI when we don't know the $\\large\\sigma$.</b> In such cases, it's more appropriate to use the $\\small\\textbf{t-distribution}$ and the $\\small\\textbf{t-value}$ for the desired level of confidence, which accounts for the uncertainty in estimating the population standard deviation from the sample."
      ]
    },
    {
      "cell_type": "markdown",
      "source": [
        "---"
      ],
      "metadata": {
        "id": "V-fnWWfKAinr"
      }
    },
    {
      "cell_type": "markdown",
      "source": [
        "### $\\small\\textbf{Q17.}$ $\\small\\textbf{t-distribution}$"
      ],
      "metadata": {
        "id": "UG87Of5MfS_m"
      }
    },
    {
      "cell_type": "markdown",
      "metadata": {
        "id": "hxud5KZaIIlj"
      },
      "source": [
        "Calculate the $95\\%$ confidence interval for the mean using the $\\small\\textbf{t-distribution}$. Is this wider or narrower than that based on the normal distribution above? If you're unsure, you may find this [resource](https://www.statisticshowto.datasciencecentral.com/probability-and-statistics/confidence-interval/) useful. For calculating the critical value, remember how you could calculate this for the normal distribution using <code><b>norm.ppf()</b></code>."
      ]
    },
    {
      "cell_type": "code",
      "execution_count": null,
      "metadata": {
        "id": "5PfxBwVrIIlj"
      },
      "outputs": [],
      "source": [
        "# degrees of freedom\n",
        "df = n - 1\n",
        "\n",
        "critical_values = t.ppf(\n",
        "      [0.025, 0.975]\n",
        "    , df\n",
        ")"
      ]
    },
    {
      "cell_type": "code",
      "execution_count": null,
      "metadata": {
        "colab": {
          "base_uri": "https://localhost:8080/"
        },
        "id": "2kZMPiDgIIlj",
        "outputId": "a16a5acc-70cc-4445-f895-fd30e066dc54"
      },
      "outputs": [
        {
          "output_type": "execute_result",
          "data": {
            "text/plain": [
              "array([171.5770793 , 173.98594241])"
            ]
          },
          "metadata": {},
          "execution_count": 35
        }
      ],
      "source": [
        "heights_sample_mean + (critical_values * (heights_sample_std/np.sqrt(50)))"
      ]
    },
    {
      "cell_type": "markdown",
      "metadata": {
        "id": "SWzH6v8TIIlj"
      },
      "source": [
        "This CI (t-distribution) is slightly wider than the previous CI (normal distribution). This reflects the greater uncertainty given that we are estimating population parameters from a sample."
      ]
    },
    {
      "cell_type": "markdown",
      "source": [
        "---"
      ],
      "metadata": {
        "id": "5aENgoGeAjw7"
      }
    },
    {
      "cell_type": "markdown",
      "source": [
        "---"
      ],
      "metadata": {
        "id": "PEic1IcwAkQq"
      }
    },
    {
      "cell_type": "markdown",
      "source": [
        "---"
      ],
      "metadata": {
        "id": "BdwVz8kXAkVA"
      }
    },
    {
      "cell_type": "markdown",
      "metadata": {
        "id": "5P5gUaRdIIlk"
      },
      "source": [
        "# 4. Learning outcomes"
      ]
    },
    {
      "cell_type": "markdown",
      "metadata": {
        "id": "48AVS_3iIIlk"
      },
      "source": [
        "Having completed this project notebook, you now have hands-on experience:\n",
        "* sampling and calculating probabilities from a normal distribution\n",
        "* identifying the correct way to estimate the standard deviation of a population (the population parameter) from a sample\n",
        "* with sampling distribution and now know how the Central Limit Theorem applies\n",
        "* with how to calculate critical values and confidence intervals"
      ]
    }
  ],
  "metadata": {
    "kernelspec": {
      "display_name": "Python 3",
      "language": "python",
      "name": "python3"
    },
    "language_info": {
      "codemirror_mode": {
        "name": "ipython",
        "version": 3
      },
      "file_extension": ".py",
      "mimetype": "text/x-python",
      "name": "python",
      "nbconvert_exporter": "python",
      "pygments_lexer": "ipython3",
      "version": "3.7.3"
    },
    "colab": {
      "provenance": [],
      "toc_visible": true
    }
  },
  "nbformat": 4,
  "nbformat_minor": 0
}