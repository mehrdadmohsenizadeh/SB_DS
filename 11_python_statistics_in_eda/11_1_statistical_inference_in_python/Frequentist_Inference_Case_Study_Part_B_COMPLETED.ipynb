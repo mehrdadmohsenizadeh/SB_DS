{
  "cells": [
    {
      "cell_type": "markdown",
      "metadata": {
        "id": "lkmENhzL29Fw"
      },
      "source": [
        "# Frequentist Inference Case Study - <b>Part B</b>"
      ]
    },
    {
      "cell_type": "markdown",
      "metadata": {
        "id": "t4A0Ugl729Fz"
      },
      "source": [
        "## 1. Objectives"
      ]
    },
    {
      "cell_type": "markdown",
      "metadata": {
        "id": "MGaIfw9J29Fz"
      },
      "source": [
        "Welcome to Part B of the Frequentist inference case study! The purpose of this case study is to help you apply the concepts associated with Frequentist inference in Python. In particular, you'll practice writing Python code to apply the following statistical concepts:\n",
        "* the _z_-statistic\n",
        "* the _t_-statistic\n",
        "* the difference and relationship between the two\n",
        "* the Central Limit Theorem, including its assumptions and consequences\n",
        "* how to estimate the population mean and standard deviation from a sample\n",
        "* the concept of a sampling distribution of a test statistic, particularly for the mean\n",
        "* how to combine these concepts to calculate a confidence interval"
      ]
    },
    {
      "cell_type": "markdown",
      "metadata": {
        "id": "KfGUf4Tv29F0"
      },
      "source": [
        "In the previous notebook, we used only data from a known normal distribution. **You'll now tackle real data, rather than simulated data, and answer some relevant real-world business problems using the data.**"
      ]
    },
    {
      "cell_type": "markdown",
      "source": [
        "---"
      ],
      "metadata": {
        "id": "nIBv9BQ7BtZx"
      }
    },
    {
      "cell_type": "markdown",
      "source": [
        "---"
      ],
      "metadata": {
        "id": "VbR2WlLwBtda"
      }
    },
    {
      "cell_type": "markdown",
      "source": [
        "---"
      ],
      "metadata": {
        "id": "wj6WkYAdBtf5"
      }
    },
    {
      "cell_type": "markdown",
      "metadata": {
        "id": "uMsA4Oks29F0"
      },
      "source": [
        "## 2. Dataset: Hospital Medical Charges"
      ]
    },
    {
      "cell_type": "markdown",
      "metadata": {
        "id": "sgrTzdPS29F0"
      },
      "source": [
        "Imagine that a hospital has hired you as their data scientist. An administrator is working on the hospital's business operations plan and needs you to help them answer some business questions.\n",
        "\n",
        "In this assignment notebook, you're going to use frequentist statistical inference on a data sample to answer the questions:\n",
        "* Has the hospital's revenue stream fallen below a key threshold?\n",
        "* Are patients with insurance really charged different amounts than those without?\n",
        "\n",
        "Answering that last question with a frequentist approach makes some assumptions, and requires some knowledge, about the two groups."
      ]
    },
    {
      "cell_type": "markdown",
      "metadata": {
        "id": "GPmL5Qo_29F1"
      },
      "source": [
        "We are going to use some data on medical charges obtained from [Kaggle](https://www.kaggle.com/easonlai/sample-insurance-claim-prediction-dataset).\n",
        "\n",
        "For the purposes of this exercise, assume the observations are the result of random sampling from our single hospital. Recall that in the previous assignment, we introduced the Central Limit Theorem (CLT), and its consequence that the distributions of sample statistics approach a normal distribution as $n$ increases. The amazing thing about this is that it applies to the sampling distributions of statistics that have been calculated from even highly non-normal distributions of data! Recall, also, that hypothesis testing is very much based on making inferences about such sample statistics. You're going to rely heavily on the CLT to apply frequentist (parametric) tests to answer the questions in this notebook."
      ]
    },
    {
      "cell_type": "markdown",
      "source": [
        "## 3. Dependencies"
      ],
      "metadata": {
        "id": "PeyyzQmpmtuJ"
      }
    },
    {
      "cell_type": "code",
      "execution_count": 95,
      "metadata": {
        "id": "3alxi9x829F2"
      },
      "outputs": [],
      "source": [
        "import numpy as np\n",
        "import pandas as pd\n",
        "from scipy.stats import t\n",
        "from numpy.random import seed\n",
        "import matplotlib.pyplot as plt\n",
        "from scipy.stats import ttest_ind"
      ]
    },
    {
      "cell_type": "markdown",
      "source": [
        "## 4. Load Data"
      ],
      "metadata": {
        "id": "C6XlohCTmwuj"
      }
    },
    {
      "cell_type": "code",
      "source": [
        "from google.colab import drive\n",
        "drive.mount('/content/drive')"
      ],
      "metadata": {
        "colab": {
          "base_uri": "https://localhost:8080/"
        },
        "id": "0ErPUqFr3jtm",
        "outputId": "532837ff-9fb4-4e2c-df16-4af6b64197d5"
      },
      "execution_count": 96,
      "outputs": [
        {
          "output_type": "stream",
          "name": "stdout",
          "text": [
            "Drive already mounted at /content/drive; to attempt to forcibly remount, call drive.mount(\"/content/drive\", force_remount=True).\n"
          ]
        }
      ]
    },
    {
      "cell_type": "code",
      "source": [
        "FILE_PATH = '/content/drive/MyDrive/Colab Notebooks/data/11.1.insurance2.csv'\n",
        "medical = pd.read_csv(FILE_PATH)"
      ],
      "metadata": {
        "id": "aZvmp9eU3e-u"
      },
      "execution_count": 97,
      "outputs": []
    },
    {
      "cell_type": "markdown",
      "source": [
        "## 5. Visualize Data"
      ],
      "metadata": {
        "id": "9sgcApDHm5DQ"
      }
    },
    {
      "cell_type": "code",
      "execution_count": 98,
      "metadata": {
        "colab": {
          "base_uri": "https://localhost:8080/"
        },
        "id": "xB7Qg8fw29F3",
        "outputId": "db20334d-78fa-4f8d-a168-ed89db61d5bb"
      },
      "outputs": [
        {
          "output_type": "execute_result",
          "data": {
            "text/plain": [
              "(1338, 8)"
            ]
          },
          "metadata": {},
          "execution_count": 98
        }
      ],
      "source": [
        "medical.shape"
      ]
    },
    {
      "cell_type": "code",
      "execution_count": 99,
      "metadata": {
        "colab": {
          "base_uri": "https://localhost:8080/",
          "height": 206
        },
        "id": "DEMCOxQy29F5",
        "outputId": "0f31adc2-4cda-4f0b-c701-c6b6cd171e14"
      },
      "outputs": [
        {
          "output_type": "execute_result",
          "data": {
            "text/plain": [
              "   age  sex     bmi  children  smoker  region      charges  insuranceclaim\n",
              "0   19    0  27.900         0       1       3  16884.92400               1\n",
              "1   18    1  33.770         1       0       2   1725.55230               1\n",
              "2   28    1  33.000         3       0       2   4449.46200               0\n",
              "3   33    1  22.705         0       0       1  21984.47061               0\n",
              "4   32    1  28.880         0       0       1   3866.85520               1"
            ],
            "text/html": [
              "\n",
              "  <div id=\"df-1bdef4ea-1984-4b66-80e7-270645eae5f6\" class=\"colab-df-container\">\n",
              "    <div>\n",
              "<style scoped>\n",
              "    .dataframe tbody tr th:only-of-type {\n",
              "        vertical-align: middle;\n",
              "    }\n",
              "\n",
              "    .dataframe tbody tr th {\n",
              "        vertical-align: top;\n",
              "    }\n",
              "\n",
              "    .dataframe thead th {\n",
              "        text-align: right;\n",
              "    }\n",
              "</style>\n",
              "<table border=\"1\" class=\"dataframe\">\n",
              "  <thead>\n",
              "    <tr style=\"text-align: right;\">\n",
              "      <th></th>\n",
              "      <th>age</th>\n",
              "      <th>sex</th>\n",
              "      <th>bmi</th>\n",
              "      <th>children</th>\n",
              "      <th>smoker</th>\n",
              "      <th>region</th>\n",
              "      <th>charges</th>\n",
              "      <th>insuranceclaim</th>\n",
              "    </tr>\n",
              "  </thead>\n",
              "  <tbody>\n",
              "    <tr>\n",
              "      <th>0</th>\n",
              "      <td>19</td>\n",
              "      <td>0</td>\n",
              "      <td>27.900</td>\n",
              "      <td>0</td>\n",
              "      <td>1</td>\n",
              "      <td>3</td>\n",
              "      <td>16884.92400</td>\n",
              "      <td>1</td>\n",
              "    </tr>\n",
              "    <tr>\n",
              "      <th>1</th>\n",
              "      <td>18</td>\n",
              "      <td>1</td>\n",
              "      <td>33.770</td>\n",
              "      <td>1</td>\n",
              "      <td>0</td>\n",
              "      <td>2</td>\n",
              "      <td>1725.55230</td>\n",
              "      <td>1</td>\n",
              "    </tr>\n",
              "    <tr>\n",
              "      <th>2</th>\n",
              "      <td>28</td>\n",
              "      <td>1</td>\n",
              "      <td>33.000</td>\n",
              "      <td>3</td>\n",
              "      <td>0</td>\n",
              "      <td>2</td>\n",
              "      <td>4449.46200</td>\n",
              "      <td>0</td>\n",
              "    </tr>\n",
              "    <tr>\n",
              "      <th>3</th>\n",
              "      <td>33</td>\n",
              "      <td>1</td>\n",
              "      <td>22.705</td>\n",
              "      <td>0</td>\n",
              "      <td>0</td>\n",
              "      <td>1</td>\n",
              "      <td>21984.47061</td>\n",
              "      <td>0</td>\n",
              "    </tr>\n",
              "    <tr>\n",
              "      <th>4</th>\n",
              "      <td>32</td>\n",
              "      <td>1</td>\n",
              "      <td>28.880</td>\n",
              "      <td>0</td>\n",
              "      <td>0</td>\n",
              "      <td>1</td>\n",
              "      <td>3866.85520</td>\n",
              "      <td>1</td>\n",
              "    </tr>\n",
              "  </tbody>\n",
              "</table>\n",
              "</div>\n",
              "    <div class=\"colab-df-buttons\">\n",
              "\n",
              "  <div class=\"colab-df-container\">\n",
              "    <button class=\"colab-df-convert\" onclick=\"convertToInteractive('df-1bdef4ea-1984-4b66-80e7-270645eae5f6')\"\n",
              "            title=\"Convert this dataframe to an interactive table.\"\n",
              "            style=\"display:none;\">\n",
              "\n",
              "  <svg xmlns=\"http://www.w3.org/2000/svg\" height=\"24px\" viewBox=\"0 -960 960 960\">\n",
              "    <path d=\"M120-120v-720h720v720H120Zm60-500h600v-160H180v160Zm220 220h160v-160H400v160Zm0 220h160v-160H400v160ZM180-400h160v-160H180v160Zm440 0h160v-160H620v160ZM180-180h160v-160H180v160Zm440 0h160v-160H620v160Z\"/>\n",
              "  </svg>\n",
              "    </button>\n",
              "\n",
              "  <style>\n",
              "    .colab-df-container {\n",
              "      display:flex;\n",
              "      gap: 12px;\n",
              "    }\n",
              "\n",
              "    .colab-df-convert {\n",
              "      background-color: #E8F0FE;\n",
              "      border: none;\n",
              "      border-radius: 50%;\n",
              "      cursor: pointer;\n",
              "      display: none;\n",
              "      fill: #1967D2;\n",
              "      height: 32px;\n",
              "      padding: 0 0 0 0;\n",
              "      width: 32px;\n",
              "    }\n",
              "\n",
              "    .colab-df-convert:hover {\n",
              "      background-color: #E2EBFA;\n",
              "      box-shadow: 0px 1px 2px rgba(60, 64, 67, 0.3), 0px 1px 3px 1px rgba(60, 64, 67, 0.15);\n",
              "      fill: #174EA6;\n",
              "    }\n",
              "\n",
              "    .colab-df-buttons div {\n",
              "      margin-bottom: 4px;\n",
              "    }\n",
              "\n",
              "    [theme=dark] .colab-df-convert {\n",
              "      background-color: #3B4455;\n",
              "      fill: #D2E3FC;\n",
              "    }\n",
              "\n",
              "    [theme=dark] .colab-df-convert:hover {\n",
              "      background-color: #434B5C;\n",
              "      box-shadow: 0px 1px 3px 1px rgba(0, 0, 0, 0.15);\n",
              "      filter: drop-shadow(0px 1px 2px rgba(0, 0, 0, 0.3));\n",
              "      fill: #FFFFFF;\n",
              "    }\n",
              "  </style>\n",
              "\n",
              "    <script>\n",
              "      const buttonEl =\n",
              "        document.querySelector('#df-1bdef4ea-1984-4b66-80e7-270645eae5f6 button.colab-df-convert');\n",
              "      buttonEl.style.display =\n",
              "        google.colab.kernel.accessAllowed ? 'block' : 'none';\n",
              "\n",
              "      async function convertToInteractive(key) {\n",
              "        const element = document.querySelector('#df-1bdef4ea-1984-4b66-80e7-270645eae5f6');\n",
              "        const dataTable =\n",
              "          await google.colab.kernel.invokeFunction('convertToInteractive',\n",
              "                                                    [key], {});\n",
              "        if (!dataTable) return;\n",
              "\n",
              "        const docLinkHtml = 'Like what you see? Visit the ' +\n",
              "          '<a target=\"_blank\" href=https://colab.research.google.com/notebooks/data_table.ipynb>data table notebook</a>'\n",
              "          + ' to learn more about interactive tables.';\n",
              "        element.innerHTML = '';\n",
              "        dataTable['output_type'] = 'display_data';\n",
              "        await google.colab.output.renderOutput(dataTable, element);\n",
              "        const docLink = document.createElement('div');\n",
              "        docLink.innerHTML = docLinkHtml;\n",
              "        element.appendChild(docLink);\n",
              "      }\n",
              "    </script>\n",
              "  </div>\n",
              "\n",
              "\n",
              "<div id=\"df-3ae10440-ee7d-403f-9580-66eece89d834\">\n",
              "  <button class=\"colab-df-quickchart\" onclick=\"quickchart('df-3ae10440-ee7d-403f-9580-66eece89d834')\"\n",
              "            title=\"Suggest charts\"\n",
              "            style=\"display:none;\">\n",
              "\n",
              "<svg xmlns=\"http://www.w3.org/2000/svg\" height=\"24px\"viewBox=\"0 0 24 24\"\n",
              "     width=\"24px\">\n",
              "    <g>\n",
              "        <path d=\"M19 3H5c-1.1 0-2 .9-2 2v14c0 1.1.9 2 2 2h14c1.1 0 2-.9 2-2V5c0-1.1-.9-2-2-2zM9 17H7v-7h2v7zm4 0h-2V7h2v10zm4 0h-2v-4h2v4z\"/>\n",
              "    </g>\n",
              "</svg>\n",
              "  </button>\n",
              "\n",
              "<style>\n",
              "  .colab-df-quickchart {\n",
              "      --bg-color: #E8F0FE;\n",
              "      --fill-color: #1967D2;\n",
              "      --hover-bg-color: #E2EBFA;\n",
              "      --hover-fill-color: #174EA6;\n",
              "      --disabled-fill-color: #AAA;\n",
              "      --disabled-bg-color: #DDD;\n",
              "  }\n",
              "\n",
              "  [theme=dark] .colab-df-quickchart {\n",
              "      --bg-color: #3B4455;\n",
              "      --fill-color: #D2E3FC;\n",
              "      --hover-bg-color: #434B5C;\n",
              "      --hover-fill-color: #FFFFFF;\n",
              "      --disabled-bg-color: #3B4455;\n",
              "      --disabled-fill-color: #666;\n",
              "  }\n",
              "\n",
              "  .colab-df-quickchart {\n",
              "    background-color: var(--bg-color);\n",
              "    border: none;\n",
              "    border-radius: 50%;\n",
              "    cursor: pointer;\n",
              "    display: none;\n",
              "    fill: var(--fill-color);\n",
              "    height: 32px;\n",
              "    padding: 0;\n",
              "    width: 32px;\n",
              "  }\n",
              "\n",
              "  .colab-df-quickchart:hover {\n",
              "    background-color: var(--hover-bg-color);\n",
              "    box-shadow: 0 1px 2px rgba(60, 64, 67, 0.3), 0 1px 3px 1px rgba(60, 64, 67, 0.15);\n",
              "    fill: var(--button-hover-fill-color);\n",
              "  }\n",
              "\n",
              "  .colab-df-quickchart-complete:disabled,\n",
              "  .colab-df-quickchart-complete:disabled:hover {\n",
              "    background-color: var(--disabled-bg-color);\n",
              "    fill: var(--disabled-fill-color);\n",
              "    box-shadow: none;\n",
              "  }\n",
              "\n",
              "  .colab-df-spinner {\n",
              "    border: 2px solid var(--fill-color);\n",
              "    border-color: transparent;\n",
              "    border-bottom-color: var(--fill-color);\n",
              "    animation:\n",
              "      spin 1s steps(1) infinite;\n",
              "  }\n",
              "\n",
              "  @keyframes spin {\n",
              "    0% {\n",
              "      border-color: transparent;\n",
              "      border-bottom-color: var(--fill-color);\n",
              "      border-left-color: var(--fill-color);\n",
              "    }\n",
              "    20% {\n",
              "      border-color: transparent;\n",
              "      border-left-color: var(--fill-color);\n",
              "      border-top-color: var(--fill-color);\n",
              "    }\n",
              "    30% {\n",
              "      border-color: transparent;\n",
              "      border-left-color: var(--fill-color);\n",
              "      border-top-color: var(--fill-color);\n",
              "      border-right-color: var(--fill-color);\n",
              "    }\n",
              "    40% {\n",
              "      border-color: transparent;\n",
              "      border-right-color: var(--fill-color);\n",
              "      border-top-color: var(--fill-color);\n",
              "    }\n",
              "    60% {\n",
              "      border-color: transparent;\n",
              "      border-right-color: var(--fill-color);\n",
              "    }\n",
              "    80% {\n",
              "      border-color: transparent;\n",
              "      border-right-color: var(--fill-color);\n",
              "      border-bottom-color: var(--fill-color);\n",
              "    }\n",
              "    90% {\n",
              "      border-color: transparent;\n",
              "      border-bottom-color: var(--fill-color);\n",
              "    }\n",
              "  }\n",
              "</style>\n",
              "\n",
              "  <script>\n",
              "    async function quickchart(key) {\n",
              "      const quickchartButtonEl =\n",
              "        document.querySelector('#' + key + ' button');\n",
              "      quickchartButtonEl.disabled = true;  // To prevent multiple clicks.\n",
              "      quickchartButtonEl.classList.add('colab-df-spinner');\n",
              "      try {\n",
              "        const charts = await google.colab.kernel.invokeFunction(\n",
              "            'suggestCharts', [key], {});\n",
              "      } catch (error) {\n",
              "        console.error('Error during call to suggestCharts:', error);\n",
              "      }\n",
              "      quickchartButtonEl.classList.remove('colab-df-spinner');\n",
              "      quickchartButtonEl.classList.add('colab-df-quickchart-complete');\n",
              "    }\n",
              "    (() => {\n",
              "      let quickchartButtonEl =\n",
              "        document.querySelector('#df-3ae10440-ee7d-403f-9580-66eece89d834 button');\n",
              "      quickchartButtonEl.style.display =\n",
              "        google.colab.kernel.accessAllowed ? 'block' : 'none';\n",
              "    })();\n",
              "  </script>\n",
              "</div>\n",
              "\n",
              "    </div>\n",
              "  </div>\n"
            ]
          },
          "metadata": {},
          "execution_count": 99
        }
      ],
      "source": [
        "medical.head()"
      ]
    },
    {
      "cell_type": "markdown",
      "source": [
        "## Target Variable"
      ],
      "metadata": {
        "id": "0bxrop4-4Bo2"
      }
    },
    {
      "cell_type": "code",
      "source": [
        "target = medical['charges']"
      ],
      "metadata": {
        "id": "gOGDbjbvwmoY"
      },
      "execution_count": 100,
      "outputs": []
    },
    {
      "cell_type": "markdown",
      "source": [
        "---"
      ],
      "metadata": {
        "id": "Dz_oXL34BrXP"
      }
    },
    {
      "cell_type": "markdown",
      "source": [
        "## $\\small\\textbf{Q1.}$ EDA"
      ],
      "metadata": {
        "id": "CcALLF3p9np6"
      }
    },
    {
      "cell_type": "markdown",
      "metadata": {
        "id": "NWu_uYAk29F5"
      },
      "source": [
        "Plot the histogram of charges and calculate the mean and standard deviation. Comment on the appropriateness of these statistics for the data."
      ]
    },
    {
      "cell_type": "code",
      "source": [
        "# Calculate mean, median, and standard deviation\n",
        "mean    = np.mean(target)\n",
        "median  = np.median(target)\n",
        "std_dev = np.std(target)"
      ],
      "metadata": {
        "id": "jMVVK6te6-yk"
      },
      "execution_count": 101,
      "outputs": []
    },
    {
      "cell_type": "code",
      "execution_count": 102,
      "metadata": {
        "colab": {
          "base_uri": "https://localhost:8080/"
        },
        "id": "OYGnULYN29F6",
        "outputId": "d074849e-84a4-4611-dafd-966fa5fdcba8"
      },
      "outputs": [
        {
          "output_type": "stream",
          "name": "stdout",
          "text": [
            "Mean = 13270.422265141257\n",
            "Median = 9382.033\n",
            "Standard Deviation = 12105.484975561612\n"
          ]
        }
      ],
      "source": [
        "print(f\"Mean = {mean}\")\n",
        "print(f\"Median = {median}\")\n",
        "print(f\"Standard Deviation = {std_dev }\")"
      ]
    },
    {
      "cell_type": "code",
      "execution_count": 103,
      "metadata": {
        "colab": {
          "base_uri": "https://localhost:8080/",
          "height": 575
        },
        "id": "h5o-aOXk29F6",
        "outputId": "2d0fc12b-80c2-4b29-a85a-e69e20658015"
      },
      "outputs": [
        {
          "output_type": "display_data",
          "data": {
            "text/plain": [
              "<Figure size 1000x600 with 1 Axes>"
            ],
            "image/png": "[encoded data removed]"
          },
          "metadata": {}
        }
      ],
      "source": [
        "# Create a histogram with customizations\n",
        "plt.figure(figsize=(10, 6))  # Set the figure size\n",
        "\n",
        "# Plot the histogram\n",
        "plt.hist(target, bins=20, edgecolor='k', color='lightblue', alpha=0.7)\n",
        "\n",
        "# Add labels and a title\n",
        "plt.xlabel('Charges ($)', fontsize=14, fontweight='bold')\n",
        "plt.ylabel('Number of Patients', fontsize=14, fontweight='bold')\n",
        "plt.title('Distribution of Medical Charges', fontsize=16, fontweight='bold')\n",
        "\n",
        "# Customize the ticks and grid\n",
        "plt.xticks(fontsize=12)\n",
        "plt.yticks(fontsize=12)\n",
        "plt.grid(axis='y', linestyle='--', alpha=0.6)\n",
        "\n",
        "# Add vertical lines for mean and standard deviation\n",
        "plt.axvline(mean + 0 * std_dev, color='red' , linestyle='--', linewidth=2, alpha=0.7, label=f'Mean')\n",
        "plt.axvline(median            , color='green', linestyle=':', linewidth=2, alpha=0.7, label=f'Median')\n",
        "plt.axvline(mean + 1 * std_dev, color='blue', linestyle='-.', linewidth=2, alpha=0.7, label=f'Standard Deviation')\n",
        "plt.axvline(mean - 1 * std_dev, color='blue', linestyle='-.', linewidth=2, alpha=0.7)\n",
        "\n",
        "# Show a legend\n",
        "plt.legend()\n",
        "\n",
        "# Show the plot\n",
        "plt.show()\n"
      ]
    },
    {
      "cell_type": "markdown",
      "source": [
        "---"
      ],
      "metadata": {
        "id": "RzG8mof7Bo9u"
      }
    },
    {
      "cell_type": "markdown",
      "source": [
        "## $\\small\\textbf{Q2.}$ Assessing concerns about average charges and selecting the most suitable Frequentist Test"
      ],
      "metadata": {
        "id": "gaz14Uvy80Gp"
      }
    },
    {
      "cell_type": "markdown",
      "metadata": {
        "id": "Bt1Lx8uZ29F7"
      },
      "source": [
        "The administrator is concerned that the actual average charge has fallen below $\\$12,000$, threatening the hospital's operational model. On the assumption that these data represent a random sample of charges, how would you justify that these data allow you to answer that question? And what would be the most appropriate frequentist test, of the ones discussed so far, to apply?"
      ]
    },
    {
      "cell_type": "markdown",
      "metadata": {
        "id": "8Ne4vxDd29F7"
      },
      "source": [
        "><font color=\"grey\" size=\"3\">\n",
        "> We can leverage the principles of the Central Limit Theorem in conjunction with the t-distribution to establish a $95\\%$ confidence interval for the population mean of charges. Our computed sample mean, which slightly exceeds $\\$13,270$, serves as the point estimate. Should the value of $\\$12,000$ fall beyond this confidence interval, we can assert with statistical confidence that the true population mean charge does not descend to such a low level.\n",
        "</font>"
      ]
    },
    {
      "cell_type": "markdown",
      "source": [
        "---"
      ],
      "metadata": {
        "id": "lHUbp2USBoIl"
      }
    },
    {
      "cell_type": "markdown",
      "source": [
        "## $\\small\\textbf{Q3.}$ Determining the appropriate Confidence Interval and Significance for administrator's concerns"
      ],
      "metadata": {
        "id": "GeawbhDs9Tqa"
      }
    },
    {
      "cell_type": "markdown",
      "metadata": {
        "id": "2OZ_XUPo29F7"
      },
      "source": [
        "Given the nature of the administrator's concern, what is the appropriate confidence interval in this case? A ***one-sided*** or ***two-sided*** interval? (Refresh your understanding of this concept on p. 399 of the *AoS*). Calculate the critical value and the relevant 95% confidence interval for the mean, and comment on whether the administrator should be concerned."
      ]
    },
    {
      "cell_type": "markdown",
      "metadata": {
        "id": "f6hbH3x529F7"
      },
      "source": [
        "> <font color=\"grey\" size=\"3\">\n",
        "> Considering the administrator's concern and the nature of the question, it is appropriate to employ a one-sided confidence interval. The rationale behind this choice is that the administrator is specifically concerned about the possibility of the mean charge being below a certain threshold ($\\$12,000$), and we are not interested in investigating both sides of the mean.\n",
        "> </font>\n",
        "> <font color=\"grey\" size=\"3\">\n",
        ">\n",
        "> To calculate the critical value for this one-sided $95\\%$ confidence interval, we would need to use the t-distribution. With the given sample data and sample mean ($\\$13,270$), we can calculate the standard error of the mean and determine the appropriate t-value for a $95\\%$ confidence level with a one-tailed test.\n",
        "> </font>\n",
        "> <font color=\"grey\" size=\"3\">\n",
        ">\n",
        "> After obtaining the critical t-value, we can construct the lower limit of the one-sided $95\\%$ confidence interval. If this lower limit is below $\\$12,000$, it would indicate that there is a statistically significant reason for concern, suggesting that the true population mean charge may indeed fall below $\\$12,000$. On the other hand, if the lower limit is above $\\$12,000$, the administrator's concern may not be statistically justified, and it would provide evidence that the true mean charge is likely higher than $\\$12,000$.\n",
        "> </font>\n",
        "> <font color=\"grey\" size=\"3\">\n",
        ">\n",
        "> In conclusion, the use of a one-sided confidence interval and subsequent calculations will help determine whether the administrator's concern is statistically warranted, providing a more rigorous and precise answer to their question.\n",
        "</font>"
      ]
    },
    {
      "cell_type": "code",
      "execution_count": 104,
      "metadata": {
        "id": "1XxKyOsZ29F7"
      },
      "outputs": [],
      "source": [
        "n = len(target)\n",
        "df = n-1\n",
        "crit_value = t.ppf(0.95, df)"
      ]
    },
    {
      "cell_type": "code",
      "execution_count": 105,
      "metadata": {
        "colab": {
          "base_uri": "https://localhost:8080/"
        },
        "id": "waFnlRqR29F8",
        "outputId": "04fa4046-c99d-46f7-f696-f28ce6ce739b"
      },
      "outputs": [
        {
          "output_type": "stream",
          "name": "stdout",
          "text": [
            "12725.690859802162\n"
          ]
        }
      ],
      "source": [
        "lower95 = np.mean(target) - (crit_value/np.sqrt(n))*np.std(target)\n",
        "print(lower95)"
      ]
    },
    {
      "cell_type": "markdown",
      "source": [
        "> <font color=\"grey\" size=\"3\">\n",
        ">\n",
        "> The administrator's concern can be alleviated based on the statistical analysis. By calculating a one-sided $95\\%$ confidence interval for the mean charge, we obtain a lower limit of $\\$12,725.7$. This lower limit represents the threshold below which the true population mean charge is highly unlikely to fall. In other words, there is strong statistical evidence that the mean charge has not decreased to $\\$12,000$.\n",
        "</font>\n",
        "> <font color=\"grey\" size=\"3\">\n",
        ">\n",
        "> This conclusion is drawn from the principles of statistical hypothesis testing and confidence intervals, which provide a rigorous framework for assessing the probability of the population parameter (mean charge, in this case) lying within a specified range. In this instance, the lower limit of the confidence interval, $\\$12,725.7$, indicates a level of confidence such that the true mean charge is expected to be greater than $\\$12,000$ with a high degree of certainty, assuaging the administrator's concern from a scientific standpoint.\n",
        "</font>\n"
      ],
      "metadata": {
        "id": "kWQLIQsZ29F8"
      }
    },
    {
      "cell_type": "markdown",
      "source": [
        "---"
      ],
      "metadata": {
        "id": "P_xrMUksBnIg"
      }
    },
    {
      "cell_type": "markdown",
      "source": [
        "## $\\small\\textbf{Q4.}$ Hypothesis testing for differences in medical charges: Insurance vs. No Insurance"
      ],
      "metadata": {
        "id": "13gTJCMu9dKz"
      }
    },
    {
      "cell_type": "markdown",
      "metadata": {
        "id": "N3b_x_d729F8"
      },
      "source": [
        "The administrator then wants to know whether people with insurance really are charged a different amount to those without.\n",
        "\n",
        "State the null and alternative hypothesis here. Use the _t_-test for the difference between means, where the pooled standard deviation of the two groups is given by:\n",
        "\n",
        "<br>\n",
        "\n",
        "\\begin{equation}\n",
        "s_p = \\sqrt{\\frac{(n_0 - 1)s^2_0 + (n_1 - 1)s^2_1}{n_0 + n_1 - 2}}\n",
        "\\end{equation}\n",
        "\n",
        "and the *t*-test statistic is then given by:\n",
        "\n",
        "<br>\n",
        "\n",
        "\\begin{equation}\n",
        "t = \\frac{\\bar{x}_0 - \\bar{x}_1}{s_p \\sqrt{\\Large\\frac{1}{n_0} \\normalsize{+} \\Large\\frac{1}{n_1}}}.\n",
        "\\end{equation}\n",
        "<br>\n",
        "(If you need some reminding of the general definition of ***t-statistic***, check out the definition on p. 404 of *AoS*).\n",
        "\n",
        "What assumption about the variances of the two groups are we making here?"
      ]
    },
    {
      "cell_type": "markdown",
      "metadata": {
        "id": "PQ3TT0GRx6ph"
      },
      "source": [
        "> <font color=\"grey\" size=\"3\">\n",
        "> <font color=\"black\" size=\"4\"><b>Null and Alternative Hypotheses</b></font>\n",
        ">\n",
        "> To investigating whether individuals with insurance are charged a significantly different amount compared to those without insurance, we formulate the null hypothesis ($H0$) and the alternative hypothesis ($Ha$) as below:\n",
        "> </font>\n",
        ">\n",
        "> <b> Null Hypothesis ($H0$)</b>\n",
        ">\n",
        "> <font color=\"grey\" size=\"3\">\n",
        "> There is no significant difference in the mean medical charges between individuals with insurance ($\\mu_0$) and those without insurance ($\\mu_1$). Mathematically, this can be expressed as:\n",
        ">\n",
        "> $H0 : \\mu_0 - \\mu_1 = 0$\n",
        "> </font>\n",
        ">\n",
        "> <b> Alternative Hypothesis ($Ha$)</b>\n",
        ">\n",
        "> <font color=\"grey\" size=\"3\">\n",
        "> There is a significant difference in the mean medical charges between individuals with insurance and those without insurance. Mathematically, this can be expressed as:\n",
        ">\n",
        "> $Ha : \\mu_0 - \\mu_1 \\neq 0$\n",
        "> </font>"
      ]
    },
    {
      "cell_type": "markdown",
      "metadata": {
        "id": "RnDJHTiB0xDf"
      },
      "source": [
        "> <font color=\"grey\" size=\"3\">\n",
        "> <font color=\"black\" size=\"4\"><b>Assumption about Variances</b></font>\n",
        ">\n",
        "> In the t-test for the difference between means, we make the assumption that the variances of the two groups (individuals with and without insurance) are approximately equal. This assumption is known as the $\\small\\textbf{assumption of homogeneity of variances}$ or $\\small\\textbf{homoscedasticity}$.\n",
        "> </font>\n",
        ">\n",
        "> <font color=\"grey\" size=\"3\">\n",
        "> It implies that the spread or dispersion of medical charges is similar in both groups. Violations of this assumption can affect the validity of the t-test results. In such cases, we can perform additional tests, such as Levene's test, to assess the equality of variances when this assumption is in doubt.\n",
        "> </font>"
      ]
    },
    {
      "cell_type": "markdown",
      "source": [
        "---"
      ],
      "metadata": {
        "id": "mlbqVZwuBf95"
      }
    },
    {
      "cell_type": "markdown",
      "source": [
        "## $\\small\\textbf{Q5.}$ Hypothesis Testing: Manual calculation vs <code><b>scipy.stats</b></code> for independent samples t-Test"
      ],
      "metadata": {
        "id": "9-9eXiknB6pC"
      }
    },
    {
      "cell_type": "markdown",
      "metadata": {
        "id": "hWnr8ooT29F8"
      },
      "source": [
        "Perform this hypothesis test both manually, using the above formula, and then using the appropriate function from [scipy.stats](https://docs.scipy.org/doc/scipy/reference/stats.html#statistical-tests) (hint, you're looking for a function to perform a _t_-test on two independent samples). For the manual approach, calculate the value of the test statistic and then its probability (the p-value). Verify you get the same results from both."
      ]
    },
    {
      "cell_type": "code",
      "execution_count": 106,
      "metadata": {
        "id": "ChY-h0B129F9"
      },
      "outputs": [],
      "source": [
        "insured, uninsured = target[medical['insuranceclaim'] == 1], target.loc[medical['insuranceclaim'] == 0]\n",
        "\n",
        "n0, n1       = len(insured), len(uninsured)\n",
        "s0, s1       = np.std(insured), np.std(uninsured)\n",
        "x0bar, x1bar = np.mean(insured), np.mean(uninsured)"
      ]
    },
    {
      "cell_type": "code",
      "execution_count": 107,
      "metadata": {
        "colab": {
          "base_uri": "https://localhost:8080/"
        },
        "id": "I94HoiNO29F9",
        "outputId": "97219e62-4607-4152-9bb6-eceb781b503b"
      },
      "outputs": [
        {
          "output_type": "stream",
          "name": "stdout",
          "text": [
            "Mean (insured)   = 16423.928276537677\n",
            "Mean (uninsured) = 8821.421892306305\n",
            "STD (insured)    = 14036.956250260417\n",
            "STD (uninsured)  = 6440.699841605235\n"
          ]
        }
      ],
      "source": [
        "print(f\"Mean (insured)   = {x0bar}\")\n",
        "print(f\"Mean (uninsured) = {x1bar}\")\n",
        "print(f\"STD (insured)    = {s0}\")\n",
        "print(f\"STD (uninsured)  = {s1}\")"
      ]
    },
    {
      "cell_type": "markdown",
      "source": [
        "### 1. Calculated manually"
      ],
      "metadata": {
        "id": "VyTbMQ5F3N7G"
      }
    },
    {
      "cell_type": "code",
      "source": [
        "df = n0 + n1 - 2"
      ],
      "metadata": {
        "id": "BbVJzA2jJfbN"
      },
      "execution_count": 108,
      "outputs": []
    },
    {
      "cell_type": "code",
      "execution_count": 109,
      "metadata": {
        "colab": {
          "base_uri": "https://localhost:8080/"
        },
        "id": "nyAnfSFS29F9",
        "outputId": "4cdb3a14-519b-41ca-afda-60c11694628b"
      },
      "outputs": [
        {
          "output_type": "stream",
          "name": "stdout",
          "text": [
            "pooled STD = 11512.282899205748\n"
          ]
        }
      ],
      "source": [
        "sp = np.sqrt(((n0-1) * s0**2 + (n1-1) * s1**2) / df)\n",
        "print(f\"pooled STD = {sp}\")"
      ]
    },
    {
      "cell_type": "code",
      "source": [
        "t_stat_manual  = (x0bar - x1bar) / (sp * np.sqrt(1/n0 + 1/n1))\n",
        "p_value_manual = 2 * (1 - t.cdf(np.abs(t_stat_manual), df))\n",
        "\n",
        "print(f\"t-statistic = {t_stat_manual}\")\n",
        "print(f\"p-value     =  {p_value_manual}\")"
      ],
      "metadata": {
        "colab": {
          "base_uri": "https://localhost:8080/"
        },
        "id": "OVg6nSlt9yiA",
        "outputId": "b2c6ba6b-16e2-4052-dafc-a626e4844785"
      },
      "execution_count": 118,
      "outputs": [
        {
          "output_type": "stream",
          "name": "stdout",
          "text": [
            "t-statistic = 11.901306943555388\n",
            "p-value     =  0.0\n"
          ]
        }
      ]
    },
    {
      "cell_type": "markdown",
      "source": [
        "### 2. Calculated using SciPy"
      ],
      "metadata": {
        "id": "8R4OtCRb3Zgr"
      }
    },
    {
      "cell_type": "code",
      "execution_count": 119,
      "metadata": {
        "colab": {
          "base_uri": "https://localhost:8080/"
        },
        "id": "KvaIfJTe29F9",
        "outputId": "8af91ca8-b4ea-470c-b626-837b0465794f"
      },
      "outputs": [
        {
          "output_type": "stream",
          "name": "stdout",
          "text": [
            "t-statistic = 11.893299030876712\n",
            "p-value     = 4.461230231620717e-31\n"
          ]
        }
      ],
      "source": [
        "# Perform a t-test on insured and uninsured individuals\n",
        "t_stat, p_value = ttest_ind(insured, uninsured)\n",
        "\n",
        "# Print the t-statistic and p-value\n",
        "print(f\"t-statistic = {t_stat}\")\n",
        "print(f\"p-value     = {p_value}\")"
      ]
    },
    {
      "cell_type": "markdown",
      "metadata": {
        "id": "ovm-8VRw29F9"
      },
      "source": [
        "Congratulations! Hopefully you got the exact same numerical results. This shows that you correctly calculated the numbers by hand. Secondly, you used the correct function and saw that it's much easier to use. All you need to do is pass your data to it."
      ]
    },
    {
      "cell_type": "markdown",
      "source": [
        "---"
      ],
      "metadata": {
        "id": "GwAEYvCVBiBf"
      }
    },
    {
      "cell_type": "markdown",
      "source": [
        "## $\\small\\textbf{Q6.}$ Exploring statistical test functions in <code><b>scipy.stats</b></code>: Comparing t-Tests and Z-Tests"
      ],
      "metadata": {
        "id": "GcAG3x2WB-dx"
      }
    },
    {
      "cell_type": "markdown",
      "metadata": {
        "id": "zfuewINn29F-"
      },
      "source": [
        "Conceptual question: look through the documentation for statistical test functions in scipy.stats. You'll see the above _t_-test for a sample, but can you see an equivalent one for performing a *z*-test from a sample? Comment on your answer."
      ]
    },
    {
      "cell_type": "markdown",
      "metadata": {
        "id": "8OTr_70sBHv4"
      },
      "source": [
        "> <font color=\"grey\" size=\"3\">\n",
        "> Scipy's <code><b>scipy.stats</b></code> module primarily provides functions for performing t-tests on sample data but does not include a direct equivalent for performing a z-test from a sample. The primary reason for this is that the z-test typically requires knowledge of population parameters (e.g., population standard deviation) and is often used when working with larger sample sizes or when the population distribution is known.\n",
        "> </font>\n",
        "> <font color=\"grey\" size=\"3\">\n",
        ">\n",
        "> In contrast, the t-test is designed for cases where you do not know the population standard deviation and relies on the sample standard deviation to estimate it. The t-test is more robust in situations where the sample size is small, and the population standard deviation is unknown.\n",
        "> </font>\n",
        "> <font color=\"grey\" size=\"3\">\n",
        ">\n",
        "> To perform a z-test from a sample in Scipy, we would typically calculate the test statistic manually using the sample mean, sample standard deviation, and the known population parameters (if available), and then use standard normal distribution functions (e.g., <code><b>scipy.stats.norm.cdf</b></code>) to obtain the p-value.\n",
        "> </font>"
      ]
    },
    {
      "cell_type": "markdown",
      "source": [
        "---"
      ],
      "metadata": {
        "id": "OZ5zMEmHBj1I"
      }
    },
    {
      "cell_type": "markdown",
      "source": [
        "---"
      ],
      "metadata": {
        "id": "MF6ZoNY0BlZJ"
      }
    },
    {
      "cell_type": "markdown",
      "source": [
        "---"
      ],
      "metadata": {
        "id": "KMHDStJjBlcR"
      }
    },
    {
      "cell_type": "markdown",
      "metadata": {
        "id": "J-PPkRo-29F-"
      },
      "source": [
        "## Conclusions"
      ]
    },
    {
      "cell_type": "markdown",
      "metadata": {
        "id": "OQ714rHR29F-"
      },
      "source": [
        "Having completed this project notebook, you now have good hands-on experience:\n",
        "* using the central limit theorem to help you apply frequentist techniques to answer questions that pertain to very non-normally distributed data from the real world\n",
        "* performing inference using such data to answer business questions\n",
        "* forming a hypothesis and framing the null and alternative hypotheses\n",
        "* testing this using a _t_-test"
      ]
    }
  ],
  "metadata": {
    "kernelspec": {
      "display_name": "Python 3",
      "language": "python",
      "name": "python3"
    },
    "language_info": {
      "codemirror_mode": {
        "name": "ipython",
        "version": 3
      },
      "file_extension": ".py",
      "mimetype": "text/x-python",
      "name": "python",
      "nbconvert_exporter": "python",
      "pygments_lexer": "ipython3",
      "version": "3.7.3"
    },
    "colab": {
      "provenance": [],
      "toc_visible": true
    }
  },
  "nbformat": 4,
  "nbformat_minor": 0
}