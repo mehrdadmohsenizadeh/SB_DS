{
  "cells": [
    {
      "cell_type": "markdown",
      "source": [
        "# Introduction"
      ],
      "metadata": {
        "id": "V6qPu0OQO9na"
      }
    },
    {
      "cell_type": "markdown",
      "source": [
        "## Linear Regression\n",
        "\n",
        "* Gradients were previously discussed in the context of the <b>gradient descent</b> algorithm for fitting linear regression models.\n",
        "\n",
        "* For a regression model with $n$ parameters, it defines an $n+1$ dimensional space, encompassing all parameters and the cost/loss function.\n",
        "\n",
        "* The combination of parameters and the loss function defines a <b>surface</b> within this space.\n",
        "\n",
        "* Fitting the regression model involves descending along the steepest <i>downhill</i> gradient until the lowest (i.e., minimum) point of the surface is reached, where all possible gradients become <i>uphill</i>.\n",
        "\n",
        "* The final model comprises the parameter estimates corresponding to that location on the surface."
      ],
      "metadata": {
        "id": "jm-YXsL8uhF2"
      }
    },
    {
      "cell_type": "markdown",
      "metadata": {
        "id": "IXO1tobzRz8R",
        "run_control": {
          "frozen": false,
          "read_only": false
        }
      },
      "source": [
        "## Gradient Boosting\n",
        "\n",
        "> <b>NOTE:</b> Throughout all iterations of the gradient descent algorithm for <b>linear regression</b>, one thing remains constant: The underlying data used to estimate the parameters and calculate the loss function <i>never changes</i>. In <b>gradient boosting</b>, however, the underlying data <i>do change</i>.  \n",
        "\n",
        "* In the Gradient Boosting, with each decision tree iteration, we extract the <b>residuals</b>.\n",
        "A new decision tree is then run, using these residuals as the outcome to predict.\n",
        "\n",
        "* After reaching a <b>stopping point</b>, we aggregate (i.e, sum) the predicted values from <i>all</i> decision trees to form the final gradient-boosted prediction.\n",
        "\n",
        "* Gradient boosting can work on any combination of loss function and model type, as long as we can calculate the derivatives of the loss function with respect to the model parameters.\n",
        "\n",
        "* Most commonly, gradient boosting uses decision trees, and minimizes either the  <b>residual (regression trees)</b> or the <b>negative log-likelihood (classification trees)</b> .  "
      ]
    },
    {
      "cell_type": "markdown",
      "source": [
        "# Dependencies"
      ],
      "metadata": {
        "id": "RY-HdgZxO217"
      }
    },
    {
      "cell_type": "code",
      "execution_count": 1,
      "metadata": {
        "id": "DX307zY7Rz8L"
      },
      "outputs": [],
      "source": [
        "import re\n",
        "import scipy\n",
        "import numpy as np\n",
        "import pandas as pd\n",
        "import seaborn as sns\n",
        "import matplotlib as mpl\n",
        "import plotly.express as px\n",
        "import matplotlib.pyplot as plt\n",
        "from IPython.display import Image\n",
        "import plotly.graph_objects as go\n",
        "\n",
        "from sklearn import preprocessing\n",
        "from sklearn.tree import DecisionTreeRegressor\n",
        "from sklearn.model_selection import train_test_split\n",
        "from sklearn.ensemble import GradientBoostingClassifier\n",
        "from sklearn.metrics import precision_recall_fscore_support, classification_report, confusion_matrix, roc_curve, auc, roc_auc_score\n",
        "\n",
        "%matplotlib inline"
      ]
    },
    {
      "cell_type": "code",
      "source": [
        "from google.colab import drive\n",
        "drive.mount('/content/drive')"
      ],
      "metadata": {
        "colab": {
          "base_uri": "https://localhost:8080/"
        },
        "id": "gFapPB7uO1nf",
        "outputId": "ec51bdad-279f-4e42-a1ce-2a8360ac8699"
      },
      "execution_count": 2,
      "outputs": [
        {
          "output_type": "stream",
          "name": "stdout",
          "text": [
            "Mounted at /content/drive\n"
          ]
        }
      ]
    },
    {
      "cell_type": "markdown",
      "source": [
        "# Functions"
      ],
      "metadata": {
        "id": "_KHCi6eh3TGa"
      }
    },
    {
      "cell_type": "markdown",
      "source": [
        "## <code><b>plot_predictions()</b></code>"
      ],
      "metadata": {
        "id": "suJDTtyIbQOZ"
      }
    },
    {
      "cell_type": "code",
      "source": [
        "def plot_predictions(\n",
        "      regressors\n",
        "    , X\n",
        "    , y\n",
        "    , axes\n",
        "    , label      = None\n",
        "    , style      = \"r-\"\n",
        "    , data_style = \"b.\"\n",
        "    , data_label = None\n",
        "  ):\n",
        "\n",
        "  \"\"\"\n",
        "  Plot predictions made by regression models along with the actual data points.\n",
        "\n",
        "  Parameters:\n",
        "  - regressors (list of regressor objects): A list of regression models.\n",
        "  - X (numpy.ndarray): Input feature(s) for making predictions.\n",
        "  - y (numpy.ndarray): Actual target values.\n",
        "  - axes (list or tuple of length 4): Axis limits for the plot in [xmin, xmax, ymin, ymax] format.\n",
        "  - label (str, optional): Label for the predicted curve (for legend).\n",
        "  - style (str, optional): Style of the predicted curve in the plot.\n",
        "  - data_style (str, optional): Style of the data points in the plot.\n",
        "  - data_label (str, optional): Label for the data points (for legend).\n",
        "\n",
        "  Returns:\n",
        "  None\n",
        "  \"\"\"\n",
        "\n",
        "  # Create 500 evenly spaced x-values that span the range specified by\n",
        "  # axes[0] (minimum x-value) and axes[1] (maximum x-value). For example, if\n",
        "  # \"axes=[-0.5, 0.5, -0.1, 0.8]\", \"x1\" below will be an array of 500 evenly\n",
        "  # spaced values that span the range of [axes[0], axes[1]]=[-0.5, 0.5].\n",
        "  x1 = np.linspace(\n",
        "        axes[0]\n",
        "      , axes[1]\n",
        "      , 500\n",
        "  )\n",
        "\n",
        "  # Reshape \"x1\" from 1D into a 2D array where each value is in a separate row\n",
        "  # and a single column. For example, if \"x1=[1, 2, 3, 4, 5]\", the .reshape(-1,1)\n",
        "  # will reshape it into:\n",
        "  # [[1],\n",
        "  #  [2],\n",
        "  #  [3],\n",
        "  #  [4],\n",
        "  #  [5]]\n",
        "  x1_reshaped = x1.reshape(-1, 1)\n",
        "\n",
        "  # Calculate predictions from each regressor in the list \"regressors\".\n",
        "  predictions = [\n",
        "      regressor.predict(x1_reshaped)\n",
        "      for regressor\n",
        "      in regressors\n",
        "  ]\n",
        "\n",
        "  # Sum up the predicted values from all the regression models in \"predictions\".\n",
        "  # Since each regression model produces a set of predicted values for the\n",
        "  # same \"x1\" input, summing them up effectively combines the predictions from\n",
        "  # all models into a single set of predictions represented by \"y_pred\".\n",
        "  y_pred = np.sum(\n",
        "        predictions\n",
        "      , axis = 0\n",
        "  )\n",
        "  # ---------------------------------------------------------------------------\n",
        "  # Plot actual data\n",
        "  plt.plot(\n",
        "        X[:, 0]\n",
        "      , y\n",
        "      , data_style\n",
        "      , label = data_label\n",
        "  )\n",
        "  # ---------------------------------------------------------------------------\n",
        "  # Plot predictions\n",
        "  plt.plot(\n",
        "        x1\n",
        "      , y_pred\n",
        "      , style\n",
        "      , label     = label\n",
        "      , linewidth = 2\n",
        "  )\n",
        "  # ---------------------------------------------------------------------------\n",
        "  if label or data_label:\n",
        "      plt.legend(\n",
        "            loc      = \"upper center\"\n",
        "          , fontsize = 16\n",
        "      )\n",
        "  # ---------------------------------------------------------------------------\n",
        "  plt.axis(axes)"
      ],
      "metadata": {
        "id": "g_Y1s4Yj3Skz"
      },
      "execution_count": 3,
      "outputs": []
    },
    {
      "cell_type": "markdown",
      "source": [
        "## <code><b>calculate_performance_metrics()</b></code>"
      ],
      "metadata": {
        "id": "O8ZnjutdhPRb"
      }
    },
    {
      "cell_type": "markdown",
      "source": [
        "# 1. Regression"
      ],
      "metadata": {
        "id": "6ugpE_EiQoSb"
      }
    },
    {
      "cell_type": "markdown",
      "source": [
        "Let’s go through a simple regression example using Decision Trees as the base predictors (of course Gradient Boosting also works great with regression tasks). This is called <b>Gradient Tree Boosting</b>, or <b>Gradient Boosted Regression Trees</b>. First, let's fit a <code><b>DecisionTreeRegressor</b></code> to the training set."
      ],
      "metadata": {
        "id": "MRmCVAmTwwDX"
      }
    },
    {
      "cell_type": "markdown",
      "source": [
        "## 1.1. Train/Test split (<code><b>X</b></code> and <code><b>y</b></code>)"
      ],
      "metadata": {
        "id": "dj7elw-YW9o8"
      }
    },
    {
      "cell_type": "markdown",
      "source": [
        "### 1.1.1. <code><b>X</b></code>"
      ],
      "metadata": {
        "id": "fPmUJ-a488qY"
      }
    },
    {
      "cell_type": "markdown",
      "source": [
        "1. Set the seed for the NumPy random number generator to <code><b>42</b></code> .\n",
        "  * Setting a random seed ensures that the random numbers generated later in the code will be reproducible.\n",
        "  * In other words, if you run this code with the same seed, you will get the same random numbers each time.\n",
        "\n",
        "2. For the Features (dependent variables), generate a 2D NumPy array <code><b>X</b></code> with <code><b>100</b></code> rows and <code><b>1</b></code> column (i.e., <code><b>100</b></code> data points):\n",
        "  * Each element of <code><b>X</b></code> is a random (<code><b>.random</b></code>) number in the range <code><b>(0, 1)</b></code> , from a <a href=\"https://en.wikipedia.org/wiki/Continuous_uniform_distribution\"><b>uniform distribution</b></a> (<code><b>.rand</b></code>).\n",
        "  * Subtract <code><b>0.5</b></code> from each element. This shifts the random numbers to lie within the range <code><b>(-0.5, 0.5)</b></code> rather than <code><b>(0, 1)</b></code> ."
      ],
      "metadata": {
        "id": "c8ghImBehdvu"
      }
    },
    {
      "cell_type": "code",
      "execution_count": 4,
      "metadata": {
        "id": "gGreKgygRz8R",
        "colab": {
          "base_uri": "https://localhost:8080/"
        },
        "outputId": "4a2003ed-a0e8-4abb-86cc-1cf3fcefe970"
      },
      "outputs": [
        {
          "output_type": "execute_result",
          "data": {
            "text/plain": [
              "array([[-0.12545988],\n",
              "       [ 0.45071431],\n",
              "       [ 0.23199394],\n",
              "       [ 0.09865848],\n",
              "       [-0.34398136]])"
            ]
          },
          "metadata": {},
          "execution_count": 4
        }
      ],
      "source": [
        "# Random NumPy seed\n",
        "np.random.seed(42)\n",
        "\n",
        "# Number of data points (features)\n",
        "num_data_points = 100\n",
        "\n",
        "# Features X\n",
        "X = np.random.rand(num_data_points, 1) - 0.5\n",
        "\n",
        "# Check the first five elements of the X array\n",
        "X[:5]"
      ]
    },
    {
      "cell_type": "markdown",
      "source": [
        "### 1.1.2. $\\Large\\epsilon$ (random noise)"
      ],
      "metadata": {
        "id": "RsflnQ5ulXzu"
      }
    },
    {
      "cell_type": "markdown",
      "source": [
        "The term $\\large\\epsilon$ represents a <a href=\"https://rstudio-pubs-static.s3.amazonaws.com/834909_51679758ae6d4d0a9a6e5da27c78dd33.html\"><b>random (<code>np.random</code>) noise</b></a> which follows a <b>standard normal distribution</b> $\\mathcal{N}(0, 1)$, using the <code><b>.randn</b></code> method. This random noise introduces random variation to make the data <b>more realistic and noisy</b>. Furthermore, a $\\small\\textbf{scaling factor}$ was introduced which determines the $\\small\\textbf{magnitude}$ of that noise (here, $0.05$). Depending on the application, you might need to adjust this scale factor to suit your modeling or simulation needs."
      ],
      "metadata": {
        "id": "Nn97R8RlhOyr"
      }
    },
    {
      "cell_type": "markdown",
      "source": [
        "\\begin{align}\n",
        "\\large{\n",
        "  \\epsilon\n",
        "  \\sim\n",
        "  0.05\\;\\mathcal{N}(0, 1)\n",
        "  \\equiv\n",
        "  \\mathcal{N}(0, 0.05^2)}\n",
        "  \\tag{1}\n",
        "\\end{align}"
      ],
      "metadata": {
        "id": "aFuMQNDETS3R"
      }
    },
    {
      "cell_type": "markdown",
      "source": [
        "> <b>NOTE:</b> The <code><b>random_noise</b></code> term must have the same number of data points as <code><b>X</b></code> ."
      ],
      "metadata": {
        "id": "EgirdmX0mTS0"
      }
    },
    {
      "cell_type": "code",
      "source": [
        "# Magnitude of the random noise\n",
        "scale_factor = 0.05\n",
        "\n",
        "# Generate 100 random points from a standard normal distribution\n",
        "# (mean = 0, standard deviation = 1), scaled by the \"scale_factor\"\n",
        "random_noise = scale_factor * np.random.randn(X.shape[0])\n",
        "\n",
        "# Check the first five elements of the N array\n",
        "random_noise[:5]"
      ],
      "metadata": {
        "id": "F3PoRnPoXYbz",
        "colab": {
          "base_uri": "https://localhost:8080/"
        },
        "outputId": "41610ec3-d3bf-413d-e0cb-7f9d6f7dd643"
      },
      "execution_count": 5,
      "outputs": [
        {
          "output_type": "execute_result",
          "data": {
            "text/plain": [
              "array([ 0.00435235, -0.01495037,  0.00458804, -0.09937845, -0.01098359])"
            ]
          },
          "metadata": {},
          "execution_count": 5
        }
      ]
    },
    {
      "cell_type": "markdown",
      "source": [
        "<font color=\"gray\">\n",
        "<blockquote>\n",
        "<i>\n",
        "Scaling the random noise from a normal distribution $\\mathcal{N}$ is a common practice when working with statistical models or simulations for several reasons:\n",
        "<br>\n",
        "<br>\n",
        "<font color=\"black\"><b>1. Control and Adjustment:</b></font> Scaling allows us to control the magnitude or amplitude of the noise in our data. By multiplying the random noise from <code><b>np.random.randn</b></code> by a scaling factor, such as <code><b>0.05</b></code> in this example, we can adjust how much noise affects your data. This allows us to make the noise more or less significant depending on the specific requirements of our model or simulation.\n",
        "<br>\n",
        "<font color=\"black\"><b>2. Realistic Variation:</b></font> In many real-world scenarios, data is subject to <b>some level of inherent randomness or variability</b>. By adding scaled random noise, you can model this natural variation in our data. For example, measurements in scientific experiments or observations in financial markets often exhibit inherent noise that needs to be considered in the analysis.\n",
        "<br>\n",
        "<font color=\"black\"><b>3. Regularization:</b></font> In machine learning and statistical modeling, adding controlled noise can be used as a form of regularization. It helps <b>prevent overfitting</b>, where a model becomes too specialized to the training data and fails to generalize to new data. By introducing some randomness through scaled noise, we can make the model <b>more robust</b> and less likely to overfit.\n",
        "<br>\n",
        "<font color=\"black\"><b>4. Stabilizing Numerical Computations:</b></font> In some numerical computations, especially when dealing with <b>very small</b> or <b>very large numbers</b>, adding scaled noise can help <b>stabilize calculations</b>. This is sometimes called <font color=\"black\">$\\textit{jittering}$</font>. It can prevent division by zero or other numerical issues that might arise due to extreme values in the data.\n",
        "<br>\n",
        "<font color=\"black\"><b>5. Simulation Studies:</b></font> In simulation studies, researchers often want to replicate real-world conditions as closely as possible. Adding scaled random noise can help make simulations more realistic by introducing the kind of variability that exists in actual data.\n",
        "</i>\n",
        "</blockquote>\n",
        "</font>"
      ],
      "metadata": {
        "id": "u1A_48PoX5Cv"
      }
    },
    {
      "cell_type": "markdown",
      "source": [
        "### 1.1.3. <code><b>y</b></code>"
      ],
      "metadata": {
        "id": "JK91qVn3la5d"
      }
    },
    {
      "cell_type": "markdown",
      "source": [
        "In this case study, we <i>assume</i> the target variable <code><b>y</b></code> is a <b>quadratic function</b> of the features <code><b>X</b></code> with an added <b>random noise</b> term $\\large\\epsilon$ :\n",
        "\n",
        "<br>\n",
        "\\begin{align*}\n",
        "\\Large y &= \\Large 3\\mathbf{X}^2 + \\epsilon \\quad\\quad \\large\\text{(regression model)} \\tag{2}\n",
        "\\end{align*}\n",
        "<br>\n",
        "\n",
        "> <b>NOTE:</b> If you were to simply use <code><b>X</b></code> in the equation above, it would result in a <a href=\"https://numpy.org/doc/stable/user/basics.broadcasting.html\"><b>broadcasting</b></a> error because the dimensions of $\\mathbf{X}$ and $\\large{\\epsilon}$ do <b>not</b> match for <b>element-wise</b> addition. The $\\large{\\epsilon}$ has a shape of <code><b>(100,)</b></code> , while <code><b>X</b></code> without the <code><b>[:, 0]</b></code> would have a shape of <code><b>(100, 1)</b></code> :\n",
        ">\n",
        ">```python\n",
        ">X.shape\n",
        ">>>> (100, 1)\n",
        ">\n",
        ">random_noise.shape\n",
        ">>>> (100, )\n",
        ">\n",
        ">X[:, 0].shape\n",
        ">>>> (100, )\n",
        ">```\n",
        ">\n",
        ">Therefore, the broadcasting rules would not align them correctly. Hence, by using <code><b>X[:, 0]</b></code> instead of <code><b>X</b></code> , we ensure that we are working with the 1D array extracted from the first column of <code><b>X</b></code>, allowing us to perform the element-wise squaring and addition correctly."
      ],
      "metadata": {
        "id": "Cp6_wXRi8Uep"
      }
    },
    {
      "cell_type": "code",
      "source": [
        "# Actual response\n",
        "y = 3*X[:, 0]**2 + random_noise"
      ],
      "metadata": {
        "id": "nStoOYxuXRuU"
      },
      "execution_count": 6,
      "outputs": []
    },
    {
      "cell_type": "code",
      "source": [
        "# Check the first five elements of the y\n",
        "y[:5]"
      ],
      "metadata": {
        "colab": {
          "base_uri": "https://localhost:8080/"
        },
        "id": "RXoX5zqANp6u",
        "outputId": "cf434c5a-12f1-4819-8f87-26c2e6dbbc95"
      },
      "execution_count": 7,
      "outputs": [
        {
          "output_type": "execute_result",
          "data": {
            "text/plain": [
              "array([ 0.0515729 ,  0.59447979,  0.16605161, -0.07017796,  0.34398593])"
            ]
          },
          "metadata": {},
          "execution_count": 7
        }
      ]
    },
    {
      "cell_type": "markdown",
      "source": [
        "## 1.2. Models"
      ],
      "metadata": {
        "id": "VlPaPjJRXJIl"
      }
    },
    {
      "cell_type": "markdown",
      "source": [
        "><b>NOTE:</b> In this case study, we build three regression models (Regressor 1, 2, 3), all using the <code><b>DecisionTreeRegressor()</b></code> method, with a <code><b>max_depth=2</b></code> and <code><b>random_state=42</b></code> ."
      ],
      "metadata": {
        "id": "43jJodw-t6oe"
      }
    },
    {
      "cell_type": "markdown",
      "source": [
        "### Regressor 1"
      ],
      "metadata": {
        "id": "554Y6DAGg7gp"
      }
    },
    {
      "cell_type": "markdown",
      "source": [
        "1. Build the first <code><b>DecisionTreeRegressor</b></code> model and name it as <code><b>reg_1</b></code> .\n",
        "\n",
        "2. <code><b>fit</b></code> (train) the model on <code><b>X</b></code> and <code><b>y</b></code> .\n",
        "\n",
        "3. <code><b>predcit</b></code> on the trained model and store the predictions in a variable called <code><b>y_pred1</b></code> .\n",
        "\n",
        "4. Calculate residual errors <code><b>y_res1</b></code> from the actual and the predicted values of the target, <code><b>y</b></code> and <code><b>y_pred1</b></code> ."
      ],
      "metadata": {
        "id": "qEs2CxIp1uk2"
      }
    },
    {
      "cell_type": "markdown",
      "source": [
        "#### Build"
      ],
      "metadata": {
        "id": "XIe3Eyv-MOVu"
      }
    },
    {
      "cell_type": "code",
      "execution_count": 8,
      "metadata": {
        "id": "a48uXlSBRz8U"
      },
      "outputs": [],
      "source": [
        "reg_1 = DecisionTreeRegressor(\n",
        "      max_depth    = 2\n",
        "    , random_state = 42\n",
        ")"
      ]
    },
    {
      "cell_type": "markdown",
      "source": [
        "#### Fit"
      ],
      "metadata": {
        "id": "xxC-7NjFMP6z"
      }
    },
    {
      "cell_type": "code",
      "source": [
        "reg_1.fit(\n",
        "      X\n",
        "    , y\n",
        ")"
      ],
      "metadata": {
        "colab": {
          "base_uri": "https://localhost:8080/",
          "height": 74
        },
        "id": "LzVq3XyO3fHQ",
        "outputId": "5e5f4738-d175-4f91-ea7f-d7ca05c92a48"
      },
      "execution_count": 9,
      "outputs": [
        {
          "output_type": "execute_result",
          "data": {
            "text/plain": [
              "DecisionTreeRegressor(max_depth=2, random_state=42)"
            ],
            "text/html": [
              "<style>#sk-container-id-1 {color: black;background-color: white;}#sk-container-id-1 pre{padding: 0;}#sk-container-id-1 div.sk-toggleable {background-color: white;}#sk-container-id-1 label.sk-toggleable__label {cursor: pointer;display: block;width: 100%;margin-bottom: 0;padding: 0.3em;box-sizing: border-box;text-align: center;}#sk-container-id-1 label.sk-toggleable__label-arrow:before {content: \"▸\";float: left;margin-right: 0.25em;color: #696969;}#sk-container-id-1 label.sk-toggleable__label-arrow:hover:before {color: black;}#sk-container-id-1 div.sk-estimator:hover label.sk-toggleable__label-arrow:before {color: black;}#sk-container-id-1 div.sk-toggleable__content {max-height: 0;max-width: 0;overflow: hidden;text-align: left;background-color: #f0f8ff;}#sk-container-id-1 div.sk-toggleable__content pre {margin: 0.2em;color: black;border-radius: 0.25em;background-color: #f0f8ff;}#sk-container-id-1 input.sk-toggleable__control:checked~div.sk-toggleable__content {max-height: 200px;max-width: 100%;overflow: auto;}#sk-container-id-1 input.sk-toggleable__control:checked~label.sk-toggleable__label-arrow:before {content: \"▾\";}#sk-container-id-1 div.sk-estimator input.sk-toggleable__control:checked~label.sk-toggleable__label {background-color: #d4ebff;}#sk-container-id-1 div.sk-label input.sk-toggleable__control:checked~label.sk-toggleable__label {background-color: #d4ebff;}#sk-container-id-1 input.sk-hidden--visually {border: 0;clip: rect(1px 1px 1px 1px);clip: rect(1px, 1px, 1px, 1px);height: 1px;margin: -1px;overflow: hidden;padding: 0;position: absolute;width: 1px;}#sk-container-id-1 div.sk-estimator {font-family: monospace;background-color: #f0f8ff;border: 1px dotted black;border-radius: 0.25em;box-sizing: border-box;margin-bottom: 0.5em;}#sk-container-id-1 div.sk-estimator:hover {background-color: #d4ebff;}#sk-container-id-1 div.sk-parallel-item::after {content: \"\";width: 100%;border-bottom: 1px solid gray;flex-grow: 1;}#sk-container-id-1 div.sk-label:hover label.sk-toggleable__label {background-color: #d4ebff;}#sk-container-id-1 div.sk-serial::before {content: \"\";position: absolute;border-left: 1px solid gray;box-sizing: border-box;top: 0;bottom: 0;left: 50%;z-index: 0;}#sk-container-id-1 div.sk-serial {display: flex;flex-direction: column;align-items: center;background-color: white;padding-right: 0.2em;padding-left: 0.2em;position: relative;}#sk-container-id-1 div.sk-item {position: relative;z-index: 1;}#sk-container-id-1 div.sk-parallel {display: flex;align-items: stretch;justify-content: center;background-color: white;position: relative;}#sk-container-id-1 div.sk-item::before, #sk-container-id-1 div.sk-parallel-item::before {content: \"\";position: absolute;border-left: 1px solid gray;box-sizing: border-box;top: 0;bottom: 0;left: 50%;z-index: -1;}#sk-container-id-1 div.sk-parallel-item {display: flex;flex-direction: column;z-index: 1;position: relative;background-color: white;}#sk-container-id-1 div.sk-parallel-item:first-child::after {align-self: flex-end;width: 50%;}#sk-container-id-1 div.sk-parallel-item:last-child::after {align-self: flex-start;width: 50%;}#sk-container-id-1 div.sk-parallel-item:only-child::after {width: 0;}#sk-container-id-1 div.sk-dashed-wrapped {border: 1px dashed gray;margin: 0 0.4em 0.5em 0.4em;box-sizing: border-box;padding-bottom: 0.4em;background-color: white;}#sk-container-id-1 div.sk-label label {font-family: monospace;font-weight: bold;display: inline-block;line-height: 1.2em;}#sk-container-id-1 div.sk-label-container {text-align: center;}#sk-container-id-1 div.sk-container {/* jupyter's `normalize.less` sets `[hidden] { display: none; }` but bootstrap.min.css set `[hidden] { display: none !important; }` so we also need the `!important` here to be able to override the default hidden behavior on the sphinx rendered scikit-learn.org. See: https://github.com/scikit-learn/scikit-learn/issues/21755 */display: inline-block !important;position: relative;}#sk-container-id-1 div.sk-text-repr-fallback {display: none;}</style><div id=\"sk-container-id-1\" class=\"sk-top-container\"><div class=\"sk-text-repr-fallback\"><pre>DecisionTreeRegressor(max_depth=2, random_state=42)</pre><b>In a Jupyter environment, please rerun this cell to show the HTML representation or trust the notebook. <br />On GitHub, the HTML representation is unable to render, please try loading this page with nbviewer.org.</b></div><div class=\"sk-container\" hidden><div class=\"sk-item\"><div class=\"sk-estimator sk-toggleable\"><input class=\"sk-toggleable__control sk-hidden--visually\" id=\"sk-estimator-id-1\" type=\"checkbox\" checked><label for=\"sk-estimator-id-1\" class=\"sk-toggleable__label sk-toggleable__label-arrow\">DecisionTreeRegressor</label><div class=\"sk-toggleable__content\"><pre>DecisionTreeRegressor(max_depth=2, random_state=42)</pre></div></div></div></div></div>"
            ]
          },
          "metadata": {},
          "execution_count": 9
        }
      ]
    },
    {
      "cell_type": "markdown",
      "source": [
        "#### Predict"
      ],
      "metadata": {
        "id": "hrf-QvpsMR0s"
      }
    },
    {
      "cell_type": "code",
      "source": [
        "y_pred1 = reg_1.predict(X)"
      ],
      "metadata": {
        "id": "t87HTBm635aC"
      },
      "execution_count": 10,
      "outputs": []
    },
    {
      "cell_type": "markdown",
      "source": [
        "#### Residuals"
      ],
      "metadata": {
        "id": "mHG-TpCEMTgy"
      }
    },
    {
      "cell_type": "code",
      "execution_count": 11,
      "metadata": {
        "id": "j_wMy80MRz8Z"
      },
      "outputs": [],
      "source": [
        "y_res1 = y - y_pred1"
      ]
    },
    {
      "cell_type": "markdown",
      "source": [
        "### Regressor 2"
      ],
      "metadata": {
        "id": "lVnJyyzqWzsT"
      }
    },
    {
      "cell_type": "markdown",
      "metadata": {
        "id": "W3ao2m6RRz8Z"
      },
      "source": [
        "1. Build the second <code><b>DecisionTreeRegressor</b></code> model and name it as <code><b>reg_2</b></code> .\n",
        "\n",
        "2. <code><b>fit</b></code> (train) the model on the original input features <code><b>X</b></code> and the residual errors <code><b>y_res1</b></code> calculated from the first predictor <code><b>reg_1</b></code> .\n",
        "\n",
        "3. <code><b>predcit</b></code> on the second trained model and store the predictions in a variable called <code><b>y_pred2</b></code> .\n",
        "\n",
        "4. Find the current residual errors <code><b>y_res2</b></code> from the previous residual erros <code><b>y_res1</b></code> and current predicted values <code><b>y_pred2</b></code> ."
      ]
    },
    {
      "cell_type": "markdown",
      "source": [
        "#### Build"
      ],
      "metadata": {
        "id": "eH6QJZawNMij"
      }
    },
    {
      "cell_type": "code",
      "source": [
        "reg_2 = DecisionTreeRegressor(\n",
        "      max_depth    = 2\n",
        "    , random_state = 42\n",
        ")"
      ],
      "metadata": {
        "id": "4UYeFokb3rae"
      },
      "execution_count": 12,
      "outputs": []
    },
    {
      "cell_type": "markdown",
      "source": [
        "#### Fit"
      ],
      "metadata": {
        "id": "cJrxkYQqNOHC"
      }
    },
    {
      "cell_type": "code",
      "source": [
        "reg_2.fit(\n",
        "      X\n",
        "    , y_res1\n",
        ")"
      ],
      "metadata": {
        "colab": {
          "base_uri": "https://localhost:8080/",
          "height": 74
        },
        "id": "XF1-V8S03sgE",
        "outputId": "a12d3502-110a-4985-f0bd-7cb4678d2133"
      },
      "execution_count": 13,
      "outputs": [
        {
          "output_type": "execute_result",
          "data": {
            "text/plain": [
              "DecisionTreeRegressor(max_depth=2, random_state=42)"
            ],
            "text/html": [
              "<style>#sk-container-id-2 {color: black;background-color: white;}#sk-container-id-2 pre{padding: 0;}#sk-container-id-2 div.sk-toggleable {background-color: white;}#sk-container-id-2 label.sk-toggleable__label {cursor: pointer;display: block;width: 100%;margin-bottom: 0;padding: 0.3em;box-sizing: border-box;text-align: center;}#sk-container-id-2 label.sk-toggleable__label-arrow:before {content: \"▸\";float: left;margin-right: 0.25em;color: #696969;}#sk-container-id-2 label.sk-toggleable__label-arrow:hover:before {color: black;}#sk-container-id-2 div.sk-estimator:hover label.sk-toggleable__label-arrow:before {color: black;}#sk-container-id-2 div.sk-toggleable__content {max-height: 0;max-width: 0;overflow: hidden;text-align: left;background-color: #f0f8ff;}#sk-container-id-2 div.sk-toggleable__content pre {margin: 0.2em;color: black;border-radius: 0.25em;background-color: #f0f8ff;}#sk-container-id-2 input.sk-toggleable__control:checked~div.sk-toggleable__content {max-height: 200px;max-width: 100%;overflow: auto;}#sk-container-id-2 input.sk-toggleable__control:checked~label.sk-toggleable__label-arrow:before {content: \"▾\";}#sk-container-id-2 div.sk-estimator input.sk-toggleable__control:checked~label.sk-toggleable__label {background-color: #d4ebff;}#sk-container-id-2 div.sk-label input.sk-toggleable__control:checked~label.sk-toggleable__label {background-color: #d4ebff;}#sk-container-id-2 input.sk-hidden--visually {border: 0;clip: rect(1px 1px 1px 1px);clip: rect(1px, 1px, 1px, 1px);height: 1px;margin: -1px;overflow: hidden;padding: 0;position: absolute;width: 1px;}#sk-container-id-2 div.sk-estimator {font-family: monospace;background-color: #f0f8ff;border: 1px dotted black;border-radius: 0.25em;box-sizing: border-box;margin-bottom: 0.5em;}#sk-container-id-2 div.sk-estimator:hover {background-color: #d4ebff;}#sk-container-id-2 div.sk-parallel-item::after {content: \"\";width: 100%;border-bottom: 1px solid gray;flex-grow: 1;}#sk-container-id-2 div.sk-label:hover label.sk-toggleable__label {background-color: #d4ebff;}#sk-container-id-2 div.sk-serial::before {content: \"\";position: absolute;border-left: 1px solid gray;box-sizing: border-box;top: 0;bottom: 0;left: 50%;z-index: 0;}#sk-container-id-2 div.sk-serial {display: flex;flex-direction: column;align-items: center;background-color: white;padding-right: 0.2em;padding-left: 0.2em;position: relative;}#sk-container-id-2 div.sk-item {position: relative;z-index: 1;}#sk-container-id-2 div.sk-parallel {display: flex;align-items: stretch;justify-content: center;background-color: white;position: relative;}#sk-container-id-2 div.sk-item::before, #sk-container-id-2 div.sk-parallel-item::before {content: \"\";position: absolute;border-left: 1px solid gray;box-sizing: border-box;top: 0;bottom: 0;left: 50%;z-index: -1;}#sk-container-id-2 div.sk-parallel-item {display: flex;flex-direction: column;z-index: 1;position: relative;background-color: white;}#sk-container-id-2 div.sk-parallel-item:first-child::after {align-self: flex-end;width: 50%;}#sk-container-id-2 div.sk-parallel-item:last-child::after {align-self: flex-start;width: 50%;}#sk-container-id-2 div.sk-parallel-item:only-child::after {width: 0;}#sk-container-id-2 div.sk-dashed-wrapped {border: 1px dashed gray;margin: 0 0.4em 0.5em 0.4em;box-sizing: border-box;padding-bottom: 0.4em;background-color: white;}#sk-container-id-2 div.sk-label label {font-family: monospace;font-weight: bold;display: inline-block;line-height: 1.2em;}#sk-container-id-2 div.sk-label-container {text-align: center;}#sk-container-id-2 div.sk-container {/* jupyter's `normalize.less` sets `[hidden] { display: none; }` but bootstrap.min.css set `[hidden] { display: none !important; }` so we also need the `!important` here to be able to override the default hidden behavior on the sphinx rendered scikit-learn.org. See: https://github.com/scikit-learn/scikit-learn/issues/21755 */display: inline-block !important;position: relative;}#sk-container-id-2 div.sk-text-repr-fallback {display: none;}</style><div id=\"sk-container-id-2\" class=\"sk-top-container\"><div class=\"sk-text-repr-fallback\"><pre>DecisionTreeRegressor(max_depth=2, random_state=42)</pre><b>In a Jupyter environment, please rerun this cell to show the HTML representation or trust the notebook. <br />On GitHub, the HTML representation is unable to render, please try loading this page with nbviewer.org.</b></div><div class=\"sk-container\" hidden><div class=\"sk-item\"><div class=\"sk-estimator sk-toggleable\"><input class=\"sk-toggleable__control sk-hidden--visually\" id=\"sk-estimator-id-2\" type=\"checkbox\" checked><label for=\"sk-estimator-id-2\" class=\"sk-toggleable__label sk-toggleable__label-arrow\">DecisionTreeRegressor</label><div class=\"sk-toggleable__content\"><pre>DecisionTreeRegressor(max_depth=2, random_state=42)</pre></div></div></div></div></div>"
            ]
          },
          "metadata": {},
          "execution_count": 13
        }
      ]
    },
    {
      "cell_type": "markdown",
      "source": [
        "#### Predict"
      ],
      "metadata": {
        "id": "KhjcUE7UNPTl"
      }
    },
    {
      "cell_type": "code",
      "source": [
        "y_pred2 = reg_2.predict(X)"
      ],
      "metadata": {
        "id": "cM7OzevE-Stk"
      },
      "execution_count": 14,
      "outputs": []
    },
    {
      "cell_type": "markdown",
      "source": [
        "#### Residuals"
      ],
      "metadata": {
        "id": "8rQaTgYWNRAr"
      }
    },
    {
      "cell_type": "code",
      "execution_count": 15,
      "metadata": {
        "id": "luWV0lZGRz8c"
      },
      "outputs": [],
      "source": [
        "y_res2 = y_res1 - y_pred2"
      ]
    },
    {
      "cell_type": "markdown",
      "source": [
        "### Regressor 3"
      ],
      "metadata": {
        "id": "5ozwjNWPWuvz"
      }
    },
    {
      "cell_type": "markdown",
      "metadata": {
        "id": "T7iraM6-Rz8c"
      },
      "source": [
        "1. Build the third <code><b>DecisionTreeRegressor</b></code> model and name it as <code><b>reg_3</b></code> .\n",
        "\n",
        "2. <code><b>fit</b></code> (train) the model on the original input features <code><b>X</b></code> and the previous residual errors <code><b>y_res2</b></code> calculated from <code><b>reg_2</b></code> .\n"
      ]
    },
    {
      "cell_type": "markdown",
      "source": [
        "#### Build"
      ],
      "metadata": {
        "id": "0muVy-cHNViy"
      }
    },
    {
      "cell_type": "code",
      "source": [
        "reg_3 = DecisionTreeRegressor(\n",
        "      max_depth    = 2\n",
        "    , random_state = 42\n",
        ")"
      ],
      "metadata": {
        "id": "WTkcV_5Sb2f6"
      },
      "execution_count": 16,
      "outputs": []
    },
    {
      "cell_type": "markdown",
      "source": [
        "#### Fit"
      ],
      "metadata": {
        "id": "yBMMxoyfNW8O"
      }
    },
    {
      "cell_type": "code",
      "source": [
        "reg_3.fit(\n",
        "      X\n",
        "    , y_res2\n",
        ")"
      ],
      "metadata": {
        "id": "hIiehovxb1GG",
        "colab": {
          "base_uri": "https://localhost:8080/",
          "height": 74
        },
        "outputId": "746bf077-3052-4ea7-c9a5-0e938e78f397"
      },
      "execution_count": 17,
      "outputs": [
        {
          "output_type": "execute_result",
          "data": {
            "text/plain": [
              "DecisionTreeRegressor(max_depth=2, random_state=42)"
            ],
            "text/html": [
              "<style>#sk-container-id-3 {color: black;background-color: white;}#sk-container-id-3 pre{padding: 0;}#sk-container-id-3 div.sk-toggleable {background-color: white;}#sk-container-id-3 label.sk-toggleable__label {cursor: pointer;display: block;width: 100%;margin-bottom: 0;padding: 0.3em;box-sizing: border-box;text-align: center;}#sk-container-id-3 label.sk-toggleable__label-arrow:before {content: \"▸\";float: left;margin-right: 0.25em;color: #696969;}#sk-container-id-3 label.sk-toggleable__label-arrow:hover:before {color: black;}#sk-container-id-3 div.sk-estimator:hover label.sk-toggleable__label-arrow:before {color: black;}#sk-container-id-3 div.sk-toggleable__content {max-height: 0;max-width: 0;overflow: hidden;text-align: left;background-color: #f0f8ff;}#sk-container-id-3 div.sk-toggleable__content pre {margin: 0.2em;color: black;border-radius: 0.25em;background-color: #f0f8ff;}#sk-container-id-3 input.sk-toggleable__control:checked~div.sk-toggleable__content {max-height: 200px;max-width: 100%;overflow: auto;}#sk-container-id-3 input.sk-toggleable__control:checked~label.sk-toggleable__label-arrow:before {content: \"▾\";}#sk-container-id-3 div.sk-estimator input.sk-toggleable__control:checked~label.sk-toggleable__label {background-color: #d4ebff;}#sk-container-id-3 div.sk-label input.sk-toggleable__control:checked~label.sk-toggleable__label {background-color: #d4ebff;}#sk-container-id-3 input.sk-hidden--visually {border: 0;clip: rect(1px 1px 1px 1px);clip: rect(1px, 1px, 1px, 1px);height: 1px;margin: -1px;overflow: hidden;padding: 0;position: absolute;width: 1px;}#sk-container-id-3 div.sk-estimator {font-family: monospace;background-color: #f0f8ff;border: 1px dotted black;border-radius: 0.25em;box-sizing: border-box;margin-bottom: 0.5em;}#sk-container-id-3 div.sk-estimator:hover {background-color: #d4ebff;}#sk-container-id-3 div.sk-parallel-item::after {content: \"\";width: 100%;border-bottom: 1px solid gray;flex-grow: 1;}#sk-container-id-3 div.sk-label:hover label.sk-toggleable__label {background-color: #d4ebff;}#sk-container-id-3 div.sk-serial::before {content: \"\";position: absolute;border-left: 1px solid gray;box-sizing: border-box;top: 0;bottom: 0;left: 50%;z-index: 0;}#sk-container-id-3 div.sk-serial {display: flex;flex-direction: column;align-items: center;background-color: white;padding-right: 0.2em;padding-left: 0.2em;position: relative;}#sk-container-id-3 div.sk-item {position: relative;z-index: 1;}#sk-container-id-3 div.sk-parallel {display: flex;align-items: stretch;justify-content: center;background-color: white;position: relative;}#sk-container-id-3 div.sk-item::before, #sk-container-id-3 div.sk-parallel-item::before {content: \"\";position: absolute;border-left: 1px solid gray;box-sizing: border-box;top: 0;bottom: 0;left: 50%;z-index: -1;}#sk-container-id-3 div.sk-parallel-item {display: flex;flex-direction: column;z-index: 1;position: relative;background-color: white;}#sk-container-id-3 div.sk-parallel-item:first-child::after {align-self: flex-end;width: 50%;}#sk-container-id-3 div.sk-parallel-item:last-child::after {align-self: flex-start;width: 50%;}#sk-container-id-3 div.sk-parallel-item:only-child::after {width: 0;}#sk-container-id-3 div.sk-dashed-wrapped {border: 1px dashed gray;margin: 0 0.4em 0.5em 0.4em;box-sizing: border-box;padding-bottom: 0.4em;background-color: white;}#sk-container-id-3 div.sk-label label {font-family: monospace;font-weight: bold;display: inline-block;line-height: 1.2em;}#sk-container-id-3 div.sk-label-container {text-align: center;}#sk-container-id-3 div.sk-container {/* jupyter's `normalize.less` sets `[hidden] { display: none; }` but bootstrap.min.css set `[hidden] { display: none !important; }` so we also need the `!important` here to be able to override the default hidden behavior on the sphinx rendered scikit-learn.org. See: https://github.com/scikit-learn/scikit-learn/issues/21755 */display: inline-block !important;position: relative;}#sk-container-id-3 div.sk-text-repr-fallback {display: none;}</style><div id=\"sk-container-id-3\" class=\"sk-top-container\"><div class=\"sk-text-repr-fallback\"><pre>DecisionTreeRegressor(max_depth=2, random_state=42)</pre><b>In a Jupyter environment, please rerun this cell to show the HTML representation or trust the notebook. <br />On GitHub, the HTML representation is unable to render, please try loading this page with nbviewer.org.</b></div><div class=\"sk-container\" hidden><div class=\"sk-item\"><div class=\"sk-estimator sk-toggleable\"><input class=\"sk-toggleable__control sk-hidden--visually\" id=\"sk-estimator-id-3\" type=\"checkbox\" checked><label for=\"sk-estimator-id-3\" class=\"sk-toggleable__label sk-toggleable__label-arrow\">DecisionTreeRegressor</label><div class=\"sk-toggleable__content\"><pre>DecisionTreeRegressor(max_depth=2, random_state=42)</pre></div></div></div></div></div>"
            ]
          },
          "metadata": {},
          "execution_count": 17
        }
      ]
    },
    {
      "cell_type": "markdown",
      "metadata": {
        "id": "hNqDI9AcRz8g"
      },
      "source": [
        "Finally, we have an ensemble containing all three trees, Regressor 1, 2, and 3.\n",
        "\n",
        "3. We can now make predictions on a new random data point (e.g., <code><b>X_new=0.8</b></code>) simply by adding up (<code><b>sum()</b></code>) the predictions of all three regressors (i.e., <code><b>reg_1</b></code> , <code><b>reg_2</b></code> , and <code><b>reg_3</b></code>) and storing the result in a variable called <code><b>y_pred</b></code> :"
      ]
    },
    {
      "cell_type": "markdown",
      "source": [
        "#### Predict"
      ],
      "metadata": {
        "id": "-7xIfaf8NZk4"
      }
    },
    {
      "cell_type": "code",
      "execution_count": 18,
      "metadata": {
        "id": "5UxW0hN1Rz8g"
      },
      "outputs": [],
      "source": [
        "X_new = np.array([[0.8]])"
      ]
    },
    {
      "cell_type": "code",
      "execution_count": 19,
      "metadata": {
        "id": "2O_e-UpZRz8j"
      },
      "outputs": [],
      "source": [
        "y_pred = sum(\n",
        "    reg.predict(X_new)\n",
        "    for reg\n",
        "    in (reg_1, reg_2, reg_3)\n",
        ")"
      ]
    },
    {
      "cell_type": "code",
      "execution_count": 20,
      "metadata": {
        "colab": {
          "base_uri": "https://localhost:8080/"
        },
        "id": "TKw9-uOJRz8m",
        "outputId": "bcd424ef-5cce-4a65-f7e6-9d37daaf722a"
      },
      "outputs": [
        {
          "output_type": "execute_result",
          "data": {
            "text/plain": [
              "array([0.75026781])"
            ]
          },
          "metadata": {},
          "execution_count": 20
        }
      ],
      "source": [
        "y_pred"
      ]
    },
    {
      "cell_type": "markdown",
      "metadata": {
        "id": "WRMKci30Rz8p",
        "tags": []
      },
      "source": [
        "## 1.3. Plot predictions"
      ]
    },
    {
      "cell_type": "markdown",
      "metadata": {
        "id": "PlbPjAa1Rz8o"
      },
      "source": [
        "* The figure below represents the predictions of these three trees (<code><b>reg_1</b></code> , <code><b>reg_2</b></code> , <code><b>reg_3</b></code>). In the plotted figure, you can find the <b>trees</b> in the <b>left</b> column, and the <b>ensemble's predictions</b> in the <b>right</b> column. In the:\n",
        "\n",
        "  1. First row, the ensemble has just one tree, so its predictions are exactly the same as the first tree's predictions.\n",
        "\n",
        "  2. Second row, a new tree is trained on the residual errors of the first tree. On the right, you can see that the ensemble's predictions are equal to the sum of the predictions of the first two trees.\n",
        "\n",
        "  3. Third row, another tree is trained on the residual errors of the second tree. You can see that the ensemble's predictions gradually get better as trees are added to the ensemble."
      ]
    },
    {
      "cell_type": "markdown",
      "source": [
        "Here's a summary table of the data used in each subplot in the figure:\n",
        "<br>\n",
        "<table>\n",
        "  <tr>\n",
        "      <th><b>Subplot</b></th>\n",
        "      <th><b>Displays</b></th>\n",
        "      <th><b>Regressors</b></th>\n",
        "      <th><b>Input Features</b></th>\n",
        "      <th><b>Target Values</b></th>\n",
        "      <th><b>x-axis</b></th>\n",
        "      <th><b>y-axis</b></th>\n",
        "  </tr>\n",
        "  <tr>\n",
        "      <td><code><b>321</b></code></td>\n",
        "      <td>Tree</td>\n",
        "      <td><code><b>[reg_1]</b></code></td>\n",
        "      <td><code><b>X</b></code></td>\n",
        "      <td><code><b>y</b></code></td>\n",
        "      <td><code><b>n/a</b></code></td>\n",
        "      <td><code><b>y</b></code></td>\n",
        "  </tr>\n",
        "  <tr>\n",
        "      <td><code><b>322</b></code></td>\n",
        "      <td>Ensemble's prediction</td>\n",
        "      <td><code><b>[reg_1]</b></code></td>\n",
        "      <td><code><b>X</b></code></td>\n",
        "      <td><code><b>y</b></code></td>\n",
        "      <td><code><b>n/a</b></code></td>\n",
        "      <td><code><b>y</b></code></td>\n",
        "  </tr>\n",
        "  <tr>\n",
        "      <td><code><b>323</b></code></td>\n",
        "      <td>Tree</td>\n",
        "      <td><code><b>[reg_2]</b></code></td>\n",
        "      <td><code><b>X</b></code></td>\n",
        "      <td><code><b>y_res1</b></code></td>\n",
        "      <td><code><b>n/a</b></code></td>\n",
        "      <td><code><b>y - h_1(x_1)</b></code></td>\n",
        "  </tr>\n",
        "  <tr>\n",
        "      <td><code><b>324</b></code></td>\n",
        "      <td>Ensemble's prediction</td>\n",
        "      <td><code><b>[reg_1, reg_2]</b></code></td>\n",
        "      <td><code><b>X</b></code></td>\n",
        "      <td><code><b>y</b></code></td>\n",
        "      <td><code><b>n/a</b></code></td>\n",
        "      <td><code><b>y</b></code></td>\n",
        "  </tr>\n",
        "  <tr>\n",
        "      <td><code><b>325</b></code></td>\n",
        "      <td>Tree</td>\n",
        "      <td><code><b>[reg_3]</b></code></td>\n",
        "      <td><code><b>X</b></code></td>\n",
        "      <td><code><b>y_res2</b></code></td>\n",
        "      <td><code><b>x_1</b></code></td>\n",
        "      <td><code><b>y - h_1(x_1) - h_2(x_1)</b></code></td>\n",
        "  </tr>\n",
        "  <tr>\n",
        "      <td><code><b>326</b></code></td>\n",
        "      <td>Ensemble's prediction</td>\n",
        "      <td><code><b>[reg_1, reg_2, reg_3]</b></code></td>\n",
        "      <td><code><b>X</b></code></td>\n",
        "      <td><code><b>y</b></code></td>\n",
        "      <td><code><b>x_1</b></code></td>\n",
        "      <td><code><b>y</b></code></td>\n",
        "  </tr>\n",
        "</table>"
      ],
      "metadata": {
        "id": "jVNR_caxBudt"
      }
    },
    {
      "cell_type": "code",
      "execution_count": 21,
      "metadata": {
        "colab": {
          "base_uri": "https://localhost:8080/",
          "height": 798
        },
        "id": "gbuQDXNWRz8p",
        "outputId": "93026b29-7860-4081-8135-b0bb4f1b3816",
        "tags": []
      },
      "outputs": [
        {
          "output_type": "display_data",
          "data": {
            "text/plain": [
              "<Figure size 900x900 with 6 Axes>"
            ],
            "image/png": "[encoded data removed]"
          },
          "metadata": {}
        }
      ],
      "source": [
        "mpl.rcParams['axes.titlesize']  = 16\n",
        "mpl.rcParams['ytick.labelsize'] = 10\n",
        "fontsize_legends                = 10\n",
        "\n",
        "plt.figure(figsize=(9, 9))\n",
        "# -----------------------------------------------------------------------------\n",
        "#                               SUBPLOT 321\n",
        "# -----------------------------------------------------------------------------\n",
        "ax321 = plt.subplot(321)\n",
        "\n",
        "plot_predictions(\n",
        "      [reg_1]\n",
        "    , X\n",
        "    , y\n",
        "    , axes       = [-0.5, 0.5, -0.1, 0.8]\n",
        "    , label      = \"$h_1(x_1)$\"\n",
        "    , style      = \"g-\"\n",
        "    , data_label = \"Training set\"\n",
        ")\n",
        "\n",
        "plt.ylabel(\n",
        "      \"$y$\"\n",
        "    , fontsize = 16\n",
        ")\n",
        "\n",
        "plt.title(\n",
        "      \"Residuals and tree predictions\"\n",
        "    , fontsize = 16\n",
        ")\n",
        "\n",
        "ax321.legend(\n",
        "      fontsize = fontsize_legends\n",
        ")\n",
        "# -----------------------------------------------------------------------------\n",
        "#                               SUBPLOT 322\n",
        "# -----------------------------------------------------------------------------\n",
        "ax322 = plt.subplot(322)\n",
        "\n",
        "plot_predictions(\n",
        "      [reg_1]\n",
        "    , X\n",
        "    , y\n",
        "    , axes       = [-0.5, 0.5, -0.1, 0.8]\n",
        "    , label      = \"$h(x_1) = h_1(x_1)$\"\n",
        "    , data_label = \"Training set\"\n",
        ")\n",
        "\n",
        "plt.ylabel(\n",
        "      \"$y$\"\n",
        "    , fontsize = 16\n",
        ")\n",
        "\n",
        "plt.title(\n",
        "      \"Ensemble predictions\"\n",
        ")\n",
        "\n",
        "ax322.legend(\n",
        "      fontsize = fontsize_legends\n",
        ")\n",
        "# -----------------------------------------------------------------------------\n",
        "#                               SUBPLOT 323\n",
        "# -----------------------------------------------------------------------------\n",
        "ax323 = plt.subplot(323)\n",
        "\n",
        "plot_predictions(\n",
        "      [reg_2]\n",
        "    , X\n",
        "    , y_res1\n",
        "    , axes       = [-0.5, 0.5, -0.5, 0.5]\n",
        "    , label      = \"$h_2(x_1)$\"\n",
        "    , style      = \"g-\"\n",
        "    , data_style = \"k+\"\n",
        "    , data_label = \"Residuals\"\n",
        ")\n",
        "\n",
        "plt.ylabel(\n",
        "      \"$y - h_1(x_1)$\"\n",
        "    , fontsize = 16\n",
        ")\n",
        "\n",
        "ax323.legend(\n",
        "      fontsize = fontsize_legends\n",
        ")\n",
        "# -----------------------------------------------------------------------------\n",
        "#                               SUBPLOT 324\n",
        "# -----------------------------------------------------------------------------\n",
        "ax324 = plt.subplot(324)\n",
        "\n",
        "plot_predictions(\n",
        "      [reg_1, reg_2]\n",
        "    , X\n",
        "    , y\n",
        "    , axes  = [-0.5, 0.5, -0.1, 0.8]\n",
        "    , label = \"$h(x_1) = h_1(x_1) + h_2(x_1)$\"\n",
        ")\n",
        "\n",
        "plt.ylabel(\n",
        "      \"$y$\"\n",
        "    , fontsize = 16\n",
        ")\n",
        "\n",
        "ax324.legend(\n",
        "      fontsize = fontsize_legends\n",
        ")# -----------------------------------------------------------------------------\n",
        "#                               SUBPLOT 325\n",
        "# -----------------------------------------------------------------------------\n",
        "ax325 = plt.subplot(325)\n",
        "\n",
        "plot_predictions(\n",
        "      [reg_3]\n",
        "    , X\n",
        "    , y_res2\n",
        "    , axes       = [-0.5, 0.5, -0.5, 0.5]\n",
        "    , label      = \"$h_3(x_1)$\"\n",
        "    , style      = \"g-\"\n",
        "    , data_style = \"k+\"\n",
        ")\n",
        "\n",
        "plt.xlabel(\n",
        "      \"$x_1$\"\n",
        ")\n",
        "\n",
        "plt.ylabel(\n",
        "      \"$y - h_1(x_1) - h_2(x_1)$\"\n",
        "    , fontsize = 16\n",
        ")\n",
        "\n",
        "ax325.legend(\n",
        "      fontsize = fontsize_legends\n",
        ")\n",
        "# -----------------------------------------------------------------------------\n",
        "#                               SUBPLOT 326\n",
        "# -----------------------------------------------------------------------------\n",
        "ax326 = plt.subplot(326)\n",
        "\n",
        "plot_predictions(\n",
        "      [reg_1, reg_2, reg_3]\n",
        "    , X\n",
        "    , y\n",
        "    , axes  = [-0.5, 0.5, -0.1, 0.8]\n",
        "    , label = \"$h(x_1) = h_1(x_1) + h_2(x_1) + h_3(x_1)$\"\n",
        ")\n",
        "\n",
        "plt.xlabel(\n",
        "      \"$x_1$\"\n",
        ")\n",
        "\n",
        "plt.ylabel(\n",
        "      \"$y$\"\n",
        "    , fontsize = 16\n",
        ")\n",
        "\n",
        "ax326.legend(\n",
        "      fontsize = fontsize_legends\n",
        ")\n",
        "# -----------------------------------------------------------------------------\n",
        "# save_fig(\"gradient_boosting_plot\")\n",
        "plt.show()"
      ]
    },
    {
      "cell_type": "markdown",
      "source": [
        "# 2. Classification"
      ],
      "metadata": {
        "id": "a92_FEgGQvL7"
      }
    },
    {
      "cell_type": "markdown",
      "metadata": {
        "id": "9dsMW-TCRz8s"
      },
      "source": [
        "Now that you have solid understanding of Gradient Boosting in the regression scenario, let's apply the same algorithm to a <b>classification</b> problem. Specifically, the <b>Titanic dataset</b> ( <a href=\"https://github.com/mehrdadmohsenizadeh/SB_DS/blob/main/14.%20Supervised%20Learning/14.5.%20Ensemble%20Methods%3A%20Gradient%20Boosting%20and%20AdaBoost/data/titanic.csv\"><code><b>../data/titanic.csv</b></code></a>) and predicting survival."
      ]
    },
    {
      "cell_type": "markdown",
      "source": [
        "## 2.1. Load data"
      ],
      "metadata": {
        "id": "QtVGmBmUSH6Z"
      }
    },
    {
      "cell_type": "markdown",
      "metadata": {
        "id": "oaIC-pukRz8s",
        "tags": []
      },
      "source": [
        "Use pandas <code><b>read_csv()</b></code> method to load in the Titantic data set into a dataframe object called <code><b>df</b></code> .\n",
        "\n",
        "> <b>Hint:</b> In this case, you can use <a href=\"https://pandas.pydata.org/pandas-docs/stable/reference/api/pandas.DataFrame.dropna.html\"><code><b>dropna()</b></code></a> to just throw away any incomplete rows. For the purpose of this exercise, we will disregard them but obviously in the real world you need to be much more careful and decide how to handle incomplete observations."
      ]
    },
    {
      "cell_type": "code",
      "execution_count": 22,
      "metadata": {
        "id": "2MG_oc_cRz8s"
      },
      "outputs": [],
      "source": [
        "df = pd.read_csv(\n",
        "    \"/content/drive/MyDrive/Colab Notebooks/data/14.5.titanic.csv\"\n",
        ").dropna()"
      ]
    },
    {
      "cell_type": "markdown",
      "source": [
        "## 2.2. Visualize"
      ],
      "metadata": {
        "id": "ALXM8okxxee_"
      }
    },
    {
      "cell_type": "code",
      "source": [
        "df.head()"
      ],
      "metadata": {
        "colab": {
          "base_uri": "https://localhost:8080/",
          "height": 206
        },
        "id": "YQqlaNXj5_Pf",
        "outputId": "f80a772f-cb79-431a-9a66-6bc690e2c16c"
      },
      "execution_count": 23,
      "outputs": [
        {
          "output_type": "execute_result",
          "data": {
            "text/plain": [
              "    PassengerId  Survived  Pclass  \\\n",
              "1             2         1       1   \n",
              "3             4         1       1   \n",
              "6             7         0       1   \n",
              "10           11         1       3   \n",
              "11           12         1       1   \n",
              "\n",
              "                                                 Name     Sex   Age  SibSp  \\\n",
              "1   Cumings, Mrs. John Bradley (Florence Briggs Th...  female  38.0      1   \n",
              "3        Futrelle, Mrs. Jacques Heath (Lily May Peel)  female  35.0      1   \n",
              "6                             McCarthy, Mr. Timothy J    male  54.0      0   \n",
              "10                    Sandstrom, Miss. Marguerite Rut  female   4.0      1   \n",
              "11                           Bonnell, Miss. Elizabeth  female  58.0      0   \n",
              "\n",
              "    Parch    Ticket     Fare Cabin Embarked  \n",
              "1       0  PC 17599  71.2833   C85        C  \n",
              "3       0    113803  53.1000  C123        S  \n",
              "6       0     17463  51.8625   E46        S  \n",
              "10      1   PP 9549  16.7000    G6        S  \n",
              "11      0    113783  26.5500  C103        S  "
            ],
            "text/html": [
              "\n",
              "  <div id=\"df-a4cf0239-a85a-471a-bf81-7430d7da79f2\" class=\"colab-df-container\">\n",
              "    <div>\n",
              "<style scoped>\n",
              "    .dataframe tbody tr th:only-of-type {\n",
              "        vertical-align: middle;\n",
              "    }\n",
              "\n",
              "    .dataframe tbody tr th {\n",
              "        vertical-align: top;\n",
              "    }\n",
              "\n",
              "    .dataframe thead th {\n",
              "        text-align: right;\n",
              "    }\n",
              "</style>\n",
              "<table border=\"1\" class=\"dataframe\">\n",
              "  <thead>\n",
              "    <tr style=\"text-align: right;\">\n",
              "      <th></th>\n",
              "      <th>PassengerId</th>\n",
              "      <th>Survived</th>\n",
              "      <th>Pclass</th>\n",
              "      <th>Name</th>\n",
              "      <th>Sex</th>\n",
              "      <th>Age</th>\n",
              "      <th>SibSp</th>\n",
              "      <th>Parch</th>\n",
              "      <th>Ticket</th>\n",
              "      <th>Fare</th>\n",
              "      <th>Cabin</th>\n",
              "      <th>Embarked</th>\n",
              "    </tr>\n",
              "  </thead>\n",
              "  <tbody>\n",
              "    <tr>\n",
              "      <th>1</th>\n",
              "      <td>2</td>\n",
              "      <td>1</td>\n",
              "      <td>1</td>\n",
              "      <td>Cumings, Mrs. John Bradley (Florence Briggs Th...</td>\n",
              "      <td>female</td>\n",
              "      <td>38.0</td>\n",
              "      <td>1</td>\n",
              "      <td>0</td>\n",
              "      <td>PC 17599</td>\n",
              "      <td>71.2833</td>\n",
              "      <td>C85</td>\n",
              "      <td>C</td>\n",
              "    </tr>\n",
              "    <tr>\n",
              "      <th>3</th>\n",
              "      <td>4</td>\n",
              "      <td>1</td>\n",
              "      <td>1</td>\n",
              "      <td>Futrelle, Mrs. Jacques Heath (Lily May Peel)</td>\n",
              "      <td>female</td>\n",
              "      <td>35.0</td>\n",
              "      <td>1</td>\n",
              "      <td>0</td>\n",
              "      <td>113803</td>\n",
              "      <td>53.1000</td>\n",
              "      <td>C123</td>\n",
              "      <td>S</td>\n",
              "    </tr>\n",
              "    <tr>\n",
              "      <th>6</th>\n",
              "      <td>7</td>\n",
              "      <td>0</td>\n",
              "      <td>1</td>\n",
              "      <td>McCarthy, Mr. Timothy J</td>\n",
              "      <td>male</td>\n",
              "      <td>54.0</td>\n",
              "      <td>0</td>\n",
              "      <td>0</td>\n",
              "      <td>17463</td>\n",
              "      <td>51.8625</td>\n",
              "      <td>E46</td>\n",
              "      <td>S</td>\n",
              "    </tr>\n",
              "    <tr>\n",
              "      <th>10</th>\n",
              "      <td>11</td>\n",
              "      <td>1</td>\n",
              "      <td>3</td>\n",
              "      <td>Sandstrom, Miss. Marguerite Rut</td>\n",
              "      <td>female</td>\n",
              "      <td>4.0</td>\n",
              "      <td>1</td>\n",
              "      <td>1</td>\n",
              "      <td>PP 9549</td>\n",
              "      <td>16.7000</td>\n",
              "      <td>G6</td>\n",
              "      <td>S</td>\n",
              "    </tr>\n",
              "    <tr>\n",
              "      <th>11</th>\n",
              "      <td>12</td>\n",
              "      <td>1</td>\n",
              "      <td>1</td>\n",
              "      <td>Bonnell, Miss. Elizabeth</td>\n",
              "      <td>female</td>\n",
              "      <td>58.0</td>\n",
              "      <td>0</td>\n",
              "      <td>0</td>\n",
              "      <td>113783</td>\n",
              "      <td>26.5500</td>\n",
              "      <td>C103</td>\n",
              "      <td>S</td>\n",
              "    </tr>\n",
              "  </tbody>\n",
              "</table>\n",
              "</div>\n",
              "    <div class=\"colab-df-buttons\">\n",
              "\n",
              "  <div class=\"colab-df-container\">\n",
              "    <button class=\"colab-df-convert\" onclick=\"convertToInteractive('df-a4cf0239-a85a-471a-bf81-7430d7da79f2')\"\n",
              "            title=\"Convert this dataframe to an interactive table.\"\n",
              "            style=\"display:none;\">\n",
              "\n",
              "  <svg xmlns=\"http://www.w3.org/2000/svg\" height=\"24px\" viewBox=\"0 -960 960 960\">\n",
              "    <path d=\"M120-120v-720h720v720H120Zm60-500h600v-160H180v160Zm220 220h160v-160H400v160Zm0 220h160v-160H400v160ZM180-400h160v-160H180v160Zm440 0h160v-160H620v160ZM180-180h160v-160H180v160Zm440 0h160v-160H620v160Z\"/>\n",
              "  </svg>\n",
              "    </button>\n",
              "\n",
              "  <style>\n",
              "    .colab-df-container {\n",
              "      display:flex;\n",
              "      gap: 12px;\n",
              "    }\n",
              "\n",
              "    .colab-df-convert {\n",
              "      background-color: #E8F0FE;\n",
              "      border: none;\n",
              "      border-radius: 50%;\n",
              "      cursor: pointer;\n",
              "      display: none;\n",
              "      fill: #1967D2;\n",
              "      height: 32px;\n",
              "      padding: 0 0 0 0;\n",
              "      width: 32px;\n",
              "    }\n",
              "\n",
              "    .colab-df-convert:hover {\n",
              "      background-color: #E2EBFA;\n",
              "      box-shadow: 0px 1px 2px rgba(60, 64, 67, 0.3), 0px 1px 3px 1px rgba(60, 64, 67, 0.15);\n",
              "      fill: #174EA6;\n",
              "    }\n",
              "\n",
              "    .colab-df-buttons div {\n",
              "      margin-bottom: 4px;\n",
              "    }\n",
              "\n",
              "    [theme=dark] .colab-df-convert {\n",
              "      background-color: #3B4455;\n",
              "      fill: #D2E3FC;\n",
              "    }\n",
              "\n",
              "    [theme=dark] .colab-df-convert:hover {\n",
              "      background-color: #434B5C;\n",
              "      box-shadow: 0px 1px 3px 1px rgba(0, 0, 0, 0.15);\n",
              "      filter: drop-shadow(0px 1px 2px rgba(0, 0, 0, 0.3));\n",
              "      fill: #FFFFFF;\n",
              "    }\n",
              "  </style>\n",
              "\n",
              "    <script>\n",
              "      const buttonEl =\n",
              "        document.querySelector('#df-a4cf0239-a85a-471a-bf81-7430d7da79f2 button.colab-df-convert');\n",
              "      buttonEl.style.display =\n",
              "        google.colab.kernel.accessAllowed ? 'block' : 'none';\n",
              "\n",
              "      async function convertToInteractive(key) {\n",
              "        const element = document.querySelector('#df-a4cf0239-a85a-471a-bf81-7430d7da79f2');\n",
              "        const dataTable =\n",
              "          await google.colab.kernel.invokeFunction('convertToInteractive',\n",
              "                                                    [key], {});\n",
              "        if (!dataTable) return;\n",
              "\n",
              "        const docLinkHtml = 'Like what you see? Visit the ' +\n",
              "          '<a target=\"_blank\" href=https://colab.research.google.com/notebooks/data_table.ipynb>data table notebook</a>'\n",
              "          + ' to learn more about interactive tables.';\n",
              "        element.innerHTML = '';\n",
              "        dataTable['output_type'] = 'display_data';\n",
              "        await google.colab.output.renderOutput(dataTable, element);\n",
              "        const docLink = document.createElement('div');\n",
              "        docLink.innerHTML = docLinkHtml;\n",
              "        element.appendChild(docLink);\n",
              "      }\n",
              "    </script>\n",
              "  </div>\n",
              "\n",
              "\n",
              "<div id=\"df-b4da579f-3808-4705-a4e6-358d37d5eeb6\">\n",
              "  <button class=\"colab-df-quickchart\" onclick=\"quickchart('df-b4da579f-3808-4705-a4e6-358d37d5eeb6')\"\n",
              "            title=\"Suggest charts.\"\n",
              "            style=\"display:none;\">\n",
              "\n",
              "<svg xmlns=\"http://www.w3.org/2000/svg\" height=\"24px\"viewBox=\"0 0 24 24\"\n",
              "     width=\"24px\">\n",
              "    <g>\n",
              "        <path d=\"M19 3H5c-1.1 0-2 .9-2 2v14c0 1.1.9 2 2 2h14c1.1 0 2-.9 2-2V5c0-1.1-.9-2-2-2zM9 17H7v-7h2v7zm4 0h-2V7h2v10zm4 0h-2v-4h2v4z\"/>\n",
              "    </g>\n",
              "</svg>\n",
              "  </button>\n",
              "\n",
              "<style>\n",
              "  .colab-df-quickchart {\n",
              "      --bg-color: #E8F0FE;\n",
              "      --fill-color: #1967D2;\n",
              "      --hover-bg-color: #E2EBFA;\n",
              "      --hover-fill-color: #174EA6;\n",
              "      --disabled-fill-color: #AAA;\n",
              "      --disabled-bg-color: #DDD;\n",
              "  }\n",
              "\n",
              "  [theme=dark] .colab-df-quickchart {\n",
              "      --bg-color: #3B4455;\n",
              "      --fill-color: #D2E3FC;\n",
              "      --hover-bg-color: #434B5C;\n",
              "      --hover-fill-color: #FFFFFF;\n",
              "      --disabled-bg-color: #3B4455;\n",
              "      --disabled-fill-color: #666;\n",
              "  }\n",
              "\n",
              "  .colab-df-quickchart {\n",
              "    background-color: var(--bg-color);\n",
              "    border: none;\n",
              "    border-radius: 50%;\n",
              "    cursor: pointer;\n",
              "    display: none;\n",
              "    fill: var(--fill-color);\n",
              "    height: 32px;\n",
              "    padding: 0;\n",
              "    width: 32px;\n",
              "  }\n",
              "\n",
              "  .colab-df-quickchart:hover {\n",
              "    background-color: var(--hover-bg-color);\n",
              "    box-shadow: 0 1px 2px rgba(60, 64, 67, 0.3), 0 1px 3px 1px rgba(60, 64, 67, 0.15);\n",
              "    fill: var(--button-hover-fill-color);\n",
              "  }\n",
              "\n",
              "  .colab-df-quickchart-complete:disabled,\n",
              "  .colab-df-quickchart-complete:disabled:hover {\n",
              "    background-color: var(--disabled-bg-color);\n",
              "    fill: var(--disabled-fill-color);\n",
              "    box-shadow: none;\n",
              "  }\n",
              "\n",
              "  .colab-df-spinner {\n",
              "    border: 2px solid var(--fill-color);\n",
              "    border-color: transparent;\n",
              "    border-bottom-color: var(--fill-color);\n",
              "    animation:\n",
              "      spin 1s steps(1) infinite;\n",
              "  }\n",
              "\n",
              "  @keyframes spin {\n",
              "    0% {\n",
              "      border-color: transparent;\n",
              "      border-bottom-color: var(--fill-color);\n",
              "      border-left-color: var(--fill-color);\n",
              "    }\n",
              "    20% {\n",
              "      border-color: transparent;\n",
              "      border-left-color: var(--fill-color);\n",
              "      border-top-color: var(--fill-color);\n",
              "    }\n",
              "    30% {\n",
              "      border-color: transparent;\n",
              "      border-left-color: var(--fill-color);\n",
              "      border-top-color: var(--fill-color);\n",
              "      border-right-color: var(--fill-color);\n",
              "    }\n",
              "    40% {\n",
              "      border-color: transparent;\n",
              "      border-right-color: var(--fill-color);\n",
              "      border-top-color: var(--fill-color);\n",
              "    }\n",
              "    60% {\n",
              "      border-color: transparent;\n",
              "      border-right-color: var(--fill-color);\n",
              "    }\n",
              "    80% {\n",
              "      border-color: transparent;\n",
              "      border-right-color: var(--fill-color);\n",
              "      border-bottom-color: var(--fill-color);\n",
              "    }\n",
              "    90% {\n",
              "      border-color: transparent;\n",
              "      border-bottom-color: var(--fill-color);\n",
              "    }\n",
              "  }\n",
              "</style>\n",
              "\n",
              "  <script>\n",
              "    async function quickchart(key) {\n",
              "      const quickchartButtonEl =\n",
              "        document.querySelector('#' + key + ' button');\n",
              "      quickchartButtonEl.disabled = true;  // To prevent multiple clicks.\n",
              "      quickchartButtonEl.classList.add('colab-df-spinner');\n",
              "      try {\n",
              "        const charts = await google.colab.kernel.invokeFunction(\n",
              "            'suggestCharts', [key], {});\n",
              "      } catch (error) {\n",
              "        console.error('Error during call to suggestCharts:', error);\n",
              "      }\n",
              "      quickchartButtonEl.classList.remove('colab-df-spinner');\n",
              "      quickchartButtonEl.classList.add('colab-df-quickchart-complete');\n",
              "    }\n",
              "    (() => {\n",
              "      let quickchartButtonEl =\n",
              "        document.querySelector('#df-b4da579f-3808-4705-a4e6-358d37d5eeb6 button');\n",
              "      quickchartButtonEl.style.display =\n",
              "        google.colab.kernel.accessAllowed ? 'block' : 'none';\n",
              "    })();\n",
              "  </script>\n",
              "</div>\n",
              "\n",
              "    </div>\n",
              "  </div>\n"
            ]
          },
          "metadata": {},
          "execution_count": 23
        }
      ]
    },
    {
      "cell_type": "code",
      "source": [
        "df.info()"
      ],
      "metadata": {
        "colab": {
          "base_uri": "https://localhost:8080/"
        },
        "id": "ywKdf_NL6boH",
        "outputId": "9d96e407-32a6-4a11-90be-afe2cef47cae"
      },
      "execution_count": 24,
      "outputs": [
        {
          "output_type": "stream",
          "name": "stdout",
          "text": [
            "<class 'pandas.core.frame.DataFrame'>\n",
            "Int64Index: 183 entries, 1 to 889\n",
            "Data columns (total 12 columns):\n",
            " #   Column       Non-Null Count  Dtype  \n",
            "---  ------       --------------  -----  \n",
            " 0   PassengerId  183 non-null    int64  \n",
            " 1   Survived     183 non-null    int64  \n",
            " 2   Pclass       183 non-null    int64  \n",
            " 3   Name         183 non-null    object \n",
            " 4   Sex          183 non-null    object \n",
            " 5   Age          183 non-null    float64\n",
            " 6   SibSp        183 non-null    int64  \n",
            " 7   Parch        183 non-null    int64  \n",
            " 8   Ticket       183 non-null    object \n",
            " 9   Fare         183 non-null    float64\n",
            " 10  Cabin        183 non-null    object \n",
            " 11  Embarked     183 non-null    object \n",
            "dtypes: float64(2), int64(5), object(5)\n",
            "memory usage: 18.6+ KB\n"
          ]
        }
      ]
    },
    {
      "cell_type": "markdown",
      "metadata": {
        "id": "zLvRIfuSRz8w",
        "tags": []
      },
      "source": [
        "Print the levels of the categorical data using <code><b>select_dtypes()</b></code> . The <code><b>df.info()</b></code> revealed that the categorical features in this dataset have a data type of <code><b>object</b></code> ."
      ]
    },
    {
      "cell_type": "code",
      "execution_count": 25,
      "metadata": {
        "id": "RmwDwRljRz8x"
      },
      "outputs": [],
      "source": [
        "# Select columns of dtype 'object'\n",
        "df_cols_obj = df.select_dtypes(\n",
        "    include = ['object']\n",
        ")"
      ]
    },
    {
      "cell_type": "code",
      "source": [
        "# Loop through the selected categorical columns and print unique levels\n",
        "for col in df_cols_obj.columns:\n",
        "\n",
        "    unique_levels = df_cols_obj[col].unique()\n",
        "\n",
        "    # Prettify the output\n",
        "    print(f\"Unique levels in feature '{col}':\")\n",
        "    for unique_level in unique_levels:\n",
        "        print(f\"  - {unique_level}\")"
      ],
      "metadata": {
        "id": "bGtjvFvj7lSX",
        "colab": {
          "base_uri": "https://localhost:8080/"
        },
        "outputId": "d0c893dd-38d5-4257-89af-dded567898e9"
      },
      "execution_count": 26,
      "outputs": [
        {
          "output_type": "stream",
          "name": "stdout",
          "text": [
            "Unique levels in feature 'Name':\n",
            "  - Cumings, Mrs. John Bradley (Florence Briggs Thayer)\n",
            "  - Futrelle, Mrs. Jacques Heath (Lily May Peel)\n",
            "  - McCarthy, Mr. Timothy J\n",
            "  - Sandstrom, Miss. Marguerite Rut\n",
            "  - Bonnell, Miss. Elizabeth\n",
            "  - Beesley, Mr. Lawrence\n",
            "  - Sloper, Mr. William Thompson\n",
            "  - Fortune, Mr. Charles Alexander\n",
            "  - Harper, Mrs. Henry Sleeper (Myna Haxtun)\n",
            "  - Ostby, Mr. Engelhart Cornelius\n",
            "  - Harris, Mr. Henry Birkhardt\n",
            "  - Nye, Mrs. (Elizabeth Ramell)\n",
            "  - Moen, Mr. Sigurd Hansen\n",
            "  - Fortune, Miss. Mabel Helen\n",
            "  - Chaffee, Mr. Herbert Fuller\n",
            "  - Goldschmidt, Mr. George B\n",
            "  - Greenfield, Mr. William Bertram\n",
            "  - White, Mr. Richard Frasar\n",
            "  - Porter, Mr. Walter Chamberlain\n",
            "  - Baxter, Mr. Quigg Edmond\n",
            "  - Webber, Miss. Susan\n",
            "  - White, Mr. Percival Wayland\n",
            "  - Newsom, Miss. Helen Monypeny\n",
            "  - Futrelle, Mr. Jacques Heath\n",
            "  - Giglio, Mr. Victor\n",
            "  - Navratil, Mr. Michel (\"Louis M Hoffman\")\n",
            "  - Pears, Mrs. Thomas (Edith Wearne)\n",
            "  - Van der hoef, Mr. Wyckoff\n",
            "  - Smith, Mr. James Clinch\n",
            "  - Isham, Miss. Ann Elizabeth\n",
            "  - Becker, Master. Richard F\n",
            "  - Navratil, Master. Michel M\n",
            "  - Brown, Mrs. James Joseph (Margaret Tobin)\n",
            "  - Lurette, Miss. Elise\n",
            "  - Strom, Miss. Telma Matilda\n",
            "  - Blank, Mr. Henry\n",
            "  - Newell, Miss. Madeleine\n",
            "  - Bazzani, Miss. Albina\n",
            "  - Hoyt, Mr. Frederick Maxfield\n",
            "  - Harris, Mrs. Henry Birkhardt (Irene Wallach)\n",
            "  - Minahan, Dr. William Edward\n",
            "  - Beckwith, Mr. Richard Leonard\n",
            "  - Strom, Mrs. Wilhelm (Elna Matilda Persson)\n",
            "  - Stead, Mr. William Thomas\n",
            "  - Cherry, Miss. Gladys\n",
            "  - Taussig, Mr. Emil\n",
            "  - Harrison, Mr. William\n",
            "  - Graham, Mrs. William Thompson (Edith Junkins)\n",
            "  - Bissette, Miss. Amelia\n",
            "  - Natsch, Mr. Charles H\n",
            "  - Andrews, Miss. Kornelia Theodosia\n",
            "  - Bishop, Mrs. Dickinson H (Helen Walton)\n",
            "  - Levy, Mr. Rene Jacques\n",
            "  - Allison, Miss. Helen Loraine\n",
            "  - Baxter, Mrs. James (Helene DeLaudeniere Chaput)\n",
            "  - Allison, Master. Hudson Trevor\n",
            "  - Penasco y Castellana, Mrs. Victor de Satode (Maria Josefa Perez de Soto y Vallejo)\n",
            "  - Francatelli, Miss. Laura Mabel\n",
            "  - Hays, Miss. Margaret Bechstein\n",
            "  - Ryerson, Miss. Emily Borie\n",
            "  - Wick, Miss. Mary Natalie\n",
            "  - Spedden, Mrs. Frederic Oakley (Margaretta Corning Stone)\n",
            "  - Young, Miss. Marie Grice\n",
            "  - Ball, Mrs. (Ada E Hall)\n",
            "  - Hippach, Miss. Jean Gertrude\n",
            "  - Partner, Mr. Austen\n",
            "  - Graham, Mr. George Edward\n",
            "  - Pears, Mr. Thomas Clinton\n",
            "  - Burns, Miss. Elizabeth Margaret\n",
            "  - Blackwell, Mr. Stephen Weart\n",
            "  - Navratil, Master. Edmond Roger\n",
            "  - Fortune, Miss. Alice Elizabeth\n",
            "  - Brown, Miss. Amelia \"Mildred\"\n",
            "  - Bowerman, Miss. Elsie Edith\n",
            "  - Warren, Mrs. Frank Manley (Anna Sophia Atkinson)\n",
            "  - Aubart, Mme. Leontine Pauline\n",
            "  - Harder, Mr. George Achilles\n",
            "  - Widener, Mr. Harry Elkins\n",
            "  - Carter, Mr. William Ernest\n",
            "  - Newell, Miss. Marjorie\n",
            "  - Sandstrom, Mrs. Hjalmar (Agnes Charlotta Bengtsson)\n",
            "  - Minahan, Miss. Daisy E\n",
            "  - Pickard, Mr. Berk (Berk Trembisky)\n",
            "  - Bjornstrom-Steffansson, Mr. Mauritz Hakan\n",
            "  - Silvey, Mr. William Baird\n",
            "  - Carter, Miss. Lucile Polk\n",
            "  - Fortune, Mr. Mark\n",
            "  - Dodge, Master. Washington\n",
            "  - Peuchen, Major. Arthur Godfrey\n",
            "  - Foreman, Mr. Benjamin Laventall\n",
            "  - Goldenberg, Mr. Samuel L\n",
            "  - Millet, Mr. Francis Davis\n",
            "  - Anderson, Mr. Harry\n",
            "  - Gee, Mr. Arthur H\n",
            "  - Jerwan, Mrs. Amin S (Marie Marthe Thuillard)\n",
            "  - Bishop, Mr. Dickinson H\n",
            "  - Hoyt, Mrs. Frederick Maxfield (Jane Anne Forby)\n",
            "  - Kent, Mr. Edward Austin\n",
            "  - Molson, Mr. Harry Markland\n",
            "  - Eustis, Miss. Elizabeth Mussey\n",
            "  - Allison, Mrs. Hudson J C (Bessie Waldo Daniels)\n",
            "  - Maioni, Miss. Roberta\n",
            "  - Penasco y Castellana, Mr. Victor de Satode\n",
            "  - McGough, Mr. James Robert\n",
            "  - Walker, Mr. William Anderson\n",
            "  - Lemore, Mrs. (Amelia Milley)\n",
            "  - Perreault, Miss. Anne\n",
            "  - Hippach, Mrs. Louis Albert (Ida Sophia Fischer)\n",
            "  - Butt, Major. Archibald Willingham\n",
            "  - Frolicher, Miss. Hedwig Margaritha\n",
            "  - Crosby, Miss. Harriet R\n",
            "  - Douglas, Mr. Walter Donald\n",
            "  - Thayer, Mr. John Borland Jr\n",
            "  - Duff Gordon, Lady. (Lucille Christiana Sutherland) (\"Mrs Morgan\")\n",
            "  - Taussig, Mrs. Emil (Tillie Mandelbaum)\n",
            "  - Appleton, Mrs. Edward Dale (Charlotte Lamson)\n",
            "  - Flynn, Mr. John Irwin (\"Irving\")\n",
            "  - Silvey, Mrs. William Baird (Alice Munger)\n",
            "  - Thayer, Mrs. John Borland (Marian Longstreth Morris)\n",
            "  - Ross, Mr. John Hugo\n",
            "  - Taussig, Miss. Ruth\n",
            "  - Frolicher-Stehli, Mr. Maxmillian\n",
            "  - Stephenson, Mrs. Walter Bertram (Martha Eustis)\n",
            "  - Duff Gordon, Sir. Cosmo Edmund (\"Mr Morgan\")\n",
            "  - Shutes, Miss. Elizabeth W\n",
            "  - Becker, Miss. Marion Louise\n",
            "  - Kimball, Mr. Edwin Nelson Jr\n",
            "  - Sutton, Mr. Frederick\n",
            "  - Longley, Miss. Gretchen Fiske\n",
            "  - Barkworth, Mr. Algernon Henry Wilson\n",
            "  - Stahelin-Maeglin, Dr. Max\n",
            "  - Sagesser, Mlle. Emma\n",
            "  - Harper, Mr. Henry Sleeper\n",
            "  - Simonius-Blumer, Col. Oberst Alfons\n",
            "  - Newell, Mr. Arthur Webster\n",
            "  - Colley, Mr. Edward Pomeroy\n",
            "  - Davidson, Mr. Thornton\n",
            "  - Cardeza, Mr. Thomas Drake Martinez\n",
            "  - Hassab, Mr. Hammad\n",
            "  - Madill, Miss. Georgette Alexandra\n",
            "  - Dick, Mr. Albert Adrian\n",
            "  - Thayer, Mr. John Borland\n",
            "  - Humblen, Mr. Adolf Mathias Nicolai Olsen\n",
            "  - Astor, Mrs. John Jacob (Madeleine Talmadge Force)\n",
            "  - Silverthorne, Mr. Spencer Victor\n",
            "  - Calderhead, Mr. Edward Pennington\n",
            "  - Mayne, Mlle. Berthe Antonine (\"Mrs de Villiers\")\n",
            "  - Taylor, Mr. Elmer Zebley\n",
            "  - Soholt, Mr. Peter Andreas Lauritz Andersen\n",
            "  - Endres, Miss. Caroline Louise\n",
            "  - Troutt, Miss. Edwina Celia \"Winnie\"\n",
            "  - Chambers, Mr. Norman Campbell\n",
            "  - Allen, Miss. Elisabeth Walton\n",
            "  - Lesurer, Mr. Gustave J\n",
            "  - Cavendish, Mr. Tyrell William\n",
            "  - Ryerson, Miss. Susan Parker \"Suzette\"\n",
            "  - Crosby, Capt. Edward Gifford\n",
            "  - Marvin, Mr. Daniel Warner\n",
            "  - Moor, Master. Meier\n",
            "  - Rothes, the Countess. of (Lucy Noel Martha Dyer-Edwards)\n",
            "  - Carter, Mrs. William Ernest (Lucile Polk)\n",
            "  - Hogeboom, Mrs. John C (Anna Andrews)\n",
            "  - Mack, Mrs. (Mary)\n",
            "  - Robert, Mrs. Edward Scott (Elisabeth Walton McMillan)\n",
            "  - Dick, Mrs. Albert Adrian (Vera Gillespie)\n",
            "  - Long, Mr. Milton Clyde\n",
            "  - Guggenheim, Mr. Benjamin\n",
            "  - Leader, Dr. Alice (Farnham)\n",
            "  - Carter, Master. William Thornton II\n",
            "  - Andrews, Mr. Thomas Jr\n",
            "  - Chambers, Mrs. Norman Campbell (Bertha Griggs)\n",
            "  - Hays, Mrs. Charles Melville (Clara Jennings Gregg)\n",
            "  - Moor, Mrs. (Beila)\n",
            "  - Compton, Miss. Sara Rebecca\n",
            "  - Lines, Miss. Mary Conover\n",
            "  - Daly, Mr. Peter Denis \n",
            "  - Swift, Mrs. Frederick Joel (Margaret Welles Barron)\n",
            "  - Roebling, Mr. Washington Augustus II\n",
            "  - Beckwith, Mrs. Richard Leonard (Sallie Monypeny)\n",
            "  - Carlsson, Mr. Frans Olof\n",
            "  - Potter, Mrs. Thomas Jr (Lily Alexenia Wilson)\n",
            "  - Graham, Miss. Margaret Edith\n",
            "  - Behr, Mr. Karl Howell\n",
            "Unique levels in feature 'Sex':\n",
            "  - female\n",
            "  - male\n",
            "Unique levels in feature 'Ticket':\n",
            "  - PC 17599\n",
            "  - 113803\n",
            "  - 17463\n",
            "  - PP 9549\n",
            "  - 113783\n",
            "  - 248698\n",
            "  - 113788\n",
            "  - 19950\n",
            "  - PC 17572\n",
            "  - 113509\n",
            "  - 36973\n",
            "  - C.A. 29395\n",
            "  - 348123\n",
            "  - W.E.P. 5734\n",
            "  - PC 17754\n",
            "  - PC 17759\n",
            "  - 35281\n",
            "  - 110465\n",
            "  - PC 17558\n",
            "  - 27267\n",
            "  - 11752\n",
            "  - PC 17593\n",
            "  - 230080\n",
            "  - 113776\n",
            "  - 111240\n",
            "  - 17764\n",
            "  - PC 17595\n",
            "  - 230136\n",
            "  - PC 17610\n",
            "  - PC 17569\n",
            "  - 347054\n",
            "  - 112277\n",
            "  - 35273\n",
            "  - 11813\n",
            "  - 19943\n",
            "  - 19928\n",
            "  - 11751\n",
            "  - 113514\n",
            "  - 110152\n",
            "  - 110413\n",
            "  - 112059\n",
            "  - PC 17582\n",
            "  - PC 17760\n",
            "  - PC 17596\n",
            "  - 13502\n",
            "  - 11967\n",
            "  - SC/Paris 2163\n",
            "  - 113781\n",
            "  - PC 17758\n",
            "  - PC 17485\n",
            "  - 11767\n",
            "  - PC 17608\n",
            "  - 36928\n",
            "  - 16966\n",
            "  - 28551\n",
            "  - 111361\n",
            "  - 113043\n",
            "  - 113784\n",
            "  - 248733\n",
            "  - 113505\n",
            "  - 110813\n",
            "  - PC 17477\n",
            "  - 11765\n",
            "  - 113503\n",
            "  - 113760\n",
            "  - SOTON/O.Q. 392078\n",
            "  - 110564\n",
            "  - 13507\n",
            "  - 33638\n",
            "  - 113786\n",
            "  - 113051\n",
            "  - 17453\n",
            "  - 13509\n",
            "  - 19952\n",
            "  - 111320\n",
            "  - SC/AH Basle 541\n",
            "  - 11771\n",
            "  - 113787\n",
            "  - 36947\n",
            "  - PC 17473\n",
            "  - 36967\n",
            "  - C.A. 34260\n",
            "  - 12749\n",
            "  - 113050\n",
            "  - 13568\n",
            "  - WE/P 5735\n",
            "  - PC 17761\n",
            "  - 17421\n",
            "  - 11755\n",
            "  - 11769\n",
            "  - PC 17474\n",
            "  - 13049\n",
            "  - 13567\n",
            "  - 11753\n",
            "  - 36963\n",
            "  - 27042\n",
            "  - 13214\n",
            "  - 13213\n",
            "  - 5727\n",
            "  - F.C. 12750\n",
            "  - PC 17755\n",
            "  - 24160\n",
            "  - 17474\n",
            "  - 348121\n",
            "  - PC 17757\n",
            "  - PC 17475\n",
            "  - PC 17476\n",
            "  - PC 17482\n",
            "  - 19996\n",
            "  - 348124\n",
            "  - 34218\n",
            "  - 113806\n",
            "  - 19877\n",
            "  - 113773\n",
            "  - 392096\n",
            "  - S.O./P.P. 3\n",
            "  - 113501\n",
            "  - 17465\n",
            "  - 112050\n",
            "  - PC 17756\n",
            "  - PC 17592\n",
            "  - 113055\n",
            "  - 17466\n",
            "  - PC 17590\n",
            "  - 695\n",
            "  - 112053\n",
            "  - 111369\n",
            "Unique levels in feature 'Cabin':\n",
            "  - C85\n",
            "  - C123\n",
            "  - E46\n",
            "  - G6\n",
            "  - C103\n",
            "  - D56\n",
            "  - A6\n",
            "  - C23 C25 C27\n",
            "  - D33\n",
            "  - B30\n",
            "  - C83\n",
            "  - F33\n",
            "  - F G73\n",
            "  - E31\n",
            "  - A5\n",
            "  - D10 D12\n",
            "  - D26\n",
            "  - C110\n",
            "  - B58 B60\n",
            "  - E101\n",
            "  - D47\n",
            "  - B86\n",
            "  - F2\n",
            "  - C2\n",
            "  - B19\n",
            "  - A7\n",
            "  - C49\n",
            "  - F4\n",
            "  - B4\n",
            "  - B80\n",
            "  - A31\n",
            "  - D36\n",
            "  - D15\n",
            "  - C93\n",
            "  - C78\n",
            "  - D35\n",
            "  - C87\n",
            "  - B77\n",
            "  - E67\n",
            "  - B94\n",
            "  - C125\n",
            "  - C99\n",
            "  - C118\n",
            "  - D7\n",
            "  - B49\n",
            "  - D\n",
            "  - C22 C26\n",
            "  - C65\n",
            "  - E36\n",
            "  - C54\n",
            "  - B57 B59 B63 B66\n",
            "  - C7\n",
            "  - E34\n",
            "  - C32\n",
            "  - B18\n",
            "  - C124\n",
            "  - C91\n",
            "  - E40\n",
            "  - T\n",
            "  - E33\n",
            "  - D37\n",
            "  - B35\n",
            "  - E50\n",
            "  - C82\n",
            "  - B96 B98\n",
            "  - E10\n",
            "  - C52\n",
            "  - E44\n",
            "  - A34\n",
            "  - C104\n",
            "  - C111\n",
            "  - C92\n",
            "  - E38\n",
            "  - E12\n",
            "  - E63\n",
            "  - B37\n",
            "  - C30\n",
            "  - D20\n",
            "  - B79\n",
            "  - E25\n",
            "  - D46\n",
            "  - B73\n",
            "  - B38\n",
            "  - B39\n",
            "  - B22\n",
            "  - C86\n",
            "  - C70\n",
            "  - A16\n",
            "  - C101\n",
            "  - C68\n",
            "  - A10\n",
            "  - E68\n",
            "  - B41\n",
            "  - A20\n",
            "  - D19\n",
            "  - D50\n",
            "  - D9\n",
            "  - A23\n",
            "  - B50\n",
            "  - A26\n",
            "  - D48\n",
            "  - E58\n",
            "  - B71\n",
            "  - B51 B53 B55\n",
            "  - D49\n",
            "  - B5\n",
            "  - B20\n",
            "  - F G63\n",
            "  - C62 C64\n",
            "  - E24\n",
            "  - C90\n",
            "  - C126\n",
            "  - C45\n",
            "  - E8\n",
            "  - B101\n",
            "  - C46\n",
            "  - D30\n",
            "  - E121\n",
            "  - D11\n",
            "  - E77\n",
            "  - B3\n",
            "  - D6\n",
            "  - B82 B84\n",
            "  - D17\n",
            "  - A36\n",
            "  - B69\n",
            "  - E49\n",
            "  - D28\n",
            "  - E17\n",
            "  - A24\n",
            "  - C50\n",
            "  - B42\n",
            "  - C148\n",
            "Unique levels in feature 'Embarked':\n",
            "  - C\n",
            "  - S\n",
            "  - Q\n"
          ]
        }
      ]
    },
    {
      "cell_type": "markdown",
      "source": [
        "## 2.3. Feature Engineering"
      ],
      "metadata": {
        "id": "JbMl-BeXxxqR"
      }
    },
    {
      "cell_type": "markdown",
      "metadata": {
        "id": "D07cr6M5Rz8z",
        "tags": []
      },
      "source": [
        "Create dummy features for the categorical features and add those to the dataframe <code><b>df</b></code> . Make sure to also remove the original categorical columns from the <code><b>df</b></code> ."
      ]
    },
    {
      "cell_type": "code",
      "execution_count": 27,
      "metadata": {
        "id": "vPF6cbioRz8z"
      },
      "outputs": [],
      "source": [
        "try:\n",
        "  # 1. Remove specified columns df_cols_obj from df.\n",
        "  # 2. Convert categorical columns ('Name', 'Cabin', 'Ticket') into one-hot encoded columns.\n",
        "  # 3. Drop the 'PassengerId' column from the resulted DataFrame.\n",
        "  df = df.drop(df_cols_obj.columns, axis=1)\\\n",
        "      .join(pd.get_dummies(df_cols_obj.drop(['Name', 'Cabin', 'Ticket'], axis=1)))\\\n",
        "      .drop('PassengerId', axis=1)\n",
        "except:\n",
        "  pass"
      ]
    },
    {
      "cell_type": "code",
      "source": [
        "df.shape"
      ],
      "metadata": {
        "colab": {
          "base_uri": "https://localhost:8080/"
        },
        "id": "RK0eRtEh_Zxa",
        "outputId": "9f8bb32a-b660-4d92-d1a9-5dfa7e495fef"
      },
      "execution_count": 28,
      "outputs": [
        {
          "output_type": "execute_result",
          "data": {
            "text/plain": [
              "(183, 11)"
            ]
          },
          "metadata": {},
          "execution_count": 28
        }
      ]
    },
    {
      "cell_type": "code",
      "source": [
        "df.head()"
      ],
      "metadata": {
        "colab": {
          "base_uri": "https://localhost:8080/",
          "height": 206
        },
        "id": "COWCdDC__c8d",
        "outputId": "f1ca38cf-30bc-48f7-8128-1fdc09b068ad"
      },
      "execution_count": 29,
      "outputs": [
        {
          "output_type": "execute_result",
          "data": {
            "text/plain": [
              "    Survived  Pclass   Age  SibSp  Parch     Fare  Sex_female  Sex_male  \\\n",
              "1          1       1  38.0      1      0  71.2833           1         0   \n",
              "3          1       1  35.0      1      0  53.1000           1         0   \n",
              "6          0       1  54.0      0      0  51.8625           0         1   \n",
              "10         1       3   4.0      1      1  16.7000           1         0   \n",
              "11         1       1  58.0      0      0  26.5500           1         0   \n",
              "\n",
              "    Embarked_C  Embarked_Q  Embarked_S  \n",
              "1            1           0           0  \n",
              "3            0           0           1  \n",
              "6            0           0           1  \n",
              "10           0           0           1  \n",
              "11           0           0           1  "
            ],
            "text/html": [
              "\n",
              "  <div id=\"df-4721e2d9-7a72-4337-a931-8cf551d78c97\" class=\"colab-df-container\">\n",
              "    <div>\n",
              "<style scoped>\n",
              "    .dataframe tbody tr th:only-of-type {\n",
              "        vertical-align: middle;\n",
              "    }\n",
              "\n",
              "    .dataframe tbody tr th {\n",
              "        vertical-align: top;\n",
              "    }\n",
              "\n",
              "    .dataframe thead th {\n",
              "        text-align: right;\n",
              "    }\n",
              "</style>\n",
              "<table border=\"1\" class=\"dataframe\">\n",
              "  <thead>\n",
              "    <tr style=\"text-align: right;\">\n",
              "      <th></th>\n",
              "      <th>Survived</th>\n",
              "      <th>Pclass</th>\n",
              "      <th>Age</th>\n",
              "      <th>SibSp</th>\n",
              "      <th>Parch</th>\n",
              "      <th>Fare</th>\n",
              "      <th>Sex_female</th>\n",
              "      <th>Sex_male</th>\n",
              "      <th>Embarked_C</th>\n",
              "      <th>Embarked_Q</th>\n",
              "      <th>Embarked_S</th>\n",
              "    </tr>\n",
              "  </thead>\n",
              "  <tbody>\n",
              "    <tr>\n",
              "      <th>1</th>\n",
              "      <td>1</td>\n",
              "      <td>1</td>\n",
              "      <td>38.0</td>\n",
              "      <td>1</td>\n",
              "      <td>0</td>\n",
              "      <td>71.2833</td>\n",
              "      <td>1</td>\n",
              "      <td>0</td>\n",
              "      <td>1</td>\n",
              "      <td>0</td>\n",
              "      <td>0</td>\n",
              "    </tr>\n",
              "    <tr>\n",
              "      <th>3</th>\n",
              "      <td>1</td>\n",
              "      <td>1</td>\n",
              "      <td>35.0</td>\n",
              "      <td>1</td>\n",
              "      <td>0</td>\n",
              "      <td>53.1000</td>\n",
              "      <td>1</td>\n",
              "      <td>0</td>\n",
              "      <td>0</td>\n",
              "      <td>0</td>\n",
              "      <td>1</td>\n",
              "    </tr>\n",
              "    <tr>\n",
              "      <th>6</th>\n",
              "      <td>0</td>\n",
              "      <td>1</td>\n",
              "      <td>54.0</td>\n",
              "      <td>0</td>\n",
              "      <td>0</td>\n",
              "      <td>51.8625</td>\n",
              "      <td>0</td>\n",
              "      <td>1</td>\n",
              "      <td>0</td>\n",
              "      <td>0</td>\n",
              "      <td>1</td>\n",
              "    </tr>\n",
              "    <tr>\n",
              "      <th>10</th>\n",
              "      <td>1</td>\n",
              "      <td>3</td>\n",
              "      <td>4.0</td>\n",
              "      <td>1</td>\n",
              "      <td>1</td>\n",
              "      <td>16.7000</td>\n",
              "      <td>1</td>\n",
              "      <td>0</td>\n",
              "      <td>0</td>\n",
              "      <td>0</td>\n",
              "      <td>1</td>\n",
              "    </tr>\n",
              "    <tr>\n",
              "      <th>11</th>\n",
              "      <td>1</td>\n",
              "      <td>1</td>\n",
              "      <td>58.0</td>\n",
              "      <td>0</td>\n",
              "      <td>0</td>\n",
              "      <td>26.5500</td>\n",
              "      <td>1</td>\n",
              "      <td>0</td>\n",
              "      <td>0</td>\n",
              "      <td>0</td>\n",
              "      <td>1</td>\n",
              "    </tr>\n",
              "  </tbody>\n",
              "</table>\n",
              "</div>\n",
              "    <div class=\"colab-df-buttons\">\n",
              "\n",
              "  <div class=\"colab-df-container\">\n",
              "    <button class=\"colab-df-convert\" onclick=\"convertToInteractive('df-4721e2d9-7a72-4337-a931-8cf551d78c97')\"\n",
              "            title=\"Convert this dataframe to an interactive table.\"\n",
              "            style=\"display:none;\">\n",
              "\n",
              "  <svg xmlns=\"http://www.w3.org/2000/svg\" height=\"24px\" viewBox=\"0 -960 960 960\">\n",
              "    <path d=\"M120-120v-720h720v720H120Zm60-500h600v-160H180v160Zm220 220h160v-160H400v160Zm0 220h160v-160H400v160ZM180-400h160v-160H180v160Zm440 0h160v-160H620v160ZM180-180h160v-160H180v160Zm440 0h160v-160H620v160Z\"/>\n",
              "  </svg>\n",
              "    </button>\n",
              "\n",
              "  <style>\n",
              "    .colab-df-container {\n",
              "      display:flex;\n",
              "      gap: 12px;\n",
              "    }\n",
              "\n",
              "    .colab-df-convert {\n",
              "      background-color: #E8F0FE;\n",
              "      border: none;\n",
              "      border-radius: 50%;\n",
              "      cursor: pointer;\n",
              "      display: none;\n",
              "      fill: #1967D2;\n",
              "      height: 32px;\n",
              "      padding: 0 0 0 0;\n",
              "      width: 32px;\n",
              "    }\n",
              "\n",
              "    .colab-df-convert:hover {\n",
              "      background-color: #E2EBFA;\n",
              "      box-shadow: 0px 1px 2px rgba(60, 64, 67, 0.3), 0px 1px 3px 1px rgba(60, 64, 67, 0.15);\n",
              "      fill: #174EA6;\n",
              "    }\n",
              "\n",
              "    .colab-df-buttons div {\n",
              "      margin-bottom: 4px;\n",
              "    }\n",
              "\n",
              "    [theme=dark] .colab-df-convert {\n",
              "      background-color: #3B4455;\n",
              "      fill: #D2E3FC;\n",
              "    }\n",
              "\n",
              "    [theme=dark] .colab-df-convert:hover {\n",
              "      background-color: #434B5C;\n",
              "      box-shadow: 0px 1px 3px 1px rgba(0, 0, 0, 0.15);\n",
              "      filter: drop-shadow(0px 1px 2px rgba(0, 0, 0, 0.3));\n",
              "      fill: #FFFFFF;\n",
              "    }\n",
              "  </style>\n",
              "\n",
              "    <script>\n",
              "      const buttonEl =\n",
              "        document.querySelector('#df-4721e2d9-7a72-4337-a931-8cf551d78c97 button.colab-df-convert');\n",
              "      buttonEl.style.display =\n",
              "        google.colab.kernel.accessAllowed ? 'block' : 'none';\n",
              "\n",
              "      async function convertToInteractive(key) {\n",
              "        const element = document.querySelector('#df-4721e2d9-7a72-4337-a931-8cf551d78c97');\n",
              "        const dataTable =\n",
              "          await google.colab.kernel.invokeFunction('convertToInteractive',\n",
              "                                                    [key], {});\n",
              "        if (!dataTable) return;\n",
              "\n",
              "        const docLinkHtml = 'Like what you see? Visit the ' +\n",
              "          '<a target=\"_blank\" href=https://colab.research.google.com/notebooks/data_table.ipynb>data table notebook</a>'\n",
              "          + ' to learn more about interactive tables.';\n",
              "        element.innerHTML = '';\n",
              "        dataTable['output_type'] = 'display_data';\n",
              "        await google.colab.output.renderOutput(dataTable, element);\n",
              "        const docLink = document.createElement('div');\n",
              "        docLink.innerHTML = docLinkHtml;\n",
              "        element.appendChild(docLink);\n",
              "      }\n",
              "    </script>\n",
              "  </div>\n",
              "\n",
              "\n",
              "<div id=\"df-75fb340d-9c8e-482e-a603-d8f6fbf23e9d\">\n",
              "  <button class=\"colab-df-quickchart\" onclick=\"quickchart('df-75fb340d-9c8e-482e-a603-d8f6fbf23e9d')\"\n",
              "            title=\"Suggest charts.\"\n",
              "            style=\"display:none;\">\n",
              "\n",
              "<svg xmlns=\"http://www.w3.org/2000/svg\" height=\"24px\"viewBox=\"0 0 24 24\"\n",
              "     width=\"24px\">\n",
              "    <g>\n",
              "        <path d=\"M19 3H5c-1.1 0-2 .9-2 2v14c0 1.1.9 2 2 2h14c1.1 0 2-.9 2-2V5c0-1.1-.9-2-2-2zM9 17H7v-7h2v7zm4 0h-2V7h2v10zm4 0h-2v-4h2v4z\"/>\n",
              "    </g>\n",
              "</svg>\n",
              "  </button>\n",
              "\n",
              "<style>\n",
              "  .colab-df-quickchart {\n",
              "      --bg-color: #E8F0FE;\n",
              "      --fill-color: #1967D2;\n",
              "      --hover-bg-color: #E2EBFA;\n",
              "      --hover-fill-color: #174EA6;\n",
              "      --disabled-fill-color: #AAA;\n",
              "      --disabled-bg-color: #DDD;\n",
              "  }\n",
              "\n",
              "  [theme=dark] .colab-df-quickchart {\n",
              "      --bg-color: #3B4455;\n",
              "      --fill-color: #D2E3FC;\n",
              "      --hover-bg-color: #434B5C;\n",
              "      --hover-fill-color: #FFFFFF;\n",
              "      --disabled-bg-color: #3B4455;\n",
              "      --disabled-fill-color: #666;\n",
              "  }\n",
              "\n",
              "  .colab-df-quickchart {\n",
              "    background-color: var(--bg-color);\n",
              "    border: none;\n",
              "    border-radius: 50%;\n",
              "    cursor: pointer;\n",
              "    display: none;\n",
              "    fill: var(--fill-color);\n",
              "    height: 32px;\n",
              "    padding: 0;\n",
              "    width: 32px;\n",
              "  }\n",
              "\n",
              "  .colab-df-quickchart:hover {\n",
              "    background-color: var(--hover-bg-color);\n",
              "    box-shadow: 0 1px 2px rgba(60, 64, 67, 0.3), 0 1px 3px 1px rgba(60, 64, 67, 0.15);\n",
              "    fill: var(--button-hover-fill-color);\n",
              "  }\n",
              "\n",
              "  .colab-df-quickchart-complete:disabled,\n",
              "  .colab-df-quickchart-complete:disabled:hover {\n",
              "    background-color: var(--disabled-bg-color);\n",
              "    fill: var(--disabled-fill-color);\n",
              "    box-shadow: none;\n",
              "  }\n",
              "\n",
              "  .colab-df-spinner {\n",
              "    border: 2px solid var(--fill-color);\n",
              "    border-color: transparent;\n",
              "    border-bottom-color: var(--fill-color);\n",
              "    animation:\n",
              "      spin 1s steps(1) infinite;\n",
              "  }\n",
              "\n",
              "  @keyframes spin {\n",
              "    0% {\n",
              "      border-color: transparent;\n",
              "      border-bottom-color: var(--fill-color);\n",
              "      border-left-color: var(--fill-color);\n",
              "    }\n",
              "    20% {\n",
              "      border-color: transparent;\n",
              "      border-left-color: var(--fill-color);\n",
              "      border-top-color: var(--fill-color);\n",
              "    }\n",
              "    30% {\n",
              "      border-color: transparent;\n",
              "      border-left-color: var(--fill-color);\n",
              "      border-top-color: var(--fill-color);\n",
              "      border-right-color: var(--fill-color);\n",
              "    }\n",
              "    40% {\n",
              "      border-color: transparent;\n",
              "      border-right-color: var(--fill-color);\n",
              "      border-top-color: var(--fill-color);\n",
              "    }\n",
              "    60% {\n",
              "      border-color: transparent;\n",
              "      border-right-color: var(--fill-color);\n",
              "    }\n",
              "    80% {\n",
              "      border-color: transparent;\n",
              "      border-right-color: var(--fill-color);\n",
              "      border-bottom-color: var(--fill-color);\n",
              "    }\n",
              "    90% {\n",
              "      border-color: transparent;\n",
              "      border-bottom-color: var(--fill-color);\n",
              "    }\n",
              "  }\n",
              "</style>\n",
              "\n",
              "  <script>\n",
              "    async function quickchart(key) {\n",
              "      const quickchartButtonEl =\n",
              "        document.querySelector('#' + key + ' button');\n",
              "      quickchartButtonEl.disabled = true;  // To prevent multiple clicks.\n",
              "      quickchartButtonEl.classList.add('colab-df-spinner');\n",
              "      try {\n",
              "        const charts = await google.colab.kernel.invokeFunction(\n",
              "            'suggestCharts', [key], {});\n",
              "      } catch (error) {\n",
              "        console.error('Error during call to suggestCharts:', error);\n",
              "      }\n",
              "      quickchartButtonEl.classList.remove('colab-df-spinner');\n",
              "      quickchartButtonEl.classList.add('colab-df-quickchart-complete');\n",
              "    }\n",
              "    (() => {\n",
              "      let quickchartButtonEl =\n",
              "        document.querySelector('#df-75fb340d-9c8e-482e-a603-d8f6fbf23e9d button');\n",
              "      quickchartButtonEl.style.display =\n",
              "        google.colab.kernel.accessAllowed ? 'block' : 'none';\n",
              "    })();\n",
              "  </script>\n",
              "</div>\n",
              "\n",
              "    </div>\n",
              "  </div>\n"
            ]
          },
          "metadata": {},
          "execution_count": 29
        }
      ]
    },
    {
      "cell_type": "markdown",
      "metadata": {
        "id": "8kU862wQRz82",
        "tags": []
      },
      "source": [
        "Print the null values for each column in the dataframe <code><b>df</b></code> ."
      ]
    },
    {
      "cell_type": "code",
      "execution_count": 30,
      "metadata": {
        "colab": {
          "base_uri": "https://localhost:8080/"
        },
        "id": "ZV2mKhf_Rz82",
        "outputId": "00ba98d4-9921-4598-feec-4728efe65a6e"
      },
      "outputs": [
        {
          "output_type": "execute_result",
          "data": {
            "text/plain": [
              "Survived      0\n",
              "Pclass        0\n",
              "Age           0\n",
              "SibSp         0\n",
              "Parch         0\n",
              "Fare          0\n",
              "Sex_female    0\n",
              "Sex_male      0\n",
              "Embarked_C    0\n",
              "Embarked_Q    0\n",
              "Embarked_S    0\n",
              "dtype: int64"
            ]
          },
          "metadata": {},
          "execution_count": 30
        }
      ],
      "source": [
        "df\\\n",
        ".isnull()\\\n",
        ".sum()"
      ]
    },
    {
      "cell_type": "markdown",
      "source": [
        "## 2.4. Features and Target variable"
      ],
      "metadata": {
        "id": "msmvz1Ksx7EL"
      }
    },
    {
      "cell_type": "markdown",
      "metadata": {
        "id": "zsDK9CraRz85",
        "tags": []
      },
      "source": [
        "Create the matrix <code><b>X</b></code> and vector <code><b>y</b></code> from the dataframe <code><b>df</b></code>, where:\n",
        "* The <code><b>\"df[Survived]\"</b></code> column is selected as the target vector <code><b>y</b></code> .\n",
        "* All remaining columns are considered to be our Features matrix <code><b>X</b></code>."
      ]
    },
    {
      "cell_type": "code",
      "source": [
        "y = df[\"Survived\"]"
      ],
      "metadata": {
        "id": "oeZgGbzoBAxr"
      },
      "execution_count": 31,
      "outputs": []
    },
    {
      "cell_type": "code",
      "execution_count": 32,
      "metadata": {
        "id": "dle4w3vRRz85"
      },
      "outputs": [],
      "source": [
        "# All other columns in \"df\" than \"Survived\" are assumed to be our features.\n",
        "X = df.drop(\n",
        "      'Survived'\n",
        "    , axis = 1\n",
        ")"
      ]
    },
    {
      "cell_type": "markdown",
      "source": [
        "## 2.5. Feature scaling"
      ],
      "metadata": {
        "id": "O6xB2lhmxUxJ"
      }
    },
    {
      "cell_type": "markdown",
      "metadata": {
        "id": "lT_yoTjtRz88",
        "tags": []
      },
      "source": [
        "Apply the <code><b>StandardScaler()</b></code> to the <code><b>X</b></code> matrix and call the trasformed data <code><b>X_scaled</b></code> ."
      ]
    },
    {
      "cell_type": "code",
      "execution_count": 33,
      "metadata": {
        "id": "c8VoJndnRz88"
      },
      "outputs": [],
      "source": [
        "X_scaled = preprocessing\\\n",
        "          .StandardScaler()\\\n",
        "          .fit_transform(X)"
      ]
    },
    {
      "cell_type": "markdown",
      "source": [
        "## 2.6. Train/Test split (<code><b>X</b></code> and <code><b>y</b></code>)"
      ],
      "metadata": {
        "id": "pgkuxXxtyWZR"
      }
    },
    {
      "cell_type": "markdown",
      "metadata": {
        "id": "-59l61rsRz9A",
        "tags": []
      },
      "source": [
        "Split the scaled features <code><b>X_scaled</b></code> and <code><b>y</b></code> into $75/25$ training and testing data subsets."
      ]
    },
    {
      "cell_type": "code",
      "execution_count": 34,
      "metadata": {
        "id": "rJZsUA0xRz9A"
      },
      "outputs": [],
      "source": [
        "X_train, X_test, y_train, y_test = train_test_split(\n",
        "      X_scaled\n",
        "    , y\n",
        "    , train_size   = 0.75\n",
        "    , random_state = 1\n",
        ")"
      ]
    },
    {
      "cell_type": "markdown",
      "source": [
        "## 2.7. Best Learning Rate"
      ],
      "metadata": {
        "id": "6PIodnmYw0dV"
      }
    },
    {
      "cell_type": "markdown",
      "metadata": {
        "id": "wTZIpc_KRz9C",
        "tags": []
      },
      "source": [
        "Run the cell below to test multiple learning rates in your <code><b>GradientBoostingClassifier</b></code> ."
      ]
    },
    {
      "cell_type": "code",
      "source": [
        "learning_rates = [0.05, 0.1, 0.25, 0.5, 0.75, 1]"
      ],
      "metadata": {
        "id": "3tBWt5YVgMgv"
      },
      "execution_count": 35,
      "outputs": []
    },
    {
      "cell_type": "code",
      "execution_count": 36,
      "metadata": {
        "id": "4ipqTcZPRz9D",
        "colab": {
          "base_uri": "https://localhost:8080/"
        },
        "outputId": "81cf0eac-dde0-4ec4-d8c5-5ef84796d0d1"
      },
      "outputs": [
        {
          "output_type": "stream",
          "name": "stdout",
          "text": [
            "Learning rate:  0.05\n",
            "Accuracy score (training): 0.715\n",
            "Accuracy score (validation): 0.652\n",
            "\n",
            "Learning rate:  0.1\n",
            "Accuracy score (training): 0.847\n",
            "Accuracy score (validation): 0.739\n",
            "\n",
            "Learning rate:  0.25\n",
            "Accuracy score (training): 0.876\n",
            "Accuracy score (validation): 0.739\n",
            "\n",
            "Learning rate:  0.5\n",
            "Accuracy score (training): 0.898\n",
            "Accuracy score (validation): 0.739\n",
            "\n",
            "Learning rate:  0.75\n",
            "Accuracy score (training): 0.905\n",
            "Accuracy score (validation): 0.761\n",
            "\n",
            "Learning rate:  1\n",
            "Accuracy score (training): 0.912\n",
            "Accuracy score (validation): 0.696\n",
            "\n"
          ]
        }
      ],
      "source": [
        "best_learning_rate       = None\n",
        "best_validation_accuracy = 0\n",
        "\n",
        "for learning_rate in learning_rates:\n",
        "\n",
        "    gb = GradientBoostingClassifier(\n",
        "          n_estimators  = 20\n",
        "        , learning_rate = learning_rate\n",
        "        , max_features  = 2\n",
        "        , max_depth     = 2\n",
        "        , random_state  = 0\n",
        "    )\n",
        "\n",
        "    gb.fit(\n",
        "          X_train\n",
        "        , y_train\n",
        "    )\n",
        "\n",
        "    training_accuracy = gb.score(\n",
        "          X_train\n",
        "        , y_train\n",
        "    )\n",
        "\n",
        "    validation_accuracy = gb.score(\n",
        "          X_test\n",
        "        , y_test\n",
        "    )\n",
        "\n",
        "    print(\"Learning rate: \", learning_rate)\n",
        "    print(\"Accuracy score (training): {0:.3f}\".format(gb.score(X_train, y_train)))\n",
        "    print(\"Accuracy score (validation): {0:.3f}\".format(gb.score(X_test, y_test)))\n",
        "    print()\n",
        "\n",
        "    # Check if the current model has the best validation accuracy\n",
        "    if validation_accuracy > best_validation_accuracy:\n",
        "        best_learning_rate       = learning_rate\n",
        "        best_validation_accuracy = validation_accuracy"
      ]
    },
    {
      "cell_type": "markdown",
      "source": [
        "> <b>NOTE:</b> The <b>best learning rate</b> is the one that resulted in the <b>highest validation accuracy</b>. In our case, the <code><b>Learning rate = 0.75</b></code> achieved the highest validation accuracy, i.e., <code><b>Accuracy score (validation) = 0.761</b></code> ."
      ],
      "metadata": {
        "id": "tyB9zJpLTKlr"
      }
    },
    {
      "cell_type": "code",
      "execution_count": 37,
      "metadata": {
        "id": "-STiQCrZONXj",
        "colab": {
          "base_uri": "https://localhost:8080/"
        },
        "outputId": "97a3840e-5186-4ec2-8256-ee2dc4874b25"
      },
      "outputs": [
        {
          "output_type": "stream",
          "name": "stdout",
          "text": [
            "Best Learning Rate: 0.75\n",
            "Best Validation Accuracy: 0.761\n"
          ]
        }
      ],
      "source": [
        "print(\"Best Learning Rate:\", best_learning_rate)\n",
        "print(\"Best Validation Accuracy:\", round(best_validation_accuracy, 3))"
      ]
    },
    {
      "cell_type": "markdown",
      "source": [
        "## 2.8. Build"
      ],
      "metadata": {
        "id": "o2p-w2egTsKy"
      }
    },
    {
      "cell_type": "markdown",
      "metadata": {
        "id": "njsTMM-kONXj"
      },
      "source": [
        "Build (initialize) a <code><b>GradientBoostingClassifier</b></code> model with the <code><b>best_learning_rate</b></code>, and call the model the <code><b>best_gb</b></code> ."
      ]
    },
    {
      "cell_type": "code",
      "source": [
        "# Initialize the model with the best learning rate\n",
        "best_gb = GradientBoostingClassifier(\n",
        "      n_estimators  = 20\n",
        "    , max_features  = 2\n",
        "    , max_depth     = 2\n",
        "    , random_state  = 0\n",
        "    , learning_rate = best_learning_rate\n",
        ")"
      ],
      "metadata": {
        "id": "lBKeYtYtTnob"
      },
      "execution_count": 38,
      "outputs": []
    },
    {
      "cell_type": "markdown",
      "source": [
        "## 2.9. Fit"
      ],
      "metadata": {
        "id": "5KjruJTYy3f3"
      }
    },
    {
      "cell_type": "markdown",
      "source": [
        "<code><b>fit</b></code> the <code><b>best_gb</b></code> model on the training data <code><b>(X_train, y_train)</b></code> ."
      ],
      "metadata": {
        "id": "lrd9V8N9zUCw"
      }
    },
    {
      "cell_type": "code",
      "source": [
        "# Fit on the training data\n",
        "best_gb.fit(\n",
        "      X_train\n",
        "    , y_train\n",
        ")"
      ],
      "metadata": {
        "colab": {
          "base_uri": "https://localhost:8080/",
          "height": 92
        },
        "id": "D3OKJmZFnMOJ",
        "outputId": "b9bfe6ad-e035-4a95-ebf5-eed5468e3bd6"
      },
      "execution_count": 39,
      "outputs": [
        {
          "output_type": "execute_result",
          "data": {
            "text/plain": [
              "GradientBoostingClassifier(learning_rate=0.75, max_depth=2, max_features=2,\n",
              "                           n_estimators=20, random_state=0)"
            ],
            "text/html": [
              "<style>#sk-container-id-4 {color: black;background-color: white;}#sk-container-id-4 pre{padding: 0;}#sk-container-id-4 div.sk-toggleable {background-color: white;}#sk-container-id-4 label.sk-toggleable__label {cursor: pointer;display: block;width: 100%;margin-bottom: 0;padding: 0.3em;box-sizing: border-box;text-align: center;}#sk-container-id-4 label.sk-toggleable__label-arrow:before {content: \"▸\";float: left;margin-right: 0.25em;color: #696969;}#sk-container-id-4 label.sk-toggleable__label-arrow:hover:before {color: black;}#sk-container-id-4 div.sk-estimator:hover label.sk-toggleable__label-arrow:before {color: black;}#sk-container-id-4 div.sk-toggleable__content {max-height: 0;max-width: 0;overflow: hidden;text-align: left;background-color: #f0f8ff;}#sk-container-id-4 div.sk-toggleable__content pre {margin: 0.2em;color: black;border-radius: 0.25em;background-color: #f0f8ff;}#sk-container-id-4 input.sk-toggleable__control:checked~div.sk-toggleable__content {max-height: 200px;max-width: 100%;overflow: auto;}#sk-container-id-4 input.sk-toggleable__control:checked~label.sk-toggleable__label-arrow:before {content: \"▾\";}#sk-container-id-4 div.sk-estimator input.sk-toggleable__control:checked~label.sk-toggleable__label {background-color: #d4ebff;}#sk-container-id-4 div.sk-label input.sk-toggleable__control:checked~label.sk-toggleable__label {background-color: #d4ebff;}#sk-container-id-4 input.sk-hidden--visually {border: 0;clip: rect(1px 1px 1px 1px);clip: rect(1px, 1px, 1px, 1px);height: 1px;margin: -1px;overflow: hidden;padding: 0;position: absolute;width: 1px;}#sk-container-id-4 div.sk-estimator {font-family: monospace;background-color: #f0f8ff;border: 1px dotted black;border-radius: 0.25em;box-sizing: border-box;margin-bottom: 0.5em;}#sk-container-id-4 div.sk-estimator:hover {background-color: #d4ebff;}#sk-container-id-4 div.sk-parallel-item::after {content: \"\";width: 100%;border-bottom: 1px solid gray;flex-grow: 1;}#sk-container-id-4 div.sk-label:hover label.sk-toggleable__label {background-color: #d4ebff;}#sk-container-id-4 div.sk-serial::before {content: \"\";position: absolute;border-left: 1px solid gray;box-sizing: border-box;top: 0;bottom: 0;left: 50%;z-index: 0;}#sk-container-id-4 div.sk-serial {display: flex;flex-direction: column;align-items: center;background-color: white;padding-right: 0.2em;padding-left: 0.2em;position: relative;}#sk-container-id-4 div.sk-item {position: relative;z-index: 1;}#sk-container-id-4 div.sk-parallel {display: flex;align-items: stretch;justify-content: center;background-color: white;position: relative;}#sk-container-id-4 div.sk-item::before, #sk-container-id-4 div.sk-parallel-item::before {content: \"\";position: absolute;border-left: 1px solid gray;box-sizing: border-box;top: 0;bottom: 0;left: 50%;z-index: -1;}#sk-container-id-4 div.sk-parallel-item {display: flex;flex-direction: column;z-index: 1;position: relative;background-color: white;}#sk-container-id-4 div.sk-parallel-item:first-child::after {align-self: flex-end;width: 50%;}#sk-container-id-4 div.sk-parallel-item:last-child::after {align-self: flex-start;width: 50%;}#sk-container-id-4 div.sk-parallel-item:only-child::after {width: 0;}#sk-container-id-4 div.sk-dashed-wrapped {border: 1px dashed gray;margin: 0 0.4em 0.5em 0.4em;box-sizing: border-box;padding-bottom: 0.4em;background-color: white;}#sk-container-id-4 div.sk-label label {font-family: monospace;font-weight: bold;display: inline-block;line-height: 1.2em;}#sk-container-id-4 div.sk-label-container {text-align: center;}#sk-container-id-4 div.sk-container {/* jupyter's `normalize.less` sets `[hidden] { display: none; }` but bootstrap.min.css set `[hidden] { display: none !important; }` so we also need the `!important` here to be able to override the default hidden behavior on the sphinx rendered scikit-learn.org. See: https://github.com/scikit-learn/scikit-learn/issues/21755 */display: inline-block !important;position: relative;}#sk-container-id-4 div.sk-text-repr-fallback {display: none;}</style><div id=\"sk-container-id-4\" class=\"sk-top-container\"><div class=\"sk-text-repr-fallback\"><pre>GradientBoostingClassifier(learning_rate=0.75, max_depth=2, max_features=2,\n",
              "                           n_estimators=20, random_state=0)</pre><b>In a Jupyter environment, please rerun this cell to show the HTML representation or trust the notebook. <br />On GitHub, the HTML representation is unable to render, please try loading this page with nbviewer.org.</b></div><div class=\"sk-container\" hidden><div class=\"sk-item\"><div class=\"sk-estimator sk-toggleable\"><input class=\"sk-toggleable__control sk-hidden--visually\" id=\"sk-estimator-id-4\" type=\"checkbox\" checked><label for=\"sk-estimator-id-4\" class=\"sk-toggleable__label sk-toggleable__label-arrow\">GradientBoostingClassifier</label><div class=\"sk-toggleable__content\"><pre>GradientBoostingClassifier(learning_rate=0.75, max_depth=2, max_features=2,\n",
              "                           n_estimators=20, random_state=0)</pre></div></div></div></div></div>"
            ]
          },
          "metadata": {},
          "execution_count": 39
        }
      ]
    },
    {
      "cell_type": "markdown",
      "source": [
        "## 2.10. Predict"
      ],
      "metadata": {
        "id": "200VrcUwzAfa"
      }
    },
    {
      "cell_type": "markdown",
      "source": [
        "<code><b>predict</b></code> the <code><b>best_gb</b></code> model on the testing set <code><b>X_test</b></code> ."
      ],
      "metadata": {
        "id": "uF0RTXopzbeF"
      }
    },
    {
      "cell_type": "code",
      "source": [
        "y_pred = best_gb.predict(\n",
        "    X_test\n",
        ")"
      ],
      "metadata": {
        "id": "hjTB3FBszEGn"
      },
      "execution_count": 40,
      "outputs": []
    },
    {
      "cell_type": "markdown",
      "source": [
        "## 2.11. Evaluate"
      ],
      "metadata": {
        "id": "DC33Z8JleIcZ"
      }
    },
    {
      "cell_type": "markdown",
      "source": [
        "Use the <a href=\"https://scikit-learn.org/stable/modules/generated/sklearn.metrics.precision_recall_fscore_support.html\"><code><b>precision_recall_fscore_support()</b></code></a> function in scikit-learn to calculate precision, recall, F1-score, and support for each class in a classification problem."
      ],
      "metadata": {
        "id": "ABy1RUiqFHNS"
      }
    },
    {
      "cell_type": "code",
      "source": [
        "precision, recall, f1_score, support = precision_recall_fscore_support(\n",
        "      y_test\n",
        "    , y_pred\n",
        ")\n",
        "\n",
        "precision, recall, f1_score, support"
      ],
      "metadata": {
        "colab": {
          "base_uri": "https://localhost:8080/"
        },
        "id": "EUqYlQunE1_1",
        "outputId": "fa620199-adf3-4076-fd72-74f8fd869fd2"
      },
      "execution_count": 41,
      "outputs": [
        {
          "output_type": "execute_result",
          "data": {
            "text/plain": [
              "(array([0.64285714, 0.8125    ]),\n",
              " array([0.6       , 0.83870968]),\n",
              " array([0.62068966, 0.82539683]),\n",
              " array([15, 31]))"
            ]
          },
          "metadata": {},
          "execution_count": 41
        }
      ]
    },
    {
      "cell_type": "markdown",
      "source": [
        "### Confusion matrix"
      ],
      "metadata": {
        "id": "gjTGD1s1oDc-"
      }
    },
    {
      "cell_type": "markdown",
      "source": [
        "Plot the confusion matrix for <code><b>(y_test, y_pred)</b></code> ."
      ],
      "metadata": {
        "id": "RIu-IHHWzla3"
      }
    },
    {
      "cell_type": "code",
      "source": [
        "# Calculate the confusion matrix\n",
        "cm = confusion_matrix(\n",
        "      y_test\n",
        "    , y_pred\n",
        ")\n",
        "\n",
        "# Define the class labels (0: Not survived, 1: Survived)\n",
        "class_labels = [\n",
        "      'Not Survived'\n",
        "    , 'Survived'\n",
        "]\n",
        "\n",
        "# Plot the confusion matrix using seaborn\n",
        "plt.figure(figsize=(3, 3))\n",
        "\n",
        "sns.heatmap(\n",
        "      cm\n",
        "    , fmt         = 'd'\n",
        "    , annot       = True\n",
        "    , cmap        = 'Blues'\n",
        "    , cbar        = False\n",
        "    , xticklabels = class_labels\n",
        "    , yticklabels = class_labels\n",
        ")\n",
        "\n",
        "plt.xlabel('Predicted')\n",
        "plt.ylabel('Actual')\n",
        "plt.title('Confusion Matrix')\n",
        "\n",
        "plt.show()"
      ],
      "metadata": {
        "colab": {
          "base_uri": "https://localhost:8080/",
          "height": 335
        },
        "id": "glQ36gsInjUX",
        "outputId": "d09aa91f-f89e-461e-d244-daecc0aa9f23"
      },
      "execution_count": 42,
      "outputs": [
        {
          "output_type": "display_data",
          "data": {
            "text/plain": [
              "<Figure size 300x300 with 1 Axes>"
            ],
            "image/png": "[encoded data removed]"
          },
          "metadata": {}
        }
      ]
    },
    {
      "cell_type": "markdown",
      "source": [
        "### Classification report"
      ],
      "metadata": {
        "id": "Y35j7WeGn-ST"
      }
    },
    {
      "cell_type": "markdown",
      "source": [
        "Print out the <a href=\"https://scikit-learn.org/stable/modules/model_evaluation.html#classification-report\"><code><b>classification_report()</b></code></a> for <code><b>(y_test, y_pred)</b></code> to review the model performance:"
      ],
      "metadata": {
        "id": "PpFxdApMzxFG"
      }
    },
    {
      "cell_type": "code",
      "source": [
        "class_report = classification_report(\n",
        "      y_test\n",
        "    , y_pred\n",
        ")\n",
        "\n",
        "print(\"\\nClassification Report:\\n\", class_report)"
      ],
      "metadata": {
        "colab": {
          "base_uri": "https://localhost:8080/"
        },
        "id": "VWe9-XbNnywV",
        "outputId": "070ab159-7bc0-4b5b-cf9b-b40096969f84"
      },
      "execution_count": 43,
      "outputs": [
        {
          "output_type": "stream",
          "name": "stdout",
          "text": [
            "\n",
            "Classification Report:\n",
            "               precision    recall  f1-score   support\n",
            "\n",
            "           0       0.64      0.60      0.62        15\n",
            "           1       0.81      0.84      0.83        31\n",
            "\n",
            "    accuracy                           0.76        46\n",
            "   macro avg       0.73      0.72      0.72        46\n",
            "weighted avg       0.76      0.76      0.76        46\n",
            "\n"
          ]
        }
      ]
    },
    {
      "cell_type": "markdown",
      "source": [
        "### AUC & ROC"
      ],
      "metadata": {
        "id": "K9LxJePFr2Eq"
      }
    },
    {
      "cell_type": "markdown",
      "metadata": {
        "id": "ezq61Ov2Rz9G",
        "tags": []
      },
      "source": [
        "Calculate the ROC for the model as well. To do this end, we:\n",
        "\n",
        "1. Calculate the predicted probabilities for class 1 (Survived) using the <code><b>predict_proba</b></code> method .\n",
        "\n",
        "2. Use the <a href=\"https://scikit-learn.org/stable/modules/generated/sklearn.metrics.roc_curve.html\"><code><b>roc_curve()</b></code></a> function to compute the ROC curve, which returns the false positive rate (<code><b>fpr</b></code>), true positive rate (<code><b>tpr</b></code>), and thresholds.\n",
        "\n",
        "3. Calculate the AUC (Area Under the ROC Curve) using the <a href=\"https://scikit-learn.org/stable/modules/generated/sklearn.metrics.roc_auc_score.html\"><code><b>roc_auc_score()</b></code></a> function."
      ]
    },
    {
      "cell_type": "code",
      "execution_count": 44,
      "metadata": {
        "id": "u1TGKEqCRz9L"
      },
      "outputs": [],
      "source": [
        "# Calculate the predicted probabilities for class 1 (Survived)\n",
        "y_prob = best_gb\\\n",
        "         .predict_proba(X_test)[:, 1]\n",
        "\n",
        "# ROC curve\n",
        "fpr, tpr, thresholds = roc_curve(\n",
        "      y_test\n",
        "    , y_prob\n",
        ")\n",
        "\n",
        "# AUC\n",
        "roc_auc = roc_auc_score(\n",
        "      y_test\n",
        "    , y_prob\n",
        ")"
      ]
    },
    {
      "cell_type": "markdown",
      "source": [
        "This code will generate and display an interactive <b>ROC curve</b> for the model, along with the <b>AUC score</b>, allowing us to assess the model's performance in terms of classification $\\small\\textbf{thresholds}$ and the trade-off between true positives (TPs) and false positives (FPs)."
      ],
      "metadata": {
        "id": "uc_i4Uy_vQxe"
      }
    },
    {
      "cell_type": "code",
      "source": [
        "# Create a DataFrame to store the data\n",
        "data = {\n",
        "      'FPR'      : fpr\n",
        "    , 'TPR'      : tpr\n",
        "    , 'Threshold': thresholds\n",
        "}\n",
        "\n",
        "df = pd.DataFrame(data)\n",
        "# -----------------------------------------------------------------------------\n",
        "# Create an interactive ROC curve using Plotly Express\n",
        "fig = px.line(\n",
        "      df\n",
        "    , x          = 'FPR'\n",
        "    , y          = 'TPR'\n",
        "    , hover_data = ['Threshold']\n",
        "    , labels     = {'Threshold': 'Threshold'}\n",
        ")\n",
        "# -----------------------------------------------------------------------------\n",
        "#                        PLOT PROPERTIES & LAYOUT\n",
        "# -----------------------------------------------------------------------------\n",
        "axes_tickvals = np.arange(0, 1.1, 0.2)\n",
        "\n",
        "axes_properties = dict(\n",
        "      showgrid  = False\n",
        "    , showline  = True\n",
        "    , linewidth = 2\n",
        "    , linecolor = 'black'\n",
        "    , ticks     = 'outside'\n",
        "    , tickvals  = axes_tickvals\n",
        ")\n",
        "\n",
        "legends_properties = dict(\n",
        "      x           = 0.31\n",
        "    , y           = 0.05\n",
        "    , borderwidth = 1\n",
        "    , bordercolor = 'black'\n",
        ")\n",
        "\n",
        "fig.update_layout(\n",
        "      title             = dict(text='Receiver Operating Characteristic (ROC) Curve', font=dict(color='black'))\n",
        "    , title_x           = 0.5\n",
        "    , title_y           = 0.85\n",
        "    , plot_bgcolor      = 'white'\n",
        "    , paper_bgcolor     = 'white'\n",
        "    , width             = 480\n",
        "    , height            = 480\n",
        "    , legend            = legends_properties\n",
        "    , legend_font       = dict(color='black', size=12)\n",
        "    , legend_title_font = dict(color='black', size=12)\n",
        "    , xaxis             = axes_properties\n",
        "    , yaxis             = axes_properties\n",
        "    , xaxis_title       = 'False Positive Rate (1-specificity)'\n",
        "    , yaxis_title       = 'True Positive Rate (sensitivity)'\n",
        "    , xaxis_showgrid    = True\n",
        "    , yaxis_showgrid    = True\n",
        "    , xaxis_zeroline    = False\n",
        "    , yaxis_zeroline    = False\n",
        "    , xaxis_showline    = True\n",
        "    , yaxis_showline    = True\n",
        "    , xaxis_linecolor   = 'black'\n",
        "    , yaxis_linecolor   = 'black'\n",
        "    , margin            = dict(l=50, r=50, t=100, b=50)\n",
        ")\n",
        "\n",
        "# X-Y Axes\n",
        "fig.update_xaxes(\n",
        "      range          = [0, 1]\n",
        "    , tickfont       = dict(color='black', size=14)\n",
        "    , title_font     = dict(color='black', size=16)\n",
        "    , showticklabels = True\n",
        ")\n",
        "\n",
        "fig.update_yaxes(\n",
        "      range          = [0, 1.05]\n",
        "    , tickfont       = dict(color='black', size=14)\n",
        "    , title_font     = dict(color='black', size=16)\n",
        "    , showticklabels = True\n",
        ")\n",
        "\n",
        "# Update top and right axes line color and width\n",
        "fig.update_xaxes(linecolor='black', linewidth=2, mirror=True)\n",
        "fig.update_yaxes(linecolor='black', linewidth=2, mirror=True)\n",
        "# -----------------------------------------------------------------------------\n",
        "#                     PERFECT CLASSIFIER (AUC = 1.0)\n",
        "# -----------------------------------------------------------------------------\n",
        "# Add a scatter trace for the perfect classifier\n",
        "perfect_fpr = np.linspace(0, 1, 100)\n",
        "perfect_tpr = np.ones(100)\n",
        "\n",
        "fig.add_scatter(\n",
        "      x    = perfect_fpr\n",
        "    , y    = perfect_tpr\n",
        "    , mode = 'lines'\n",
        "    , name = 'AUC = 1.00 (Perfect classifier)'\n",
        "    , line = dict(color='darkred', width=4)\n",
        ")\n",
        "\n",
        "# Add a horizontal line to the perfect classifier\n",
        "fig.add_shape(\n",
        "      x0   = 0\n",
        "    , x1   = 0\n",
        "    , y0   = 0\n",
        "    , y1   = 1\n",
        "    , type = 'line'\n",
        "    , line = dict(color='darkred', width=6)\n",
        ")\n",
        "# -----------------------------------------------------------------------------\n",
        "#                         ROC CURVE (AUC = 0.76)\n",
        "# -----------------------------------------------------------------------------\n",
        "# Add the ROC curve of this problem\n",
        "fig.add_scatter(\n",
        "      x    = fpr\n",
        "    , y    = tpr\n",
        "    , mode = 'lines'\n",
        "    , name = 'AUC = {:.2f} (ROC curve)'.format(roc_auc)\n",
        "    , line = dict(color='teal', width=4)\n",
        ")\n",
        "# -----------------------------------------------------------------------------\n",
        "#                     RANDOM CLASSIFIER (AUC = 0.50)\n",
        "# -----------------------------------------------------------------------------\n",
        "# Add a scatter trace for the random classifier\n",
        "fig.add_scatter(\n",
        "      x    = [0, 1]\n",
        "    , y    = [0, 1]\n",
        "    , mode = 'lines'\n",
        "    , name = 'AUC = 0.50 (Random classifier)'\n",
        "    , line = dict(color='lightgreen', width=4, dash='dash')\n",
        ")\n",
        "# -----------------------------------------------------------------------------\n",
        "fig.show()"
      ],
      "metadata": {
        "colab": {
          "base_uri": "https://localhost:8080/",
          "height": 497
        },
        "id": "tlKXssVJ1q16",
        "outputId": "cce06155-dbb2-4015-a0d9-0049cd100b8e"
      },
      "execution_count": 51,
      "outputs": [
        {
          "output_type": "display_data",
          "data": {
            "text/html": [
              "<html>\n",
              "<head><meta charset=\"utf-8\" /></head>\n",
              "<body>\n",
              "    <div>            <script src=\"https://cdnjs.cloudflare.com/ajax/libs/mathjax/2.7.5/MathJax.js?config=TeX-AMS-MML_SVG\"></script><script type=\"text/javascript\">if (window.MathJax && window.MathJax.Hub && window.MathJax.Hub.Config) {window.MathJax.Hub.Config({SVG: {font: \"STIX-Web\"}});}</script>                <script type=\"text/javascript\">window.PlotlyConfig = {MathJaxConfig: 'local'};</script>\n",
              "        <script charset=\"utf-8\" src=\"https://cdn.plot.ly/plotly-2.24.1.min.js\"></script>                <div id=\"2e65d561-73c9-46bb-8d65-cb0f224e64a7\" class=\"plotly-graph-div\" style=\"height:480px; width:480px;\"></div>            <script type=\"text/javascript\">                                    window.PLOTLYENV=window.PLOTLYENV || {};                                    if (document.getElementById(\"2e65d561-73c9-46bb-8d65-cb0f224e64a7\")) {                    Plotly.newPlot(                        \"2e65d561-73c9-46bb-8d65-cb0f224e64a7\",                        [{\"customdata\":[[1.9994992868180883],[0.9994992868180883],[0.9976436511291343],[0.9953800168833082],[0.9919555476930364],[0.9909801068167516],[0.980330938388657],[0.9786471361441978],[0.9762519083127863],[0.9717869669269915],[0.9343075837538874],[0.9186245845293141],[0.8248454972455562],[0.7579356922281174],[0.6740419539845343],[0.5930532510557545],[0.5363318449369741],[0.45046987718405124],[0.3604039729795533],[0.28606542145792113],[0.2696293813622475],[0.1883776270464704],[0.16066418890890355],[0.15940489302721017],[0.1302380317798057],[0.02846794467652662],[0.025464988437338406]],\"hovertemplate\":\"FPR=%{x}\\u003cbr\\u003eTPR=%{y}\\u003cbr\\u003eThreshold=%{customdata[0]}\\u003cextra\\u003e\\u003c\\u002fextra\\u003e\",\"legendgroup\":\"\",\"line\":{\"color\":\"#636efa\",\"dash\":\"solid\"},\"marker\":{\"symbol\":\"circle\"},\"mode\":\"lines\",\"name\":\"\",\"orientation\":\"v\",\"showlegend\":false,\"x\":[0.0,0.0,0.0,0.13333333333333333,0.13333333333333333,0.13333333333333333,0.13333333333333333,0.13333333333333333,0.13333333333333333,0.2,0.2,0.26666666666666666,0.26666666666666666,0.3333333333333333,0.3333333333333333,0.4,0.4,0.4666666666666667,0.5333333333333333,0.6666666666666666,0.6666666666666666,0.7333333333333333,0.7333333333333333,0.8,0.9333333333333333,1.0,1.0],\"xaxis\":\"x\",\"y\":[0.0,0.03225806451612903,0.0967741935483871,0.0967741935483871,0.22580645161290322,0.2903225806451613,0.45161290322580644,0.5483870967741935,0.5806451612903226,0.5806451612903226,0.6774193548387096,0.6774193548387096,0.7419354838709677,0.7419354838709677,0.7741935483870968,0.7741935483870968,0.8387096774193549,0.9032258064516129,0.9032258064516129,0.9032258064516129,0.9354838709677419,0.9354838709677419,0.967741935483871,0.967741935483871,0.967741935483871,0.967741935483871,1.0],\"yaxis\":\"y\",\"type\":\"scatter\"},{\"line\":{\"color\":\"darkred\",\"width\":4},\"mode\":\"lines\",\"name\":\"AUC = 1.00 (Perfect classifier)\",\"x\":[0.0,0.010101010101010102,0.020202020202020204,0.030303030303030304,0.04040404040404041,0.05050505050505051,0.06060606060606061,0.07070707070707072,0.08080808080808081,0.09090909090909091,0.10101010101010102,0.11111111111111112,0.12121212121212122,0.13131313131313133,0.14141414141414144,0.15151515151515152,0.16161616161616163,0.17171717171717174,0.18181818181818182,0.19191919191919193,0.20202020202020204,0.21212121212121213,0.22222222222222224,0.23232323232323235,0.24242424242424243,0.25252525252525254,0.26262626262626265,0.27272727272727276,0.2828282828282829,0.29292929292929293,0.30303030303030304,0.31313131313131315,0.32323232323232326,0.33333333333333337,0.3434343434343435,0.3535353535353536,0.36363636363636365,0.37373737373737376,0.38383838383838387,0.393939393939394,0.4040404040404041,0.4141414141414142,0.42424242424242425,0.43434343434343436,0.4444444444444445,0.4545454545454546,0.4646464646464647,0.4747474747474748,0.48484848484848486,0.494949494949495,0.5050505050505051,0.5151515151515152,0.5252525252525253,0.5353535353535354,0.5454545454545455,0.5555555555555556,0.5656565656565657,0.5757575757575758,0.5858585858585859,0.595959595959596,0.6060606060606061,0.6161616161616162,0.6262626262626263,0.6363636363636365,0.6464646464646465,0.6565656565656566,0.6666666666666667,0.6767676767676768,0.686868686868687,0.696969696969697,0.7070707070707072,0.7171717171717172,0.7272727272727273,0.7373737373737375,0.7474747474747475,0.7575757575757577,0.7676767676767677,0.7777777777777778,0.787878787878788,0.797979797979798,0.8080808080808082,0.8181818181818182,0.8282828282828284,0.8383838383838385,0.8484848484848485,0.8585858585858587,0.8686868686868687,0.8787878787878789,0.888888888888889,0.8989898989898991,0.9090909090909092,0.9191919191919192,0.9292929292929294,0.9393939393939394,0.9494949494949496,0.9595959595959597,0.9696969696969697,0.9797979797979799,0.98989898989899,1.0],\"y\":[1.0,1.0,1.0,1.0,1.0,1.0,1.0,1.0,1.0,1.0,1.0,1.0,1.0,1.0,1.0,1.0,1.0,1.0,1.0,1.0,1.0,1.0,1.0,1.0,1.0,1.0,1.0,1.0,1.0,1.0,1.0,1.0,1.0,1.0,1.0,1.0,1.0,1.0,1.0,1.0,1.0,1.0,1.0,1.0,1.0,1.0,1.0,1.0,1.0,1.0,1.0,1.0,1.0,1.0,1.0,1.0,1.0,1.0,1.0,1.0,1.0,1.0,1.0,1.0,1.0,1.0,1.0,1.0,1.0,1.0,1.0,1.0,1.0,1.0,1.0,1.0,1.0,1.0,1.0,1.0,1.0,1.0,1.0,1.0,1.0,1.0,1.0,1.0,1.0,1.0,1.0,1.0,1.0,1.0,1.0,1.0,1.0,1.0,1.0,1.0],\"type\":\"scatter\"},{\"line\":{\"color\":\"teal\",\"width\":4},\"mode\":\"lines\",\"name\":\"AUC = 0.76 (ROC curve)\",\"x\":[0.0,0.0,0.0,0.13333333333333333,0.13333333333333333,0.13333333333333333,0.13333333333333333,0.13333333333333333,0.13333333333333333,0.2,0.2,0.26666666666666666,0.26666666666666666,0.3333333333333333,0.3333333333333333,0.4,0.4,0.4666666666666667,0.5333333333333333,0.6666666666666666,0.6666666666666666,0.7333333333333333,0.7333333333333333,0.8,0.9333333333333333,1.0,1.0],\"y\":[0.0,0.03225806451612903,0.0967741935483871,0.0967741935483871,0.22580645161290322,0.2903225806451613,0.45161290322580644,0.5483870967741935,0.5806451612903226,0.5806451612903226,0.6774193548387096,0.6774193548387096,0.7419354838709677,0.7419354838709677,0.7741935483870968,0.7741935483870968,0.8387096774193549,0.9032258064516129,0.9032258064516129,0.9032258064516129,0.9354838709677419,0.9354838709677419,0.967741935483871,0.967741935483871,0.967741935483871,0.967741935483871,1.0],\"type\":\"scatter\"},{\"line\":{\"color\":\"lightgreen\",\"dash\":\"dash\",\"width\":4},\"mode\":\"lines\",\"name\":\"AUC = 0.50 (Random classifier)\",\"x\":[0,1],\"y\":[0,1],\"type\":\"scatter\"}],                        {\"template\":{\"data\":{\"histogram2dcontour\":[{\"type\":\"histogram2dcontour\",\"colorbar\":{\"outlinewidth\":0,\"ticks\":\"\"},\"colorscale\":[[0.0,\"#0d0887\"],[0.1111111111111111,\"#46039f\"],[0.2222222222222222,\"#7201a8\"],[0.3333333333333333,\"#9c179e\"],[0.4444444444444444,\"#bd3786\"],[0.5555555555555556,\"#d8576b\"],[0.6666666666666666,\"#ed7953\"],[0.7777777777777778,\"#fb9f3a\"],[0.8888888888888888,\"#fdca26\"],[1.0,\"#f0f921\"]]}],\"choropleth\":[{\"type\":\"choropleth\",\"colorbar\":{\"outlinewidth\":0,\"ticks\":\"\"}}],\"histogram2d\":[{\"type\":\"histogram2d\",\"colorbar\":{\"outlinewidth\":0,\"ticks\":\"\"},\"colorscale\":[[0.0,\"#0d0887\"],[0.1111111111111111,\"#46039f\"],[0.2222222222222222,\"#7201a8\"],[0.3333333333333333,\"#9c179e\"],[0.4444444444444444,\"#bd3786\"],[0.5555555555555556,\"#d8576b\"],[0.6666666666666666,\"#ed7953\"],[0.7777777777777778,\"#fb9f3a\"],[0.8888888888888888,\"#fdca26\"],[1.0,\"#f0f921\"]]}],\"heatmap\":[{\"type\":\"heatmap\",\"colorbar\":{\"outlinewidth\":0,\"ticks\":\"\"},\"colorscale\":[[0.0,\"#0d0887\"],[0.1111111111111111,\"#46039f\"],[0.2222222222222222,\"#7201a8\"],[0.3333333333333333,\"#9c179e\"],[0.4444444444444444,\"#bd3786\"],[0.5555555555555556,\"#d8576b\"],[0.6666666666666666,\"#ed7953\"],[0.7777777777777778,\"#fb9f3a\"],[0.8888888888888888,\"#fdca26\"],[1.0,\"#f0f921\"]]}],\"heatmapgl\":[{\"type\":\"heatmapgl\",\"colorbar\":{\"outlinewidth\":0,\"ticks\":\"\"},\"colorscale\":[[0.0,\"#0d0887\"],[0.1111111111111111,\"#46039f\"],[0.2222222222222222,\"#7201a8\"],[0.3333333333333333,\"#9c179e\"],[0.4444444444444444,\"#bd3786\"],[0.5555555555555556,\"#d8576b\"],[0.6666666666666666,\"#ed7953\"],[0.7777777777777778,\"#fb9f3a\"],[0.8888888888888888,\"#fdca26\"],[1.0,\"#f0f921\"]]}],\"contourcarpet\":[{\"type\":\"contourcarpet\",\"colorbar\":{\"outlinewidth\":0,\"ticks\":\"\"}}],\"contour\":[{\"type\":\"contour\",\"colorbar\":{\"outlinewidth\":0,\"ticks\":\"\"},\"colorscale\":[[0.0,\"#0d0887\"],[0.1111111111111111,\"#46039f\"],[0.2222222222222222,\"#7201a8\"],[0.3333333333333333,\"#9c179e\"],[0.4444444444444444,\"#bd3786\"],[0.5555555555555556,\"#d8576b\"],[0.6666666666666666,\"#ed7953\"],[0.7777777777777778,\"#fb9f3a\"],[0.8888888888888888,\"#fdca26\"],[1.0,\"#f0f921\"]]}],\"surface\":[{\"type\":\"surface\",\"colorbar\":{\"outlinewidth\":0,\"ticks\":\"\"},\"colorscale\":[[0.0,\"#0d0887\"],[0.1111111111111111,\"#46039f\"],[0.2222222222222222,\"#7201a8\"],[0.3333333333333333,\"#9c179e\"],[0.4444444444444444,\"#bd3786\"],[0.5555555555555556,\"#d8576b\"],[0.6666666666666666,\"#ed7953\"],[0.7777777777777778,\"#fb9f3a\"],[0.8888888888888888,\"#fdca26\"],[1.0,\"#f0f921\"]]}],\"mesh3d\":[{\"type\":\"mesh3d\",\"colorbar\":{\"outlinewidth\":0,\"ticks\":\"\"}}],\"scatter\":[{\"fillpattern\":{\"fillmode\":\"overlay\",\"size\":10,\"solidity\":0.2},\"type\":\"scatter\"}],\"parcoords\":[{\"type\":\"parcoords\",\"line\":{\"colorbar\":{\"outlinewidth\":0,\"ticks\":\"\"}}}],\"scatterpolargl\":[{\"type\":\"scatterpolargl\",\"marker\":{\"colorbar\":{\"outlinewidth\":0,\"ticks\":\"\"}}}],\"bar\":[{\"error_x\":{\"color\":\"#2a3f5f\"},\"error_y\":{\"color\":\"#2a3f5f\"},\"marker\":{\"line\":{\"color\":\"#E5ECF6\",\"width\":0.5},\"pattern\":{\"fillmode\":\"overlay\",\"size\":10,\"solidity\":0.2}},\"type\":\"bar\"}],\"scattergeo\":[{\"type\":\"scattergeo\",\"marker\":{\"colorbar\":{\"outlinewidth\":0,\"ticks\":\"\"}}}],\"scatterpolar\":[{\"type\":\"scatterpolar\",\"marker\":{\"colorbar\":{\"outlinewidth\":0,\"ticks\":\"\"}}}],\"histogram\":[{\"marker\":{\"pattern\":{\"fillmode\":\"overlay\",\"size\":10,\"solidity\":0.2}},\"type\":\"histogram\"}],\"scattergl\":[{\"type\":\"scattergl\",\"marker\":{\"colorbar\":{\"outlinewidth\":0,\"ticks\":\"\"}}}],\"scatter3d\":[{\"type\":\"scatter3d\",\"line\":{\"colorbar\":{\"outlinewidth\":0,\"ticks\":\"\"}},\"marker\":{\"colorbar\":{\"outlinewidth\":0,\"ticks\":\"\"}}}],\"scattermapbox\":[{\"type\":\"scattermapbox\",\"marker\":{\"colorbar\":{\"outlinewidth\":0,\"ticks\":\"\"}}}],\"scatterternary\":[{\"type\":\"scatterternary\",\"marker\":{\"colorbar\":{\"outlinewidth\":0,\"ticks\":\"\"}}}],\"scattercarpet\":[{\"type\":\"scattercarpet\",\"marker\":{\"colorbar\":{\"outlinewidth\":0,\"ticks\":\"\"}}}],\"carpet\":[{\"aaxis\":{\"endlinecolor\":\"#2a3f5f\",\"gridcolor\":\"white\",\"linecolor\":\"white\",\"minorgridcolor\":\"white\",\"startlinecolor\":\"#2a3f5f\"},\"baxis\":{\"endlinecolor\":\"#2a3f5f\",\"gridcolor\":\"white\",\"linecolor\":\"white\",\"minorgridcolor\":\"white\",\"startlinecolor\":\"#2a3f5f\"},\"type\":\"carpet\"}],\"table\":[{\"cells\":{\"fill\":{\"color\":\"#EBF0F8\"},\"line\":{\"color\":\"white\"}},\"header\":{\"fill\":{\"color\":\"#C8D4E3\"},\"line\":{\"color\":\"white\"}},\"type\":\"table\"}],\"barpolar\":[{\"marker\":{\"line\":{\"color\":\"#E5ECF6\",\"width\":0.5},\"pattern\":{\"fillmode\":\"overlay\",\"size\":10,\"solidity\":0.2}},\"type\":\"barpolar\"}],\"pie\":[{\"automargin\":true,\"type\":\"pie\"}]},\"layout\":{\"autotypenumbers\":\"strict\",\"colorway\":[\"#636efa\",\"#EF553B\",\"#00cc96\",\"#ab63fa\",\"#FFA15A\",\"#19d3f3\",\"#FF6692\",\"#B6E880\",\"#FF97FF\",\"#FECB52\"],\"font\":{\"color\":\"#2a3f5f\"},\"hovermode\":\"closest\",\"hoverlabel\":{\"align\":\"left\"},\"paper_bgcolor\":\"white\",\"plot_bgcolor\":\"#E5ECF6\",\"polar\":{\"bgcolor\":\"#E5ECF6\",\"angularaxis\":{\"gridcolor\":\"white\",\"linecolor\":\"white\",\"ticks\":\"\"},\"radialaxis\":{\"gridcolor\":\"white\",\"linecolor\":\"white\",\"ticks\":\"\"}},\"ternary\":{\"bgcolor\":\"#E5ECF6\",\"aaxis\":{\"gridcolor\":\"white\",\"linecolor\":\"white\",\"ticks\":\"\"},\"baxis\":{\"gridcolor\":\"white\",\"linecolor\":\"white\",\"ticks\":\"\"},\"caxis\":{\"gridcolor\":\"white\",\"linecolor\":\"white\",\"ticks\":\"\"}},\"coloraxis\":{\"colorbar\":{\"outlinewidth\":0,\"ticks\":\"\"}},\"colorscale\":{\"sequential\":[[0.0,\"#0d0887\"],[0.1111111111111111,\"#46039f\"],[0.2222222222222222,\"#7201a8\"],[0.3333333333333333,\"#9c179e\"],[0.4444444444444444,\"#bd3786\"],[0.5555555555555556,\"#d8576b\"],[0.6666666666666666,\"#ed7953\"],[0.7777777777777778,\"#fb9f3a\"],[0.8888888888888888,\"#fdca26\"],[1.0,\"#f0f921\"]],\"sequentialminus\":[[0.0,\"#0d0887\"],[0.1111111111111111,\"#46039f\"],[0.2222222222222222,\"#7201a8\"],[0.3333333333333333,\"#9c179e\"],[0.4444444444444444,\"#bd3786\"],[0.5555555555555556,\"#d8576b\"],[0.6666666666666666,\"#ed7953\"],[0.7777777777777778,\"#fb9f3a\"],[0.8888888888888888,\"#fdca26\"],[1.0,\"#f0f921\"]],\"diverging\":[[0,\"#8e0152\"],[0.1,\"#c51b7d\"],[0.2,\"#de77ae\"],[0.3,\"#f1b6da\"],[0.4,\"#fde0ef\"],[0.5,\"#f7f7f7\"],[0.6,\"#e6f5d0\"],[0.7,\"#b8e186\"],[0.8,\"#7fbc41\"],[0.9,\"#4d9221\"],[1,\"#276419\"]]},\"xaxis\":{\"gridcolor\":\"white\",\"linecolor\":\"white\",\"ticks\":\"\",\"title\":{\"standoff\":15},\"zerolinecolor\":\"white\",\"automargin\":true,\"zerolinewidth\":2},\"yaxis\":{\"gridcolor\":\"white\",\"linecolor\":\"white\",\"ticks\":\"\",\"title\":{\"standoff\":15},\"zerolinecolor\":\"white\",\"automargin\":true,\"zerolinewidth\":2},\"scene\":{\"xaxis\":{\"backgroundcolor\":\"#E5ECF6\",\"gridcolor\":\"white\",\"linecolor\":\"white\",\"showbackground\":true,\"ticks\":\"\",\"zerolinecolor\":\"white\",\"gridwidth\":2},\"yaxis\":{\"backgroundcolor\":\"#E5ECF6\",\"gridcolor\":\"white\",\"linecolor\":\"white\",\"showbackground\":true,\"ticks\":\"\",\"zerolinecolor\":\"white\",\"gridwidth\":2},\"zaxis\":{\"backgroundcolor\":\"#E5ECF6\",\"gridcolor\":\"white\",\"linecolor\":\"white\",\"showbackground\":true,\"ticks\":\"\",\"zerolinecolor\":\"white\",\"gridwidth\":2}},\"shapedefaults\":{\"line\":{\"color\":\"#2a3f5f\"}},\"annotationdefaults\":{\"arrowcolor\":\"#2a3f5f\",\"arrowhead\":0,\"arrowwidth\":1},\"geo\":{\"bgcolor\":\"white\",\"landcolor\":\"#E5ECF6\",\"subunitcolor\":\"white\",\"showland\":true,\"showlakes\":true,\"lakecolor\":\"white\"},\"title\":{\"x\":0.05},\"mapbox\":{\"style\":\"light\"}}},\"xaxis\":{\"anchor\":\"y\",\"domain\":[0.0,1.0],\"title\":{\"text\":\"False Positive Rate (1-specificity)\",\"font\":{\"color\":\"black\",\"size\":16}},\"showgrid\":true,\"showline\":true,\"linewidth\":2,\"linecolor\":\"black\",\"ticks\":\"outside\",\"tickvals\":[0.0,0.2,0.4,0.6000000000000001,0.8,1.0],\"zeroline\":false,\"tickfont\":{\"color\":\"black\",\"size\":14},\"range\":[0,1],\"showticklabels\":true,\"mirror\":true},\"yaxis\":{\"anchor\":\"x\",\"domain\":[0.0,1.0],\"title\":{\"text\":\"True Positive Rate (sensitivity)\",\"font\":{\"color\":\"black\",\"size\":16}},\"showgrid\":true,\"showline\":true,\"linewidth\":2,\"linecolor\":\"black\",\"ticks\":\"outside\",\"tickvals\":[0.0,0.2,0.4,0.6000000000000001,0.8,1.0],\"zeroline\":false,\"tickfont\":{\"color\":\"black\",\"size\":14},\"range\":[0,1.05],\"showticklabels\":true,\"mirror\":true},\"legend\":{\"tracegroupgap\":0,\"font\":{\"color\":\"black\",\"size\":12},\"title\":{\"font\":{\"color\":\"black\",\"size\":12}},\"x\":0.31,\"y\":0.05,\"borderwidth\":1,\"bordercolor\":\"black\"},\"margin\":{\"t\":100,\"l\":50,\"r\":50,\"b\":50},\"title\":{\"font\":{\"color\":\"black\"},\"text\":\"Receiver Operating Characteristic (ROC) Curve\",\"x\":0.5,\"y\":0.85},\"plot_bgcolor\":\"white\",\"paper_bgcolor\":\"white\",\"width\":480,\"height\":480,\"shapes\":[{\"line\":{\"color\":\"darkred\",\"width\":6},\"type\":\"line\",\"x0\":0,\"x1\":0,\"y0\":0,\"y1\":1}]},                        {\"responsive\": true}                    ).then(function(){\n",
              "                            \n",
              "var gd = document.getElementById('2e65d561-73c9-46bb-8d65-cb0f224e64a7');\n",
              "var x = new MutationObserver(function (mutations, observer) {{\n",
              "        var display = window.getComputedStyle(gd).display;\n",
              "        if (!display || display === 'none') {{\n",
              "            console.log([gd, 'removed!']);\n",
              "            Plotly.purge(gd);\n",
              "            observer.disconnect();\n",
              "        }}\n",
              "}});\n",
              "\n",
              "// Listen for the removal of the full notebook cells\n",
              "var notebookContainer = gd.closest('#notebook-container');\n",
              "if (notebookContainer) {{\n",
              "    x.observe(notebookContainer, {childList: true});\n",
              "}}\n",
              "\n",
              "// Listen for the clearing of the current output cell\n",
              "var outputEl = gd.closest('.output');\n",
              "if (outputEl) {{\n",
              "    x.observe(outputEl, {childList: true});\n",
              "}}\n",
              "\n",
              "                        })                };                            </script>        </div>\n",
              "</body>\n",
              "</html>"
            ]
          },
          "metadata": {}
        }
      ]
    },
    {
      "cell_type": "code",
      "source": [
        "plt.figure(figsize=(4, 4))\n",
        "# -----------------------------------------------------------------------------\n",
        "#                     Perfect ROC curve (AUC = 1.0)\n",
        "# -----------------------------------------------------------------------------\n",
        "perfect_fpr = np.linspace(0, 1, 100)\n",
        "perfect_tpr = np.ones(100)\n",
        "\n",
        "plt.plot(\n",
        "    perfect_fpr,\n",
        "    perfect_tpr,\n",
        "    color='darkred',\n",
        "    label='Perfect classifier (AUC = 1.0)',\n",
        "    lw=3\n",
        ")\n",
        "\n",
        "plt.axvline(\n",
        "      x     = 0\n",
        "    , color = 'darkred'\n",
        "    , lw    = 6\n",
        "    , ymin  = 0.0\n",
        "    , ymax  = 0.94\n",
        ")\n",
        "# -----------------------------------------------------------------------------\n",
        "#              ROC curve of this classification (AUC = 0.76)\n",
        "# -----------------------------------------------------------------------------\n",
        "plt.plot(\n",
        "      fpr\n",
        "    , tpr\n",
        "    , color = 'teal'\n",
        "    , label = f'ROC curve (AUC = {roc_auc:.2f})'\n",
        "    , lw    = 3\n",
        ")\n",
        "# -----------------------------------------------------------------------------\n",
        "#                       Random classifier (AUC = 0.5)\n",
        "# -----------------------------------------------------------------------------\n",
        "plt.plot(\n",
        "      [0, 1]\n",
        "    , [0, 1]\n",
        "    , color     = 'lightgreen'\n",
        "    , label     = 'Random classifier (AUC = 0.5)'\n",
        "    , linestyle = '--'\n",
        ")\n",
        "# -----------------------------------------------------------------------------\n",
        "plt.xlim(\n",
        "    [0.0, 1.00]\n",
        ")\n",
        "\n",
        "plt.ylim(\n",
        "    [0.0, 1.05]\n",
        ")\n",
        "# -----------------------------------------------------------------------------\n",
        "plt.xlabel(\n",
        "      'False Positive Rate\\n(1-specifity)'\n",
        "    , fontsize = 12\n",
        ")\n",
        "\n",
        "plt.ylabel(\n",
        "      'True Positive Rate\\n(sensitivity)'\n",
        "    , fontsize = 12\n",
        ")\n",
        "# -----------------------------------------------------------------------------\n",
        "plt.title(\n",
        "      'Receiver Operating\\nCharacteristic (ROC) Curve'\n",
        "    , fontsize = 14\n",
        ")\n",
        "\n",
        "plt.legend(\n",
        "    loc='best'\n",
        ")\n",
        "# -----------------------------------------------------------------------------\n",
        "plt.show()"
      ],
      "metadata": {
        "colab": {
          "base_uri": "https://localhost:8080/",
          "height": 458
        },
        "id": "mtLbr4rFu3M0",
        "outputId": "9b5f26df-cf2a-46b5-cde7-84912892de0b"
      },
      "execution_count": null,
      "outputs": [
        {
          "output_type": "display_data",
          "data": {
            "text/plain": [
              "<Figure size 400x400 with 1 Axes>"
            ],
            "image/png": "[encoded data removed]"
          },
          "metadata": {}
        }
      ]
    },
    {
      "cell_type": "markdown",
      "source": [
        "## 2.12. Results & Conclusions"
      ],
      "metadata": {
        "id": "l4Z0FArziM4w"
      }
    },
    {
      "cell_type": "markdown",
      "source": [
        "Now, let's break down what each metric means:\n",
        "\n",
        "1. The <code><b>precision</b></code> measures how many of the positive predictions made by the model were actually correct. A higher value indicates that the model makes fewer false positive predictions.\n",
        "\n",
        "2. The <code><b>recall</b></code> measures how many of the actual positive instances were correctly predicted by the model. A higher value indicates that the model captures more of the positive instances.\n",
        "\n",
        "3. The <code><b>f1-score</b></code> is the harmonic mean of <code><b>precision</b></code> and <code><b>recall</b></code> and provides a single score that balances both metrics. A higher score indicates a better balance between the two metrics.\n",
        "\n",
        "4. The <code><b>support</b></code> indicates the number of actual instances for each class in your dataset. In this case, there are <code><b>15</b></code> instances of class <code><b>0</b></code> and <code><b>31</b></code> instances of class <code><b>1</b></code>.\n",
        "\n",
        "5. <code><b>accuracy</b></code> measures the overall correctness of the model's predictions across all classes. For this classification problem, the overall accuracy is <code><b>0.76</b></code>, which means that the model correctly predicted $76\\%$ of the instances in the dataset.\n",
        "\n",
        "\n",
        "\n",
        "6. <code><b>Macro Avg</b></code> and <code><b>Weighted Avg</b></code> are average values calculated for <code><b>precision</b></code> , <code><b>recall</b></code> , and <code><b>f1-score</b></code> .\n",
        "\n",
        "  > <b>NOTE:</b> In a classification report, metrics like <code><b>Macro Avg</b></code> and <code><b>Weighted Avg</b></code> are typically not calculated for <code><b>accuracy</b></code> since it is a single, straightforward metric that doesn't have multiple class-specific values to average or weight.\n",
        "  \n",
        "  * <code><b>Macro Avg</b></code> takes the unweighted mean of those metrics across all $N$ classes in the target.\n",
        "\n",
        "  \\begin{align}\n",
        "  \\large\\text{Macro Avg } \\textit{{metric_name}}\n",
        "  =\n",
        "  \\large\\frac{1}{n}\n",
        "  \\sum_{i=0}^{N}{\\textit{{metric_name}}_{\\textbf{class}_i}} \\tag{3}\n",
        "  \\end{align}\n",
        "\n",
        "  * <code><b>Weighted Avg</b></code> takes a weighted mean based on the <code><b>support</b></code> of each class:\n",
        "\n",
        "  \\begin{align}\n",
        "  \\large\n",
        "  \\text{Weighted Avg } \\textit{{metric_name}}\n",
        "  =\n",
        "  \\large\n",
        "  \\frac{1}{\\sum_{i=0}^{N}{{\\textit{{support}}_{\\textbf{class}_i}}}}\n",
        "  \\sum_{i=0}^{N}{\\Bigg[\\textit{{metric_name}}_{\\textbf{class}_i} \\times \\textit{{support}}_{\\textbf{class}_i}\\Bigg]} \\tag{4}\n",
        "  \\\\ \\notag{}\n",
        "  \\\\ \\notag{}\n",
        "  \\textit{{metric_name}} \\in \\{precision, recall, f1-score\\} \\notag{}\n",
        "  \\end{align}"
      ],
      "metadata": {
        "id": "re9xHeP9iP8N"
      }
    },
    {
      "cell_type": "markdown",
      "source": [
        "7. <b>AUC Value:</b> A numerical value that represents the overall performance of a binary classification model.\n",
        "\n",
        "8. <b>ROC Curve:</b> A graphical representation of a model's performance across different $\\small\\textbf{threshold}$ values for classifying instances."
      ],
      "metadata": {
        "id": "opEz4yoFwqb1"
      }
    },
    {
      "cell_type": "markdown",
      "source": [
        "> <b>Conclusions:</b>\n",
        ">\n",
        "> This classification report indicates that our model performs reasonably well:\n",
        "  >* It has higher <code><b>precision</b></code> and <code><b>recall</b></code> for class <code><b>1</b></code> compared to class <code><b>0</b></code> .\n",
        "  >\n",
        "  >* The <code><b>f1-score</b></code> for class <code><b>1</b></code> is relatively high, indicating good balance between <code><b>precision</b></code> and <code><b>recall</b></code> for that class. However, for class <code><b>0</b></code>, the <code><b>f1-score</b></code> is lower, indicating a less balanced performance for that class.\n",
        "  >\n",
        "  >* The overall <code><b>accuracy</b></code> is $76\\%$, which means the model makes correct predictions for about $76\\%$ of the instances in the dataset.\n",
        "  >\n",
        "  > Additionally, from the AUC value and ROC curve we can infer that:\n",
        "  >\n",
        "  >* An AUC of <code><b>0.76</b></code> suggests that the model is better than random chance at distinguishing between the two classes. A <b>perfect model</b> would have an AUC of <code><b>1.0</b></code> , while a <b>random model</b> would have an AUC of <code><b>0.5</b></code> . So, an AUC of <code><b>0.76</b></code> indicates that the model has a significant degree of discrimination ability.\n",
        "  >\n",
        "  >* With an AUC of <code><b>0.76</b></code> , we would typically expect the ROC curve to show a moderate separation between the $\\small\\textbf{True Positive Rate}$ ($\\small\\textbf{TPR}$ or $\\small\\textbf{sensitivity}$) and the $\\small\\textbf{False Positive Rate}$ ($\\small\\textbf{FPR}$ or $1-\\small\\textbf{specifity}$). The ROC curve we obtained may not be perfect, but it shows that the model has some discriminative power."
      ],
      "metadata": {
        "id": "zidYBQz4wBRU"
      }
    },
    {
      "cell_type": "code",
      "source": [],
      "metadata": {
        "id": "_G2jKcVrzeBU"
      },
      "execution_count": null,
      "outputs": []
    }
  ],
  "metadata": {
    "colab": {
      "provenance": [],
      "toc_visible": true
    },
    "deepnote_execution_queue": [],
    "hide_input": false,
    "kernelspec": {
      "display_name": "Python 3",
      "language": "python",
      "name": "python3"
    },
    "language_info": {
      "codemirror_mode": {
        "name": "ipython",
        "version": 3
      },
      "file_extension": ".py",
      "mimetype": "text/x-python",
      "name": "python",
      "nbconvert_exporter": "python",
      "pygments_lexer": "ipython3",
      "version": "3.7.4"
    },
    "toc": {
      "colors": {
        "hover_highlight": "#DAA520",
        "running_highlight": "#FF0000",
        "selected_highlight": "#FFD700"
      },
      "moveMenuLeft": true,
      "nav_menu": {
        "height": "78px",
        "width": "252px"
      },
      "navigate_menu": true,
      "number_sections": true,
      "sideBar": true,
      "threshold": 4,
      "toc_cell": false,
      "toc_section_display": "block",
      "toc_window_display": false
    }
  },
  "nbformat": 4,
  "nbformat_minor": 0
}