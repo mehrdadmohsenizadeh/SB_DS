{
  "cells": [
    {
      "cell_type": "markdown",
      "source": [
        "# Introduction"
      ],
      "metadata": {
        "id": "V6qPu0OQO9na"
      }
    },
    {
      "cell_type": "markdown",
      "source": [
        "## Linear Regression\n",
        "\n",
        "* Gradients were previously discussed in the context of the <b>gradient descent</b> algorithm for fitting linear regression models.\n",
        "\n",
        "* For a regression model with $n$ parameters, it defines an $n+1$ dimensional space, encompassing all parameters and the cost/loss function.\n",
        "\n",
        "* The combination of parameters and the loss function defines a <b>surface</b> within this space.\n",
        "\n",
        "* Fitting the regression model involves descending along the steepest <i>downhill</i> gradient until the lowest (i.e., minimum) point of the surface is reached, where all possible gradients become <i>uphill</i>.\n",
        "\n",
        "* The final model comprises the parameter estimates corresponding to that location on the surface."
      ],
      "metadata": {
        "id": "jm-YXsL8uhF2"
      }
    },
    {
      "cell_type": "markdown",
      "metadata": {
        "id": "IXO1tobzRz8R",
        "run_control": {
          "frozen": false,
          "read_only": false
        }
      },
      "source": [
        "## Gradient Boosting\n",
        "\n",
        "> <b>NOTE:</b> Throughout all iterations of the gradient descent algorithm for <b>linear regression</b>, one thing remains constant: The underlying data used to estimate the parameters and calculate the loss function <i>never changes</i>. In <b>gradient boosting</b>, however, the underlying data <i>do change</i>.  \n",
        "\n",
        "* In the Gradient Boosting, with each decision tree iteration, we extract the <b>residuals</b>.\n",
        "A new decision tree is then run, using these residuals as the outcome to predict.\n",
        "\n",
        "* After reaching a <b>stopping point</b>, we aggregate (i.e, sum) the predicted values from <i>all</i> decision trees to form the final gradient-boosted prediction.\n",
        "\n",
        "* Gradient boosting can work on any combination of loss function and model type, as long as we can calculate the derivatives of the loss function with respect to the model parameters.\n",
        "\n",
        "* Most commonly, gradient boosting uses decision trees, and minimizes either the  <b>residual (regression trees)</b> or the <b>negative log-likelihood (classification trees)</b> .  "
      ]
    },
    {
      "cell_type": "markdown",
      "source": [
        "# Dependencies"
      ],
      "metadata": {
        "id": "RY-HdgZxO217"
      }
    },
    {
      "cell_type": "code",
      "execution_count": 50,
      "metadata": {
        "id": "DX307zY7Rz8L"
      },
      "outputs": [],
      "source": [
        "import re\n",
        "import scipy\n",
        "import numpy as np\n",
        "import pandas as pd\n",
        "import seaborn as sns\n",
        "import matplotlib as mpl\n",
        "import matplotlib.pyplot as plt\n",
        "from IPython.display import Image\n",
        "\n",
        "from sklearn import preprocessing\n",
        "from sklearn.tree import DecisionTreeRegressor\n",
        "from sklearn.model_selection import train_test_split\n",
        "from sklearn.ensemble import GradientBoostingClassifier\n",
        "from sklearn.metrics import classification_report, confusion_matrix, roc_curve, auc, roc_auc_score\n",
        "\n",
        "%matplotlib inline"
      ]
    },
    {
      "cell_type": "markdown",
      "source": [
        "# Functions"
      ],
      "metadata": {
        "id": "_KHCi6eh3TGa"
      }
    },
    {
      "cell_type": "markdown",
      "source": [
        "## <code><b>plot_predictions</b></code>"
      ],
      "metadata": {
        "id": "suJDTtyIbQOZ"
      }
    },
    {
      "cell_type": "code",
      "source": [
        "def plot_predictions(\n",
        "      regressors\n",
        "    , X\n",
        "    , y\n",
        "    , axes\n",
        "    , label      = None\n",
        "    , style      = \"r-\"\n",
        "    , data_style = \"b.\"\n",
        "    , data_label = None\n",
        "  ):\n",
        "\n",
        "    \"\"\"\n",
        "    Plot predictions made by regression models along with the actual data points.\n",
        "\n",
        "    Parameters:\n",
        "    - regressors (list of regressor objects): A list of regression models.\n",
        "    - X (numpy.ndarray): Input feature(s) for making predictions.\n",
        "    - y (numpy.ndarray): Actual target values.\n",
        "    - axes (list or tuple of length 4): Axis limits for the plot in [xmin, xmax, ymin, ymax] format.\n",
        "    - label (str, optional): Label for the predicted curve (for legend).\n",
        "    - style (str, optional): Style of the predicted curve in the plot.\n",
        "    - data_style (str, optional): Style of the data points in the plot.\n",
        "    - data_label (str, optional): Label for the data points (for legend).\n",
        "\n",
        "    Returns:\n",
        "    None\n",
        "    \"\"\"\n",
        "\n",
        "    x1 = np.linspace(\n",
        "          axes[0]\n",
        "        , axes[1]\n",
        "        , 500\n",
        "    )\n",
        "\n",
        "    y_pred = sum(\n",
        "        regressor.predict(x1.reshape(-1, 1))\n",
        "        for regressor\n",
        "        in regressors\n",
        "    )\n",
        "\n",
        "    plt.plot(\n",
        "          X[:, 0]\n",
        "        , y\n",
        "        , data_style\n",
        "        , label = data_label\n",
        "    )\n",
        "\n",
        "    plt.plot(\n",
        "          x1\n",
        "        , y_pred\n",
        "        , style\n",
        "        , label     = label\n",
        "        , linewidth = 2\n",
        "    )\n",
        "\n",
        "    if label or data_label:\n",
        "        plt.legend(\n",
        "              loc      = \"upper center\"\n",
        "            , fontsize = 16\n",
        "        )\n",
        "\n",
        "    plt.axis(axes)"
      ],
      "metadata": {
        "id": "g_Y1s4Yj3Skz"
      },
      "execution_count": 51,
      "outputs": []
    },
    {
      "cell_type": "code",
      "source": [
        "from google.colab import drive\n",
        "drive.mount('/content/drive')"
      ],
      "metadata": {
        "colab": {
          "base_uri": "https://localhost:8080/"
        },
        "id": "gFapPB7uO1nf",
        "outputId": "90b2eda0-9e7a-490c-a23d-61e1e8c9e477"
      },
      "execution_count": 52,
      "outputs": [
        {
          "output_type": "stream",
          "name": "stdout",
          "text": [
            "Drive already mounted at /content/drive; to attempt to forcibly remount, call drive.mount(\"/content/drive\", force_remount=True).\n"
          ]
        }
      ]
    },
    {
      "cell_type": "markdown",
      "source": [
        "# 1. Regression"
      ],
      "metadata": {
        "id": "6ugpE_EiQoSb"
      }
    },
    {
      "cell_type": "markdown",
      "source": [
        "Let’s go through a simple regression example using Decision Trees as the base predictors (of course Gradient Boosting also works great with regression tasks). This is called <b>Gradient Tree Boosting</b>, or <b>Gradient Boosted Regression Trees</b>. First, let's fit a <code><b>DecisionTreeRegressor</b></code> to the training set."
      ],
      "metadata": {
        "id": "MRmCVAmTwwDX"
      }
    },
    {
      "cell_type": "markdown",
      "source": [
        "## 1.1. Train/Test split (<code><b>X</b></code> and <code><b>y</b></code>)"
      ],
      "metadata": {
        "id": "dj7elw-YW9o8"
      }
    },
    {
      "cell_type": "code",
      "execution_count": 53,
      "metadata": {
        "id": "gGreKgygRz8R"
      },
      "outputs": [],
      "source": [
        "np.random.seed(42)\n",
        "\n",
        "# Features\n",
        "X = np.random.rand(100, 1) - 0.5"
      ]
    },
    {
      "cell_type": "code",
      "source": [
        "# generate 100 random numbers from a standard normal distribution\n",
        "# (mean = 0, standard deviation = 1) scaled by 0.05.  This introduces random\n",
        "# variation to make the data more realistic and noisy.\n",
        "random_noise = 0.05 * np.random.randn(100)"
      ],
      "metadata": {
        "id": "F3PoRnPoXYbz"
      },
      "execution_count": 54,
      "outputs": []
    },
    {
      "cell_type": "code",
      "source": [
        "# Actual response\n",
        "y = 3*X[:, 0]**2 + random_noise"
      ],
      "metadata": {
        "id": "nStoOYxuXRuU"
      },
      "execution_count": 55,
      "outputs": []
    },
    {
      "cell_type": "code",
      "source": [
        "X[:5], y[:5]"
      ],
      "metadata": {
        "colab": {
          "base_uri": "https://localhost:8080/"
        },
        "id": "RXoX5zqANp6u",
        "outputId": "7d9e5e40-4dc7-4350-edd8-9abcd3cbaece"
      },
      "execution_count": 56,
      "outputs": [
        {
          "output_type": "execute_result",
          "data": {
            "text/plain": [
              "(array([[-0.12545988],\n",
              "        [ 0.45071431],\n",
              "        [ 0.23199394],\n",
              "        [ 0.09865848],\n",
              "        [-0.34398136]]),\n",
              " array([ 0.0515729 ,  0.59447979,  0.16605161, -0.07017796,  0.34398593]))"
            ]
          },
          "metadata": {},
          "execution_count": 56
        }
      ]
    },
    {
      "cell_type": "markdown",
      "source": [
        "## 1.2. Regressor 1"
      ],
      "metadata": {
        "id": "VlPaPjJRXJIl"
      }
    },
    {
      "cell_type": "code",
      "execution_count": 57,
      "metadata": {
        "id": "a48uXlSBRz8U"
      },
      "outputs": [],
      "source": [
        "reg_1 = DecisionTreeRegressor(\n",
        "      max_depth    = 2\n",
        "    , random_state = 42\n",
        ")"
      ]
    },
    {
      "cell_type": "code",
      "source": [
        "reg_1.fit(\n",
        "      X\n",
        "    , y\n",
        ")"
      ],
      "metadata": {
        "colab": {
          "base_uri": "https://localhost:8080/",
          "height": 75
        },
        "id": "LzVq3XyO3fHQ",
        "outputId": "b4a196a4-7c4c-40c9-9427-aa997aa0457d"
      },
      "execution_count": 58,
      "outputs": [
        {
          "output_type": "execute_result",
          "data": {
            "text/plain": [
              "DecisionTreeRegressor(max_depth=2, random_state=42)"
            ],
            "text/html": [
              "<style>#sk-container-id-5 {color: black;background-color: white;}#sk-container-id-5 pre{padding: 0;}#sk-container-id-5 div.sk-toggleable {background-color: white;}#sk-container-id-5 label.sk-toggleable__label {cursor: pointer;display: block;width: 100%;margin-bottom: 0;padding: 0.3em;box-sizing: border-box;text-align: center;}#sk-container-id-5 label.sk-toggleable__label-arrow:before {content: \"▸\";float: left;margin-right: 0.25em;color: #696969;}#sk-container-id-5 label.sk-toggleable__label-arrow:hover:before {color: black;}#sk-container-id-5 div.sk-estimator:hover label.sk-toggleable__label-arrow:before {color: black;}#sk-container-id-5 div.sk-toggleable__content {max-height: 0;max-width: 0;overflow: hidden;text-align: left;background-color: #f0f8ff;}#sk-container-id-5 div.sk-toggleable__content pre {margin: 0.2em;color: black;border-radius: 0.25em;background-color: #f0f8ff;}#sk-container-id-5 input.sk-toggleable__control:checked~div.sk-toggleable__content {max-height: 200px;max-width: 100%;overflow: auto;}#sk-container-id-5 input.sk-toggleable__control:checked~label.sk-toggleable__label-arrow:before {content: \"▾\";}#sk-container-id-5 div.sk-estimator input.sk-toggleable__control:checked~label.sk-toggleable__label {background-color: #d4ebff;}#sk-container-id-5 div.sk-label input.sk-toggleable__control:checked~label.sk-toggleable__label {background-color: #d4ebff;}#sk-container-id-5 input.sk-hidden--visually {border: 0;clip: rect(1px 1px 1px 1px);clip: rect(1px, 1px, 1px, 1px);height: 1px;margin: -1px;overflow: hidden;padding: 0;position: absolute;width: 1px;}#sk-container-id-5 div.sk-estimator {font-family: monospace;background-color: #f0f8ff;border: 1px dotted black;border-radius: 0.25em;box-sizing: border-box;margin-bottom: 0.5em;}#sk-container-id-5 div.sk-estimator:hover {background-color: #d4ebff;}#sk-container-id-5 div.sk-parallel-item::after {content: \"\";width: 100%;border-bottom: 1px solid gray;flex-grow: 1;}#sk-container-id-5 div.sk-label:hover label.sk-toggleable__label {background-color: #d4ebff;}#sk-container-id-5 div.sk-serial::before {content: \"\";position: absolute;border-left: 1px solid gray;box-sizing: border-box;top: 0;bottom: 0;left: 50%;z-index: 0;}#sk-container-id-5 div.sk-serial {display: flex;flex-direction: column;align-items: center;background-color: white;padding-right: 0.2em;padding-left: 0.2em;position: relative;}#sk-container-id-5 div.sk-item {position: relative;z-index: 1;}#sk-container-id-5 div.sk-parallel {display: flex;align-items: stretch;justify-content: center;background-color: white;position: relative;}#sk-container-id-5 div.sk-item::before, #sk-container-id-5 div.sk-parallel-item::before {content: \"\";position: absolute;border-left: 1px solid gray;box-sizing: border-box;top: 0;bottom: 0;left: 50%;z-index: -1;}#sk-container-id-5 div.sk-parallel-item {display: flex;flex-direction: column;z-index: 1;position: relative;background-color: white;}#sk-container-id-5 div.sk-parallel-item:first-child::after {align-self: flex-end;width: 50%;}#sk-container-id-5 div.sk-parallel-item:last-child::after {align-self: flex-start;width: 50%;}#sk-container-id-5 div.sk-parallel-item:only-child::after {width: 0;}#sk-container-id-5 div.sk-dashed-wrapped {border: 1px dashed gray;margin: 0 0.4em 0.5em 0.4em;box-sizing: border-box;padding-bottom: 0.4em;background-color: white;}#sk-container-id-5 div.sk-label label {font-family: monospace;font-weight: bold;display: inline-block;line-height: 1.2em;}#sk-container-id-5 div.sk-label-container {text-align: center;}#sk-container-id-5 div.sk-container {/* jupyter's `normalize.less` sets `[hidden] { display: none; }` but bootstrap.min.css set `[hidden] { display: none !important; }` so we also need the `!important` here to be able to override the default hidden behavior on the sphinx rendered scikit-learn.org. See: https://github.com/scikit-learn/scikit-learn/issues/21755 */display: inline-block !important;position: relative;}#sk-container-id-5 div.sk-text-repr-fallback {display: none;}</style><div id=\"sk-container-id-5\" class=\"sk-top-container\"><div class=\"sk-text-repr-fallback\"><pre>DecisionTreeRegressor(max_depth=2, random_state=42)</pre><b>In a Jupyter environment, please rerun this cell to show the HTML representation or trust the notebook. <br />On GitHub, the HTML representation is unable to render, please try loading this page with nbviewer.org.</b></div><div class=\"sk-container\" hidden><div class=\"sk-item\"><div class=\"sk-estimator sk-toggleable\"><input class=\"sk-toggleable__control sk-hidden--visually\" id=\"sk-estimator-id-5\" type=\"checkbox\" checked><label for=\"sk-estimator-id-5\" class=\"sk-toggleable__label sk-toggleable__label-arrow\">DecisionTreeRegressor</label><div class=\"sk-toggleable__content\"><pre>DecisionTreeRegressor(max_depth=2, random_state=42)</pre></div></div></div></div></div>"
            ]
          },
          "metadata": {},
          "execution_count": 58
        }
      ]
    },
    {
      "cell_type": "code",
      "source": [
        "y_pred1 = reg_1.predict(X)"
      ],
      "metadata": {
        "id": "t87HTBm635aC"
      },
      "execution_count": 59,
      "outputs": []
    },
    {
      "cell_type": "markdown",
      "source": [
        "## 1.3. Regressor 2"
      ],
      "metadata": {
        "id": "lVnJyyzqWzsT"
      }
    },
    {
      "cell_type": "markdown",
      "metadata": {
        "id": "W3ao2m6RRz8Z"
      },
      "source": [
        "Now train a second <code><b>DecisionTreeRegressor</b></code> on the residual errors made by the first predictor <code><b>reg_1</b></code> :"
      ]
    },
    {
      "cell_type": "code",
      "execution_count": 60,
      "metadata": {
        "id": "j_wMy80MRz8Z"
      },
      "outputs": [],
      "source": [
        "y_res1 = y - y_pred1"
      ]
    },
    {
      "cell_type": "code",
      "source": [
        "reg_2 = DecisionTreeRegressor(\n",
        "      max_depth    = 2\n",
        "    , random_state = 42\n",
        ")"
      ],
      "metadata": {
        "id": "4UYeFokb3rae"
      },
      "execution_count": 61,
      "outputs": []
    },
    {
      "cell_type": "code",
      "source": [
        "reg_2.fit(\n",
        "      X\n",
        "    , y_res1\n",
        ")"
      ],
      "metadata": {
        "colab": {
          "base_uri": "https://localhost:8080/",
          "height": 75
        },
        "id": "XF1-V8S03sgE",
        "outputId": "de353cc9-ef82-4f84-ef51-219197b1dc7b"
      },
      "execution_count": 62,
      "outputs": [
        {
          "output_type": "execute_result",
          "data": {
            "text/plain": [
              "DecisionTreeRegressor(max_depth=2, random_state=42)"
            ],
            "text/html": [
              "<style>#sk-container-id-6 {color: black;background-color: white;}#sk-container-id-6 pre{padding: 0;}#sk-container-id-6 div.sk-toggleable {background-color: white;}#sk-container-id-6 label.sk-toggleable__label {cursor: pointer;display: block;width: 100%;margin-bottom: 0;padding: 0.3em;box-sizing: border-box;text-align: center;}#sk-container-id-6 label.sk-toggleable__label-arrow:before {content: \"▸\";float: left;margin-right: 0.25em;color: #696969;}#sk-container-id-6 label.sk-toggleable__label-arrow:hover:before {color: black;}#sk-container-id-6 div.sk-estimator:hover label.sk-toggleable__label-arrow:before {color: black;}#sk-container-id-6 div.sk-toggleable__content {max-height: 0;max-width: 0;overflow: hidden;text-align: left;background-color: #f0f8ff;}#sk-container-id-6 div.sk-toggleable__content pre {margin: 0.2em;color: black;border-radius: 0.25em;background-color: #f0f8ff;}#sk-container-id-6 input.sk-toggleable__control:checked~div.sk-toggleable__content {max-height: 200px;max-width: 100%;overflow: auto;}#sk-container-id-6 input.sk-toggleable__control:checked~label.sk-toggleable__label-arrow:before {content: \"▾\";}#sk-container-id-6 div.sk-estimator input.sk-toggleable__control:checked~label.sk-toggleable__label {background-color: #d4ebff;}#sk-container-id-6 div.sk-label input.sk-toggleable__control:checked~label.sk-toggleable__label {background-color: #d4ebff;}#sk-container-id-6 input.sk-hidden--visually {border: 0;clip: rect(1px 1px 1px 1px);clip: rect(1px, 1px, 1px, 1px);height: 1px;margin: -1px;overflow: hidden;padding: 0;position: absolute;width: 1px;}#sk-container-id-6 div.sk-estimator {font-family: monospace;background-color: #f0f8ff;border: 1px dotted black;border-radius: 0.25em;box-sizing: border-box;margin-bottom: 0.5em;}#sk-container-id-6 div.sk-estimator:hover {background-color: #d4ebff;}#sk-container-id-6 div.sk-parallel-item::after {content: \"\";width: 100%;border-bottom: 1px solid gray;flex-grow: 1;}#sk-container-id-6 div.sk-label:hover label.sk-toggleable__label {background-color: #d4ebff;}#sk-container-id-6 div.sk-serial::before {content: \"\";position: absolute;border-left: 1px solid gray;box-sizing: border-box;top: 0;bottom: 0;left: 50%;z-index: 0;}#sk-container-id-6 div.sk-serial {display: flex;flex-direction: column;align-items: center;background-color: white;padding-right: 0.2em;padding-left: 0.2em;position: relative;}#sk-container-id-6 div.sk-item {position: relative;z-index: 1;}#sk-container-id-6 div.sk-parallel {display: flex;align-items: stretch;justify-content: center;background-color: white;position: relative;}#sk-container-id-6 div.sk-item::before, #sk-container-id-6 div.sk-parallel-item::before {content: \"\";position: absolute;border-left: 1px solid gray;box-sizing: border-box;top: 0;bottom: 0;left: 50%;z-index: -1;}#sk-container-id-6 div.sk-parallel-item {display: flex;flex-direction: column;z-index: 1;position: relative;background-color: white;}#sk-container-id-6 div.sk-parallel-item:first-child::after {align-self: flex-end;width: 50%;}#sk-container-id-6 div.sk-parallel-item:last-child::after {align-self: flex-start;width: 50%;}#sk-container-id-6 div.sk-parallel-item:only-child::after {width: 0;}#sk-container-id-6 div.sk-dashed-wrapped {border: 1px dashed gray;margin: 0 0.4em 0.5em 0.4em;box-sizing: border-box;padding-bottom: 0.4em;background-color: white;}#sk-container-id-6 div.sk-label label {font-family: monospace;font-weight: bold;display: inline-block;line-height: 1.2em;}#sk-container-id-6 div.sk-label-container {text-align: center;}#sk-container-id-6 div.sk-container {/* jupyter's `normalize.less` sets `[hidden] { display: none; }` but bootstrap.min.css set `[hidden] { display: none !important; }` so we also need the `!important` here to be able to override the default hidden behavior on the sphinx rendered scikit-learn.org. See: https://github.com/scikit-learn/scikit-learn/issues/21755 */display: inline-block !important;position: relative;}#sk-container-id-6 div.sk-text-repr-fallback {display: none;}</style><div id=\"sk-container-id-6\" class=\"sk-top-container\"><div class=\"sk-text-repr-fallback\"><pre>DecisionTreeRegressor(max_depth=2, random_state=42)</pre><b>In a Jupyter environment, please rerun this cell to show the HTML representation or trust the notebook. <br />On GitHub, the HTML representation is unable to render, please try loading this page with nbviewer.org.</b></div><div class=\"sk-container\" hidden><div class=\"sk-item\"><div class=\"sk-estimator sk-toggleable\"><input class=\"sk-toggleable__control sk-hidden--visually\" id=\"sk-estimator-id-6\" type=\"checkbox\" checked><label for=\"sk-estimator-id-6\" class=\"sk-toggleable__label sk-toggleable__label-arrow\">DecisionTreeRegressor</label><div class=\"sk-toggleable__content\"><pre>DecisionTreeRegressor(max_depth=2, random_state=42)</pre></div></div></div></div></div>"
            ]
          },
          "metadata": {},
          "execution_count": 62
        }
      ]
    },
    {
      "cell_type": "markdown",
      "source": [
        "## 1.4. Regressor 3"
      ],
      "metadata": {
        "id": "5ozwjNWPWuvz"
      }
    },
    {
      "cell_type": "markdown",
      "metadata": {
        "id": "T7iraM6-Rz8c"
      },
      "source": [
        "Then we train a third regressor on the residual errors made by the second predictor <code><b>reg_2</b></code> :\n",
        "\n"
      ]
    },
    {
      "cell_type": "code",
      "source": [
        "y_pred2 = reg_2.predict(X)"
      ],
      "metadata": {
        "id": "cM7OzevE-Stk"
      },
      "execution_count": 63,
      "outputs": []
    },
    {
      "cell_type": "code",
      "execution_count": 64,
      "metadata": {
        "id": "luWV0lZGRz8c"
      },
      "outputs": [],
      "source": [
        "y_res2 = y_res1 - y_pred2"
      ]
    },
    {
      "cell_type": "code",
      "source": [
        "reg_3 = DecisionTreeRegressor(\n",
        "      max_depth    = 2\n",
        "    , random_state = 42\n",
        ")"
      ],
      "metadata": {
        "id": "WTkcV_5Sb2f6"
      },
      "execution_count": 65,
      "outputs": []
    },
    {
      "cell_type": "code",
      "source": [
        "reg_3.fit(\n",
        "      X\n",
        "    , y_res2\n",
        ")"
      ],
      "metadata": {
        "id": "hIiehovxb1GG",
        "colab": {
          "base_uri": "https://localhost:8080/",
          "height": 75
        },
        "outputId": "038bf163-90c1-4769-c173-9643273238a3"
      },
      "execution_count": 66,
      "outputs": [
        {
          "output_type": "execute_result",
          "data": {
            "text/plain": [
              "DecisionTreeRegressor(max_depth=2, random_state=42)"
            ],
            "text/html": [
              "<style>#sk-container-id-7 {color: black;background-color: white;}#sk-container-id-7 pre{padding: 0;}#sk-container-id-7 div.sk-toggleable {background-color: white;}#sk-container-id-7 label.sk-toggleable__label {cursor: pointer;display: block;width: 100%;margin-bottom: 0;padding: 0.3em;box-sizing: border-box;text-align: center;}#sk-container-id-7 label.sk-toggleable__label-arrow:before {content: \"▸\";float: left;margin-right: 0.25em;color: #696969;}#sk-container-id-7 label.sk-toggleable__label-arrow:hover:before {color: black;}#sk-container-id-7 div.sk-estimator:hover label.sk-toggleable__label-arrow:before {color: black;}#sk-container-id-7 div.sk-toggleable__content {max-height: 0;max-width: 0;overflow: hidden;text-align: left;background-color: #f0f8ff;}#sk-container-id-7 div.sk-toggleable__content pre {margin: 0.2em;color: black;border-radius: 0.25em;background-color: #f0f8ff;}#sk-container-id-7 input.sk-toggleable__control:checked~div.sk-toggleable__content {max-height: 200px;max-width: 100%;overflow: auto;}#sk-container-id-7 input.sk-toggleable__control:checked~label.sk-toggleable__label-arrow:before {content: \"▾\";}#sk-container-id-7 div.sk-estimator input.sk-toggleable__control:checked~label.sk-toggleable__label {background-color: #d4ebff;}#sk-container-id-7 div.sk-label input.sk-toggleable__control:checked~label.sk-toggleable__label {background-color: #d4ebff;}#sk-container-id-7 input.sk-hidden--visually {border: 0;clip: rect(1px 1px 1px 1px);clip: rect(1px, 1px, 1px, 1px);height: 1px;margin: -1px;overflow: hidden;padding: 0;position: absolute;width: 1px;}#sk-container-id-7 div.sk-estimator {font-family: monospace;background-color: #f0f8ff;border: 1px dotted black;border-radius: 0.25em;box-sizing: border-box;margin-bottom: 0.5em;}#sk-container-id-7 div.sk-estimator:hover {background-color: #d4ebff;}#sk-container-id-7 div.sk-parallel-item::after {content: \"\";width: 100%;border-bottom: 1px solid gray;flex-grow: 1;}#sk-container-id-7 div.sk-label:hover label.sk-toggleable__label {background-color: #d4ebff;}#sk-container-id-7 div.sk-serial::before {content: \"\";position: absolute;border-left: 1px solid gray;box-sizing: border-box;top: 0;bottom: 0;left: 50%;z-index: 0;}#sk-container-id-7 div.sk-serial {display: flex;flex-direction: column;align-items: center;background-color: white;padding-right: 0.2em;padding-left: 0.2em;position: relative;}#sk-container-id-7 div.sk-item {position: relative;z-index: 1;}#sk-container-id-7 div.sk-parallel {display: flex;align-items: stretch;justify-content: center;background-color: white;position: relative;}#sk-container-id-7 div.sk-item::before, #sk-container-id-7 div.sk-parallel-item::before {content: \"\";position: absolute;border-left: 1px solid gray;box-sizing: border-box;top: 0;bottom: 0;left: 50%;z-index: -1;}#sk-container-id-7 div.sk-parallel-item {display: flex;flex-direction: column;z-index: 1;position: relative;background-color: white;}#sk-container-id-7 div.sk-parallel-item:first-child::after {align-self: flex-end;width: 50%;}#sk-container-id-7 div.sk-parallel-item:last-child::after {align-self: flex-start;width: 50%;}#sk-container-id-7 div.sk-parallel-item:only-child::after {width: 0;}#sk-container-id-7 div.sk-dashed-wrapped {border: 1px dashed gray;margin: 0 0.4em 0.5em 0.4em;box-sizing: border-box;padding-bottom: 0.4em;background-color: white;}#sk-container-id-7 div.sk-label label {font-family: monospace;font-weight: bold;display: inline-block;line-height: 1.2em;}#sk-container-id-7 div.sk-label-container {text-align: center;}#sk-container-id-7 div.sk-container {/* jupyter's `normalize.less` sets `[hidden] { display: none; }` but bootstrap.min.css set `[hidden] { display: none !important; }` so we also need the `!important` here to be able to override the default hidden behavior on the sphinx rendered scikit-learn.org. See: https://github.com/scikit-learn/scikit-learn/issues/21755 */display: inline-block !important;position: relative;}#sk-container-id-7 div.sk-text-repr-fallback {display: none;}</style><div id=\"sk-container-id-7\" class=\"sk-top-container\"><div class=\"sk-text-repr-fallback\"><pre>DecisionTreeRegressor(max_depth=2, random_state=42)</pre><b>In a Jupyter environment, please rerun this cell to show the HTML representation or trust the notebook. <br />On GitHub, the HTML representation is unable to render, please try loading this page with nbviewer.org.</b></div><div class=\"sk-container\" hidden><div class=\"sk-item\"><div class=\"sk-estimator sk-toggleable\"><input class=\"sk-toggleable__control sk-hidden--visually\" id=\"sk-estimator-id-7\" type=\"checkbox\" checked><label for=\"sk-estimator-id-7\" class=\"sk-toggleable__label sk-toggleable__label-arrow\">DecisionTreeRegressor</label><div class=\"sk-toggleable__content\"><pre>DecisionTreeRegressor(max_depth=2, random_state=42)</pre></div></div></div></div></div>"
            ]
          },
          "metadata": {},
          "execution_count": 66
        }
      ]
    },
    {
      "cell_type": "markdown",
      "metadata": {
        "id": "hNqDI9AcRz8g"
      },
      "source": [
        "Now we have an ensemble containing three trees. It can make predictions on a new instance simply by adding up the predictions of all the trees:"
      ]
    },
    {
      "cell_type": "code",
      "execution_count": 67,
      "metadata": {
        "id": "5UxW0hN1Rz8g"
      },
      "outputs": [],
      "source": [
        "X_new = np.array([[0.8]])"
      ]
    },
    {
      "cell_type": "code",
      "execution_count": 68,
      "metadata": {
        "id": "2O_e-UpZRz8j"
      },
      "outputs": [],
      "source": [
        "y_pred = sum(\n",
        "    tree.predict(X_new)\n",
        "    for tree\n",
        "    in (reg_1, reg_2, reg_3)\n",
        ")"
      ]
    },
    {
      "cell_type": "code",
      "execution_count": 69,
      "metadata": {
        "colab": {
          "base_uri": "https://localhost:8080/"
        },
        "id": "TKw9-uOJRz8m",
        "outputId": "ad12685b-93d5-4183-f2a2-0e2d4e01ee16"
      },
      "outputs": [
        {
          "output_type": "execute_result",
          "data": {
            "text/plain": [
              "array([0.75026781])"
            ]
          },
          "metadata": {},
          "execution_count": 69
        }
      ],
      "source": [
        "y_pred"
      ]
    },
    {
      "cell_type": "markdown",
      "metadata": {
        "id": "PlbPjAa1Rz8o"
      },
      "source": [
        "The figure below represents the predictions of these three trees in the left column, and the ensemble’s predictions in the right column. In the first row, the ensemble has just one tree, so its predictions are exactly the same as the first tree’s predictions. In the second row, a new tree is trained on the residual errors of the first tree. On the right you can see that the ensemble’s predictions are equal to the sum of the predictions of the first two trees. Similarly, in the third row another tree is trained on the residual errors of the second tree. You can see that the ensemble’s predictions gradually get better as trees are added to the ensemble."
      ]
    },
    {
      "cell_type": "markdown",
      "metadata": {
        "id": "WRMKci30Rz8p",
        "tags": []
      },
      "source": [
        "## 1.5. Plot predictions"
      ]
    },
    {
      "cell_type": "code",
      "execution_count": 70,
      "metadata": {
        "colab": {
          "base_uri": "https://localhost:8080/",
          "height": 798
        },
        "id": "gbuQDXNWRz8p",
        "outputId": "7cb03d83-4db5-41d6-907a-5fc2a3f5a928",
        "tags": []
      },
      "outputs": [
        {
          "output_type": "display_data",
          "data": {
            "text/plain": [
              "<Figure size 900x900 with 6 Axes>"
            ],
            "image/png": "[encoded data removed]"
          },
          "metadata": {}
        }
      ],
      "source": [
        "mpl.rcParams['axes.titlesize']  = 16\n",
        "mpl.rcParams['ytick.labelsize'] = 10\n",
        "fontsize_legends                = 10\n",
        "# -----------------------------------------------------------------------------\n",
        "plt.figure(figsize=(9, 9))\n",
        "# -----------------------------------------------------------------------------\n",
        "#                               SUBPLOT 321\n",
        "# -----------------------------------------------------------------------------\n",
        "ax321 = plt.subplot(321)\n",
        "\n",
        "plot_predictions(\n",
        "      [reg_1]\n",
        "    , X\n",
        "    , y\n",
        "    , axes       = [-0.5, 0.5, -0.1, 0.8]\n",
        "    , label      = \"$h_1(x_1)$\"\n",
        "    , style      = \"g-\"\n",
        "    , data_label = \"Training set\"\n",
        ")\n",
        "\n",
        "plt.ylabel(\n",
        "      \"$y$\"\n",
        "    , fontsize = 16\n",
        "    , rotation = 0\n",
        ")\n",
        "\n",
        "plt.title(\n",
        "      \"Residuals and tree predictions\"\n",
        "    , fontsize = 16\n",
        ")\n",
        "\n",
        "ax321.legend(\n",
        "      fontsize = fontsize_legends\n",
        ")\n",
        "# -----------------------------------------------------------------------------\n",
        "#                               SUBPLOT 322\n",
        "# -----------------------------------------------------------------------------\n",
        "ax322 = plt.subplot(322)\n",
        "\n",
        "plot_predictions(\n",
        "      [reg_1]\n",
        "    , X\n",
        "    , y\n",
        "    , axes       = [-0.5, 0.5, -0.1, 0.8]\n",
        "    , label      = \"$h(x_1) = h_1(x_1)$\"\n",
        "    , data_label = \"Training set\"\n",
        ")\n",
        "\n",
        "plt.ylabel(\n",
        "      \"$y$\"\n",
        "    , fontsize = 16\n",
        "    , rotation = 0\n",
        ")\n",
        "\n",
        "plt.title(\n",
        "      \"Ensemble predictions\"\n",
        ")\n",
        "\n",
        "ax322.legend(\n",
        "      fontsize = fontsize_legends\n",
        ")\n",
        "# -----------------------------------------------------------------------------\n",
        "#                               SUBPLOT 323\n",
        "# -----------------------------------------------------------------------------\n",
        "ax323 = plt.subplot(323)\n",
        "\n",
        "plot_predictions(\n",
        "      [reg_2]\n",
        "    , X\n",
        "    , y_res1\n",
        "    , axes       = [-0.5, 0.5, -0.5, 0.5]\n",
        "    , label      = \"$h_2(x_1)$\"\n",
        "    , style      = \"g-\"\n",
        "    , data_style = \"k+\"\n",
        "    , data_label = \"Residuals\"\n",
        ")\n",
        "\n",
        "plt.ylabel(\n",
        "      \"$y - h_1(x_1)$\"\n",
        "    , fontsize = 16\n",
        ")\n",
        "\n",
        "ax323.legend(\n",
        "      fontsize = fontsize_legends\n",
        ")\n",
        "# -----------------------------------------------------------------------------\n",
        "#                               SUBPLOT 324\n",
        "# -----------------------------------------------------------------------------\n",
        "ax324 = plt.subplot(324)\n",
        "\n",
        "plot_predictions(\n",
        "    [reg_1, reg_2]\n",
        "    , X\n",
        "    , y\n",
        "    , axes  = [-0.5, 0.5, -0.1, 0.8]\n",
        "    , label = \"$h(x_1) = h_1(x_1) + h_2(x_1)$\"\n",
        ")\n",
        "\n",
        "plt.ylabel(\n",
        "      \"$y$\"\n",
        "    , fontsize = 16\n",
        "    , rotation = 0\n",
        ")\n",
        "\n",
        "ax324.legend(\n",
        "      fontsize = fontsize_legends\n",
        ")# -----------------------------------------------------------------------------\n",
        "#                               SUBPLOT 325\n",
        "# -----------------------------------------------------------------------------\n",
        "ax325 = plt.subplot(325)\n",
        "\n",
        "plot_predictions(\n",
        "      [reg_3]\n",
        "    , X\n",
        "    , y_res2\n",
        "    , axes       = [-0.5, 0.5, -0.5, 0.5]\n",
        "    , label      = \"$h_3(x_1)$\"\n",
        "    , style      = \"g-\"\n",
        "    , data_style = \"k+\"\n",
        ")\n",
        "\n",
        "plt.xlabel(\n",
        "      \"$x_1$\"\n",
        ")\n",
        "\n",
        "plt.ylabel(\n",
        "      \"$y - h_1(x_1) - h_2(x_1)$\"\n",
        "    , fontsize = 16\n",
        ")\n",
        "\n",
        "ax325.legend(\n",
        "      fontsize = fontsize_legends\n",
        ")\n",
        "# -----------------------------------------------------------------------------\n",
        "#                               SUBPLOT 326\n",
        "# -----------------------------------------------------------------------------\n",
        "ax326 = plt.subplot(326)\n",
        "\n",
        "plot_predictions(\n",
        "      [reg_1, reg_2, reg_3]\n",
        "    , X\n",
        "    , y\n",
        "    , axes  = [-0.5, 0.5, -0.1, 0.8]\n",
        "    , label = \"$h(x_1) = h_1(x_1) + h_2(x_1) + h_3(x_1)$\"\n",
        ")\n",
        "\n",
        "plt.xlabel(\n",
        "      \"$x_1$\"\n",
        ")\n",
        "\n",
        "plt.ylabel(\n",
        "      \"$y$\"\n",
        "    , fontsize = 16\n",
        "    , rotation = 0\n",
        ")\n",
        "\n",
        "ax326.legend(\n",
        "      fontsize = fontsize_legends\n",
        ")\n",
        "# -----------------------------------------------------------------------------\n",
        "#save_fig(\"gradient_boosting_plot\")\n",
        "plt.show()"
      ]
    },
    {
      "cell_type": "markdown",
      "source": [
        "# 2. Classification"
      ],
      "metadata": {
        "id": "a92_FEgGQvL7"
      }
    },
    {
      "cell_type": "markdown",
      "metadata": {
        "id": "9dsMW-TCRz8s"
      },
      "source": [
        "Now that you have solid understanding of Gradient Boosting in the regression scenario, let's apply the same algorithm to a classification problem. Specifically, the Titanic dataset and predicting survival."
      ]
    },
    {
      "cell_type": "markdown",
      "source": [
        "## 2.1. Load data"
      ],
      "metadata": {
        "id": "QtVGmBmUSH6Z"
      }
    },
    {
      "cell_type": "markdown",
      "metadata": {
        "id": "oaIC-pukRz8s",
        "tags": []
      },
      "source": [
        "Use pandas <code><b>read_csv()</b></code> method to load in the Titantic data set into a dataframe object called <code><b>df</b></code> .\n",
        "\n",
        "> <b>Hint:</b> In this case, you can use <a href=\"https://pandas.pydata.org/pandas-docs/stable/reference/api/pandas.DataFrame.dropna.html\"><code><b>dropna()</b></code></a> to just throw away any incomplete rows. For the purpose of this exercise, we will disregard them but obviously in the real world you need to be much more careful and decide how to handle incomplete observations."
      ]
    },
    {
      "cell_type": "code",
      "execution_count": 23,
      "metadata": {
        "id": "2MG_oc_cRz8s"
      },
      "outputs": [],
      "source": [
        "df = pd.read_csv(\n",
        "    \"/content/drive/MyDrive/Colab Notebooks/data/14.5.titanic.csv\"\n",
        ").dropna()"
      ]
    },
    {
      "cell_type": "markdown",
      "source": [
        "## 2.2. Visualize"
      ],
      "metadata": {
        "id": "ALXM8okxxee_"
      }
    },
    {
      "cell_type": "code",
      "source": [
        "df.head()"
      ],
      "metadata": {
        "colab": {
          "base_uri": "https://localhost:8080/",
          "height": 206
        },
        "id": "YQqlaNXj5_Pf",
        "outputId": "d09b347f-a9d2-40ac-afdc-0fb0971295a2"
      },
      "execution_count": 24,
      "outputs": [
        {
          "output_type": "execute_result",
          "data": {
            "text/plain": [
              "    PassengerId  Survived  Pclass  \\\n",
              "1             2         1       1   \n",
              "3             4         1       1   \n",
              "6             7         0       1   \n",
              "10           11         1       3   \n",
              "11           12         1       1   \n",
              "\n",
              "                                                 Name     Sex   Age  SibSp  \\\n",
              "1   Cumings, Mrs. John Bradley (Florence Briggs Th...  female  38.0      1   \n",
              "3        Futrelle, Mrs. Jacques Heath (Lily May Peel)  female  35.0      1   \n",
              "6                             McCarthy, Mr. Timothy J    male  54.0      0   \n",
              "10                    Sandstrom, Miss. Marguerite Rut  female   4.0      1   \n",
              "11                           Bonnell, Miss. Elizabeth  female  58.0      0   \n",
              "\n",
              "    Parch    Ticket     Fare Cabin Embarked  \n",
              "1       0  PC 17599  71.2833   C85        C  \n",
              "3       0    113803  53.1000  C123        S  \n",
              "6       0     17463  51.8625   E46        S  \n",
              "10      1   PP 9549  16.7000    G6        S  \n",
              "11      0    113783  26.5500  C103        S  "
            ],
            "text/html": [
              "\n",
              "  <div id=\"df-1cbab602-dbe5-481c-8c49-69412a0a2dfd\" class=\"colab-df-container\">\n",
              "    <div>\n",
              "<style scoped>\n",
              "    .dataframe tbody tr th:only-of-type {\n",
              "        vertical-align: middle;\n",
              "    }\n",
              "\n",
              "    .dataframe tbody tr th {\n",
              "        vertical-align: top;\n",
              "    }\n",
              "\n",
              "    .dataframe thead th {\n",
              "        text-align: right;\n",
              "    }\n",
              "</style>\n",
              "<table border=\"1\" class=\"dataframe\">\n",
              "  <thead>\n",
              "    <tr style=\"text-align: right;\">\n",
              "      <th></th>\n",
              "      <th>PassengerId</th>\n",
              "      <th>Survived</th>\n",
              "      <th>Pclass</th>\n",
              "      <th>Name</th>\n",
              "      <th>Sex</th>\n",
              "      <th>Age</th>\n",
              "      <th>SibSp</th>\n",
              "      <th>Parch</th>\n",
              "      <th>Ticket</th>\n",
              "      <th>Fare</th>\n",
              "      <th>Cabin</th>\n",
              "      <th>Embarked</th>\n",
              "    </tr>\n",
              "  </thead>\n",
              "  <tbody>\n",
              "    <tr>\n",
              "      <th>1</th>\n",
              "      <td>2</td>\n",
              "      <td>1</td>\n",
              "      <td>1</td>\n",
              "      <td>Cumings, Mrs. John Bradley (Florence Briggs Th...</td>\n",
              "      <td>female</td>\n",
              "      <td>38.0</td>\n",
              "      <td>1</td>\n",
              "      <td>0</td>\n",
              "      <td>PC 17599</td>\n",
              "      <td>71.2833</td>\n",
              "      <td>C85</td>\n",
              "      <td>C</td>\n",
              "    </tr>\n",
              "    <tr>\n",
              "      <th>3</th>\n",
              "      <td>4</td>\n",
              "      <td>1</td>\n",
              "      <td>1</td>\n",
              "      <td>Futrelle, Mrs. Jacques Heath (Lily May Peel)</td>\n",
              "      <td>female</td>\n",
              "      <td>35.0</td>\n",
              "      <td>1</td>\n",
              "      <td>0</td>\n",
              "      <td>113803</td>\n",
              "      <td>53.1000</td>\n",
              "      <td>C123</td>\n",
              "      <td>S</td>\n",
              "    </tr>\n",
              "    <tr>\n",
              "      <th>6</th>\n",
              "      <td>7</td>\n",
              "      <td>0</td>\n",
              "      <td>1</td>\n",
              "      <td>McCarthy, Mr. Timothy J</td>\n",
              "      <td>male</td>\n",
              "      <td>54.0</td>\n",
              "      <td>0</td>\n",
              "      <td>0</td>\n",
              "      <td>17463</td>\n",
              "      <td>51.8625</td>\n",
              "      <td>E46</td>\n",
              "      <td>S</td>\n",
              "    </tr>\n",
              "    <tr>\n",
              "      <th>10</th>\n",
              "      <td>11</td>\n",
              "      <td>1</td>\n",
              "      <td>3</td>\n",
              "      <td>Sandstrom, Miss. Marguerite Rut</td>\n",
              "      <td>female</td>\n",
              "      <td>4.0</td>\n",
              "      <td>1</td>\n",
              "      <td>1</td>\n",
              "      <td>PP 9549</td>\n",
              "      <td>16.7000</td>\n",
              "      <td>G6</td>\n",
              "      <td>S</td>\n",
              "    </tr>\n",
              "    <tr>\n",
              "      <th>11</th>\n",
              "      <td>12</td>\n",
              "      <td>1</td>\n",
              "      <td>1</td>\n",
              "      <td>Bonnell, Miss. Elizabeth</td>\n",
              "      <td>female</td>\n",
              "      <td>58.0</td>\n",
              "      <td>0</td>\n",
              "      <td>0</td>\n",
              "      <td>113783</td>\n",
              "      <td>26.5500</td>\n",
              "      <td>C103</td>\n",
              "      <td>S</td>\n",
              "    </tr>\n",
              "  </tbody>\n",
              "</table>\n",
              "</div>\n",
              "    <div class=\"colab-df-buttons\">\n",
              "\n",
              "  <div class=\"colab-df-container\">\n",
              "    <button class=\"colab-df-convert\" onclick=\"convertToInteractive('df-1cbab602-dbe5-481c-8c49-69412a0a2dfd')\"\n",
              "            title=\"Convert this dataframe to an interactive table.\"\n",
              "            style=\"display:none;\">\n",
              "\n",
              "  <svg xmlns=\"http://www.w3.org/2000/svg\" height=\"24px\" viewBox=\"0 -960 960 960\">\n",
              "    <path d=\"M120-120v-720h720v720H120Zm60-500h600v-160H180v160Zm220 220h160v-160H400v160Zm0 220h160v-160H400v160ZM180-400h160v-160H180v160Zm440 0h160v-160H620v160ZM180-180h160v-160H180v160Zm440 0h160v-160H620v160Z\"/>\n",
              "  </svg>\n",
              "    </button>\n",
              "\n",
              "  <style>\n",
              "    .colab-df-container {\n",
              "      display:flex;\n",
              "      gap: 12px;\n",
              "    }\n",
              "\n",
              "    .colab-df-convert {\n",
              "      background-color: #E8F0FE;\n",
              "      border: none;\n",
              "      border-radius: 50%;\n",
              "      cursor: pointer;\n",
              "      display: none;\n",
              "      fill: #1967D2;\n",
              "      height: 32px;\n",
              "      padding: 0 0 0 0;\n",
              "      width: 32px;\n",
              "    }\n",
              "\n",
              "    .colab-df-convert:hover {\n",
              "      background-color: #E2EBFA;\n",
              "      box-shadow: 0px 1px 2px rgba(60, 64, 67, 0.3), 0px 1px 3px 1px rgba(60, 64, 67, 0.15);\n",
              "      fill: #174EA6;\n",
              "    }\n",
              "\n",
              "    .colab-df-buttons div {\n",
              "      margin-bottom: 4px;\n",
              "    }\n",
              "\n",
              "    [theme=dark] .colab-df-convert {\n",
              "      background-color: #3B4455;\n",
              "      fill: #D2E3FC;\n",
              "    }\n",
              "\n",
              "    [theme=dark] .colab-df-convert:hover {\n",
              "      background-color: #434B5C;\n",
              "      box-shadow: 0px 1px 3px 1px rgba(0, 0, 0, 0.15);\n",
              "      filter: drop-shadow(0px 1px 2px rgba(0, 0, 0, 0.3));\n",
              "      fill: #FFFFFF;\n",
              "    }\n",
              "  </style>\n",
              "\n",
              "    <script>\n",
              "      const buttonEl =\n",
              "        document.querySelector('#df-1cbab602-dbe5-481c-8c49-69412a0a2dfd button.colab-df-convert');\n",
              "      buttonEl.style.display =\n",
              "        google.colab.kernel.accessAllowed ? 'block' : 'none';\n",
              "\n",
              "      async function convertToInteractive(key) {\n",
              "        const element = document.querySelector('#df-1cbab602-dbe5-481c-8c49-69412a0a2dfd');\n",
              "        const dataTable =\n",
              "          await google.colab.kernel.invokeFunction('convertToInteractive',\n",
              "                                                    [key], {});\n",
              "        if (!dataTable) return;\n",
              "\n",
              "        const docLinkHtml = 'Like what you see? Visit the ' +\n",
              "          '<a target=\"_blank\" href=https://colab.research.google.com/notebooks/data_table.ipynb>data table notebook</a>'\n",
              "          + ' to learn more about interactive tables.';\n",
              "        element.innerHTML = '';\n",
              "        dataTable['output_type'] = 'display_data';\n",
              "        await google.colab.output.renderOutput(dataTable, element);\n",
              "        const docLink = document.createElement('div');\n",
              "        docLink.innerHTML = docLinkHtml;\n",
              "        element.appendChild(docLink);\n",
              "      }\n",
              "    </script>\n",
              "  </div>\n",
              "\n",
              "\n",
              "<div id=\"df-241ba661-001d-422e-8d57-92db03022551\">\n",
              "  <button class=\"colab-df-quickchart\" onclick=\"quickchart('df-241ba661-001d-422e-8d57-92db03022551')\"\n",
              "            title=\"Suggest charts.\"\n",
              "            style=\"display:none;\">\n",
              "\n",
              "<svg xmlns=\"http://www.w3.org/2000/svg\" height=\"24px\"viewBox=\"0 0 24 24\"\n",
              "     width=\"24px\">\n",
              "    <g>\n",
              "        <path d=\"M19 3H5c-1.1 0-2 .9-2 2v14c0 1.1.9 2 2 2h14c1.1 0 2-.9 2-2V5c0-1.1-.9-2-2-2zM9 17H7v-7h2v7zm4 0h-2V7h2v10zm4 0h-2v-4h2v4z\"/>\n",
              "    </g>\n",
              "</svg>\n",
              "  </button>\n",
              "\n",
              "<style>\n",
              "  .colab-df-quickchart {\n",
              "      --bg-color: #E8F0FE;\n",
              "      --fill-color: #1967D2;\n",
              "      --hover-bg-color: #E2EBFA;\n",
              "      --hover-fill-color: #174EA6;\n",
              "      --disabled-fill-color: #AAA;\n",
              "      --disabled-bg-color: #DDD;\n",
              "  }\n",
              "\n",
              "  [theme=dark] .colab-df-quickchart {\n",
              "      --bg-color: #3B4455;\n",
              "      --fill-color: #D2E3FC;\n",
              "      --hover-bg-color: #434B5C;\n",
              "      --hover-fill-color: #FFFFFF;\n",
              "      --disabled-bg-color: #3B4455;\n",
              "      --disabled-fill-color: #666;\n",
              "  }\n",
              "\n",
              "  .colab-df-quickchart {\n",
              "    background-color: var(--bg-color);\n",
              "    border: none;\n",
              "    border-radius: 50%;\n",
              "    cursor: pointer;\n",
              "    display: none;\n",
              "    fill: var(--fill-color);\n",
              "    height: 32px;\n",
              "    padding: 0;\n",
              "    width: 32px;\n",
              "  }\n",
              "\n",
              "  .colab-df-quickchart:hover {\n",
              "    background-color: var(--hover-bg-color);\n",
              "    box-shadow: 0 1px 2px rgba(60, 64, 67, 0.3), 0 1px 3px 1px rgba(60, 64, 67, 0.15);\n",
              "    fill: var(--button-hover-fill-color);\n",
              "  }\n",
              "\n",
              "  .colab-df-quickchart-complete:disabled,\n",
              "  .colab-df-quickchart-complete:disabled:hover {\n",
              "    background-color: var(--disabled-bg-color);\n",
              "    fill: var(--disabled-fill-color);\n",
              "    box-shadow: none;\n",
              "  }\n",
              "\n",
              "  .colab-df-spinner {\n",
              "    border: 2px solid var(--fill-color);\n",
              "    border-color: transparent;\n",
              "    border-bottom-color: var(--fill-color);\n",
              "    animation:\n",
              "      spin 1s steps(1) infinite;\n",
              "  }\n",
              "\n",
              "  @keyframes spin {\n",
              "    0% {\n",
              "      border-color: transparent;\n",
              "      border-bottom-color: var(--fill-color);\n",
              "      border-left-color: var(--fill-color);\n",
              "    }\n",
              "    20% {\n",
              "      border-color: transparent;\n",
              "      border-left-color: var(--fill-color);\n",
              "      border-top-color: var(--fill-color);\n",
              "    }\n",
              "    30% {\n",
              "      border-color: transparent;\n",
              "      border-left-color: var(--fill-color);\n",
              "      border-top-color: var(--fill-color);\n",
              "      border-right-color: var(--fill-color);\n",
              "    }\n",
              "    40% {\n",
              "      border-color: transparent;\n",
              "      border-right-color: var(--fill-color);\n",
              "      border-top-color: var(--fill-color);\n",
              "    }\n",
              "    60% {\n",
              "      border-color: transparent;\n",
              "      border-right-color: var(--fill-color);\n",
              "    }\n",
              "    80% {\n",
              "      border-color: transparent;\n",
              "      border-right-color: var(--fill-color);\n",
              "      border-bottom-color: var(--fill-color);\n",
              "    }\n",
              "    90% {\n",
              "      border-color: transparent;\n",
              "      border-bottom-color: var(--fill-color);\n",
              "    }\n",
              "  }\n",
              "</style>\n",
              "\n",
              "  <script>\n",
              "    async function quickchart(key) {\n",
              "      const quickchartButtonEl =\n",
              "        document.querySelector('#' + key + ' button');\n",
              "      quickchartButtonEl.disabled = true;  // To prevent multiple clicks.\n",
              "      quickchartButtonEl.classList.add('colab-df-spinner');\n",
              "      try {\n",
              "        const charts = await google.colab.kernel.invokeFunction(\n",
              "            'suggestCharts', [key], {});\n",
              "      } catch (error) {\n",
              "        console.error('Error during call to suggestCharts:', error);\n",
              "      }\n",
              "      quickchartButtonEl.classList.remove('colab-df-spinner');\n",
              "      quickchartButtonEl.classList.add('colab-df-quickchart-complete');\n",
              "    }\n",
              "    (() => {\n",
              "      let quickchartButtonEl =\n",
              "        document.querySelector('#df-241ba661-001d-422e-8d57-92db03022551 button');\n",
              "      quickchartButtonEl.style.display =\n",
              "        google.colab.kernel.accessAllowed ? 'block' : 'none';\n",
              "    })();\n",
              "  </script>\n",
              "</div>\n",
              "\n",
              "    </div>\n",
              "  </div>\n"
            ]
          },
          "metadata": {},
          "execution_count": 24
        }
      ]
    },
    {
      "cell_type": "code",
      "source": [
        "df.info()"
      ],
      "metadata": {
        "colab": {
          "base_uri": "https://localhost:8080/"
        },
        "id": "ywKdf_NL6boH",
        "outputId": "eef16849-4f1c-4e1a-ab91-6649e8b64347"
      },
      "execution_count": 25,
      "outputs": [
        {
          "output_type": "stream",
          "name": "stdout",
          "text": [
            "<class 'pandas.core.frame.DataFrame'>\n",
            "Int64Index: 183 entries, 1 to 889\n",
            "Data columns (total 12 columns):\n",
            " #   Column       Non-Null Count  Dtype  \n",
            "---  ------       --------------  -----  \n",
            " 0   PassengerId  183 non-null    int64  \n",
            " 1   Survived     183 non-null    int64  \n",
            " 2   Pclass       183 non-null    int64  \n",
            " 3   Name         183 non-null    object \n",
            " 4   Sex          183 non-null    object \n",
            " 5   Age          183 non-null    float64\n",
            " 6   SibSp        183 non-null    int64  \n",
            " 7   Parch        183 non-null    int64  \n",
            " 8   Ticket       183 non-null    object \n",
            " 9   Fare         183 non-null    float64\n",
            " 10  Cabin        183 non-null    object \n",
            " 11  Embarked     183 non-null    object \n",
            "dtypes: float64(2), int64(5), object(5)\n",
            "memory usage: 18.6+ KB\n"
          ]
        }
      ]
    },
    {
      "cell_type": "markdown",
      "metadata": {
        "id": "zLvRIfuSRz8w",
        "tags": []
      },
      "source": [
        "Print the levels of the categorical data using <code><b>select_dtypes()</b></code> ."
      ]
    },
    {
      "cell_type": "code",
      "execution_count": 26,
      "metadata": {
        "id": "RmwDwRljRz8x"
      },
      "outputs": [],
      "source": [
        "# Select columns of dtype 'object'\n",
        "df_cols_obj = df.select_dtypes(\n",
        "    include = ['object']\n",
        ")"
      ]
    },
    {
      "cell_type": "code",
      "source": [
        "# Loop through the selected categorical columns and print unique levels\n",
        "for col in df_cols_obj.columns:\n",
        "\n",
        "    unique_levels = df_cols_obj[col].unique()\n",
        "\n",
        "    # Prettify the output\n",
        "    print(f\"Unique levels in feature '{col}':\")\n",
        "    for unique_level in unique_levels:\n",
        "        print(f\"  - {unique_level}\")"
      ],
      "metadata": {
        "id": "bGtjvFvj7lSX",
        "colab": {
          "base_uri": "https://localhost:8080/"
        },
        "outputId": "c9779328-3f09-4456-ea85-69c7eef11422"
      },
      "execution_count": 27,
      "outputs": [
        {
          "output_type": "stream",
          "name": "stdout",
          "text": [
            "Unique levels in feature 'Name':\n",
            "  - Cumings, Mrs. John Bradley (Florence Briggs Thayer)\n",
            "  - Futrelle, Mrs. Jacques Heath (Lily May Peel)\n",
            "  - McCarthy, Mr. Timothy J\n",
            "  - Sandstrom, Miss. Marguerite Rut\n",
            "  - Bonnell, Miss. Elizabeth\n",
            "  - Beesley, Mr. Lawrence\n",
            "  - Sloper, Mr. William Thompson\n",
            "  - Fortune, Mr. Charles Alexander\n",
            "  - Harper, Mrs. Henry Sleeper (Myna Haxtun)\n",
            "  - Ostby, Mr. Engelhart Cornelius\n",
            "  - Harris, Mr. Henry Birkhardt\n",
            "  - Nye, Mrs. (Elizabeth Ramell)\n",
            "  - Moen, Mr. Sigurd Hansen\n",
            "  - Fortune, Miss. Mabel Helen\n",
            "  - Chaffee, Mr. Herbert Fuller\n",
            "  - Goldschmidt, Mr. George B\n",
            "  - Greenfield, Mr. William Bertram\n",
            "  - White, Mr. Richard Frasar\n",
            "  - Porter, Mr. Walter Chamberlain\n",
            "  - Baxter, Mr. Quigg Edmond\n",
            "  - Webber, Miss. Susan\n",
            "  - White, Mr. Percival Wayland\n",
            "  - Newsom, Miss. Helen Monypeny\n",
            "  - Futrelle, Mr. Jacques Heath\n",
            "  - Giglio, Mr. Victor\n",
            "  - Navratil, Mr. Michel (\"Louis M Hoffman\")\n",
            "  - Pears, Mrs. Thomas (Edith Wearne)\n",
            "  - Van der hoef, Mr. Wyckoff\n",
            "  - Smith, Mr. James Clinch\n",
            "  - Isham, Miss. Ann Elizabeth\n",
            "  - Becker, Master. Richard F\n",
            "  - Navratil, Master. Michel M\n",
            "  - Brown, Mrs. James Joseph (Margaret Tobin)\n",
            "  - Lurette, Miss. Elise\n",
            "  - Strom, Miss. Telma Matilda\n",
            "  - Blank, Mr. Henry\n",
            "  - Newell, Miss. Madeleine\n",
            "  - Bazzani, Miss. Albina\n",
            "  - Hoyt, Mr. Frederick Maxfield\n",
            "  - Harris, Mrs. Henry Birkhardt (Irene Wallach)\n",
            "  - Minahan, Dr. William Edward\n",
            "  - Beckwith, Mr. Richard Leonard\n",
            "  - Strom, Mrs. Wilhelm (Elna Matilda Persson)\n",
            "  - Stead, Mr. William Thomas\n",
            "  - Cherry, Miss. Gladys\n",
            "  - Taussig, Mr. Emil\n",
            "  - Harrison, Mr. William\n",
            "  - Graham, Mrs. William Thompson (Edith Junkins)\n",
            "  - Bissette, Miss. Amelia\n",
            "  - Natsch, Mr. Charles H\n",
            "  - Andrews, Miss. Kornelia Theodosia\n",
            "  - Bishop, Mrs. Dickinson H (Helen Walton)\n",
            "  - Levy, Mr. Rene Jacques\n",
            "  - Allison, Miss. Helen Loraine\n",
            "  - Baxter, Mrs. James (Helene DeLaudeniere Chaput)\n",
            "  - Allison, Master. Hudson Trevor\n",
            "  - Penasco y Castellana, Mrs. Victor de Satode (Maria Josefa Perez de Soto y Vallejo)\n",
            "  - Francatelli, Miss. Laura Mabel\n",
            "  - Hays, Miss. Margaret Bechstein\n",
            "  - Ryerson, Miss. Emily Borie\n",
            "  - Wick, Miss. Mary Natalie\n",
            "  - Spedden, Mrs. Frederic Oakley (Margaretta Corning Stone)\n",
            "  - Young, Miss. Marie Grice\n",
            "  - Ball, Mrs. (Ada E Hall)\n",
            "  - Hippach, Miss. Jean Gertrude\n",
            "  - Partner, Mr. Austen\n",
            "  - Graham, Mr. George Edward\n",
            "  - Pears, Mr. Thomas Clinton\n",
            "  - Burns, Miss. Elizabeth Margaret\n",
            "  - Blackwell, Mr. Stephen Weart\n",
            "  - Navratil, Master. Edmond Roger\n",
            "  - Fortune, Miss. Alice Elizabeth\n",
            "  - Brown, Miss. Amelia \"Mildred\"\n",
            "  - Bowerman, Miss. Elsie Edith\n",
            "  - Warren, Mrs. Frank Manley (Anna Sophia Atkinson)\n",
            "  - Aubart, Mme. Leontine Pauline\n",
            "  - Harder, Mr. George Achilles\n",
            "  - Widener, Mr. Harry Elkins\n",
            "  - Carter, Mr. William Ernest\n",
            "  - Newell, Miss. Marjorie\n",
            "  - Sandstrom, Mrs. Hjalmar (Agnes Charlotta Bengtsson)\n",
            "  - Minahan, Miss. Daisy E\n",
            "  - Pickard, Mr. Berk (Berk Trembisky)\n",
            "  - Bjornstrom-Steffansson, Mr. Mauritz Hakan\n",
            "  - Silvey, Mr. William Baird\n",
            "  - Carter, Miss. Lucile Polk\n",
            "  - Fortune, Mr. Mark\n",
            "  - Dodge, Master. Washington\n",
            "  - Peuchen, Major. Arthur Godfrey\n",
            "  - Foreman, Mr. Benjamin Laventall\n",
            "  - Goldenberg, Mr. Samuel L\n",
            "  - Millet, Mr. Francis Davis\n",
            "  - Anderson, Mr. Harry\n",
            "  - Gee, Mr. Arthur H\n",
            "  - Jerwan, Mrs. Amin S (Marie Marthe Thuillard)\n",
            "  - Bishop, Mr. Dickinson H\n",
            "  - Hoyt, Mrs. Frederick Maxfield (Jane Anne Forby)\n",
            "  - Kent, Mr. Edward Austin\n",
            "  - Molson, Mr. Harry Markland\n",
            "  - Eustis, Miss. Elizabeth Mussey\n",
            "  - Allison, Mrs. Hudson J C (Bessie Waldo Daniels)\n",
            "  - Maioni, Miss. Roberta\n",
            "  - Penasco y Castellana, Mr. Victor de Satode\n",
            "  - McGough, Mr. James Robert\n",
            "  - Walker, Mr. William Anderson\n",
            "  - Lemore, Mrs. (Amelia Milley)\n",
            "  - Perreault, Miss. Anne\n",
            "  - Hippach, Mrs. Louis Albert (Ida Sophia Fischer)\n",
            "  - Butt, Major. Archibald Willingham\n",
            "  - Frolicher, Miss. Hedwig Margaritha\n",
            "  - Crosby, Miss. Harriet R\n",
            "  - Douglas, Mr. Walter Donald\n",
            "  - Thayer, Mr. John Borland Jr\n",
            "  - Duff Gordon, Lady. (Lucille Christiana Sutherland) (\"Mrs Morgan\")\n",
            "  - Taussig, Mrs. Emil (Tillie Mandelbaum)\n",
            "  - Appleton, Mrs. Edward Dale (Charlotte Lamson)\n",
            "  - Flynn, Mr. John Irwin (\"Irving\")\n",
            "  - Silvey, Mrs. William Baird (Alice Munger)\n",
            "  - Thayer, Mrs. John Borland (Marian Longstreth Morris)\n",
            "  - Ross, Mr. John Hugo\n",
            "  - Taussig, Miss. Ruth\n",
            "  - Frolicher-Stehli, Mr. Maxmillian\n",
            "  - Stephenson, Mrs. Walter Bertram (Martha Eustis)\n",
            "  - Duff Gordon, Sir. Cosmo Edmund (\"Mr Morgan\")\n",
            "  - Shutes, Miss. Elizabeth W\n",
            "  - Becker, Miss. Marion Louise\n",
            "  - Kimball, Mr. Edwin Nelson Jr\n",
            "  - Sutton, Mr. Frederick\n",
            "  - Longley, Miss. Gretchen Fiske\n",
            "  - Barkworth, Mr. Algernon Henry Wilson\n",
            "  - Stahelin-Maeglin, Dr. Max\n",
            "  - Sagesser, Mlle. Emma\n",
            "  - Harper, Mr. Henry Sleeper\n",
            "  - Simonius-Blumer, Col. Oberst Alfons\n",
            "  - Newell, Mr. Arthur Webster\n",
            "  - Colley, Mr. Edward Pomeroy\n",
            "  - Davidson, Mr. Thornton\n",
            "  - Cardeza, Mr. Thomas Drake Martinez\n",
            "  - Hassab, Mr. Hammad\n",
            "  - Madill, Miss. Georgette Alexandra\n",
            "  - Dick, Mr. Albert Adrian\n",
            "  - Thayer, Mr. John Borland\n",
            "  - Humblen, Mr. Adolf Mathias Nicolai Olsen\n",
            "  - Astor, Mrs. John Jacob (Madeleine Talmadge Force)\n",
            "  - Silverthorne, Mr. Spencer Victor\n",
            "  - Calderhead, Mr. Edward Pennington\n",
            "  - Mayne, Mlle. Berthe Antonine (\"Mrs de Villiers\")\n",
            "  - Taylor, Mr. Elmer Zebley\n",
            "  - Soholt, Mr. Peter Andreas Lauritz Andersen\n",
            "  - Endres, Miss. Caroline Louise\n",
            "  - Troutt, Miss. Edwina Celia \"Winnie\"\n",
            "  - Chambers, Mr. Norman Campbell\n",
            "  - Allen, Miss. Elisabeth Walton\n",
            "  - Lesurer, Mr. Gustave J\n",
            "  - Cavendish, Mr. Tyrell William\n",
            "  - Ryerson, Miss. Susan Parker \"Suzette\"\n",
            "  - Crosby, Capt. Edward Gifford\n",
            "  - Marvin, Mr. Daniel Warner\n",
            "  - Moor, Master. Meier\n",
            "  - Rothes, the Countess. of (Lucy Noel Martha Dyer-Edwards)\n",
            "  - Carter, Mrs. William Ernest (Lucile Polk)\n",
            "  - Hogeboom, Mrs. John C (Anna Andrews)\n",
            "  - Mack, Mrs. (Mary)\n",
            "  - Robert, Mrs. Edward Scott (Elisabeth Walton McMillan)\n",
            "  - Dick, Mrs. Albert Adrian (Vera Gillespie)\n",
            "  - Long, Mr. Milton Clyde\n",
            "  - Guggenheim, Mr. Benjamin\n",
            "  - Leader, Dr. Alice (Farnham)\n",
            "  - Carter, Master. William Thornton II\n",
            "  - Andrews, Mr. Thomas Jr\n",
            "  - Chambers, Mrs. Norman Campbell (Bertha Griggs)\n",
            "  - Hays, Mrs. Charles Melville (Clara Jennings Gregg)\n",
            "  - Moor, Mrs. (Beila)\n",
            "  - Compton, Miss. Sara Rebecca\n",
            "  - Lines, Miss. Mary Conover\n",
            "  - Daly, Mr. Peter Denis \n",
            "  - Swift, Mrs. Frederick Joel (Margaret Welles Barron)\n",
            "  - Roebling, Mr. Washington Augustus II\n",
            "  - Beckwith, Mrs. Richard Leonard (Sallie Monypeny)\n",
            "  - Carlsson, Mr. Frans Olof\n",
            "  - Potter, Mrs. Thomas Jr (Lily Alexenia Wilson)\n",
            "  - Graham, Miss. Margaret Edith\n",
            "  - Behr, Mr. Karl Howell\n",
            "Unique levels in feature 'Sex':\n",
            "  - female\n",
            "  - male\n",
            "Unique levels in feature 'Ticket':\n",
            "  - PC 17599\n",
            "  - 113803\n",
            "  - 17463\n",
            "  - PP 9549\n",
            "  - 113783\n",
            "  - 248698\n",
            "  - 113788\n",
            "  - 19950\n",
            "  - PC 17572\n",
            "  - 113509\n",
            "  - 36973\n",
            "  - C.A. 29395\n",
            "  - 348123\n",
            "  - W.E.P. 5734\n",
            "  - PC 17754\n",
            "  - PC 17759\n",
            "  - 35281\n",
            "  - 110465\n",
            "  - PC 17558\n",
            "  - 27267\n",
            "  - 11752\n",
            "  - PC 17593\n",
            "  - 230080\n",
            "  - 113776\n",
            "  - 111240\n",
            "  - 17764\n",
            "  - PC 17595\n",
            "  - 230136\n",
            "  - PC 17610\n",
            "  - PC 17569\n",
            "  - 347054\n",
            "  - 112277\n",
            "  - 35273\n",
            "  - 11813\n",
            "  - 19943\n",
            "  - 19928\n",
            "  - 11751\n",
            "  - 113514\n",
            "  - 110152\n",
            "  - 110413\n",
            "  - 112059\n",
            "  - PC 17582\n",
            "  - PC 17760\n",
            "  - PC 17596\n",
            "  - 13502\n",
            "  - 11967\n",
            "  - SC/Paris 2163\n",
            "  - 113781\n",
            "  - PC 17758\n",
            "  - PC 17485\n",
            "  - 11767\n",
            "  - PC 17608\n",
            "  - 36928\n",
            "  - 16966\n",
            "  - 28551\n",
            "  - 111361\n",
            "  - 113043\n",
            "  - 113784\n",
            "  - 248733\n",
            "  - 113505\n",
            "  - 110813\n",
            "  - PC 17477\n",
            "  - 11765\n",
            "  - 113503\n",
            "  - 113760\n",
            "  - SOTON/O.Q. 392078\n",
            "  - 110564\n",
            "  - 13507\n",
            "  - 33638\n",
            "  - 113786\n",
            "  - 113051\n",
            "  - 17453\n",
            "  - 13509\n",
            "  - 19952\n",
            "  - 111320\n",
            "  - SC/AH Basle 541\n",
            "  - 11771\n",
            "  - 113787\n",
            "  - 36947\n",
            "  - PC 17473\n",
            "  - 36967\n",
            "  - C.A. 34260\n",
            "  - 12749\n",
            "  - 113050\n",
            "  - 13568\n",
            "  - WE/P 5735\n",
            "  - PC 17761\n",
            "  - 17421\n",
            "  - 11755\n",
            "  - 11769\n",
            "  - PC 17474\n",
            "  - 13049\n",
            "  - 13567\n",
            "  - 11753\n",
            "  - 36963\n",
            "  - 27042\n",
            "  - 13214\n",
            "  - 13213\n",
            "  - 5727\n",
            "  - F.C. 12750\n",
            "  - PC 17755\n",
            "  - 24160\n",
            "  - 17474\n",
            "  - 348121\n",
            "  - PC 17757\n",
            "  - PC 17475\n",
            "  - PC 17476\n",
            "  - PC 17482\n",
            "  - 19996\n",
            "  - 348124\n",
            "  - 34218\n",
            "  - 113806\n",
            "  - 19877\n",
            "  - 113773\n",
            "  - 392096\n",
            "  - S.O./P.P. 3\n",
            "  - 113501\n",
            "  - 17465\n",
            "  - 112050\n",
            "  - PC 17756\n",
            "  - PC 17592\n",
            "  - 113055\n",
            "  - 17466\n",
            "  - PC 17590\n",
            "  - 695\n",
            "  - 112053\n",
            "  - 111369\n",
            "Unique levels in feature 'Cabin':\n",
            "  - C85\n",
            "  - C123\n",
            "  - E46\n",
            "  - G6\n",
            "  - C103\n",
            "  - D56\n",
            "  - A6\n",
            "  - C23 C25 C27\n",
            "  - D33\n",
            "  - B30\n",
            "  - C83\n",
            "  - F33\n",
            "  - F G73\n",
            "  - E31\n",
            "  - A5\n",
            "  - D10 D12\n",
            "  - D26\n",
            "  - C110\n",
            "  - B58 B60\n",
            "  - E101\n",
            "  - D47\n",
            "  - B86\n",
            "  - F2\n",
            "  - C2\n",
            "  - B19\n",
            "  - A7\n",
            "  - C49\n",
            "  - F4\n",
            "  - B4\n",
            "  - B80\n",
            "  - A31\n",
            "  - D36\n",
            "  - D15\n",
            "  - C93\n",
            "  - C78\n",
            "  - D35\n",
            "  - C87\n",
            "  - B77\n",
            "  - E67\n",
            "  - B94\n",
            "  - C125\n",
            "  - C99\n",
            "  - C118\n",
            "  - D7\n",
            "  - B49\n",
            "  - D\n",
            "  - C22 C26\n",
            "  - C65\n",
            "  - E36\n",
            "  - C54\n",
            "  - B57 B59 B63 B66\n",
            "  - C7\n",
            "  - E34\n",
            "  - C32\n",
            "  - B18\n",
            "  - C124\n",
            "  - C91\n",
            "  - E40\n",
            "  - T\n",
            "  - E33\n",
            "  - D37\n",
            "  - B35\n",
            "  - E50\n",
            "  - C82\n",
            "  - B96 B98\n",
            "  - E10\n",
            "  - C52\n",
            "  - E44\n",
            "  - A34\n",
            "  - C104\n",
            "  - C111\n",
            "  - C92\n",
            "  - E38\n",
            "  - E12\n",
            "  - E63\n",
            "  - B37\n",
            "  - C30\n",
            "  - D20\n",
            "  - B79\n",
            "  - E25\n",
            "  - D46\n",
            "  - B73\n",
            "  - B38\n",
            "  - B39\n",
            "  - B22\n",
            "  - C86\n",
            "  - C70\n",
            "  - A16\n",
            "  - C101\n",
            "  - C68\n",
            "  - A10\n",
            "  - E68\n",
            "  - B41\n",
            "  - A20\n",
            "  - D19\n",
            "  - D50\n",
            "  - D9\n",
            "  - A23\n",
            "  - B50\n",
            "  - A26\n",
            "  - D48\n",
            "  - E58\n",
            "  - B71\n",
            "  - B51 B53 B55\n",
            "  - D49\n",
            "  - B5\n",
            "  - B20\n",
            "  - F G63\n",
            "  - C62 C64\n",
            "  - E24\n",
            "  - C90\n",
            "  - C126\n",
            "  - C45\n",
            "  - E8\n",
            "  - B101\n",
            "  - C46\n",
            "  - D30\n",
            "  - E121\n",
            "  - D11\n",
            "  - E77\n",
            "  - B3\n",
            "  - D6\n",
            "  - B82 B84\n",
            "  - D17\n",
            "  - A36\n",
            "  - B69\n",
            "  - E49\n",
            "  - D28\n",
            "  - E17\n",
            "  - A24\n",
            "  - C50\n",
            "  - B42\n",
            "  - C148\n",
            "Unique levels in feature 'Embarked':\n",
            "  - C\n",
            "  - S\n",
            "  - Q\n"
          ]
        }
      ]
    },
    {
      "cell_type": "markdown",
      "source": [
        "## 2.3. Feature Engineering"
      ],
      "metadata": {
        "id": "JbMl-BeXxxqR"
      }
    },
    {
      "cell_type": "markdown",
      "metadata": {
        "id": "D07cr6M5Rz8z",
        "tags": []
      },
      "source": [
        "Create dummy features for the categorical features and add those to the dataframe <code><b>df</b></code> . Make sure to also remove the original categorical columns from the <code><b>df</b></code> ."
      ]
    },
    {
      "cell_type": "code",
      "execution_count": 28,
      "metadata": {
        "id": "vPF6cbioRz8z"
      },
      "outputs": [],
      "source": [
        "try:\n",
        "  df = df.drop(df_cols_obj.columns, axis=1)\\\n",
        "      .join(pd.get_dummies(df_cols_obj.drop(['Name', 'Cabin', 'Ticket'], axis=1)))\\\n",
        "      .drop('PassengerId', axis=1)\n",
        "except:\n",
        "  pass"
      ]
    },
    {
      "cell_type": "code",
      "source": [
        "df.shape"
      ],
      "metadata": {
        "colab": {
          "base_uri": "https://localhost:8080/"
        },
        "id": "RK0eRtEh_Zxa",
        "outputId": "13cff47f-90aa-4f45-b728-0a9b7b95b6b0"
      },
      "execution_count": 29,
      "outputs": [
        {
          "output_type": "execute_result",
          "data": {
            "text/plain": [
              "(183, 11)"
            ]
          },
          "metadata": {},
          "execution_count": 29
        }
      ]
    },
    {
      "cell_type": "code",
      "source": [
        "df.head()"
      ],
      "metadata": {
        "colab": {
          "base_uri": "https://localhost:8080/",
          "height": 206
        },
        "id": "COWCdDC__c8d",
        "outputId": "ddff9d8d-a006-4113-bf06-dc13eaad43e3"
      },
      "execution_count": 30,
      "outputs": [
        {
          "output_type": "execute_result",
          "data": {
            "text/plain": [
              "    Survived  Pclass   Age  SibSp  Parch     Fare  Sex_female  Sex_male  \\\n",
              "1          1       1  38.0      1      0  71.2833           1         0   \n",
              "3          1       1  35.0      1      0  53.1000           1         0   \n",
              "6          0       1  54.0      0      0  51.8625           0         1   \n",
              "10         1       3   4.0      1      1  16.7000           1         0   \n",
              "11         1       1  58.0      0      0  26.5500           1         0   \n",
              "\n",
              "    Embarked_C  Embarked_Q  Embarked_S  \n",
              "1            1           0           0  \n",
              "3            0           0           1  \n",
              "6            0           0           1  \n",
              "10           0           0           1  \n",
              "11           0           0           1  "
            ],
            "text/html": [
              "\n",
              "  <div id=\"df-1d9605bb-ba8d-4a62-beb0-797a3e2cb7e3\" class=\"colab-df-container\">\n",
              "    <div>\n",
              "<style scoped>\n",
              "    .dataframe tbody tr th:only-of-type {\n",
              "        vertical-align: middle;\n",
              "    }\n",
              "\n",
              "    .dataframe tbody tr th {\n",
              "        vertical-align: top;\n",
              "    }\n",
              "\n",
              "    .dataframe thead th {\n",
              "        text-align: right;\n",
              "    }\n",
              "</style>\n",
              "<table border=\"1\" class=\"dataframe\">\n",
              "  <thead>\n",
              "    <tr style=\"text-align: right;\">\n",
              "      <th></th>\n",
              "      <th>Survived</th>\n",
              "      <th>Pclass</th>\n",
              "      <th>Age</th>\n",
              "      <th>SibSp</th>\n",
              "      <th>Parch</th>\n",
              "      <th>Fare</th>\n",
              "      <th>Sex_female</th>\n",
              "      <th>Sex_male</th>\n",
              "      <th>Embarked_C</th>\n",
              "      <th>Embarked_Q</th>\n",
              "      <th>Embarked_S</th>\n",
              "    </tr>\n",
              "  </thead>\n",
              "  <tbody>\n",
              "    <tr>\n",
              "      <th>1</th>\n",
              "      <td>1</td>\n",
              "      <td>1</td>\n",
              "      <td>38.0</td>\n",
              "      <td>1</td>\n",
              "      <td>0</td>\n",
              "      <td>71.2833</td>\n",
              "      <td>1</td>\n",
              "      <td>0</td>\n",
              "      <td>1</td>\n",
              "      <td>0</td>\n",
              "      <td>0</td>\n",
              "    </tr>\n",
              "    <tr>\n",
              "      <th>3</th>\n",
              "      <td>1</td>\n",
              "      <td>1</td>\n",
              "      <td>35.0</td>\n",
              "      <td>1</td>\n",
              "      <td>0</td>\n",
              "      <td>53.1000</td>\n",
              "      <td>1</td>\n",
              "      <td>0</td>\n",
              "      <td>0</td>\n",
              "      <td>0</td>\n",
              "      <td>1</td>\n",
              "    </tr>\n",
              "    <tr>\n",
              "      <th>6</th>\n",
              "      <td>0</td>\n",
              "      <td>1</td>\n",
              "      <td>54.0</td>\n",
              "      <td>0</td>\n",
              "      <td>0</td>\n",
              "      <td>51.8625</td>\n",
              "      <td>0</td>\n",
              "      <td>1</td>\n",
              "      <td>0</td>\n",
              "      <td>0</td>\n",
              "      <td>1</td>\n",
              "    </tr>\n",
              "    <tr>\n",
              "      <th>10</th>\n",
              "      <td>1</td>\n",
              "      <td>3</td>\n",
              "      <td>4.0</td>\n",
              "      <td>1</td>\n",
              "      <td>1</td>\n",
              "      <td>16.7000</td>\n",
              "      <td>1</td>\n",
              "      <td>0</td>\n",
              "      <td>0</td>\n",
              "      <td>0</td>\n",
              "      <td>1</td>\n",
              "    </tr>\n",
              "    <tr>\n",
              "      <th>11</th>\n",
              "      <td>1</td>\n",
              "      <td>1</td>\n",
              "      <td>58.0</td>\n",
              "      <td>0</td>\n",
              "      <td>0</td>\n",
              "      <td>26.5500</td>\n",
              "      <td>1</td>\n",
              "      <td>0</td>\n",
              "      <td>0</td>\n",
              "      <td>0</td>\n",
              "      <td>1</td>\n",
              "    </tr>\n",
              "  </tbody>\n",
              "</table>\n",
              "</div>\n",
              "    <div class=\"colab-df-buttons\">\n",
              "\n",
              "  <div class=\"colab-df-container\">\n",
              "    <button class=\"colab-df-convert\" onclick=\"convertToInteractive('df-1d9605bb-ba8d-4a62-beb0-797a3e2cb7e3')\"\n",
              "            title=\"Convert this dataframe to an interactive table.\"\n",
              "            style=\"display:none;\">\n",
              "\n",
              "  <svg xmlns=\"http://www.w3.org/2000/svg\" height=\"24px\" viewBox=\"0 -960 960 960\">\n",
              "    <path d=\"M120-120v-720h720v720H120Zm60-500h600v-160H180v160Zm220 220h160v-160H400v160Zm0 220h160v-160H400v160ZM180-400h160v-160H180v160Zm440 0h160v-160H620v160ZM180-180h160v-160H180v160Zm440 0h160v-160H620v160Z\"/>\n",
              "  </svg>\n",
              "    </button>\n",
              "\n",
              "  <style>\n",
              "    .colab-df-container {\n",
              "      display:flex;\n",
              "      gap: 12px;\n",
              "    }\n",
              "\n",
              "    .colab-df-convert {\n",
              "      background-color: #E8F0FE;\n",
              "      border: none;\n",
              "      border-radius: 50%;\n",
              "      cursor: pointer;\n",
              "      display: none;\n",
              "      fill: #1967D2;\n",
              "      height: 32px;\n",
              "      padding: 0 0 0 0;\n",
              "      width: 32px;\n",
              "    }\n",
              "\n",
              "    .colab-df-convert:hover {\n",
              "      background-color: #E2EBFA;\n",
              "      box-shadow: 0px 1px 2px rgba(60, 64, 67, 0.3), 0px 1px 3px 1px rgba(60, 64, 67, 0.15);\n",
              "      fill: #174EA6;\n",
              "    }\n",
              "\n",
              "    .colab-df-buttons div {\n",
              "      margin-bottom: 4px;\n",
              "    }\n",
              "\n",
              "    [theme=dark] .colab-df-convert {\n",
              "      background-color: #3B4455;\n",
              "      fill: #D2E3FC;\n",
              "    }\n",
              "\n",
              "    [theme=dark] .colab-df-convert:hover {\n",
              "      background-color: #434B5C;\n",
              "      box-shadow: 0px 1px 3px 1px rgba(0, 0, 0, 0.15);\n",
              "      filter: drop-shadow(0px 1px 2px rgba(0, 0, 0, 0.3));\n",
              "      fill: #FFFFFF;\n",
              "    }\n",
              "  </style>\n",
              "\n",
              "    <script>\n",
              "      const buttonEl =\n",
              "        document.querySelector('#df-1d9605bb-ba8d-4a62-beb0-797a3e2cb7e3 button.colab-df-convert');\n",
              "      buttonEl.style.display =\n",
              "        google.colab.kernel.accessAllowed ? 'block' : 'none';\n",
              "\n",
              "      async function convertToInteractive(key) {\n",
              "        const element = document.querySelector('#df-1d9605bb-ba8d-4a62-beb0-797a3e2cb7e3');\n",
              "        const dataTable =\n",
              "          await google.colab.kernel.invokeFunction('convertToInteractive',\n",
              "                                                    [key], {});\n",
              "        if (!dataTable) return;\n",
              "\n",
              "        const docLinkHtml = 'Like what you see? Visit the ' +\n",
              "          '<a target=\"_blank\" href=https://colab.research.google.com/notebooks/data_table.ipynb>data table notebook</a>'\n",
              "          + ' to learn more about interactive tables.';\n",
              "        element.innerHTML = '';\n",
              "        dataTable['output_type'] = 'display_data';\n",
              "        await google.colab.output.renderOutput(dataTable, element);\n",
              "        const docLink = document.createElement('div');\n",
              "        docLink.innerHTML = docLinkHtml;\n",
              "        element.appendChild(docLink);\n",
              "      }\n",
              "    </script>\n",
              "  </div>\n",
              "\n",
              "\n",
              "<div id=\"df-05fae8e1-9768-4c87-ab7a-7c6430cc0786\">\n",
              "  <button class=\"colab-df-quickchart\" onclick=\"quickchart('df-05fae8e1-9768-4c87-ab7a-7c6430cc0786')\"\n",
              "            title=\"Suggest charts.\"\n",
              "            style=\"display:none;\">\n",
              "\n",
              "<svg xmlns=\"http://www.w3.org/2000/svg\" height=\"24px\"viewBox=\"0 0 24 24\"\n",
              "     width=\"24px\">\n",
              "    <g>\n",
              "        <path d=\"M19 3H5c-1.1 0-2 .9-2 2v14c0 1.1.9 2 2 2h14c1.1 0 2-.9 2-2V5c0-1.1-.9-2-2-2zM9 17H7v-7h2v7zm4 0h-2V7h2v10zm4 0h-2v-4h2v4z\"/>\n",
              "    </g>\n",
              "</svg>\n",
              "  </button>\n",
              "\n",
              "<style>\n",
              "  .colab-df-quickchart {\n",
              "      --bg-color: #E8F0FE;\n",
              "      --fill-color: #1967D2;\n",
              "      --hover-bg-color: #E2EBFA;\n",
              "      --hover-fill-color: #174EA6;\n",
              "      --disabled-fill-color: #AAA;\n",
              "      --disabled-bg-color: #DDD;\n",
              "  }\n",
              "\n",
              "  [theme=dark] .colab-df-quickchart {\n",
              "      --bg-color: #3B4455;\n",
              "      --fill-color: #D2E3FC;\n",
              "      --hover-bg-color: #434B5C;\n",
              "      --hover-fill-color: #FFFFFF;\n",
              "      --disabled-bg-color: #3B4455;\n",
              "      --disabled-fill-color: #666;\n",
              "  }\n",
              "\n",
              "  .colab-df-quickchart {\n",
              "    background-color: var(--bg-color);\n",
              "    border: none;\n",
              "    border-radius: 50%;\n",
              "    cursor: pointer;\n",
              "    display: none;\n",
              "    fill: var(--fill-color);\n",
              "    height: 32px;\n",
              "    padding: 0;\n",
              "    width: 32px;\n",
              "  }\n",
              "\n",
              "  .colab-df-quickchart:hover {\n",
              "    background-color: var(--hover-bg-color);\n",
              "    box-shadow: 0 1px 2px rgba(60, 64, 67, 0.3), 0 1px 3px 1px rgba(60, 64, 67, 0.15);\n",
              "    fill: var(--button-hover-fill-color);\n",
              "  }\n",
              "\n",
              "  .colab-df-quickchart-complete:disabled,\n",
              "  .colab-df-quickchart-complete:disabled:hover {\n",
              "    background-color: var(--disabled-bg-color);\n",
              "    fill: var(--disabled-fill-color);\n",
              "    box-shadow: none;\n",
              "  }\n",
              "\n",
              "  .colab-df-spinner {\n",
              "    border: 2px solid var(--fill-color);\n",
              "    border-color: transparent;\n",
              "    border-bottom-color: var(--fill-color);\n",
              "    animation:\n",
              "      spin 1s steps(1) infinite;\n",
              "  }\n",
              "\n",
              "  @keyframes spin {\n",
              "    0% {\n",
              "      border-color: transparent;\n",
              "      border-bottom-color: var(--fill-color);\n",
              "      border-left-color: var(--fill-color);\n",
              "    }\n",
              "    20% {\n",
              "      border-color: transparent;\n",
              "      border-left-color: var(--fill-color);\n",
              "      border-top-color: var(--fill-color);\n",
              "    }\n",
              "    30% {\n",
              "      border-color: transparent;\n",
              "      border-left-color: var(--fill-color);\n",
              "      border-top-color: var(--fill-color);\n",
              "      border-right-color: var(--fill-color);\n",
              "    }\n",
              "    40% {\n",
              "      border-color: transparent;\n",
              "      border-right-color: var(--fill-color);\n",
              "      border-top-color: var(--fill-color);\n",
              "    }\n",
              "    60% {\n",
              "      border-color: transparent;\n",
              "      border-right-color: var(--fill-color);\n",
              "    }\n",
              "    80% {\n",
              "      border-color: transparent;\n",
              "      border-right-color: var(--fill-color);\n",
              "      border-bottom-color: var(--fill-color);\n",
              "    }\n",
              "    90% {\n",
              "      border-color: transparent;\n",
              "      border-bottom-color: var(--fill-color);\n",
              "    }\n",
              "  }\n",
              "</style>\n",
              "\n",
              "  <script>\n",
              "    async function quickchart(key) {\n",
              "      const quickchartButtonEl =\n",
              "        document.querySelector('#' + key + ' button');\n",
              "      quickchartButtonEl.disabled = true;  // To prevent multiple clicks.\n",
              "      quickchartButtonEl.classList.add('colab-df-spinner');\n",
              "      try {\n",
              "        const charts = await google.colab.kernel.invokeFunction(\n",
              "            'suggestCharts', [key], {});\n",
              "      } catch (error) {\n",
              "        console.error('Error during call to suggestCharts:', error);\n",
              "      }\n",
              "      quickchartButtonEl.classList.remove('colab-df-spinner');\n",
              "      quickchartButtonEl.classList.add('colab-df-quickchart-complete');\n",
              "    }\n",
              "    (() => {\n",
              "      let quickchartButtonEl =\n",
              "        document.querySelector('#df-05fae8e1-9768-4c87-ab7a-7c6430cc0786 button');\n",
              "      quickchartButtonEl.style.display =\n",
              "        google.colab.kernel.accessAllowed ? 'block' : 'none';\n",
              "    })();\n",
              "  </script>\n",
              "</div>\n",
              "\n",
              "    </div>\n",
              "  </div>\n"
            ]
          },
          "metadata": {},
          "execution_count": 30
        }
      ]
    },
    {
      "cell_type": "markdown",
      "metadata": {
        "id": "8kU862wQRz82",
        "tags": []
      },
      "source": [
        "Print the null values for each column in the dataframe <code><b>df</b></code> ."
      ]
    },
    {
      "cell_type": "code",
      "execution_count": 31,
      "metadata": {
        "colab": {
          "base_uri": "https://localhost:8080/"
        },
        "id": "ZV2mKhf_Rz82",
        "outputId": "4f4e1bdd-faf9-4c90-f2fc-ef2c5fddbaac"
      },
      "outputs": [
        {
          "output_type": "execute_result",
          "data": {
            "text/plain": [
              "Survived      0\n",
              "Pclass        0\n",
              "Age           0\n",
              "SibSp         0\n",
              "Parch         0\n",
              "Fare          0\n",
              "Sex_female    0\n",
              "Sex_male      0\n",
              "Embarked_C    0\n",
              "Embarked_Q    0\n",
              "Embarked_S    0\n",
              "dtype: int64"
            ]
          },
          "metadata": {},
          "execution_count": 31
        }
      ],
      "source": [
        "df.isnull().sum()"
      ]
    },
    {
      "cell_type": "markdown",
      "source": [
        "## 2.4. Features and Target variable"
      ],
      "metadata": {
        "id": "msmvz1Ksx7EL"
      }
    },
    {
      "cell_type": "markdown",
      "metadata": {
        "id": "zsDK9CraRz85",
        "tags": []
      },
      "source": [
        "Create the <code><b>X</b></code> and <code><b>y</b></code> matrices from the dataframe <code><b>df</b></code>, where <code><b>y = df.Survived</b></code> ."
      ]
    },
    {
      "cell_type": "code",
      "source": [
        "y = df[\"Survived\"]"
      ],
      "metadata": {
        "id": "oeZgGbzoBAxr"
      },
      "execution_count": 32,
      "outputs": []
    },
    {
      "cell_type": "code",
      "execution_count": 33,
      "metadata": {
        "id": "dle4w3vRRz85"
      },
      "outputs": [],
      "source": [
        "X = df.drop(\n",
        "      'Survived'\n",
        "    , axis = 1\n",
        ")"
      ]
    },
    {
      "cell_type": "markdown",
      "source": [
        "## 2.5. Feature scaling"
      ],
      "metadata": {
        "id": "O6xB2lhmxUxJ"
      }
    },
    {
      "cell_type": "markdown",
      "metadata": {
        "id": "lT_yoTjtRz88",
        "tags": []
      },
      "source": [
        "Apply the <code><b>StandardScaler()</b></code> to the <code><b>X</b></code> matrix."
      ]
    },
    {
      "cell_type": "code",
      "execution_count": 34,
      "metadata": {
        "id": "c8VoJndnRz88"
      },
      "outputs": [],
      "source": [
        "X_scaled = preprocessing\\\n",
        "          .StandardScaler()\\\n",
        "          .fit_transform(X)"
      ]
    },
    {
      "cell_type": "markdown",
      "source": [
        "## 2.6. Train/Test split (<code><b>X</b></code> and <code><b>y</b></code>)"
      ],
      "metadata": {
        "id": "pgkuxXxtyWZR"
      }
    },
    {
      "cell_type": "markdown",
      "metadata": {
        "id": "-59l61rsRz9A",
        "tags": []
      },
      "source": [
        "Split the <code><b>X_scaled</b></code> and <code><b>y</b></code> into $75/25$ training and testing data subsets."
      ]
    },
    {
      "cell_type": "code",
      "execution_count": 35,
      "metadata": {
        "id": "rJZsUA0xRz9A"
      },
      "outputs": [],
      "source": [
        "X_train, X_test, y_train, y_test = train_test_split(\n",
        "      X_scaled\n",
        "    , y\n",
        "    , train_size   = 0.75\n",
        "    , random_state = 1\n",
        ")"
      ]
    },
    {
      "cell_type": "markdown",
      "source": [
        "## 2.7. Find the best Learning Rate"
      ],
      "metadata": {
        "id": "6PIodnmYw0dV"
      }
    },
    {
      "cell_type": "markdown",
      "metadata": {
        "id": "wTZIpc_KRz9C",
        "tags": []
      },
      "source": [
        "Run the cell below to test multiple learning rates in your <code><b>GradientBoostingClassifier</b></code> ."
      ]
    },
    {
      "cell_type": "code",
      "execution_count": 36,
      "metadata": {
        "id": "4ipqTcZPRz9D",
        "colab": {
          "base_uri": "https://localhost:8080/"
        },
        "outputId": "346ff690-8acd-4c76-8183-950e1180e194"
      },
      "outputs": [
        {
          "output_type": "stream",
          "name": "stdout",
          "text": [
            "Learning rate:  0.05\n",
            "Accuracy score (training): 0.715\n",
            "Accuracy score (validation): 0.652\n",
            "\n",
            "Learning rate:  0.1\n",
            "Accuracy score (training): 0.847\n",
            "Accuracy score (validation): 0.739\n",
            "\n",
            "Learning rate:  0.25\n",
            "Accuracy score (training): 0.876\n",
            "Accuracy score (validation): 0.739\n",
            "\n",
            "Learning rate:  0.5\n",
            "Accuracy score (training): 0.898\n",
            "Accuracy score (validation): 0.739\n",
            "\n",
            "Learning rate:  0.75\n",
            "Accuracy score (training): 0.905\n",
            "Accuracy score (validation): 0.761\n",
            "\n",
            "Learning rate:  1\n",
            "Accuracy score (training): 0.912\n",
            "Accuracy score (validation): 0.696\n",
            "\n"
          ]
        }
      ],
      "source": [
        "learning_rates = [0.05, 0.1, 0.25, 0.5, 0.75, 1]\n",
        "\n",
        "best_learning_rate       = None\n",
        "best_validation_accuracy = 0\n",
        "\n",
        "for learning_rate in learning_rates:\n",
        "\n",
        "    gb = GradientBoostingClassifier(\n",
        "          n_estimators  = 20\n",
        "        , learning_rate = learning_rate\n",
        "        , max_features  = 2\n",
        "        , max_depth     = 2\n",
        "        , random_state  = 0\n",
        "    )\n",
        "\n",
        "    gb.fit(\n",
        "          X_train\n",
        "        , y_train\n",
        "    )\n",
        "\n",
        "    training_accuracy = gb.score(\n",
        "          X_train\n",
        "        , y_train\n",
        "    )\n",
        "\n",
        "    validation_accuracy = gb.score(\n",
        "          X_test\n",
        "        , y_test\n",
        "    )\n",
        "\n",
        "    print(\"Learning rate: \", learning_rate)\n",
        "    print(\"Accuracy score (training): {0:.3f}\".format(gb.score(X_train, y_train)))\n",
        "    print(\"Accuracy score (validation): {0:.3f}\".format(gb.score(X_test, y_test)))\n",
        "    print()\n",
        "\n",
        "    # Check if the current model has the best validation accuracy\n",
        "    if validation_accuracy > best_validation_accuracy:\n",
        "        best_learning_rate       = learning_rate\n",
        "        best_validation_accuracy = validation_accuracy"
      ]
    },
    {
      "cell_type": "markdown",
      "source": [
        "> <b>NOTE:</b> The best learning rate is the one that resulted in the highest validation accuracy. In our case, the <code><b>Learning rate = 0.75</b></code> achieved the highest validation accuracy, i.e., <code><b>Accuracy score (validation) = 0.761</b></code> ."
      ],
      "metadata": {
        "id": "tyB9zJpLTKlr"
      }
    },
    {
      "cell_type": "code",
      "execution_count": 37,
      "metadata": {
        "id": "-STiQCrZONXj",
        "colab": {
          "base_uri": "https://localhost:8080/"
        },
        "outputId": "b9cf5de1-1a0c-4f5f-b605-5ecd8f64b8c3"
      },
      "outputs": [
        {
          "output_type": "stream",
          "name": "stdout",
          "text": [
            "Best Learning Rate: 0.75\n",
            "Best Validation Accuracy: 0.761\n"
          ]
        }
      ],
      "source": [
        "print(\"Best Learning Rate:\", best_learning_rate)\n",
        "print(\"Best Validation Accuracy:\", round(best_validation_accuracy, 3))"
      ]
    },
    {
      "cell_type": "markdown",
      "source": [
        "## 2.8. Build"
      ],
      "metadata": {
        "id": "o2p-w2egTsKy"
      }
    },
    {
      "cell_type": "markdown",
      "metadata": {
        "id": "njsTMM-kONXj"
      },
      "source": [
        "1. Build (initialize) a <code><b>GradientBoostingClassifier</b></code> model with the <code><b>best_learning_rate</b></code> .\n",
        "2. <code><b>fit</b></code> the model on the training data <code><b>(X_train, y_train)</b></code> .\n",
        "3. <code><b>predict</b></code> on the testing set <code><b>(X_test, y_test)</b></code> .\n",
        "4. Plot the confusion matrix for <code><b>(y_test, y_pred)</b></code> .\n",
        "5. Print out the classification report for <code><b>(y_test, y_pred)</b></code> to review the model performance."
      ]
    },
    {
      "cell_type": "code",
      "source": [
        "# Initialize the model with the best learning rate\n",
        "best_gb = GradientBoostingClassifier(\n",
        "      n_estimators  = 20\n",
        "    , max_features  = 2\n",
        "    , max_depth     = 2\n",
        "    , random_state  = 0\n",
        "    , learning_rate = best_learning_rate\n",
        ")"
      ],
      "metadata": {
        "id": "lBKeYtYtTnob"
      },
      "execution_count": 38,
      "outputs": []
    },
    {
      "cell_type": "markdown",
      "source": [
        "## 2.9. Fit"
      ],
      "metadata": {
        "id": "5KjruJTYy3f3"
      }
    },
    {
      "cell_type": "code",
      "source": [
        "# Fit on the training data\n",
        "best_gb.fit(\n",
        "      X_train\n",
        "    , y_train\n",
        ")"
      ],
      "metadata": {
        "colab": {
          "base_uri": "https://localhost:8080/",
          "height": 92
        },
        "id": "D3OKJmZFnMOJ",
        "outputId": "90e62b16-8d91-4271-8c02-38cbfb0e7697"
      },
      "execution_count": 39,
      "outputs": [
        {
          "output_type": "execute_result",
          "data": {
            "text/plain": [
              "GradientBoostingClassifier(learning_rate=0.75, max_depth=2, max_features=2,\n",
              "                           n_estimators=20, random_state=0)"
            ],
            "text/html": [
              "<style>#sk-container-id-4 {color: black;background-color: white;}#sk-container-id-4 pre{padding: 0;}#sk-container-id-4 div.sk-toggleable {background-color: white;}#sk-container-id-4 label.sk-toggleable__label {cursor: pointer;display: block;width: 100%;margin-bottom: 0;padding: 0.3em;box-sizing: border-box;text-align: center;}#sk-container-id-4 label.sk-toggleable__label-arrow:before {content: \"▸\";float: left;margin-right: 0.25em;color: #696969;}#sk-container-id-4 label.sk-toggleable__label-arrow:hover:before {color: black;}#sk-container-id-4 div.sk-estimator:hover label.sk-toggleable__label-arrow:before {color: black;}#sk-container-id-4 div.sk-toggleable__content {max-height: 0;max-width: 0;overflow: hidden;text-align: left;background-color: #f0f8ff;}#sk-container-id-4 div.sk-toggleable__content pre {margin: 0.2em;color: black;border-radius: 0.25em;background-color: #f0f8ff;}#sk-container-id-4 input.sk-toggleable__control:checked~div.sk-toggleable__content {max-height: 200px;max-width: 100%;overflow: auto;}#sk-container-id-4 input.sk-toggleable__control:checked~label.sk-toggleable__label-arrow:before {content: \"▾\";}#sk-container-id-4 div.sk-estimator input.sk-toggleable__control:checked~label.sk-toggleable__label {background-color: #d4ebff;}#sk-container-id-4 div.sk-label input.sk-toggleable__control:checked~label.sk-toggleable__label {background-color: #d4ebff;}#sk-container-id-4 input.sk-hidden--visually {border: 0;clip: rect(1px 1px 1px 1px);clip: rect(1px, 1px, 1px, 1px);height: 1px;margin: -1px;overflow: hidden;padding: 0;position: absolute;width: 1px;}#sk-container-id-4 div.sk-estimator {font-family: monospace;background-color: #f0f8ff;border: 1px dotted black;border-radius: 0.25em;box-sizing: border-box;margin-bottom: 0.5em;}#sk-container-id-4 div.sk-estimator:hover {background-color: #d4ebff;}#sk-container-id-4 div.sk-parallel-item::after {content: \"\";width: 100%;border-bottom: 1px solid gray;flex-grow: 1;}#sk-container-id-4 div.sk-label:hover label.sk-toggleable__label {background-color: #d4ebff;}#sk-container-id-4 div.sk-serial::before {content: \"\";position: absolute;border-left: 1px solid gray;box-sizing: border-box;top: 0;bottom: 0;left: 50%;z-index: 0;}#sk-container-id-4 div.sk-serial {display: flex;flex-direction: column;align-items: center;background-color: white;padding-right: 0.2em;padding-left: 0.2em;position: relative;}#sk-container-id-4 div.sk-item {position: relative;z-index: 1;}#sk-container-id-4 div.sk-parallel {display: flex;align-items: stretch;justify-content: center;background-color: white;position: relative;}#sk-container-id-4 div.sk-item::before, #sk-container-id-4 div.sk-parallel-item::before {content: \"\";position: absolute;border-left: 1px solid gray;box-sizing: border-box;top: 0;bottom: 0;left: 50%;z-index: -1;}#sk-container-id-4 div.sk-parallel-item {display: flex;flex-direction: column;z-index: 1;position: relative;background-color: white;}#sk-container-id-4 div.sk-parallel-item:first-child::after {align-self: flex-end;width: 50%;}#sk-container-id-4 div.sk-parallel-item:last-child::after {align-self: flex-start;width: 50%;}#sk-container-id-4 div.sk-parallel-item:only-child::after {width: 0;}#sk-container-id-4 div.sk-dashed-wrapped {border: 1px dashed gray;margin: 0 0.4em 0.5em 0.4em;box-sizing: border-box;padding-bottom: 0.4em;background-color: white;}#sk-container-id-4 div.sk-label label {font-family: monospace;font-weight: bold;display: inline-block;line-height: 1.2em;}#sk-container-id-4 div.sk-label-container {text-align: center;}#sk-container-id-4 div.sk-container {/* jupyter's `normalize.less` sets `[hidden] { display: none; }` but bootstrap.min.css set `[hidden] { display: none !important; }` so we also need the `!important` here to be able to override the default hidden behavior on the sphinx rendered scikit-learn.org. See: https://github.com/scikit-learn/scikit-learn/issues/21755 */display: inline-block !important;position: relative;}#sk-container-id-4 div.sk-text-repr-fallback {display: none;}</style><div id=\"sk-container-id-4\" class=\"sk-top-container\"><div class=\"sk-text-repr-fallback\"><pre>GradientBoostingClassifier(learning_rate=0.75, max_depth=2, max_features=2,\n",
              "                           n_estimators=20, random_state=0)</pre><b>In a Jupyter environment, please rerun this cell to show the HTML representation or trust the notebook. <br />On GitHub, the HTML representation is unable to render, please try loading this page with nbviewer.org.</b></div><div class=\"sk-container\" hidden><div class=\"sk-item\"><div class=\"sk-estimator sk-toggleable\"><input class=\"sk-toggleable__control sk-hidden--visually\" id=\"sk-estimator-id-4\" type=\"checkbox\" checked><label for=\"sk-estimator-id-4\" class=\"sk-toggleable__label sk-toggleable__label-arrow\">GradientBoostingClassifier</label><div class=\"sk-toggleable__content\"><pre>GradientBoostingClassifier(learning_rate=0.75, max_depth=2, max_features=2,\n",
              "                           n_estimators=20, random_state=0)</pre></div></div></div></div></div>"
            ]
          },
          "metadata": {},
          "execution_count": 39
        }
      ]
    },
    {
      "cell_type": "markdown",
      "source": [
        "## 2.10. Predict"
      ],
      "metadata": {
        "id": "200VrcUwzAfa"
      }
    },
    {
      "cell_type": "code",
      "source": [
        "# Predict on the testing set\n",
        "y_pred = best_gb.predict(\n",
        "    X_test\n",
        ")"
      ],
      "metadata": {
        "id": "hjTB3FBszEGn"
      },
      "execution_count": 40,
      "outputs": []
    },
    {
      "cell_type": "markdown",
      "source": [
        "## 2.11. Confusion matrix"
      ],
      "metadata": {
        "id": "gjTGD1s1oDc-"
      }
    },
    {
      "cell_type": "code",
      "source": [
        "# Calculate the confusion matrix\n",
        "cm = confusion_matrix(\n",
        "      y_test\n",
        "    , y_pred\n",
        ")\n",
        "\n",
        "# Define the class labels (0: Not survived, 1: Survived)\n",
        "class_labels = [\n",
        "      'Not Survived'\n",
        "    , 'Survived'\n",
        "]\n",
        "\n",
        "# Plot the confusion matrix using seaborn\n",
        "plt.figure(figsize=(3, 3))\n",
        "\n",
        "sns.heatmap(\n",
        "      cm\n",
        "    , fmt         = 'd'\n",
        "    , annot       = True\n",
        "    , cmap        = 'Blues'\n",
        "    , cbar        = False\n",
        "    , xticklabels = class_labels\n",
        "    , yticklabels = class_labels\n",
        ")\n",
        "\n",
        "plt.xlabel('Predicted')\n",
        "plt.ylabel('Actual')\n",
        "plt.title('Confusion Matrix')\n",
        "plt.show()"
      ],
      "metadata": {
        "colab": {
          "base_uri": "https://localhost:8080/",
          "height": 335
        },
        "id": "glQ36gsInjUX",
        "outputId": "e9a3dae1-9817-4e27-85cf-d9e749d709f0"
      },
      "execution_count": 41,
      "outputs": [
        {
          "output_type": "display_data",
          "data": {
            "text/plain": [
              "<Figure size 300x300 with 1 Axes>"
            ],
            "image/png": "[encoded data removed]"
          },
          "metadata": {}
        }
      ]
    },
    {
      "cell_type": "markdown",
      "source": [
        "## 2.12. Classification report"
      ],
      "metadata": {
        "id": "Y35j7WeGn-ST"
      }
    },
    {
      "cell_type": "code",
      "source": [
        "class_report = classification_report(y_test, y_pred)\n",
        "print(\"\\nClassification Report:\\n\", class_report)"
      ],
      "metadata": {
        "colab": {
          "base_uri": "https://localhost:8080/"
        },
        "id": "VWe9-XbNnywV",
        "outputId": "997aa27b-6e62-42a0-efa4-5fb26bc27913"
      },
      "execution_count": 42,
      "outputs": [
        {
          "output_type": "stream",
          "name": "stdout",
          "text": [
            "\n",
            "Classification Report:\n",
            "               precision    recall  f1-score   support\n",
            "\n",
            "           0       0.64      0.60      0.62        15\n",
            "           1       0.81      0.84      0.83        31\n",
            "\n",
            "    accuracy                           0.76        46\n",
            "   macro avg       0.73      0.72      0.72        46\n",
            "weighted avg       0.76      0.76      0.76        46\n",
            "\n"
          ]
        }
      ]
    },
    {
      "cell_type": "markdown",
      "source": [
        "## 2.13. ROC curve"
      ],
      "metadata": {
        "id": "K9LxJePFr2Eq"
      }
    },
    {
      "cell_type": "markdown",
      "metadata": {
        "id": "ezq61Ov2Rz9G",
        "tags": []
      },
      "source": [
        "Calculate the ROC for the model as well. To do this end, we:\n",
        "\n",
        "1. Calculate the predicted probabilities for class 1 (Survived) using <code><b>predict_proba</b></code> .\n",
        "\n",
        "2. Use the <code><b>roc_curve</b></code> function to compute the ROC curve, which returns the false positive rate (fpr), true positive rate (tpr), and thresholds.\n",
        "\n",
        "3. Calculate the AUC (Area Under the ROC Curve) using the <code><b>roc_auc_score</b></code> function."
      ]
    },
    {
      "cell_type": "code",
      "execution_count": 43,
      "metadata": {
        "id": "u1TGKEqCRz9L"
      },
      "outputs": [],
      "source": [
        "# Calculate the predicted probabilities for class 1 (Survived)\n",
        "y_prob = best_gb\\\n",
        "         .predict_proba(X_test)[:, 1]\n",
        "\n",
        "# ROC curve\n",
        "fpr, tpr, thresholds = roc_curve(\n",
        "      y_test\n",
        "    , y_prob\n",
        ")\n",
        "\n",
        "# AUC\n",
        "roc_auc = roc_auc_score(\n",
        "      y_test\n",
        "    , y_prob\n",
        ")"
      ]
    },
    {
      "cell_type": "markdown",
      "source": [
        "## 2.14. Plot ROC curve"
      ],
      "metadata": {
        "id": "r85skLagu5kc"
      }
    },
    {
      "cell_type": "markdown",
      "source": [
        "This code will generate and display the <b>ROC curve</b> for the model, along with the <b>AUC score</b>, allowing us to assess the model's performance in terms of classification thresholds and the trade-off between true positives and false positives."
      ],
      "metadata": {
        "id": "uc_i4Uy_vQxe"
      }
    },
    {
      "cell_type": "code",
      "source": [
        "plt.figure(figsize=(4, 4))\n",
        "# -----------------------------------------------------------------------------\n",
        "# ROC curve\n",
        "plt.plot(\n",
        "      fpr\n",
        "    , tpr\n",
        "    , color = 'teal'\n",
        "    , label = f'ROC curve (AUC = {roc_auc:.2f})'\n",
        "    , lw    = 2\n",
        ")\n",
        "# -----------------------------------------------------------------------------\n",
        "# Random classifier (AUC = 0.5) as the baseline\n",
        "plt.plot(\n",
        "      [0, 1]\n",
        "    , [0, 1]\n",
        "    , color     = 'gray'\n",
        "    , label     = 'Random classifier (AUC = 0.5)'\n",
        "    , linestyle = '--'\n",
        ")\n",
        "# -----------------------------------------------------------------------------\n",
        "plt.xlim(\n",
        "    [0.0, 1.00]\n",
        ")\n",
        "\n",
        "plt.ylim(\n",
        "    [0.0, 1.05]\n",
        ")\n",
        "# -----------------------------------------------------------------------------\n",
        "plt.xlabel(\n",
        "      'False Positive Rate'\n",
        "    , fontsize = 12\n",
        ")\n",
        "\n",
        "plt.ylabel(\n",
        "      'True Positive Rate'\n",
        "    , fontsize = 12\n",
        ")\n",
        "# -----------------------------------------------------------------------------\n",
        "plt.title(\n",
        "      'Receiver Operating\\nCharacteristic (ROC) Curve'\n",
        "    , fontsize = 14\n",
        ")\n",
        "\n",
        "plt.legend(\n",
        "    loc='best'\n",
        ")\n",
        "# -----------------------------------------------------------------------------\n",
        "plt.show()"
      ],
      "metadata": {
        "colab": {
          "base_uri": "https://localhost:8080/",
          "height": 437
        },
        "id": "mtLbr4rFu3M0",
        "outputId": "4abefc45-6d62-4411-9fa1-14f9ec5aa059"
      },
      "execution_count": 48,
      "outputs": [
        {
          "output_type": "display_data",
          "data": {
            "text/plain": [
              "<Figure size 400x400 with 1 Axes>"
            ],
            "image/png": "[encoded data removed]"
          },
          "metadata": {}
        }
      ]
    },
    {
      "cell_type": "code",
      "source": [],
      "metadata": {
        "id": "0Q540l2ijJUq"
      },
      "execution_count": null,
      "outputs": []
    }
  ],
  "metadata": {
    "colab": {
      "provenance": [],
      "toc_visible": true
    },
    "deepnote_execution_queue": [],
    "hide_input": false,
    "kernelspec": {
      "display_name": "Python 3",
      "language": "python",
      "name": "python3"
    },
    "language_info": {
      "codemirror_mode": {
        "name": "ipython",
        "version": 3
      },
      "file_extension": ".py",
      "mimetype": "text/x-python",
      "name": "python",
      "nbconvert_exporter": "python",
      "pygments_lexer": "ipython3",
      "version": "3.7.4"
    },
    "toc": {
      "colors": {
        "hover_highlight": "#DAA520",
        "running_highlight": "#FF0000",
        "selected_highlight": "#FFD700"
      },
      "moveMenuLeft": true,
      "nav_menu": {
        "height": "78px",
        "width": "252px"
      },
      "navigate_menu": true,
      "number_sections": true,
      "sideBar": true,
      "threshold": 4,
      "toc_cell": false,
      "toc_section_display": "block",
      "toc_window_display": false
    }
  },
  "nbformat": 4,
  "nbformat_minor": 0
}