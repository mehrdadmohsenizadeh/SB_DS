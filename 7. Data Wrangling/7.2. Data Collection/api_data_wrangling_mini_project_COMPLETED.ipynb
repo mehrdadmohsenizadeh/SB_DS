{
  "cells": [
    {
      "cell_type": "markdown",
      "source": [
        "## 1. NASDAQ API Key"
      ],
      "metadata": {
        "id": "fFPMbSZQ5Oej"
      }
    },
    {
      "cell_type": "markdown",
      "source": [
        "This exercise will require you to pull some data from https://data.nasdaq.com/ (formerly Quandl API)."
      ],
      "metadata": {
        "id": "Ucuu_EAgLKnA"
      }
    },
    {
      "cell_type": "markdown",
      "source": [
        "As a first step, you will need to register a free account on the https://data.nasdaq.com/ website."
      ],
      "metadata": {
        "id": "93f6pBSnLKnC"
      }
    },
    {
      "cell_type": "markdown",
      "source": [
        "After you register, you will be provided with a unique API key, that you should store:\n",
        "\n",
        "*Note*: Use a `.env` file and put your key in there and `python-dotenv` to access it in this notebook.\n",
        "\n",
        "The code below uses a key that was used when generating this project but has since been deleted. Never submit your keys to source control. There is a `.env-example` file in this repository to illusrtate what you need. Copy that to a file called `.env` and use your own api key in that `.env` file. Make sure you also have a `.gitignore` file with a line for `.env` added to it.\n",
        "\n",
        "The standard Python gitignore is [here](https://github.com/github/gitignore/blob/master/Python.gitignore) you can just copy that."
      ],
      "metadata": {
        "id": "eytXthS_LKnC"
      }
    },
    {
      "cell_type": "code",
      "source": [
        "# !pip install python-dotenv"
      ],
      "metadata": {
        "colab": {
          "base_uri": "https://localhost:8080/"
        },
        "id": "idyW9moHNghE",
        "outputId": "181f760a-669d-425e-b1f4-401535251ec8"
      },
      "execution_count": 36,
      "outputs": [
        {
          "output_type": "stream",
          "name": "stdout",
          "text": [
            "Requirement already satisfied: python-dotenv in /usr/local/lib/python3.10/dist-packages (1.0.0)\n"
          ]
        }
      ]
    },
    {
      "cell_type": "code",
      "source": [
        "# from google.colab import drive\n",
        "# drive.mount('/content/drive')"
      ],
      "metadata": {
        "colab": {
          "base_uri": "https://localhost:8080/"
        },
        "id": "YlaAYGzCMInm",
        "outputId": "d608f569-a500-42f7-b71c-c4ec9acbcee6"
      },
      "execution_count": 13,
      "outputs": [
        {
          "output_type": "stream",
          "name": "stdout",
          "text": [
            "Drive already mounted at /content/drive; to attempt to forcibly remount, call drive.mount(\"/content/drive\", force_remount=True).\n"
          ]
        }
      ]
    },
    {
      "cell_type": "code",
      "execution_count": 56,
      "source": [
        "# get api key from your .env file\n",
        "# import os\n",
        "# from dotenv import load_dotenv\n",
        "\n",
        "# load_dotenv()\n",
        "\n",
        "# print(os.environ)\n",
        "\n",
        "# API_KEY = os.getenv('NASDAQ_API_KEY')\n",
        "\n",
        "# print(API_KEY)\n",
        "\n",
        "\n",
        "# with open('/content/drive/MyDrive/Colab Notebooks/NASDAQ_API_KEY.env', 'r') as file:\n",
        "#   API_KEY = file.readline()\n",
        "\n",
        "API_KEY = 'jm_mnfrv296ZTGME2vsD'"
      ],
      "outputs": [],
      "metadata": {
        "id": "0n-qJxgrLKnD"
      }
    },
    {
      "cell_type": "markdown",
      "source": [
        "Nasdaq Data has a large number of data sources, but, unfortunately, most of them require a Premium subscription. Still, there are also a good number of free datasets."
      ],
      "metadata": {
        "id": "GTpCbYZ_LKnE"
      }
    },
    {
      "cell_type": "markdown",
      "source": [
        "For this mini project, we will focus on equities data from the Frankfurt Stock Exhange (FSE), which is available for free. We'll try and analyze the stock prices of a company called Carl Zeiss Meditec, which manufactures tools for eye examinations, as well as medical lasers for laser eye surgery: https://www.zeiss.com/meditec/int/home.html. The company is listed under the stock ticker AFX_X."
      ],
      "metadata": {
        "id": "qTYvP0sMLKnE"
      }
    },
    {
      "cell_type": "markdown",
      "source": [
        "You can find the detailed Nasdaq Data API instructions here: https://docs.data.nasdaq.com/docs/in-depth-usage"
      ],
      "metadata": {
        "id": "VHoBtWLmLKnF"
      }
    },
    {
      "cell_type": "markdown",
      "source": [
        "While there is a dedicated Python package for connecting to the Nasdaq API, we would prefer that you use the *requests* package, which can be easily downloaded using *pip* or *conda*. You can find the documentation for the package here: http://docs.python-requests.org/en/master/"
      ],
      "metadata": {
        "id": "eptewDrjLKnF"
      }
    },
    {
      "cell_type": "markdown",
      "source": [
        "Finally, apart from the *requests* package, you are encouraged to not use any third party Python packages, such as *pandas*, and instead focus on what's available in the Python Standard Library (the *collections* module might come in handy: https://pymotw.com/3/collections/).\n",
        "Also, since you won't have access to DataFrames, you are encouraged to us Python's native data structures - preferably dictionaries, though some questions can also be answered using lists.\n",
        "You can read more on these data structures here: https://docs.python.org/3/tutorial/datastructures.html"
      ],
      "metadata": {
        "id": "USW0nL6NLKnF"
      }
    },
    {
      "cell_type": "markdown",
      "source": [
        "Keep in mind that the JSON responses you will be getting from the API map almost one-to-one to Python's dictionaries. Unfortunately, they can be very nested, so make sure you read up on indexing dictionaries in the documentation provided above."
      ],
      "metadata": {
        "id": "xERj4I10LKnF"
      }
    },
    {
      "cell_type": "code",
      "execution_count": 57,
      "source": [
        "# First, import the relevant modules\n",
        "import json\n",
        "import requests\n",
        "import collections"
      ],
      "outputs": [],
      "metadata": {
        "id": "9lhKCu_lLKnG"
      }
    },
    {
      "cell_type": "markdown",
      "source": [
        "Note: API's can change a bit with each version, for this exercise it is reccomended to use the nasdaq api at `https://data.nasdaq.com/api/v3/`. This is the same api as what used to be quandl so `https://www.quandl.com/api/v3/` should work too.\n",
        "\n",
        "Hint: We are looking for the `AFX_X` data on the `datasets/FSE/` dataset."
      ],
      "metadata": {
        "id": "1BTSEwxgLKnG"
      }
    },
    {
      "cell_type": "markdown",
      "source": [
        "## JSON structure"
      ],
      "metadata": {
        "id": "em353O476pOb"
      }
    },
    {
      "cell_type": "code",
      "execution_count": 64,
      "source": [
        "# Now, call the Nasdaq API and pull out a small sample of the data (only one day) to get a glimpse\n",
        "# into the JSON structure that will be returned\n",
        "url1 = 'https://data.nasdaq.com/api/v3/datasets/FSE/AFX_X/data.json?start_date=2019-01-01&end_date=2019-01-02&api_key=' + API_KEY\n",
        "r1   = requests.get(url1)"
      ],
      "outputs": [],
      "metadata": {
        "id": "ueaEEQ6DLKnG"
      }
    },
    {
      "cell_type": "code",
      "source": [
        "print(r1.status_code)\n",
        "print(r1.encoding)\n",
        "print(r1.headers['content-type'])"
      ],
      "metadata": {
        "colab": {
          "base_uri": "https://localhost:8080/"
        },
        "id": "DtHcjOx82bj0",
        "outputId": "9b35a06c-322e-4b91-85f6-628416f0a8bd"
      },
      "execution_count": 59,
      "outputs": [
        {
          "output_type": "stream",
          "name": "stdout",
          "text": [
            "200\n",
            "utf-8\n",
            "application/json; charset=utf-8\n"
          ]
        }
      ]
    },
    {
      "cell_type": "code",
      "execution_count": 74,
      "source": [
        "# Inspect the JSON structure of the object you created, and take note of how nested it is,\n",
        "# as well as the overall structure\n",
        "\n",
        "json_data1  = r1.json()\n",
        "\n",
        "pretty_json = json.dumps(\n",
        "      json_data1\n",
        "    , indent=4\n",
        ")\n",
        "\n",
        "print(pretty_json)"
      ],
      "outputs": [
        {
          "output_type": "stream",
          "name": "stdout",
          "text": [
            "{\n",
            "    \"dataset_data\": {\n",
            "        \"limit\": null,\n",
            "        \"transform\": null,\n",
            "        \"column_index\": null,\n",
            "        \"column_names\": [\n",
            "            \"Date\",\n",
            "            \"Open\",\n",
            "            \"High\",\n",
            "            \"Low\",\n",
            "            \"Close\",\n",
            "            \"Change\",\n",
            "            \"Traded Volume\",\n",
            "            \"Turnover\",\n",
            "            \"Last Price of the Day\",\n",
            "            \"Daily Traded Units\",\n",
            "            \"Daily Turnover\"\n",
            "        ],\n",
            "        \"start_date\": \"2019-01-01\",\n",
            "        \"end_date\": \"2019-01-02\",\n",
            "        \"frequency\": \"daily\",\n",
            "        \"data\": [\n",
            "            [\n",
            "                \"2019-01-02\",\n",
            "                null,\n",
            "                70.85,\n",
            "                68.25,\n",
            "                69.85,\n",
            "                null,\n",
            "                null,\n",
            "                null,\n",
            "                null,\n",
            "                null,\n",
            "                null\n",
            "            ]\n",
            "        ],\n",
            "        \"collapse\": null,\n",
            "        \"order\": null\n",
            "    }\n",
            "}\n"
          ]
        }
      ],
      "metadata": {
        "id": "dxh-B_Q3LKnG",
        "colab": {
          "base_uri": "https://localhost:8080/"
        },
        "outputId": "08a78588-5fc9-42bc-d0c9-6a59c96d672d"
      }
    },
    {
      "cell_type": "markdown",
      "source": [
        "## 3. Tasks"
      ],
      "metadata": {
        "id": "0VQCtx4x5CiL"
      }
    },
    {
      "cell_type": "markdown",
      "source": [
        "These are your tasks for this mini project:"
      ],
      "metadata": {
        "id": "FqFbsuz5LKnG"
      }
    },
    {
      "cell_type": "markdown",
      "source": [
        "1. Collect data from the Franfurt Stock Exchange, for the ticker AFX_X, for the whole year 2017 (keep in mind that the date format is YYYY-MM-DD)."
      ],
      "metadata": {
        "id": "pVD07Czn4lrk"
      }
    },
    {
      "cell_type": "code",
      "source": [
        "params_2017 = {\n",
        "      'api_key'    : API_KEY\n",
        "    , 'start_date' : '2017-01-01'\n",
        "    , 'end_date'   : '2017-12-01'\n",
        "}\n",
        "\n",
        "r_2017 = requests.get(\n",
        "      url    = url1\n",
        "    , params = params_2017\n",
        ")"
      ],
      "metadata": {
        "id": "ieAJkNQK4nAb"
      },
      "execution_count": 76,
      "outputs": []
    },
    {
      "cell_type": "markdown",
      "source": [
        "2. Convert the returned JSON object into a Python dictionary."
      ],
      "metadata": {
        "id": "VSgWA4bG4nXr"
      }
    },
    {
      "cell_type": "code",
      "source": [
        "json_data_2017 = r_2017.json()"
      ],
      "metadata": {
        "id": "CglVC1TZ4p_D"
      },
      "execution_count": 77,
      "outputs": []
    },
    {
      "cell_type": "markdown",
      "source": [
        "3. Calculate what the highest and lowest opening prices were for the stock in this period."
      ],
      "metadata": {
        "id": "BWqHxAvW4n8j"
      }
    },
    {
      "cell_type": "code",
      "source": [
        "matrix = json_data_2017['dataset_data']['data']\n",
        "length = len(matrix[0])\n",
        "\n",
        "print(matrix[:5])\n",
        "print(length)"
      ],
      "metadata": {
        "colab": {
          "base_uri": "https://localhost:8080/"
        },
        "id": "O5BCcTwz4qnL",
        "outputId": "18358765-66cf-4d5f-e2d0-1ce80cb7f30f"
      },
      "execution_count": 78,
      "outputs": [
        {
          "output_type": "stream",
          "name": "stdout",
          "text": [
            "[['2017-12-01', 49.52, 50.49, 49.17, 49.86, None, 101733.0, 5065932.0, None, None, None], ['2017-11-30', 48.64, 49.84, 48.28, 49.7, None, 123019.0, 6085171.0, None, None, None], ['2017-11-29', 49.64, 49.64, 48.7, 48.75, None, 67342.0, 3292223.0, None, None, None], ['2017-11-28', 49.09, 49.89, 49.03, 49.25, None, 42669.0, 2107358.0, None, None, None], ['2017-11-27', 49.13, 49.73, 48.96, 49.2, None, 102180.0, 5055762.0, None, None, None]]\n",
            "11\n"
          ]
        }
      ]
    },
    {
      "cell_type": "markdown",
      "source": [
        "4. What was the largest change in any one day (based on High and Low price)?"
      ],
      "metadata": {
        "id": "i9OjHprS4o0L"
      }
    },
    {
      "cell_type": "code",
      "source": [
        "data_2017_matrix = [\n",
        "    [row[i] for row in matrix]\n",
        "    for i\n",
        "    in range(length)\n",
        "]\n",
        "\n",
        "opening_prices = data_2017_matrix[1]\n",
        "closing_prices = data_2017_matrix[4]\n",
        "\n",
        "print(opening_prices)\n",
        "print(len(opening_prices))\n",
        "print(closing_prices)"
      ],
      "metadata": {
        "colab": {
          "base_uri": "https://localhost:8080/"
        },
        "id": "zrlef9Zm4rOr",
        "outputId": "589ee390-67e7-4b22-e4fd-1bbca0449f5b"
      },
      "execution_count": 79,
      "outputs": [
        {
          "output_type": "stream",
          "name": "stdout",
          "text": [
            "[49.52, 48.64, 49.64, 49.09, 49.13, 49.11, 48.8, 48.4, 47.25, 46.57, 47.03, 47.09, 47.98, 48.4, 48.38, 47.3, 47.65, 46.42, 46.16, 45.81, 45.0, 45.88, 46.29, 46.53, 45.48, 45.2, 45.01, 45.16, 44.9, 45.08, 45.72, 46.01, 45.8, 45.61, 45.5, 45.58, 45.97, 45.64, 46.2, 46.19, 46.01, 45.36, 44.51, 43.58, 42.0, 42.35, 42.3, 42.3, 41.48, 42.29, 42.54, 42.65, 42.5, 42.29, 42.35, 42.49, 43.21, 42.81, 42.7, 43.0, 42.66, 43.0, 42.38, 42.16, 42.0, 42.0, 41.71, 42.11, 42.64, 42.72, 42.82, 42.46, 42.42, 42.28, 41.88, 42.4, 42.53, 42.12, 41.3, 41.73, 43.5, 44.9, 45.85, 45.13, 45.34, 45.25, 45.24, 44.94, 45.26, 45.16, 44.91, 44.7, 45.31, 45.57, 45.74, 45.06, 45.5, 45.6, 45.07, 44.67, 44.29, 44.94, 44.64, 44.79, 45.5, 44.67, 45.83, 45.29, 45.01, 45.73, 46.68, 47.23, 46.95, 47.29, 47.03, 47.46, 46.48, 46.9, 45.66, 46.34, 46.52, 46.5, 47.31, 46.77, 47.8, 47.01, 47.12, 46.8, 46.12, 45.22, 45.05, 45.61, 44.8, 44.8, 43.92, 43.67, 44.16, 43.74, 44.0, 45.06, 45.15, 45.09, 45.18, 43.4, 43.5, 41.83, 43.0, 42.52, 41.86, 42.2, 41.89, None, 42.17, 41.51, 41.88, 41.93, 42.01, 41.97, 42.5, 41.94, 42.24, None, None, 42.06, 42.02, 41.62, 41.46, 40.9, 40.96, 41.1, 39.5, 40.15, 39.77, 40.02, 39.39, 38.95, 38.73, 38.94, 39.01, 38.25, 41.8, 41.26, 41.47, 41.4, 41.4, 41.2, 41.4, 41.53, 41.61, 41.13, 41.5, 41.25, 41.12, 41.38, 41.19, 40.38, 39.75, 39.77, 39.72, 39.6, 38.85, 39.25, 38.8, 38.8, 38.5, 38.81, 37.37, 36.65, 36.2, 35.98, 35.56, 36.06, 36.02, 35.95, 34.75, 35.24, 35.38, 34.83, 35.07, 34.42, 34.0, 34.04, 34.54, 35.04, 35.04, 35.06, 34.85, 34.98, 35.38, 34.95, 34.8, 35.29, 34.91, 35.02, 35.48, 35.9, 34.99]\n",
            "237\n",
            "[49.86, 49.7, 48.75, 49.25, 49.2, 49.11, 49.2, 48.8, 48.39, 47.04, 46.84, 47.03, 47.05, 48.0, 48.34, 48.34, 47.21, 47.47, 46.26, 45.99, 45.97, 45.27, 46.04, 45.76, 46.41, 45.41, 45.0, 44.85, 45.0, 44.87, 45.0, 45.77, 45.96, 45.55, 45.4, 45.43, 45.29, 45.84, 45.74, 46.0, 46.05, 46.11, 44.98, 44.17, 43.56, 42.04, 42.37, 42.07, 42.06, 41.46, 41.99, 42.44, 42.27, 42.42, 42.52, 42.45, 42.73, 42.85, 42.67, 42.77, 42.55, 42.62, 42.6, 42.41, 41.9, 41.94, 41.85, 41.91, 42.14, 42.69, 42.71, 42.71, 42.26, 42.41, 42.5, 42.05, 42.28, 42.3, 41.94, 41.68, 41.81, 44.37, 44.96, 45.07, 44.97, 45.56, 45.45, 45.3, 44.97, 45.25, 45.16, 44.82, 44.61, 45.44, 45.66, 45.57, 45.0, 45.6, 45.53, 44.95, 44.95, 44.2, 44.7, 44.53, 44.62, 45.19, 44.8, 45.75, 45.44, 45.2, 45.68, 46.83, 47.21, 46.99, 47.29, 46.99, 47.37, 46.64, 46.63, 45.67, 46.33, 46.32, 46.31, 47.44, 46.27, 47.43, 47.43, 46.99, 46.52, 45.86, 46.02, 45.32, 45.3, 44.78, 44.53, 43.9, 43.84, 44.12, 43.98, 44.19, 45.31, 45.14, 44.99, 45.0, 43.28, 43.3, 42.24, 42.75, 42.5, 41.9, 42.15, 41.72, 41.72, 42.16, 41.5, 41.89, 41.81, 41.32, 41.93, 42.61, 42.0, 42.2, 42.2, 42.2, 42.2, 41.75, 41.68, 41.42, 41.05, 41.1, 40.81, 39.64, 39.98, 39.75, 40.01, 39.22, 38.85, 38.94, 38.96, 38.94, 40.98, 41.97, 41.34, 41.46, 41.25, 41.3, 41.3, 41.4, 41.4, 41.68, 41.42, 41.4, 41.18, 41.17, 41.2, 40.84, 40.39, 39.74, 39.79, 39.7, 39.45, 38.98, 39.02, 38.71, 38.72, 38.37, 38.53, 37.06, 36.25, 36.05, 35.89, 35.64, 36.1, 36.07, 35.94, 34.56, 35.15, 35.3, 34.89, 34.83, 34.22, 34.06, 34.17, 34.5, 34.9, 34.99, 35.07, 34.85, 34.9, 35.42, 34.91, 34.67, 35.04, 35.06, 35.19, 35.48, 35.8]\n"
          ]
        }
      ]
    },
    {
      "cell_type": "markdown",
      "source": [
        "💡 The <code>opening prices</code> with <code>None</code> value are now filtered out using list comprehension."
      ],
      "metadata": {
        "id": "20V4NpPf5pTL"
      }
    },
    {
      "cell_type": "markdown",
      "source": [
        "5. What was the largest change between any two days (based on Closing Price)?"
      ],
      "metadata": {
        "id": "aw-UCzTC4pFb"
      }
    },
    {
      "cell_type": "code",
      "source": [
        "opening_prices = [\n",
        "    i\n",
        "    for i\n",
        "    in opening_prices\n",
        "    if i is not None\n",
        "]\n",
        "\n",
        "print(set(opening_prices))\n",
        "print(len(opening_prices))"
      ],
      "metadata": {
        "colab": {
          "base_uri": "https://localhost:8080/"
        },
        "id": "zE5lYhyr4rwD",
        "outputId": "e9999a1c-87ae-4f17-9a0e-b8c8d46d4404"
      },
      "execution_count": 80,
      "outputs": [
        {
          "output_type": "stream",
          "name": "stdout",
          "text": [
            "{35.07, 41.5, 41.25, 45.2, 42.49, 42.24, 41.51, 41.26, 38.8, 34.75, 35.98, 36.65, 42.5, 38.95, 39.5, 40.9, 41.88, 42.66, 42.16, 42.11, 45.13, 42.42, 46.19, 45.58, 45.64, 42.12, 45.97, 46.2, 44.9, 45.81, 46.42, 47.3, 48.64, 49.52, 42.01, 45.73, 38.81, 41.53, 47.46, 42.52, 42.02, 44.0, 46.48, 45.24, 45.74, 41.8, 45.5, 45.25, 47.23, 41.86, 42.29, 42.54, 41.61, 45.01, 45.26, 42.3, 35.38, 46.5, 46.01, 34.91, 45.72, 45.22, 42.81, 42.06, 44.29, 44.79, 35.9, 41.83, 34.83, 34.42, 34.0, 34.04, 35.56, 47.01, 41.1, 35.95, 35.24, 36.2, 44.8, 36.06, 46.52, 46.77, 37.37, 36.02, 45.29, 38.73, 38.94, 38.25, 38.85, 39.77, 39.39, 39.01, 39.75, 39.72, 40.96, 40.15, 40.02, 40.38, 39.6, 41.3, 41.48, 41.71, 41.73, 45.05, 42.72, 42.0, 42.38, 42.82, 42.4, 43.58, 42.64, 42.28, 42.53, 42.35, 43.21, 44.51, 43.0, 43.5, 44.94, 45.85, 45.34, 45.8, 45.61, 45.36, 46.16, 46.57, 45.0, 45.88, 45.48, 47.09, 47.25, 46.29, 46.53, 47.03, 47.98, 47.65, 48.8, 48.4, 48.38, 49.09, 49.13, 49.64, 49.11, 47.29, 41.62, 41.12, 34.95, 45.57, 45.07, 47.8, 45.08, 45.83, 41.13, 41.38, 47.31, 41.89, 34.98, 45.09, 41.4, 45.6, 35.48, 34.85, 46.34, 34.99, 42.65, 45.31, 45.06, 43.4, 43.74, 44.64, 46.12, 41.93, 42.17, 41.94, 41.19, 47.12, 44.91, 44.16, 46.95, 43.92, 43.67, 45.15, 35.02, 41.2, 34.54, 45.16, 45.66, 44.67, 46.9, 41.46, 34.8, 46.8, 38.5, 42.7, 42.2, 35.04, 35.29, 41.97, 41.47, 42.46, 39.25, 45.18, 35.06, 44.7, 46.68}\n",
            "234\n"
          ]
        }
      ]
    },
    {
      "cell_type": "markdown",
      "source": [
        "6. What was the average daily trading volume during this year?"
      ],
      "metadata": {
        "id": "-pNB4rBC4pV7"
      }
    },
    {
      "cell_type": "code",
      "source": [
        "highest_opening_price = max(opening_prices)\n",
        "lowest_opening_price  = min(opening_prices)\n",
        "\n",
        "print(\n",
        "    'Highest opening price in 2017 was: ${:.2f}'.format(highest_opening_price)\n",
        ")\n",
        "print(\n",
        "    'Lowest opening price in 2017 was: ${:.2f}'.format(lowest_opening_price)\n",
        ")"
      ],
      "metadata": {
        "colab": {
          "base_uri": "https://localhost:8080/"
        },
        "id": "1a0lU98D4sfr",
        "outputId": "3c1cc831-90d2-481f-9285-2a9bb8b10f40"
      },
      "execution_count": 81,
      "outputs": [
        {
          "output_type": "stream",
          "name": "stdout",
          "text": [
            "Highest opening price in 2017 was: $49.64\n",
            "Lowest opening price in 2017 was: $34.00\n"
          ]
        }
      ]
    },
    {
      "cell_type": "markdown",
      "source": [
        "7. <b>(Optional)</b> What was the median trading volume during this year. (Note: you may need to implement your own function for calculating the median.)"
      ],
      "metadata": {
        "id": "pCpQAFJ947DT"
      }
    },
    {
      "cell_type": "code",
      "source": [
        "high_prices = data_2017_matrix[2]\n",
        "low_prices  = data_2017_matrix[3]\n",
        "\n",
        "print(high_prices)\n",
        "print(low_prices)"
      ],
      "metadata": {
        "colab": {
          "base_uri": "https://localhost:8080/"
        },
        "id": "IeYWDP2K47iq",
        "outputId": "8744dbda-a345-4565-c8c5-7852b6abc154"
      },
      "execution_count": 82,
      "outputs": [
        {
          "output_type": "stream",
          "name": "stdout",
          "text": [
            "[50.49, 49.84, 49.64, 49.89, 49.73, 49.41, 49.46, 49.61, 48.59, 47.38, 47.15, 47.23, 48.01, 48.9, 48.61, 48.89, 48.06, 47.72, 46.33, 46.09, 46.04, 46.06, 46.55, 46.65, 46.42, 45.41, 45.06, 45.27, 45.34, 45.34, 45.85, 46.2, 46.06, 45.75, 45.7, 45.58, 45.97, 46.04, 46.2, 46.19, 46.09, 46.17, 44.98, 44.17, 43.56, 42.49, 42.57, 42.3, 42.38, 42.29, 42.54, 42.65, 42.63, 42.81, 42.8, 42.69, 43.34, 42.89, 42.75, 43.02, 42.71, 43.19, 42.75, 43.06, 42.08, 42.2, 41.98, 42.25, 42.64, 43.05, 43.17, 42.96, 42.76, 42.6, 43.01, 42.62, 42.53, 42.69, 41.94, 41.99, 43.5, 45.09, 46.34, 45.13, 45.54, 45.77, 45.54, 45.75, 45.29, 45.45, 45.33, 45.04, 45.31, 45.88, 45.96, 45.72, 45.55, 46.23, 45.56, 45.18, 45.05, 44.94, 45.18, 44.79, 45.5, 45.36, 45.83, 45.83, 45.74, 45.81, 46.68, 47.33, 47.63, 47.4, 47.4, 47.48, 47.43, 46.9, 46.8, 46.34, 46.86, 46.51, 47.43, 47.44, 47.8, 47.43, 47.45, 46.99, 46.52, 46.26, 46.02, 45.61, 45.36, 44.87, 44.67, 44.13, 44.22, 44.12, 44.3, 45.34, 45.36, 45.78, 45.18, 46.06, 43.6, 43.55, 43.0, 42.91, 42.5, 42.29, 42.23, 42.245, 42.25, 42.24, 41.94, 42.18, 42.02, 42.14, 42.64, 42.61, 42.4, 42.48, 42.48, 42.48, 42.45, 42.03, 41.68, 41.42, 41.25, 41.34, 40.88, 40.15, 40.07, 40.14, 40.01, 39.35, 39.1, 39.02, 39.25, 39.02, 41.83, 42.17, 41.59, 41.57, 41.5, 41.5, 41.46, 41.53, 41.61, 41.71, 41.8, 41.4, 41.22, 41.39, 41.57, 40.95, 40.64, 40.14, 39.98, 39.75, 39.57, 39.25, 39.03, 39.2, 38.93, 38.86, 39.36, 37.5, 36.25, 36.14, 36.05, 36.15, 36.2, 36.2, 36.0, 35.24, 35.59, 35.43, 35.58, 34.86, 34.35, 34.12, 34.59, 35.04, 35.51, 35.19, 35.24, 34.98, 35.38, 36.0, 34.98, 35.35, 35.21, 35.2, 35.51, 35.93, 35.94]\n",
            "[49.17, 48.28, 48.7, 49.03, 48.96, 48.87, 48.45, 48.39, 46.78, 46.54, 46.8, 46.55, 46.75, 47.84, 47.76, 47.16, 47.09, 46.42, 45.84, 45.76, 44.83, 45.18, 45.97, 45.61, 45.46, 44.91, 44.7, 44.75, 44.89, 44.76, 44.79, 45.61, 45.37, 45.3, 45.37, 45.17, 45.25, 45.57, 45.6, 45.69, 45.63, 45.22, 44.18, 43.3, 42.0, 41.78, 42.11, 41.96, 41.48, 41.39, 41.99, 42.13, 42.23, 42.25, 42.35, 42.22, 42.62, 42.56, 42.56, 42.67, 42.34, 42.55, 41.95, 42.07, 41.12, 41.49, 41.33, 41.86, 42.05, 42.63, 42.6, 42.4, 42.2, 42.01, 41.76, 41.98, 42.2, 42.01, 40.96, 41.14, 41.64, 44.15, 44.02, 44.36, 44.91, 44.9, 45.1, 44.94, 44.75, 45.15, 44.46, 44.63, 44.49, 45.04, 45.23, 44.94, 44.7, 45.29, 44.83, 44.67, 43.89, 44.08, 44.51, 44.25, 44.15, 44.44, 44.74, 45.06, 45.0, 45.11, 45.41, 46.39, 46.91, 46.79, 46.75, 46.53, 46.27, 46.25, 45.66, 45.21, 46.05, 46.03, 45.89, 46.55, 46.27, 47.01, 46.21, 46.72, 45.89, 45.22, 45.05, 45.24, 44.71, 44.29, 43.92, 43.55, 43.44, 43.74, 43.29, 44.01, 44.56, 44.31, 44.16, 43.25, 42.53, 41.82, 42.04, 42.38, 41.71, 41.78, 41.76, 41.655, 41.66, 41.51, 41.4, 41.66, 41.23, 41.01, 41.52, 41.94, 41.54, 41.985, 41.985, 41.99, 41.84, 41.53, 41.31, 40.84, 40.83, 40.79, 39.48, 39.54, 39.42, 39.42, 39.05, 38.79, 38.53, 38.6, 38.63, 37.53, 40.97, 41.26, 41.16, 41.09, 40.91, 41.2, 41.08, 41.16, 41.16, 40.95, 41.25, 40.81, 40.84, 40.76, 40.9, 40.38, 39.75, 38.91, 39.38, 39.27, 38.85, 38.81, 38.48, 38.25, 38.4, 38.0, 37.35, 36.57, 35.77, 35.84, 35.36, 35.6, 35.73, 35.7, 34.75, 34.56, 34.95, 34.81, 34.8, 34.03, 33.85, 33.62, 34.05, 34.42, 34.8, 34.79, 34.56, 34.6, 34.31, 34.84, 34.46, 34.43, 34.91, 34.73, 34.75, 35.34, 34.99]\n"
          ]
        }
      ]
    },
    {
      "cell_type": "code",
      "source": [],
      "metadata": {
        "id": "ZkzEvllq6VO7"
      },
      "execution_count": null,
      "outputs": []
    }
  ],
  "metadata": {
    "kernelspec": {
      "name": "python3",
      "display_name": "Python 3.8.1 64-bit ('dsc_v5_solutions-7Q1D_Dt-': venv)"
    },
    "language_info": {
      "codemirror_mode": {
        "name": "ipython",
        "version": 3
      },
      "file_extension": ".py",
      "mimetype": "text/x-python",
      "name": "python",
      "nbconvert_exporter": "python",
      "pygments_lexer": "ipython3",
      "version": "3.8.1"
    },
    "interpreter": {
      "hash": "7635eb1b9d0fe97add78a7368b6b431c09bb8ad5c42e437d64abdd99821c31ae"
    },
    "colab": {
      "provenance": []
    }
  },
  "nbformat": 4,
  "nbformat_minor": 0
}